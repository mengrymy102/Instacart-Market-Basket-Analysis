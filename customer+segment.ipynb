{
 "cells": [
  {
   "cell_type": "markdown",
   "metadata": {},
   "source": [
    "Goal: customer segment based on order_hour_of_day and order_dow\n",
    "\n",
    "Method: NMF\n",
    "\n",
    "Include: \n",
    "* customer segment based on order_hour_of_day \n",
    "* customer segment based on order_dow\n",
    "* customer segment based on department(pca + svd) "
   ]
  },
  {
   "cell_type": "code",
   "execution_count": 2,
   "metadata": {},
   "outputs": [
    {
     "name": "stderr",
     "output_type": "stream",
     "text": [
      "[INFO] graphlab.cython.cy_server: GraphLab Create v2.1 started. Logging: /tmp/graphlab_server_1519774579.log\n"
     ]
    },
    {
     "name": "stdout",
     "output_type": "stream",
     "text": [
      "This non-commercial license of GraphLab Create for academic use is assigned to my102@duke.edu and will expire on May 31, 2018.\n"
     ]
    }
   ],
   "source": [
    "import pandas as pd\n",
    "import numpy as np\n",
    "\n",
    "from sklearn.decomposition import NMF , ProjectedGradientNMF\n",
    "from sklearn.feature_extraction.text import CountVectorizer\n",
    "from sklearn.preprocessing import normalize\n",
    "from scipy.sparse import csr_matrix\n",
    "from sklearn.metrics.pairwise import euclidean_distances\n",
    "\n",
    "import matplotlib.mlab as mlab\n",
    "import matplotlib.pyplot as plt\n",
    "import plotly.plotly as py\n",
    "\n",
    "import graphlab\n",
    "\n",
    "import seaborn as sns\n",
    "\n",
    "from sklearn.decomposition import TruncatedSVD\n",
    "from sklearn.cluster import KMeans\n",
    "\n",
    "from sklearn.decomposition import LatentDirichletAllocation as LDA"
   ]
  },
  {
   "cell_type": "code",
   "execution_count": 3,
   "metadata": {
    "collapsed": true
   },
   "outputs": [],
   "source": [
    "graphlab.canvas.set_target('ipynb')"
   ]
  },
  {
   "cell_type": "code",
   "execution_count": 4,
   "metadata": {
    "collapsed": true
   },
   "outputs": [],
   "source": [
    "def NMF_model(df, n):\n",
    "    nmf = NMF(init='nndsvd', max_iter=200,\\\n",
    "            n_components=n, nls_max_iter=2000, random_state=0,\\\n",
    "            sparseness='components', solver = 'cd', alpha = 0.1, l1_ratio = 1)\n",
    "    \n",
    "    model = nmf.fit(df)\n",
    "    \n",
    "    W = model.fit_transform(df)\n",
    "    H = model.components_\n",
    "\n",
    "    return W, H, model.reconstruction_err_\n"
   ]
  },
  {
   "cell_type": "code",
   "execution_count": 5,
   "metadata": {
    "collapsed": true
   },
   "outputs": [],
   "source": [
    "def clusterw_h(W, H, colnmae):\n",
    "    clusterW = np.argmax(W, 1)\n",
    "    clusterW = pd.DataFrame(clusterW).reset_index()\n",
    "    clusterW.columns = ['user_id','factor']\n",
    "    clusterW.user_id = clusterW.user_id+1\n",
    "    \n",
    "    clusterH = np.argmax(H, 1)\n",
    "    clusterH = pd.DataFrame(clusterH).reset_index()\n",
    "    clusterH.columns = ['factor', colnmae]\n",
    "    \n",
    "    return clusterW, clusterH"
   ]
  },
  {
   "cell_type": "code",
   "execution_count": 6,
   "metadata": {
    "collapsed": true
   },
   "outputs": [],
   "source": [
    "def get_group(df, col):\n",
    "    grouped = df.groupby(col)\n",
    "    group = {}\n",
    "    prior_time = {}\n",
    "    for index, number in enumerate(clusterH[col].values):\n",
    "        group[index] = grouped.get_group(number)\n",
    "        prior_time[index] = prior[prior['user_id'].isin(group[index]['user_id'])]\n",
    "    return group, prior_time"
   ]
  },
  {
   "cell_type": "code",
   "execution_count": 7,
   "metadata": {
    "collapsed": true
   },
   "outputs": [],
   "source": [
    "def plot_cluster(df, x_column, y_column, title_name,xlabel,ylabel):\n",
    "    x = df[x_column].values\n",
    "\n",
    "    plt.bar(x,height = list(df[y_column].values), width = 0.8)\n",
    "    plt.xticks(x,x)\n",
    "    plt.xlabel(xlabel,fontsize = 14)\n",
    "    plt.ylabel(ylabel,fontsize = 14)\n",
    "    plt.title(title_name,fontsize = 20)\n",
    "    plt.show()"
   ]
  },
  {
   "cell_type": "code",
   "execution_count": 8,
   "metadata": {
    "collapsed": true
   },
   "outputs": [],
   "source": [
    "prior_data_da = pd.read_csv('prior_data_da.csv')\n",
    "prior = pd.read_csv('prior.csv')"
   ]
  },
  {
   "cell_type": "code",
   "execution_count": 8,
   "metadata": {},
   "outputs": [
    {
     "data": {
      "text/html": [
       "<div>\n",
       "<style scoped>\n",
       "    .dataframe tbody tr th:only-of-type {\n",
       "        vertical-align: middle;\n",
       "    }\n",
       "\n",
       "    .dataframe tbody tr th {\n",
       "        vertical-align: top;\n",
       "    }\n",
       "\n",
       "    .dataframe thead th {\n",
       "        text-align: right;\n",
       "    }\n",
       "</style>\n",
       "<table border=\"1\" class=\"dataframe\">\n",
       "  <thead>\n",
       "    <tr style=\"text-align: right;\">\n",
       "      <th></th>\n",
       "      <th>Unnamed: 0</th>\n",
       "      <th>order_id</th>\n",
       "      <th>user_id</th>\n",
       "      <th>eval_set</th>\n",
       "      <th>order_number</th>\n",
       "      <th>order_dow</th>\n",
       "      <th>order_hour_of_day</th>\n",
       "      <th>days_since_prior_order</th>\n",
       "    </tr>\n",
       "  </thead>\n",
       "  <tbody>\n",
       "    <tr>\n",
       "      <th>0</th>\n",
       "      <td>0</td>\n",
       "      <td>2539329</td>\n",
       "      <td>1</td>\n",
       "      <td>prior</td>\n",
       "      <td>1</td>\n",
       "      <td>2</td>\n",
       "      <td>8</td>\n",
       "      <td>NaN</td>\n",
       "    </tr>\n",
       "    <tr>\n",
       "      <th>1</th>\n",
       "      <td>1</td>\n",
       "      <td>2398795</td>\n",
       "      <td>1</td>\n",
       "      <td>prior</td>\n",
       "      <td>2</td>\n",
       "      <td>3</td>\n",
       "      <td>7</td>\n",
       "      <td>15.0</td>\n",
       "    </tr>\n",
       "    <tr>\n",
       "      <th>2</th>\n",
       "      <td>2</td>\n",
       "      <td>473747</td>\n",
       "      <td>1</td>\n",
       "      <td>prior</td>\n",
       "      <td>3</td>\n",
       "      <td>3</td>\n",
       "      <td>12</td>\n",
       "      <td>21.0</td>\n",
       "    </tr>\n",
       "    <tr>\n",
       "      <th>3</th>\n",
       "      <td>3</td>\n",
       "      <td>2254736</td>\n",
       "      <td>1</td>\n",
       "      <td>prior</td>\n",
       "      <td>4</td>\n",
       "      <td>4</td>\n",
       "      <td>7</td>\n",
       "      <td>29.0</td>\n",
       "    </tr>\n",
       "    <tr>\n",
       "      <th>4</th>\n",
       "      <td>4</td>\n",
       "      <td>431534</td>\n",
       "      <td>1</td>\n",
       "      <td>prior</td>\n",
       "      <td>5</td>\n",
       "      <td>4</td>\n",
       "      <td>15</td>\n",
       "      <td>28.0</td>\n",
       "    </tr>\n",
       "  </tbody>\n",
       "</table>\n",
       "</div>"
      ],
      "text/plain": [
       "   Unnamed: 0  order_id  user_id eval_set  order_number  order_dow  \\\n",
       "0           0   2539329        1    prior             1          2   \n",
       "1           1   2398795        1    prior             2          3   \n",
       "2           2    473747        1    prior             3          3   \n",
       "3           3   2254736        1    prior             4          4   \n",
       "4           4    431534        1    prior             5          4   \n",
       "\n",
       "   order_hour_of_day  days_since_prior_order  \n",
       "0                  8                     NaN  \n",
       "1                  7                    15.0  \n",
       "2                 12                    21.0  \n",
       "3                  7                    29.0  \n",
       "4                 15                    28.0  "
      ]
     },
     "execution_count": 8,
     "metadata": {},
     "output_type": "execute_result"
    }
   ],
   "source": [
    "prior.head()"
   ]
  },
  {
   "cell_type": "markdown",
   "metadata": {},
   "source": [
    "## segment customer by order day"
   ]
  },
  {
   "cell_type": "code",
   "execution_count": 9,
   "metadata": {
    "collapsed": true
   },
   "outputs": [],
   "source": [
    "customer_orderday = pd.crosstab(prior['user_id'],prior['order_dow'], rownames=['user id'], colnames=['order day'])\n",
    "customer_orderday.columns = ['Sunday','Monday','Tuesday','Wednesday','Thursday','Friday','Saturday']"
   ]
  },
  {
   "cell_type": "code",
   "execution_count": 10,
   "metadata": {},
   "outputs": [
    {
     "data": {
      "text/html": [
       "<div>\n",
       "<style scoped>\n",
       "    .dataframe tbody tr th:only-of-type {\n",
       "        vertical-align: middle;\n",
       "    }\n",
       "\n",
       "    .dataframe tbody tr th {\n",
       "        vertical-align: top;\n",
       "    }\n",
       "\n",
       "    .dataframe thead th {\n",
       "        text-align: right;\n",
       "    }\n",
       "</style>\n",
       "<table border=\"1\" class=\"dataframe\">\n",
       "  <thead>\n",
       "    <tr style=\"text-align: right;\">\n",
       "      <th></th>\n",
       "      <th>Sunday</th>\n",
       "      <th>Monday</th>\n",
       "      <th>Tuesday</th>\n",
       "      <th>Wednesday</th>\n",
       "      <th>Thursday</th>\n",
       "      <th>Friday</th>\n",
       "      <th>Saturday</th>\n",
       "    </tr>\n",
       "    <tr>\n",
       "      <th>user id</th>\n",
       "      <th></th>\n",
       "      <th></th>\n",
       "      <th></th>\n",
       "      <th></th>\n",
       "      <th></th>\n",
       "      <th></th>\n",
       "      <th></th>\n",
       "    </tr>\n",
       "  </thead>\n",
       "  <tbody>\n",
       "    <tr>\n",
       "      <th>1</th>\n",
       "      <td>0</td>\n",
       "      <td>3</td>\n",
       "      <td>2</td>\n",
       "      <td>2</td>\n",
       "      <td>3</td>\n",
       "      <td>0</td>\n",
       "      <td>0</td>\n",
       "    </tr>\n",
       "    <tr>\n",
       "      <th>2</th>\n",
       "      <td>0</td>\n",
       "      <td>5</td>\n",
       "      <td>5</td>\n",
       "      <td>2</td>\n",
       "      <td>1</td>\n",
       "      <td>1</td>\n",
       "      <td>0</td>\n",
       "    </tr>\n",
       "    <tr>\n",
       "      <th>3</th>\n",
       "      <td>6</td>\n",
       "      <td>2</td>\n",
       "      <td>1</td>\n",
       "      <td>3</td>\n",
       "      <td>0</td>\n",
       "      <td>0</td>\n",
       "      <td>0</td>\n",
       "    </tr>\n",
       "    <tr>\n",
       "      <th>4</th>\n",
       "      <td>0</td>\n",
       "      <td>0</td>\n",
       "      <td>0</td>\n",
       "      <td>0</td>\n",
       "      <td>2</td>\n",
       "      <td>2</td>\n",
       "      <td>1</td>\n",
       "    </tr>\n",
       "    <tr>\n",
       "      <th>5</th>\n",
       "      <td>1</td>\n",
       "      <td>1</td>\n",
       "      <td>0</td>\n",
       "      <td>2</td>\n",
       "      <td>0</td>\n",
       "      <td>0</td>\n",
       "      <td>0</td>\n",
       "    </tr>\n",
       "    <tr>\n",
       "      <th>6</th>\n",
       "      <td>0</td>\n",
       "      <td>0</td>\n",
       "      <td>1</td>\n",
       "      <td>0</td>\n",
       "      <td>1</td>\n",
       "      <td>1</td>\n",
       "      <td>0</td>\n",
       "    </tr>\n",
       "    <tr>\n",
       "      <th>7</th>\n",
       "      <td>6</td>\n",
       "      <td>5</td>\n",
       "      <td>2</td>\n",
       "      <td>4</td>\n",
       "      <td>0</td>\n",
       "      <td>2</td>\n",
       "      <td>1</td>\n",
       "    </tr>\n",
       "    <tr>\n",
       "      <th>8</th>\n",
       "      <td>0</td>\n",
       "      <td>1</td>\n",
       "      <td>0</td>\n",
       "      <td>0</td>\n",
       "      <td>0</td>\n",
       "      <td>1</td>\n",
       "      <td>1</td>\n",
       "    </tr>\n",
       "    <tr>\n",
       "      <th>9</th>\n",
       "      <td>1</td>\n",
       "      <td>1</td>\n",
       "      <td>0</td>\n",
       "      <td>0</td>\n",
       "      <td>0</td>\n",
       "      <td>1</td>\n",
       "      <td>0</td>\n",
       "    </tr>\n",
       "    <tr>\n",
       "      <th>10</th>\n",
       "      <td>0</td>\n",
       "      <td>0</td>\n",
       "      <td>1</td>\n",
       "      <td>2</td>\n",
       "      <td>0</td>\n",
       "      <td>2</td>\n",
       "      <td>0</td>\n",
       "    </tr>\n",
       "  </tbody>\n",
       "</table>\n",
       "</div>"
      ],
      "text/plain": [
       "         Sunday  Monday  Tuesday  Wednesday  Thursday  Friday  Saturday\n",
       "user id                                                                \n",
       "1             0       3        2          2         3       0         0\n",
       "2             0       5        5          2         1       1         0\n",
       "3             6       2        1          3         0       0         0\n",
       "4             0       0        0          0         2       2         1\n",
       "5             1       1        0          2         0       0         0\n",
       "6             0       0        1          0         1       1         0\n",
       "7             6       5        2          4         0       2         1\n",
       "8             0       1        0          0         0       1         1\n",
       "9             1       1        0          0         0       1         0\n",
       "10            0       0        1          2         0       2         0"
      ]
     },
     "execution_count": 10,
     "metadata": {},
     "output_type": "execute_result"
    }
   ],
   "source": [
    "customer_orderday.head(10)"
   ]
  },
  {
   "cell_type": "code",
   "execution_count": null,
   "metadata": {
    "collapsed": true
   },
   "outputs": [],
   "source": [
    "# orderday_transform =  CountVectorizer(dtype=float).fit_transform(customer_orderday)\n",
    "# orderday_transform = normalize(orderday_transform)"
   ]
  },
  {
   "cell_type": "code",
   "execution_count": 11,
   "metadata": {
    "collapsed": true
   },
   "outputs": [],
   "source": [
    "orderday_transform = csr_matrix(customer_orderday)\n",
    "#orderday_transform2 = normalize(orderday_transform2)"
   ]
  },
  {
   "cell_type": "code",
   "execution_count": 12,
   "metadata": {},
   "outputs": [
    {
     "data": {
      "text/plain": [
       "(206209, 7)"
      ]
     },
     "execution_count": 12,
     "metadata": {},
     "output_type": "execute_result"
    }
   ],
   "source": [
    "orderday_transform.shape"
   ]
  },
  {
   "cell_type": "code",
   "execution_count": 12,
   "metadata": {
    "collapsed": true,
    "scrolled": true
   },
   "outputs": [],
   "source": [
    "# NMF_model = NMF(init='nndsvd', max_iter=200,\\\n",
    "#             n_components=2, nls_max_iter=2000, random_state=0,\\\n",
    "#             sparseness='components', tol=0.0001,\n",
    "#                solver = 'cd')\n",
    "# NMF_model.fit(orderday_transform2)     "
   ]
  },
  {
   "cell_type": "code",
   "execution_count": 13,
   "metadata": {
    "scrolled": false
   },
   "outputs": [
    {
     "name": "stderr",
     "output_type": "stream",
     "text": [
      "/Users/mengruiyin/anaconda/lib/python2.7/site-packages/sklearn/decomposition/nmf.py:997: DeprecationWarning:\n",
      "\n",
      "Controlling regularization through the sparseness, beta and eta arguments is only available for 'pg' solver, which will be removed in release 0.19. Use another solver with L1 or L2 regularization instead.\n",
      "\n"
     ]
    }
   ],
   "source": [
    "W_3, H_3, error_3 = NMF_model(orderday_transform, 4)"
   ]
  },
  {
   "cell_type": "code",
   "execution_count": 14,
   "metadata": {},
   "outputs": [
    {
     "data": {
      "text/plain": [
       "(206209, 4)"
      ]
     },
     "execution_count": 14,
     "metadata": {},
     "output_type": "execute_result"
    }
   ],
   "source": [
    "W_3.shape"
   ]
  },
  {
   "cell_type": "code",
   "execution_count": 15,
   "metadata": {
    "scrolled": false
   },
   "outputs": [
    {
     "data": {
      "text/plain": [
       "(4, 7)"
      ]
     },
     "execution_count": 15,
     "metadata": {},
     "output_type": "execute_result"
    }
   ],
   "source": [
    "H_3.shape"
   ]
  },
  {
   "cell_type": "code",
   "execution_count": 16,
   "metadata": {
    "collapsed": true
   },
   "outputs": [],
   "source": [
    "clusterW, clusterH = clusterw_h(W_3, H_3, 'day')"
   ]
  },
  {
   "cell_type": "code",
   "execution_count": 17,
   "metadata": {
    "collapsed": true
   },
   "outputs": [],
   "source": [
    "cluster_day = clusterW.merge(clusterH)"
   ]
  },
  {
   "cell_type": "code",
   "execution_count": 18,
   "metadata": {
    "collapsed": true
   },
   "outputs": [],
   "source": [
    "cluster_day.to_csv('cluster_day.csv')"
   ]
  },
  {
   "cell_type": "code",
   "execution_count": 19,
   "metadata": {
    "collapsed": true
   },
   "outputs": [],
   "source": [
    "group, prior_day = get_group(cluster_day, 'day')"
   ]
  },
  {
   "cell_type": "code",
   "execution_count": 20,
   "metadata": {
    "collapsed": true
   },
   "outputs": [],
   "source": [
    "#np.save('group.npy', group) "
   ]
  },
  {
   "cell_type": "code",
   "execution_count": 21,
   "metadata": {},
   "outputs": [
    {
     "data": {
      "image/png": "[encoded data removed]",
      "text/plain": [
       "<matplotlib.figure.Figure at 0x106fed190>"
      ]
     },
     "metadata": {},
     "output_type": "display_data"
    },
    {
     "data": {
      "image/png": "[encoded data removed]",
      "text/plain": [
       "<matplotlib.figure.Figure at 0x118e797d0>"
      ]
     },
     "metadata": {},
     "output_type": "display_data"
    },
    {
     "data": {
      "image/png": "[encoded data removed]",
      "text/plain": [
       "<matplotlib.figure.Figure at 0x111662c90>"
      ]
     },
     "metadata": {},
     "output_type": "display_data"
    },
    {
     "data": {
      "image/png": "[encoded data removed]",
      "text/plain": [
       "<matplotlib.figure.Figure at 0x118e80d50>"
      ]
     },
     "metadata": {},
     "output_type": "display_data"
    }
   ],
   "source": [
    "day_count = {}\n",
    "for index in range(clusterH.shape[0]):\n",
    "    #prior_time = prior[prior['user_id'].isin(group[index]['user_id'])]\n",
    "    day_count[index] = pd.DataFrame(prior_day[index].groupby('order_dow', as_index = False)['order_id'].count())\n",
    "    plot_cluster(day_count[index], 'order_dow', 'order_id', 'cluster result for order day','order day', 'order times')"
   ]
  },
  {
   "cell_type": "code",
   "execution_count": 60,
   "metadata": {
    "collapsed": true
   },
   "outputs": [
    {
     "data": {
      "text/plain": [
       "{0:        user_id  factor  day\n",
       " 0            1       0    3\n",
       " 1            5       0    3\n",
       " 2           20       0    3\n",
       " 3           26       0    3\n",
       " 4           27       0    3\n",
       " 5           31       0    3\n",
       " 6           32       0    3\n",
       " 7           43       0    3\n",
       " 8           47       0    3\n",
       " 9           50       0    3\n",
       " 10          51       0    3\n",
       " 11          54       0    3\n",
       " 12          57       0    3\n",
       " 13          59       0    3\n",
       " 14          69       0    3\n",
       " 15          70       0    3\n",
       " 16          71       0    3\n",
       " 17          73       0    3\n",
       " 18          76       0    3\n",
       " 19          81       0    3\n",
       " 20          83       0    3\n",
       " 21          91       0    3\n",
       " 22          96       0    3\n",
       " 23          98       0    3\n",
       " 24          99       0    3\n",
       " 25         100       0    3\n",
       " 26         103       0    3\n",
       " 27         104       0    3\n",
       " 28         120       0    3\n",
       " 29         131       0    3\n",
       " ...        ...     ...  ...\n",
       " 56910   206110       0    3\n",
       " 56911   206113       0    3\n",
       " 56912   206114       0    3\n",
       " 56913   206117       0    3\n",
       " 56914   206123       0    3\n",
       " 56915   206125       0    3\n",
       " 56916   206126       0    3\n",
       " 56917   206131       0    3\n",
       " 56918   206132       0    3\n",
       " 56919   206133       0    3\n",
       " 56920   206136       0    3\n",
       " 56921   206137       0    3\n",
       " 56922   206140       0    3\n",
       " 56923   206155       0    3\n",
       " 56924   206157       0    3\n",
       " 56925   206160       0    3\n",
       " 56926   206162       0    3\n",
       " 56927   206163       0    3\n",
       " 56928   206166       0    3\n",
       " 56929   206167       0    3\n",
       " 56930   206168       0    3\n",
       " 56931   206171       0    3\n",
       " 56932   206174       0    3\n",
       " 56933   206188       0    3\n",
       " 56934   206195       0    3\n",
       " 56935   206197       0    3\n",
       " 56936   206199       0    3\n",
       " 56937   206202       0    3\n",
       " 56938   206208       0    3\n",
       " 56939   206209       0    3\n",
       " \n",
       " [56940 rows x 3 columns], 1:         user_id  factor  day\n",
       " 103200        3       1    0\n",
       " 103201        7       1    0\n",
       " 103202       13       1    0\n",
       " 103203       18       1    0\n",
       " 103204       24       1    0\n",
       " 103205       34       1    0\n",
       " 103206       36       1    0\n",
       " 103207       38       1    0\n",
       " 103208       39       1    0\n",
       " 103209       40       1    0\n",
       " 103210       41       1    0\n",
       " 103211       44       1    0\n",
       " 103212       58       1    0\n",
       " 103213       65       1    0\n",
       " 103214       66       1    0\n",
       " 103215       77       1    0\n",
       " 103216       78       1    0\n",
       " 103217       79       1    0\n",
       " 103218       84       1    0\n",
       " 103219       85       1    0\n",
       " 103220       86       1    0\n",
       " 103221       87       1    0\n",
       " 103222       94       1    0\n",
       " 103223       97       1    0\n",
       " 103224      106       1    0\n",
       " 103225      107       1    0\n",
       " 103226      108       1    0\n",
       " 103227      110       1    0\n",
       " 103228      114       1    0\n",
       " 103229      115       1    0\n",
       " ...         ...     ...  ...\n",
       " 172143   206129       1    0\n",
       " 172144   206130       1    0\n",
       " 172145   206134       1    0\n",
       " 172146   206138       1    0\n",
       " 172147   206141       1    0\n",
       " 172148   206144       1    0\n",
       " 172149   206146       1    0\n",
       " 172150   206148       1    0\n",
       " 172151   206150       1    0\n",
       " 172152   206153       1    0\n",
       " 172153   206154       1    0\n",
       " 172154   206161       1    0\n",
       " 172155   206169       1    0\n",
       " 172156   206172       1    0\n",
       " 172157   206175       1    0\n",
       " 172158   206177       1    0\n",
       " 172159   206178       1    0\n",
       " 172160   206179       1    0\n",
       " 172161   206180       1    0\n",
       " 172162   206181       1    0\n",
       " 172163   206182       1    0\n",
       " 172164   206183       1    0\n",
       " 172165   206189       1    0\n",
       " 172166   206191       1    0\n",
       " 172167   206192       1    0\n",
       " 172168   206196       1    0\n",
       " 172169   206198       1    0\n",
       " 172170   206201       1    0\n",
       " 172171   206206       1    0\n",
       " 172172   206207       1    0\n",
       " \n",
       " [68973 rows x 3 columns], 2:         user_id  factor  day\n",
       " 56940         2       2    1\n",
       " 56941         9       2    1\n",
       " 56942        15       2    1\n",
       " 56943        16       2    1\n",
       " 56944        21       2    1\n",
       " 56945        25       2    1\n",
       " 56946        28       2    1\n",
       " 56947        30       2    1\n",
       " 56948        33       2    1\n",
       " 56949        42       2    1\n",
       " 56950        45       2    1\n",
       " 56951        46       2    1\n",
       " 56952        49       2    1\n",
       " 56953        52       2    1\n",
       " 56954        55       2    1\n",
       " 56955        56       2    1\n",
       " 56956        62       2    1\n",
       " 56957        63       2    1\n",
       " 56958        67       2    1\n",
       " 56959        75       2    1\n",
       " 56960        80       2    1\n",
       " 56961        82       2    1\n",
       " 56962        88       2    1\n",
       " 56963        89       2    1\n",
       " 56964        92       2    1\n",
       " 56965       109       2    1\n",
       " 56966       112       2    1\n",
       " 56967       118       2    1\n",
       " 56968       121       2    1\n",
       " 56969       124       2    1\n",
       " ...         ...     ...  ...\n",
       " 103170   206054       2    1\n",
       " 103171   206056       2    1\n",
       " 103172   206058       2    1\n",
       " 103173   206062       2    1\n",
       " 103174   206066       2    1\n",
       " 103175   206071       2    1\n",
       " 103176   206077       2    1\n",
       " 103177   206079       2    1\n",
       " 103178   206082       2    1\n",
       " 103179   206092       2    1\n",
       " 103180   206093       2    1\n",
       " 103181   206102       2    1\n",
       " 103182   206103       2    1\n",
       " 103183   206122       2    1\n",
       " 103184   206124       2    1\n",
       " 103185   206127       2    1\n",
       " 103186   206128       2    1\n",
       " 103187   206135       2    1\n",
       " 103188   206139       2    1\n",
       " 103189   206142       2    1\n",
       " 103190   206145       2    1\n",
       " 103191   206147       2    1\n",
       " 103192   206151       2    1\n",
       " 103193   206158       2    1\n",
       " 103194   206159       2    1\n",
       " 103195   206164       2    1\n",
       " 103196   206170       2    1\n",
       " 103197   206187       2    1\n",
       " 103198   206200       2    1\n",
       " 103199   206203       2    1\n",
       " \n",
       " [46260 rows x 3 columns], 3:         user_id  factor  day\n",
       " 172173        4       3    5\n",
       " 172174        6       3    5\n",
       " 172175        8       3    5\n",
       " 172176       10       3    5\n",
       " 172177       11       3    5\n",
       " 172178       12       3    5\n",
       " 172179       14       3    5\n",
       " 172180       17       3    5\n",
       " 172181       19       3    5\n",
       " 172182       22       3    5\n",
       " 172183       23       3    5\n",
       " 172184       29       3    5\n",
       " 172185       35       3    5\n",
       " 172186       37       3    5\n",
       " 172187       48       3    5\n",
       " 172188       53       3    5\n",
       " 172189       60       3    5\n",
       " 172190       61       3    5\n",
       " 172191       64       3    5\n",
       " 172192       68       3    5\n",
       " 172193       72       3    5\n",
       " 172194       74       3    5\n",
       " 172195       90       3    5\n",
       " 172196       93       3    5\n",
       " 172197       95       3    5\n",
       " 172198      101       3    5\n",
       " 172199      102       3    5\n",
       " 172200      105       3    5\n",
       " 172201      111       3    5\n",
       " 172202      113       3    5\n",
       " ...         ...     ...  ...\n",
       " 206179   206070       3    5\n",
       " 206180   206072       3    5\n",
       " 206181   206073       3    5\n",
       " 206182   206074       3    5\n",
       " 206183   206081       3    5\n",
       " 206184   206085       3    5\n",
       " 206185   206088       3    5\n",
       " 206186   206089       3    5\n",
       " 206187   206106       3    5\n",
       " 206188   206107       3    5\n",
       " 206189   206109       3    5\n",
       " 206190   206112       3    5\n",
       " 206191   206116       3    5\n",
       " 206192   206118       3    5\n",
       " 206193   206120       3    5\n",
       " 206194   206143       3    5\n",
       " 206195   206149       3    5\n",
       " 206196   206152       3    5\n",
       " 206197   206156       3    5\n",
       " 206198   206165       3    5\n",
       " 206199   206173       3    5\n",
       " 206200   206176       3    5\n",
       " 206201   206184       3    5\n",
       " 206202   206185       3    5\n",
       " 206203   206186       3    5\n",
       " 206204   206190       3    5\n",
       " 206205   206193       3    5\n",
       " 206206   206194       3    5\n",
       " 206207   206204       3    5\n",
       " 206208   206205       3    5\n",
       " \n",
       " [34036 rows x 3 columns]}"
      ]
     },
     "execution_count": 60,
     "metadata": {},
     "output_type": "execute_result"
    }
   ],
   "source": [
    "group"
   ]
  },
  {
   "cell_type": "code",
   "execution_count": null,
   "metadata": {
    "collapsed": true
   },
   "outputs": [],
   "source": []
  },
  {
   "cell_type": "code",
   "execution_count": null,
   "metadata": {
    "collapsed": true
   },
   "outputs": [],
   "source": [
    "# grouped = cluster_time.groupby(['time'])\n",
    "# group = {}\n",
    "# for index, number in enumerate(clusterH.time.values):\n",
    "#     group[index] = grouped.get_group(number)"
   ]
  },
  {
   "cell_type": "code",
   "execution_count": null,
   "metadata": {
    "collapsed": true
   },
   "outputs": [],
   "source": [
    "# def find_optimal_number(df, cluster_start, cluster_end):\n",
    "    \n",
    "#     cluster_range = range(cluster_start, cluster_end)\n",
    "#     cluster_errors = []\n",
    "    \n",
    "#     for num_clusters in cluster_range:\n",
    "#         nmf = NMF(init='nndsvd', max_iter=200,\\\n",
    "#             n_components=num_clusters, nls_max_iter=2000, random_state=0,\\\n",
    "#             sparseness='components', solver = 'cd', alpha = 0.1, l1_ratio = 1)\n",
    "#         model = nmf.fit(df)\n",
    "#         #W = model.fit_transform(df)\n",
    "#         #H = model.components_\n",
    "#         #product = np.dot(W,H)\n",
    "#         #error = np.sum(np.array(df-product))**2\n",
    "#         error = model.reconstruction_err_\n",
    "#         cluster_errors.append(error)\n",
    "#     clusters_df = pd.DataFrame( { \"num_clusters\":cluster_range, \"cluster_errors\": cluster_errors } )\n",
    "#     return clusters_df"
   ]
  },
  {
   "cell_type": "code",
   "execution_count": null,
   "metadata": {
    "collapsed": true,
    "scrolled": true
   },
   "outputs": [],
   "source": [
    "# cluster_error = find_optimal_number(orderday_transform,2, 8)"
   ]
  },
  {
   "cell_type": "code",
   "execution_count": null,
   "metadata": {
    "collapsed": true,
    "scrolled": true
   },
   "outputs": [],
   "source": [
    "# plt.figure(figsize=(12,6))\n",
    "# plt.plot( cluster_error.num_clusters, cluster_error.cluster_errors, marker = \"o\" )\n",
    "# plt.show()"
   ]
  },
  {
   "cell_type": "markdown",
   "metadata": {},
   "source": [
    "## segment customer by order hour"
   ]
  },
  {
   "cell_type": "code",
   "execution_count": 23,
   "metadata": {
    "collapsed": true
   },
   "outputs": [],
   "source": [
    "customer_ordertime = pd.crosstab(prior['user_id'],prior['order_hour_of_day'], rownames=['user id'], colnames=['order hour'])"
   ]
  },
  {
   "cell_type": "code",
   "execution_count": 24,
   "metadata": {
    "collapsed": true
   },
   "outputs": [],
   "source": [
    "ordertime_transform = csr_matrix(customer_ordertime)"
   ]
  },
  {
   "cell_type": "code",
   "execution_count": 25,
   "metadata": {},
   "outputs": [
    {
     "data": {
      "text/plain": [
       "(206209, 24)"
      ]
     },
     "execution_count": 25,
     "metadata": {},
     "output_type": "execute_result"
    }
   ],
   "source": [
    "ordertime_transform.shape"
   ]
  },
  {
   "cell_type": "code",
   "execution_count": 26,
   "metadata": {
    "collapsed": true
   },
   "outputs": [],
   "source": [
    "# find_optimal_number(ordertime_transform, 10, 20)"
   ]
  },
  {
   "cell_type": "code",
   "execution_count": 40,
   "metadata": {
    "scrolled": true
   },
   "outputs": [
    {
     "name": "stderr",
     "output_type": "stream",
     "text": [
      "/Users/mengruiyin/anaconda/lib/python2.7/site-packages/sklearn/decomposition/nmf.py:997: DeprecationWarning:\n",
      "\n",
      "Controlling regularization through the sparseness, beta and eta arguments is only available for 'pg' solver, which will be removed in release 0.19. Use another solver with L1 or L2 regularization instead.\n",
      "\n"
     ]
    }
   ],
   "source": [
    "W2_8, H2_8, error2_8 = NMF_model(ordertime_transform, 4)"
   ]
  },
  {
   "cell_type": "code",
   "execution_count": 41,
   "metadata": {},
   "outputs": [
    {
     "data": {
      "text/plain": [
       "(206209, 4)"
      ]
     },
     "execution_count": 41,
     "metadata": {},
     "output_type": "execute_result"
    }
   ],
   "source": [
    "W2_8.shape"
   ]
  },
  {
   "cell_type": "code",
   "execution_count": 42,
   "metadata": {},
   "outputs": [
    {
     "data": {
      "text/plain": [
       "(4, 24)"
      ]
     },
     "execution_count": 42,
     "metadata": {},
     "output_type": "execute_result"
    }
   ],
   "source": [
    "H2_8.shape"
   ]
  },
  {
   "cell_type": "code",
   "execution_count": 43,
   "metadata": {},
   "outputs": [
    {
     "data": {
      "text/plain": [
       "1837.5582751726338"
      ]
     },
     "execution_count": 43,
     "metadata": {},
     "output_type": "execute_result"
    }
   ],
   "source": [
    "error2_8"
   ]
  },
  {
   "cell_type": "code",
   "execution_count": 44,
   "metadata": {
    "collapsed": true
   },
   "outputs": [],
   "source": [
    "clusterW, clusterH = clusterw_h(W2_8, H2_8, 'time')"
   ]
  },
  {
   "cell_type": "code",
   "execution_count": 45,
   "metadata": {
    "scrolled": true
   },
   "outputs": [
    {
     "data": {
      "text/html": [
       "<div>\n",
       "<style scoped>\n",
       "    .dataframe tbody tr th:only-of-type {\n",
       "        vertical-align: middle;\n",
       "    }\n",
       "\n",
       "    .dataframe tbody tr th {\n",
       "        vertical-align: top;\n",
       "    }\n",
       "\n",
       "    .dataframe thead th {\n",
       "        text-align: right;\n",
       "    }\n",
       "</style>\n",
       "<table border=\"1\" class=\"dataframe\">\n",
       "  <thead>\n",
       "    <tr style=\"text-align: right;\">\n",
       "      <th></th>\n",
       "      <th>factor</th>\n",
       "      <th>time</th>\n",
       "    </tr>\n",
       "  </thead>\n",
       "  <tbody>\n",
       "    <tr>\n",
       "      <th>0</th>\n",
       "      <td>0</td>\n",
       "      <td>14</td>\n",
       "    </tr>\n",
       "    <tr>\n",
       "      <th>1</th>\n",
       "      <td>1</td>\n",
       "      <td>10</td>\n",
       "    </tr>\n",
       "    <tr>\n",
       "      <th>2</th>\n",
       "      <td>2</td>\n",
       "      <td>17</td>\n",
       "    </tr>\n",
       "    <tr>\n",
       "      <th>3</th>\n",
       "      <td>3</td>\n",
       "      <td>8</td>\n",
       "    </tr>\n",
       "  </tbody>\n",
       "</table>\n",
       "</div>"
      ],
      "text/plain": [
       "   factor  time\n",
       "0       0    14\n",
       "1       1    10\n",
       "2       2    17\n",
       "3       3     8"
      ]
     },
     "execution_count": 45,
     "metadata": {},
     "output_type": "execute_result"
    }
   ],
   "source": [
    "clusterH"
   ]
  },
  {
   "cell_type": "code",
   "execution_count": 46,
   "metadata": {
    "collapsed": true
   },
   "outputs": [],
   "source": [
    "cluster_time = clusterW.merge(clusterH)"
   ]
  },
  {
   "cell_type": "code",
   "execution_count": 47,
   "metadata": {
    "scrolled": true
   },
   "outputs": [
    {
     "data": {
      "text/html": [
       "<div>\n",
       "<style scoped>\n",
       "    .dataframe tbody tr th:only-of-type {\n",
       "        vertical-align: middle;\n",
       "    }\n",
       "\n",
       "    .dataframe tbody tr th {\n",
       "        vertical-align: top;\n",
       "    }\n",
       "\n",
       "    .dataframe thead th {\n",
       "        text-align: right;\n",
       "    }\n",
       "</style>\n",
       "<table border=\"1\" class=\"dataframe\">\n",
       "  <thead>\n",
       "    <tr style=\"text-align: right;\">\n",
       "      <th></th>\n",
       "      <th>user_id</th>\n",
       "      <th>factor</th>\n",
       "      <th>time</th>\n",
       "    </tr>\n",
       "  </thead>\n",
       "  <tbody>\n",
       "    <tr>\n",
       "      <th>0</th>\n",
       "      <td>1</td>\n",
       "      <td>3</td>\n",
       "      <td>8</td>\n",
       "    </tr>\n",
       "    <tr>\n",
       "      <th>1</th>\n",
       "      <td>8</td>\n",
       "      <td>3</td>\n",
       "      <td>8</td>\n",
       "    </tr>\n",
       "    <tr>\n",
       "      <th>2</th>\n",
       "      <td>12</td>\n",
       "      <td>3</td>\n",
       "      <td>8</td>\n",
       "    </tr>\n",
       "    <tr>\n",
       "      <th>3</th>\n",
       "      <td>14</td>\n",
       "      <td>3</td>\n",
       "      <td>8</td>\n",
       "    </tr>\n",
       "    <tr>\n",
       "      <th>4</th>\n",
       "      <td>21</td>\n",
       "      <td>3</td>\n",
       "      <td>8</td>\n",
       "    </tr>\n",
       "    <tr>\n",
       "      <th>5</th>\n",
       "      <td>24</td>\n",
       "      <td>3</td>\n",
       "      <td>8</td>\n",
       "    </tr>\n",
       "    <tr>\n",
       "      <th>6</th>\n",
       "      <td>44</td>\n",
       "      <td>3</td>\n",
       "      <td>8</td>\n",
       "    </tr>\n",
       "    <tr>\n",
       "      <th>7</th>\n",
       "      <td>45</td>\n",
       "      <td>3</td>\n",
       "      <td>8</td>\n",
       "    </tr>\n",
       "    <tr>\n",
       "      <th>8</th>\n",
       "      <td>56</td>\n",
       "      <td>3</td>\n",
       "      <td>8</td>\n",
       "    </tr>\n",
       "    <tr>\n",
       "      <th>9</th>\n",
       "      <td>65</td>\n",
       "      <td>3</td>\n",
       "      <td>8</td>\n",
       "    </tr>\n",
       "    <tr>\n",
       "      <th>10</th>\n",
       "      <td>74</td>\n",
       "      <td>3</td>\n",
       "      <td>8</td>\n",
       "    </tr>\n",
       "    <tr>\n",
       "      <th>11</th>\n",
       "      <td>76</td>\n",
       "      <td>3</td>\n",
       "      <td>8</td>\n",
       "    </tr>\n",
       "    <tr>\n",
       "      <th>12</th>\n",
       "      <td>87</td>\n",
       "      <td>3</td>\n",
       "      <td>8</td>\n",
       "    </tr>\n",
       "    <tr>\n",
       "      <th>13</th>\n",
       "      <td>93</td>\n",
       "      <td>3</td>\n",
       "      <td>8</td>\n",
       "    </tr>\n",
       "    <tr>\n",
       "      <th>14</th>\n",
       "      <td>98</td>\n",
       "      <td>3</td>\n",
       "      <td>8</td>\n",
       "    </tr>\n",
       "    <tr>\n",
       "      <th>15</th>\n",
       "      <td>104</td>\n",
       "      <td>3</td>\n",
       "      <td>8</td>\n",
       "    </tr>\n",
       "    <tr>\n",
       "      <th>16</th>\n",
       "      <td>109</td>\n",
       "      <td>3</td>\n",
       "      <td>8</td>\n",
       "    </tr>\n",
       "    <tr>\n",
       "      <th>17</th>\n",
       "      <td>111</td>\n",
       "      <td>3</td>\n",
       "      <td>8</td>\n",
       "    </tr>\n",
       "    <tr>\n",
       "      <th>18</th>\n",
       "      <td>118</td>\n",
       "      <td>3</td>\n",
       "      <td>8</td>\n",
       "    </tr>\n",
       "    <tr>\n",
       "      <th>19</th>\n",
       "      <td>120</td>\n",
       "      <td>3</td>\n",
       "      <td>8</td>\n",
       "    </tr>\n",
       "    <tr>\n",
       "      <th>20</th>\n",
       "      <td>121</td>\n",
       "      <td>3</td>\n",
       "      <td>8</td>\n",
       "    </tr>\n",
       "    <tr>\n",
       "      <th>21</th>\n",
       "      <td>124</td>\n",
       "      <td>3</td>\n",
       "      <td>8</td>\n",
       "    </tr>\n",
       "    <tr>\n",
       "      <th>22</th>\n",
       "      <td>125</td>\n",
       "      <td>3</td>\n",
       "      <td>8</td>\n",
       "    </tr>\n",
       "    <tr>\n",
       "      <th>23</th>\n",
       "      <td>132</td>\n",
       "      <td>3</td>\n",
       "      <td>8</td>\n",
       "    </tr>\n",
       "    <tr>\n",
       "      <th>24</th>\n",
       "      <td>156</td>\n",
       "      <td>3</td>\n",
       "      <td>8</td>\n",
       "    </tr>\n",
       "    <tr>\n",
       "      <th>25</th>\n",
       "      <td>161</td>\n",
       "      <td>3</td>\n",
       "      <td>8</td>\n",
       "    </tr>\n",
       "    <tr>\n",
       "      <th>26</th>\n",
       "      <td>164</td>\n",
       "      <td>3</td>\n",
       "      <td>8</td>\n",
       "    </tr>\n",
       "    <tr>\n",
       "      <th>27</th>\n",
       "      <td>166</td>\n",
       "      <td>3</td>\n",
       "      <td>8</td>\n",
       "    </tr>\n",
       "    <tr>\n",
       "      <th>28</th>\n",
       "      <td>170</td>\n",
       "      <td>3</td>\n",
       "      <td>8</td>\n",
       "    </tr>\n",
       "    <tr>\n",
       "      <th>29</th>\n",
       "      <td>172</td>\n",
       "      <td>3</td>\n",
       "      <td>8</td>\n",
       "    </tr>\n",
       "    <tr>\n",
       "      <th>...</th>\n",
       "      <td>...</td>\n",
       "      <td>...</td>\n",
       "      <td>...</td>\n",
       "    </tr>\n",
       "    <tr>\n",
       "      <th>206179</th>\n",
       "      <td>206104</td>\n",
       "      <td>0</td>\n",
       "      <td>14</td>\n",
       "    </tr>\n",
       "    <tr>\n",
       "      <th>206180</th>\n",
       "      <td>206108</td>\n",
       "      <td>0</td>\n",
       "      <td>14</td>\n",
       "    </tr>\n",
       "    <tr>\n",
       "      <th>206181</th>\n",
       "      <td>206112</td>\n",
       "      <td>0</td>\n",
       "      <td>14</td>\n",
       "    </tr>\n",
       "    <tr>\n",
       "      <th>206182</th>\n",
       "      <td>206114</td>\n",
       "      <td>0</td>\n",
       "      <td>14</td>\n",
       "    </tr>\n",
       "    <tr>\n",
       "      <th>206183</th>\n",
       "      <td>206115</td>\n",
       "      <td>0</td>\n",
       "      <td>14</td>\n",
       "    </tr>\n",
       "    <tr>\n",
       "      <th>206184</th>\n",
       "      <td>206117</td>\n",
       "      <td>0</td>\n",
       "      <td>14</td>\n",
       "    </tr>\n",
       "    <tr>\n",
       "      <th>206185</th>\n",
       "      <td>206120</td>\n",
       "      <td>0</td>\n",
       "      <td>14</td>\n",
       "    </tr>\n",
       "    <tr>\n",
       "      <th>206186</th>\n",
       "      <td>206122</td>\n",
       "      <td>0</td>\n",
       "      <td>14</td>\n",
       "    </tr>\n",
       "    <tr>\n",
       "      <th>206187</th>\n",
       "      <td>206125</td>\n",
       "      <td>0</td>\n",
       "      <td>14</td>\n",
       "    </tr>\n",
       "    <tr>\n",
       "      <th>206188</th>\n",
       "      <td>206127</td>\n",
       "      <td>0</td>\n",
       "      <td>14</td>\n",
       "    </tr>\n",
       "    <tr>\n",
       "      <th>206189</th>\n",
       "      <td>206141</td>\n",
       "      <td>0</td>\n",
       "      <td>14</td>\n",
       "    </tr>\n",
       "    <tr>\n",
       "      <th>206190</th>\n",
       "      <td>206151</td>\n",
       "      <td>0</td>\n",
       "      <td>14</td>\n",
       "    </tr>\n",
       "    <tr>\n",
       "      <th>206191</th>\n",
       "      <td>206157</td>\n",
       "      <td>0</td>\n",
       "      <td>14</td>\n",
       "    </tr>\n",
       "    <tr>\n",
       "      <th>206192</th>\n",
       "      <td>206161</td>\n",
       "      <td>0</td>\n",
       "      <td>14</td>\n",
       "    </tr>\n",
       "    <tr>\n",
       "      <th>206193</th>\n",
       "      <td>206163</td>\n",
       "      <td>0</td>\n",
       "      <td>14</td>\n",
       "    </tr>\n",
       "    <tr>\n",
       "      <th>206194</th>\n",
       "      <td>206164</td>\n",
       "      <td>0</td>\n",
       "      <td>14</td>\n",
       "    </tr>\n",
       "    <tr>\n",
       "      <th>206195</th>\n",
       "      <td>206169</td>\n",
       "      <td>0</td>\n",
       "      <td>14</td>\n",
       "    </tr>\n",
       "    <tr>\n",
       "      <th>206196</th>\n",
       "      <td>206178</td>\n",
       "      <td>0</td>\n",
       "      <td>14</td>\n",
       "    </tr>\n",
       "    <tr>\n",
       "      <th>206197</th>\n",
       "      <td>206183</td>\n",
       "      <td>0</td>\n",
       "      <td>14</td>\n",
       "    </tr>\n",
       "    <tr>\n",
       "      <th>206198</th>\n",
       "      <td>206186</td>\n",
       "      <td>0</td>\n",
       "      <td>14</td>\n",
       "    </tr>\n",
       "    <tr>\n",
       "      <th>206199</th>\n",
       "      <td>206189</td>\n",
       "      <td>0</td>\n",
       "      <td>14</td>\n",
       "    </tr>\n",
       "    <tr>\n",
       "      <th>206200</th>\n",
       "      <td>206191</td>\n",
       "      <td>0</td>\n",
       "      <td>14</td>\n",
       "    </tr>\n",
       "    <tr>\n",
       "      <th>206201</th>\n",
       "      <td>206193</td>\n",
       "      <td>0</td>\n",
       "      <td>14</td>\n",
       "    </tr>\n",
       "    <tr>\n",
       "      <th>206202</th>\n",
       "      <td>206195</td>\n",
       "      <td>0</td>\n",
       "      <td>14</td>\n",
       "    </tr>\n",
       "    <tr>\n",
       "      <th>206203</th>\n",
       "      <td>206196</td>\n",
       "      <td>0</td>\n",
       "      <td>14</td>\n",
       "    </tr>\n",
       "    <tr>\n",
       "      <th>206204</th>\n",
       "      <td>206198</td>\n",
       "      <td>0</td>\n",
       "      <td>14</td>\n",
       "    </tr>\n",
       "    <tr>\n",
       "      <th>206205</th>\n",
       "      <td>206200</td>\n",
       "      <td>0</td>\n",
       "      <td>14</td>\n",
       "    </tr>\n",
       "    <tr>\n",
       "      <th>206206</th>\n",
       "      <td>206204</td>\n",
       "      <td>0</td>\n",
       "      <td>14</td>\n",
       "    </tr>\n",
       "    <tr>\n",
       "      <th>206207</th>\n",
       "      <td>206205</td>\n",
       "      <td>0</td>\n",
       "      <td>14</td>\n",
       "    </tr>\n",
       "    <tr>\n",
       "      <th>206208</th>\n",
       "      <td>206208</td>\n",
       "      <td>0</td>\n",
       "      <td>14</td>\n",
       "    </tr>\n",
       "  </tbody>\n",
       "</table>\n",
       "<p>206209 rows × 3 columns</p>\n",
       "</div>"
      ],
      "text/plain": [
       "        user_id  factor  time\n",
       "0             1       3     8\n",
       "1             8       3     8\n",
       "2            12       3     8\n",
       "3            14       3     8\n",
       "4            21       3     8\n",
       "5            24       3     8\n",
       "6            44       3     8\n",
       "7            45       3     8\n",
       "8            56       3     8\n",
       "9            65       3     8\n",
       "10           74       3     8\n",
       "11           76       3     8\n",
       "12           87       3     8\n",
       "13           93       3     8\n",
       "14           98       3     8\n",
       "15          104       3     8\n",
       "16          109       3     8\n",
       "17          111       3     8\n",
       "18          118       3     8\n",
       "19          120       3     8\n",
       "20          121       3     8\n",
       "21          124       3     8\n",
       "22          125       3     8\n",
       "23          132       3     8\n",
       "24          156       3     8\n",
       "25          161       3     8\n",
       "26          164       3     8\n",
       "27          166       3     8\n",
       "28          170       3     8\n",
       "29          172       3     8\n",
       "...         ...     ...   ...\n",
       "206179   206104       0    14\n",
       "206180   206108       0    14\n",
       "206181   206112       0    14\n",
       "206182   206114       0    14\n",
       "206183   206115       0    14\n",
       "206184   206117       0    14\n",
       "206185   206120       0    14\n",
       "206186   206122       0    14\n",
       "206187   206125       0    14\n",
       "206188   206127       0    14\n",
       "206189   206141       0    14\n",
       "206190   206151       0    14\n",
       "206191   206157       0    14\n",
       "206192   206161       0    14\n",
       "206193   206163       0    14\n",
       "206194   206164       0    14\n",
       "206195   206169       0    14\n",
       "206196   206178       0    14\n",
       "206197   206183       0    14\n",
       "206198   206186       0    14\n",
       "206199   206189       0    14\n",
       "206200   206191       0    14\n",
       "206201   206193       0    14\n",
       "206202   206195       0    14\n",
       "206203   206196       0    14\n",
       "206204   206198       0    14\n",
       "206205   206200       0    14\n",
       "206206   206204       0    14\n",
       "206207   206205       0    14\n",
       "206208   206208       0    14\n",
       "\n",
       "[206209 rows x 3 columns]"
      ]
     },
     "execution_count": 47,
     "metadata": {},
     "output_type": "execute_result"
    }
   ],
   "source": [
    "cluster_time"
   ]
  },
  {
   "cell_type": "code",
   "execution_count": 48,
   "metadata": {
    "collapsed": true
   },
   "outputs": [],
   "source": [
    "# cluster_time.to_csv('cluster_time.csv')"
   ]
  },
  {
   "cell_type": "code",
   "execution_count": 49,
   "metadata": {
    "collapsed": true
   },
   "outputs": [],
   "source": [
    "group, prior_time = get_group(cluster_time, 'time')"
   ]
  },
  {
   "cell_type": "code",
   "execution_count": 50,
   "metadata": {},
   "outputs": [
    {
     "data": {
      "image/png": "[encoded data removed]",
      "text/plain": [
       "<matplotlib.figure.Figure at 0x11c275ad0>"
      ]
     },
     "metadata": {},
     "output_type": "display_data"
    },
    {
     "data": {
      "image/png": "[encoded data removed]",
      "text/plain": [
       "<matplotlib.figure.Figure at 0x117daef10>"
      ]
     },
     "metadata": {},
     "output_type": "display_data"
    },
    {
     "data": {
      "image/png": "[encoded data removed]",
      "text/plain": [
       "<matplotlib.figure.Figure at 0x117dae810>"
      ]
     },
     "metadata": {},
     "output_type": "display_data"
    },
    {
     "data": {
      "image/png": "[encoded data removed]",
      "text/plain": [
       "<matplotlib.figure.Figure at 0x107003d90>"
      ]
     },
     "metadata": {},
     "output_type": "display_data"
    }
   ],
   "source": [
    "time_count = {}\n",
    "for index in range(clusterH.shape[0]):\n",
    "    #prior_time = prior[prior['user_id'].isin(group[index]['user_id'])]\n",
    "    time_count[index] = pd.DataFrame(prior_time[index].groupby('order_hour_of_day', as_index = False)['order_id'].count())\n",
    "    plot_cluster(time_count[index], 'order_hour_of_day', 'order_id', 'cluster result for order time','order time', 'order numbers')"
   ]
  },
  {
   "cell_type": "markdown",
   "metadata": {
    "collapsed": true
   },
   "source": [
    "## segment customer by department"
   ]
  },
  {
   "cell_type": "code",
   "execution_count": 337,
   "metadata": {
    "collapsed": true
   },
   "outputs": [],
   "source": [
    "customer_department = pd.crosstab(prior_data_da['user_id'],prior_data_da['department'], rownames=['user_id'], colnames=['department'])"
   ]
  },
  {
   "cell_type": "markdown",
   "metadata": {},
   "source": [
    "### cluster method1: svd + k-means"
   ]
  },
  {
   "cell_type": "code",
   "execution_count": 339,
   "metadata": {
    "collapsed": true
   },
   "outputs": [],
   "source": [
    "svd_department = TruncatedSVD(n_components=2)\n",
    "svd_department2 = svd_department.fit_transform(customer_department)"
   ]
  },
  {
   "cell_type": "code",
   "execution_count": 341,
   "metadata": {
    "scrolled": true
   },
   "outputs": [
    {
     "data": {
      "text/plain": [
       "array([ 0.70727691,  0.11664377])"
      ]
     },
     "execution_count": 341,
     "metadata": {},
     "output_type": "execute_result"
    }
   ],
   "source": [
    "svd_department.explained_variance_ratio_"
   ]
  },
  {
   "cell_type": "markdown",
   "metadata": {},
   "source": [
    "So these two components explain more than 80% of the orginal data. The first component explain 86% and the second component expalin 14%"
   ]
  },
  {
   "cell_type": "code",
   "execution_count": 347,
   "metadata": {
    "scrolled": false
   },
   "outputs": [
    {
     "data": {
      "text/html": [
       "<div>\n",
       "<style scoped>\n",
       "    .dataframe tbody tr th:only-of-type {\n",
       "        vertical-align: middle;\n",
       "    }\n",
       "\n",
       "    .dataframe tbody tr th {\n",
       "        vertical-align: top;\n",
       "    }\n",
       "\n",
       "    .dataframe thead th {\n",
       "        text-align: right;\n",
       "    }\n",
       "</style>\n",
       "<table border=\"1\" class=\"dataframe\">\n",
       "  <thead>\n",
       "    <tr style=\"text-align: right;\">\n",
       "      <th></th>\n",
       "      <th>PC1</th>\n",
       "      <th>PC2</th>\n",
       "    </tr>\n",
       "    <tr>\n",
       "      <th>user_id</th>\n",
       "      <th></th>\n",
       "      <th></th>\n",
       "    </tr>\n",
       "  </thead>\n",
       "  <tbody>\n",
       "    <tr>\n",
       "      <th>1</th>\n",
       "      <td>16.962063</td>\n",
       "      <td>19.797218</td>\n",
       "    </tr>\n",
       "    <tr>\n",
       "      <th>2</th>\n",
       "      <td>66.721852</td>\n",
       "      <td>32.380443</td>\n",
       "    </tr>\n",
       "    <tr>\n",
       "      <th>3</th>\n",
       "      <td>44.353542</td>\n",
       "      <td>-3.363004</td>\n",
       "    </tr>\n",
       "    <tr>\n",
       "      <th>4</th>\n",
       "      <td>3.319074</td>\n",
       "      <td>1.664083</td>\n",
       "    </tr>\n",
       "    <tr>\n",
       "      <th>5</th>\n",
       "      <td>19.983361</td>\n",
       "      <td>-5.359110</td>\n",
       "    </tr>\n",
       "  </tbody>\n",
       "</table>\n",
       "</div>"
      ],
      "text/plain": [
       "               PC1        PC2\n",
       "user_id                      \n",
       "1        16.962063  19.797218\n",
       "2        66.721852  32.380443\n",
       "3        44.353542  -3.363004\n",
       "4         3.319074   1.664083\n",
       "5        19.983361  -5.359110"
      ]
     },
     "execution_count": 347,
     "metadata": {},
     "output_type": "execute_result"
    }
   ],
   "source": [
    "svd_department_2D = pd.DataFrame(svd_department2)\n",
    "svd_department_2D.index = customer_department.index\n",
    "svd_department_2D.columns = ['PC1','PC2']\n",
    "svd_department_2D.head()"
   ]
  },
  {
   "cell_type": "code",
   "execution_count": 356,
   "metadata": {
    "collapsed": true
   },
   "outputs": [],
   "source": [
    "xaxis = pd.DataFrame(customer_department.corrwith(svd_department_2D['PC1'])).reset_index()\n",
    "yaxis = pd.DataFrame(customer_department.corrwith(svd_department_2D['PC2'])).reset_index()\n",
    "xaxis.columns = ['department','PC1']\n",
    "yaxis.columns = ['department','PC2']\n",
    "svd_plot = xaxis.merge(yaxis)"
   ]
  },
  {
   "cell_type": "code",
   "execution_count": 358,
   "metadata": {
    "scrolled": true
   },
   "outputs": [
    {
     "data": {
      "image/png": "[encoded data removed]",
      "text/plain": [
       "<matplotlib.figure.Figure at 0x133d0dd10>"
      ]
     },
     "metadata": {},
     "output_type": "display_data"
    }
   ],
   "source": [
    "fig, ax = plt.subplots()\n",
    "\n",
    "fig.set_size_inches(20, 15)\n",
    "\n",
    "p1=sns.regplot(data=svd_plot , x=\"PC1\", y=\"PC2\", fit_reg=False, marker=\"o\", color=\"skyblue\", scatter_kws={'s':400})\n",
    " \n",
    "# add annotations one by one with a loop\n",
    "for line in range(0,svd_plot.shape[0]):\n",
    "     p1.text(svd_plot.PC1[line]+0.01,\\\n",
    "             svd_plot.PC2.values[line],\\\n",
    "             svd_plot.department.values[line], horizontalalignment='left',\\\n",
    "             size='large', color='black', weight='semibold')\n",
    "\n",
    "p1.axes.set_title(\"svd plot\",fontsize=40)\n",
    "p1.set_xlabel(\"first component correlation\",fontsize=30)\n",
    "p1.set_ylabel(\"second comonent correlation\",fontsize=30)\n",
    "p1.tick_params(labelsize=20)\n",
    "sns.plt.ylim(-0.5, 0.6)\n",
    "\n",
    "sns.plt.show() "
   ]
  },
  {
   "cell_type": "markdown",
   "metadata": {},
   "source": [
    "The axis of the plot shows correlation between each department and the first comoponent after SVD and the y-axis of the plot shows correlation between each department and the second component. For example, department meat seafood has high correlation with first component. Points showed together represent these departments may be highly correlated. So meat seafood and canned goods might be highly correlated wiht each other."
   ]
  },
  {
   "cell_type": "code",
   "execution_count": null,
   "metadata": {
    "collapsed": true
   },
   "outputs": [],
   "source": [
    "# cluster_department,svd_ratio,customer_department = customer_cluster(prior_data_da, prior_data_da['department'], ['department'])"
   ]
  },
  {
   "cell_type": "code",
   "execution_count": 348,
   "metadata": {
    "collapsed": true
   },
   "outputs": [],
   "source": [
    "cluster_range = range( 1, 20 )\n",
    "cluster_errors = []\n",
    "    \n",
    "for num_clusters in cluster_range:\n",
    "    clusters = KMeans(num_clusters)\n",
    "    clusters.fit(svd_department_2D)\n",
    "    cluster_errors.append( clusters.inertia_ )"
   ]
  },
  {
   "cell_type": "code",
   "execution_count": 349,
   "metadata": {
    "collapsed": true
   },
   "outputs": [],
   "source": [
    "clusters_df = pd.DataFrame( { \"num_clusters\":cluster_range, \"cluster_errors\": cluster_errors } )"
   ]
  },
  {
   "cell_type": "code",
   "execution_count": 351,
   "metadata": {
    "scrolled": true
   },
   "outputs": [
    {
     "data": {
      "text/plain": [
       "<matplotlib.figure.Figure at 0x135fa3fd0>"
      ]
     },
     "metadata": {},
     "output_type": "display_data"
    },
    {
     "data": {
      "image/png": "[encoded data removed]",
      "text/plain": [
       "<matplotlib.figure.Figure at 0x13592dad0>"
      ]
     },
     "metadata": {},
     "output_type": "display_data"
    }
   ],
   "source": [
    "plt.figure(figsize=(12,6))\n",
    "plt.plot( clusters_df.num_clusters, clusters_df.cluster_errors, marker = \"o\" )\n",
    "plt.show()"
   ]
  },
  {
   "cell_type": "markdown",
   "metadata": {},
   "source": [
    "To find the optimal number of cluster, I apply elbow method by calculating the SSE for every number of cluster. If the line chart looks like an arm, then the \"elbow\" on the arm is the value of k that is the best. SSE tends to decrease as k increases. So we want to find a small number of k with low SSE. The elbow usually represents where we start to have diminishing returns by increasing k. So, here 4 could be the optimal number of cluster."
   ]
  },
  {
   "cell_type": "code",
   "execution_count": 363,
   "metadata": {
    "collapsed": true
   },
   "outputs": [],
   "source": [
    "kmeans = KMeans(n_clusters=5, random_state=10)\n",
    "clusters = kmeans.fit(svd_department_2D)"
   ]
  },
  {
   "cell_type": "code",
   "execution_count": 364,
   "metadata": {
    "collapsed": true
   },
   "outputs": [],
   "source": [
    "svd_department_2D['cluster'] = pd.Series(clusters.labels_, index=svd_department_2D.index)\n",
    "customer_department['cluster'] = pd.Series(clusters.labels_, index=svd_department_2D.index)"
   ]
  },
  {
   "cell_type": "code",
   "execution_count": 372,
   "metadata": {},
   "outputs": [
    {
     "data": {
      "text/html": [
       "<div>\n",
       "<style scoped>\n",
       "    .dataframe tbody tr th:only-of-type {\n",
       "        vertical-align: middle;\n",
       "    }\n",
       "\n",
       "    .dataframe tbody tr th {\n",
       "        vertical-align: top;\n",
       "    }\n",
       "\n",
       "    .dataframe thead th {\n",
       "        text-align: right;\n",
       "    }\n",
       "</style>\n",
       "<table border=\"1\" class=\"dataframe\">\n",
       "  <thead>\n",
       "    <tr style=\"text-align: right;\">\n",
       "      <th></th>\n",
       "      <th>cluster</th>\n",
       "    </tr>\n",
       "    <tr>\n",
       "      <th>cluster</th>\n",
       "      <th></th>\n",
       "    </tr>\n",
       "  </thead>\n",
       "  <tbody>\n",
       "    <tr>\n",
       "      <th>0</th>\n",
       "      <td>143156</td>\n",
       "    </tr>\n",
       "    <tr>\n",
       "      <th>1</th>\n",
       "      <td>12898</td>\n",
       "    </tr>\n",
       "    <tr>\n",
       "      <th>2</th>\n",
       "      <td>42451</td>\n",
       "    </tr>\n",
       "    <tr>\n",
       "      <th>3</th>\n",
       "      <td>3702</td>\n",
       "    </tr>\n",
       "    <tr>\n",
       "      <th>4</th>\n",
       "      <td>4002</td>\n",
       "    </tr>\n",
       "  </tbody>\n",
       "</table>\n",
       "</div>"
      ],
      "text/plain": [
       "         cluster\n",
       "cluster         \n",
       "0         143156\n",
       "1          12898\n",
       "2          42451\n",
       "3           3702\n",
       "4           4002"
      ]
     },
     "execution_count": 372,
     "metadata": {},
     "output_type": "execute_result"
    }
   ],
   "source": [
    "grouped = customer_department.groupby('cluster')\n",
    "table_count = pd.DataFrame(grouped['cluster'].count())\n",
    "table_count"
   ]
  },
  {
   "cell_type": "code",
   "execution_count": 382,
   "metadata": {},
   "outputs": [
    {
     "data": {
      "application/javascript": [
       "$(\"head\").append($(\"<link/>\").attr({\n",
       "  rel:  \"stylesheet\",\n",
       "  type: \"text/css\",\n",
       "  href: \"//cdnjs.cloudflare.com/ajax/libs/font-awesome/4.1.0/css/font-awesome.min.css\"\n",
       "}));\n",
       "$(\"head\").append($(\"<link/>\").attr({\n",
       "  rel:  \"stylesheet\",\n",
       "  type: \"text/css\",\n",
       "  href: \"https://static.turi.com/products/graphlab-create/2.1/canvas/css/canvas.css\"\n",
       "}));\n",
       "\n",
       "            (function(){\n",
       "\n",
       "                var e = null;\n",
       "                if (typeof element == 'undefined') {\n",
       "                    var scripts = document.getElementsByTagName('script');\n",
       "                    var thisScriptTag = scripts[scripts.length-1];\n",
       "                    var parentDiv = thisScriptTag.parentNode;\n",
       "                    e = document.createElement('div');\n",
       "                    parentDiv.appendChild(e);\n",
       "                } else {\n",
       "                    e = element[0];\n",
       "                }\n",
       "\n",
       "                if (typeof requirejs !== 'undefined') {\n",
       "                    // disable load timeout; ipython_app.js is large and can take a while to load.\n",
       "                    requirejs.config({waitSeconds: 0});\n",
       "                }\n",
       "\n",
       "                require(['https://static.turi.com/products/graphlab-create/2.1/canvas/js/ipython_app.js'], function(IPythonApp){\n",
       "                    var app = new IPythonApp();\n",
       "                    app.attachView('sarray','Categorical', {\"ipython\": true, \"sketch\": {\"complete\": true, \"numeric\": false, \"num_unique\": 21, \"num_undefined\": 0, \"progress\": 1.0, \"frequent_items\": {\"meat seafood\": {\"frequency\": 208542, \"value\": \"meat seafood\"}, \"canned goods\": {\"frequency\": 314984, \"value\": \"canned goods\"}, \"dairy eggs\": {\"frequency\": 1402868, \"value\": \"dairy eggs\"}, \"alcohol\": {\"frequency\": 95682, \"value\": \"alcohol\"}, \"snacks\": {\"frequency\": 872279, \"value\": \"snacks\"}, \"deli\": {\"frequency\": 294391, \"value\": \"deli\"}, \"household\": {\"frequency\": 311851, \"value\": \"household\"}, \"beverages\": {\"frequency\": 941742, \"value\": \"beverages\"}, \"pantry\": {\"frequency\": 583704, \"value\": \"pantry\"}, \"dry goods pasta\": {\"frequency\": 256248, \"value\": \"dry goods pasta\"}, \"bulk\": {\"frequency\": 7351, \"value\": \"bulk\"}, \"frozen\": {\"frequency\": 735469, \"value\": \"frozen\"}, \"bakery\": {\"frequency\": 340838, \"value\": \"bakery\"}, \"produce\": {\"frequency\": 2146173, \"value\": \"produce\"}, \"personal care\": {\"frequency\": 183043, \"value\": \"personal care\"}, \"babies\": {\"frequency\": 88369, \"value\": \"babies\"}, \"international\": {\"frequency\": 80296, \"value\": \"international\"}, \"breakfast\": {\"frequency\": 220523, \"value\": \"breakfast\"}, \"other\": {\"frequency\": 13968, \"value\": \"other\"}, \"missing\": {\"frequency\": 23987, \"value\": \"missing\"}, \"pets\": {\"frequency\": 43162, \"value\": \"pets\"}}, \"size\": 9165470}, \"selected_variable\": {\"name\": [\"<SArray>\"], \"dtype\": \"str\", \"view_component\": \"Categorical\", \"view_file\": \"sarray\", \"descriptives\": {\"rows\": 9165470}, \"type\": \"SArray\", \"view_components\": [\"Categorical\"]}, \"histogram\": null}, e);\n",
       "                });\n",
       "            })();\n",
       "        "
      ]
     },
     "metadata": {},
     "output_type": "display_data"
    },
    {
     "data": {
      "application/javascript": [
       "$(\"head\").append($(\"<link/>\").attr({\n",
       "  rel:  \"stylesheet\",\n",
       "  type: \"text/css\",\n",
       "  href: \"//cdnjs.cloudflare.com/ajax/libs/font-awesome/4.1.0/css/font-awesome.min.css\"\n",
       "}));\n",
       "$(\"head\").append($(\"<link/>\").attr({\n",
       "  rel:  \"stylesheet\",\n",
       "  type: \"text/css\",\n",
       "  href: \"https://static.turi.com/products/graphlab-create/2.1/canvas/css/canvas.css\"\n",
       "}));\n",
       "\n",
       "            (function(){\n",
       "\n",
       "                var e = null;\n",
       "                if (typeof element == 'undefined') {\n",
       "                    var scripts = document.getElementsByTagName('script');\n",
       "                    var thisScriptTag = scripts[scripts.length-1];\n",
       "                    var parentDiv = thisScriptTag.parentNode;\n",
       "                    e = document.createElement('div');\n",
       "                    parentDiv.appendChild(e);\n",
       "                } else {\n",
       "                    e = element[0];\n",
       "                }\n",
       "\n",
       "                if (typeof requirejs !== 'undefined') {\n",
       "                    // disable load timeout; ipython_app.js is large and can take a while to load.\n",
       "                    requirejs.config({waitSeconds: 0});\n",
       "                }\n",
       "\n",
       "                require(['https://static.turi.com/products/graphlab-create/2.1/canvas/js/ipython_app.js'], function(IPythonApp){\n",
       "                    var app = new IPythonApp();\n",
       "                    app.attachView('sarray','Categorical', {\"ipython\": true, \"sketch\": {\"complete\": true, \"numeric\": false, \"num_unique\": 21, \"num_undefined\": 0, \"progress\": 1.0, \"frequent_items\": {\"meat seafood\": {\"frequency\": 144964, \"value\": \"meat seafood\"}, \"canned goods\": {\"frequency\": 214348, \"value\": \"canned goods\"}, \"dairy eggs\": {\"frequency\": 1013378, \"value\": \"dairy eggs\"}, \"alcohol\": {\"frequency\": 6193, \"value\": \"alcohol\"}, \"snacks\": {\"frequency\": 420076, \"value\": \"snacks\"}, \"deli\": {\"frequency\": 203026, \"value\": \"deli\"}, \"household\": {\"frequency\": 85290, \"value\": \"household\"}, \"missing\": {\"frequency\": 11782, \"value\": \"missing\"}, \"pantry\": {\"frequency\": 344536, \"value\": \"pantry\"}, \"dry goods pasta\": {\"frequency\": 164801, \"value\": \"dry goods pasta\"}, \"bulk\": {\"frequency\": 8226, \"value\": \"bulk\"}, \"frozen\": {\"frequency\": 358274, \"value\": \"frozen\"}, \"bakery\": {\"frequency\": 206112, \"value\": \"bakery\"}, \"produce\": {\"frequency\": 2420428, \"value\": \"produce\"}, \"beverages\": {\"frequency\": 345653, \"value\": \"beverages\"}, \"babies\": {\"frequency\": 94323, \"value\": \"babies\"}, \"international\": {\"frequency\": 52422, \"value\": \"international\"}, \"breakfast\": {\"frequency\": 107346, \"value\": \"breakfast\"}, \"other\": {\"frequency\": 5119, \"value\": \"other\"}, \"personal care\": {\"frequency\": 57145, \"value\": \"personal care\"}, \"pets\": {\"frequency\": 8544, \"value\": \"pets\"}}, \"size\": 6271986}, \"selected_variable\": {\"name\": [\"<SArray>\"], \"dtype\": \"str\", \"view_component\": \"Categorical\", \"view_file\": \"sarray\", \"descriptives\": {\"rows\": 6271986}, \"type\": \"SArray\", \"view_components\": [\"Categorical\"]}, \"histogram\": null}, e);\n",
       "                });\n",
       "            })();\n",
       "        "
      ]
     },
     "metadata": {},
     "output_type": "display_data"
    },
    {
     "data": {
      "application/javascript": [
       "$(\"head\").append($(\"<link/>\").attr({\n",
       "  rel:  \"stylesheet\",\n",
       "  type: \"text/css\",\n",
       "  href: \"//cdnjs.cloudflare.com/ajax/libs/font-awesome/4.1.0/css/font-awesome.min.css\"\n",
       "}));\n",
       "$(\"head\").append($(\"<link/>\").attr({\n",
       "  rel:  \"stylesheet\",\n",
       "  type: \"text/css\",\n",
       "  href: \"https://static.turi.com/products/graphlab-create/2.1/canvas/css/canvas.css\"\n",
       "}));\n",
       "\n",
       "            (function(){\n",
       "\n",
       "                var e = null;\n",
       "                if (typeof element == 'undefined') {\n",
       "                    var scripts = document.getElementsByTagName('script');\n",
       "                    var thisScriptTag = scripts[scripts.length-1];\n",
       "                    var parentDiv = thisScriptTag.parentNode;\n",
       "                    e = document.createElement('div');\n",
       "                    parentDiv.appendChild(e);\n",
       "                } else {\n",
       "                    e = element[0];\n",
       "                }\n",
       "\n",
       "                if (typeof requirejs !== 'undefined') {\n",
       "                    // disable load timeout; ipython_app.js is large and can take a while to load.\n",
       "                    requirejs.config({waitSeconds: 0});\n",
       "                }\n",
       "\n",
       "                require(['https://static.turi.com/products/graphlab-create/2.1/canvas/js/ipython_app.js'], function(IPythonApp){\n",
       "                    var app = new IPythonApp();\n",
       "                    app.attachView('sarray','Categorical', {\"ipython\": true, \"sketch\": {\"complete\": true, \"numeric\": false, \"num_unique\": 21, \"num_undefined\": 0, \"progress\": 1.0, \"frequent_items\": {\"meat seafood\": {\"frequency\": 231851, \"value\": \"meat seafood\"}, \"canned goods\": {\"frequency\": 350179, \"value\": \"canned goods\"}, \"dairy eggs\": {\"frequency\": 1719238, \"value\": \"dairy eggs\"}, \"pets\": {\"frequency\": 30941, \"value\": \"pets\"}, \"snacks\": {\"frequency\": 891124, \"value\": \"snacks\"}, \"deli\": {\"frequency\": 338470, \"value\": \"deli\"}, \"household\": {\"frequency\": 225107, \"value\": \"household\"}, \"beverages\": {\"frequency\": 832083, \"value\": \"beverages\"}, \"pantry\": {\"frequency\": 602553, \"value\": \"pantry\"}, \"dry goods pasta\": {\"frequency\": 282258, \"value\": \"dry goods pasta\"}, \"bulk\": {\"frequency\": 10678, \"value\": \"bulk\"}, \"frozen\": {\"frequency\": 737924, \"value\": \"frozen\"}, \"bakery\": {\"frequency\": 374382, \"value\": \"bakery\"}, \"produce\": {\"frequency\": 2972729, \"value\": \"produce\"}, \"personal care\": {\"frequency\": 136820, \"value\": \"personal care\"}, \"babies\": {\"frequency\": 124292, \"value\": \"babies\"}, \"international\": {\"frequency\": 87707, \"value\": \"international\"}, \"breakfast\": {\"frequency\": 220272, \"value\": \"breakfast\"}, \"other\": {\"frequency\": 11021, \"value\": \"other\"}, \"missing\": {\"frequency\": 22384, \"value\": \"missing\"}, \"alcohol\": {\"frequency\": 38778, \"value\": \"alcohol\"}}, \"size\": 10240791}, \"selected_variable\": {\"name\": [\"<SArray>\"], \"dtype\": \"str\", \"view_component\": \"Categorical\", \"view_file\": \"sarray\", \"descriptives\": {\"rows\": 10240791}, \"type\": \"SArray\", \"view_components\": [\"Categorical\"]}, \"histogram\": null}, e);\n",
       "                });\n",
       "            })();\n",
       "        "
      ]
     },
     "metadata": {},
     "output_type": "display_data"
    },
    {
     "data": {
      "application/javascript": [
       "$(\"head\").append($(\"<link/>\").attr({\n",
       "  rel:  \"stylesheet\",\n",
       "  type: \"text/css\",\n",
       "  href: \"//cdnjs.cloudflare.com/ajax/libs/font-awesome/4.1.0/css/font-awesome.min.css\"\n",
       "}));\n",
       "$(\"head\").append($(\"<link/>\").attr({\n",
       "  rel:  \"stylesheet\",\n",
       "  type: \"text/css\",\n",
       "  href: \"https://static.turi.com/products/graphlab-create/2.1/canvas/css/canvas.css\"\n",
       "}));\n",
       "\n",
       "            (function(){\n",
       "\n",
       "                var e = null;\n",
       "                if (typeof element == 'undefined') {\n",
       "                    var scripts = document.getElementsByTagName('script');\n",
       "                    var thisScriptTag = scripts[scripts.length-1];\n",
       "                    var parentDiv = thisScriptTag.parentNode;\n",
       "                    e = document.createElement('div');\n",
       "                    parentDiv.appendChild(e);\n",
       "                } else {\n",
       "                    e = element[0];\n",
       "                }\n",
       "\n",
       "                if (typeof requirejs !== 'undefined') {\n",
       "                    // disable load timeout; ipython_app.js is large and can take a while to load.\n",
       "                    requirejs.config({waitSeconds: 0});\n",
       "                }\n",
       "\n",
       "                require(['https://static.turi.com/products/graphlab-create/2.1/canvas/js/ipython_app.js'], function(IPythonApp){\n",
       "                    var app = new IPythonApp();\n",
       "                    app.attachView('sarray','Categorical', {\"ipython\": true, \"sketch\": {\"complete\": true, \"numeric\": false, \"num_unique\": 21, \"num_undefined\": 0, \"progress\": 1.0, \"frequent_items\": {\"meat seafood\": {\"frequency\": 76850, \"value\": \"meat seafood\"}, \"canned goods\": {\"frequency\": 117613, \"value\": \"canned goods\"}, \"dairy eggs\": {\"frequency\": 632948, \"value\": \"dairy eggs\"}, \"alcohol\": {\"frequency\": 1373, \"value\": \"alcohol\"}, \"snacks\": {\"frequency\": 270758, \"value\": \"snacks\"}, \"frozen\": {\"frequency\": 196780, \"value\": \"frozen\"}, \"household\": {\"frequency\": 42504, \"value\": \"household\"}, \"beverages\": {\"frequency\": 189008, \"value\": \"beverages\"}, \"pantry\": {\"frequency\": 194299, \"value\": \"pantry\"}, \"dry goods pasta\": {\"frequency\": 96489, \"value\": \"dry goods pasta\"}, \"bulk\": {\"frequency\": 5629, \"value\": \"bulk\"}, \"deli\": {\"frequency\": 116985, \"value\": \"deli\"}, \"bakery\": {\"frequency\": 128578, \"value\": \"bakery\"}, \"produce\": {\"frequency\": 1458136, \"value\": \"produce\"}, \"personal care\": {\"frequency\": 28573, \"value\": \"personal care\"}, \"babies\": {\"frequency\": 69035, \"value\": \"babies\"}, \"international\": {\"frequency\": 29408, \"value\": \"international\"}, \"breakfast\": {\"frequency\": 69256, \"value\": \"breakfast\"}, \"other\": {\"frequency\": 2845, \"value\": \"other\"}, \"missing\": {\"frequency\": 5444, \"value\": \"missing\"}, \"pets\": {\"frequency\": 2883, \"value\": \"pets\"}}, \"size\": 3735394}, \"selected_variable\": {\"name\": [\"<SArray>\"], \"dtype\": \"str\", \"view_component\": \"Categorical\", \"view_file\": \"sarray\", \"descriptives\": {\"rows\": 3735394}, \"type\": \"SArray\", \"view_components\": [\"Categorical\"]}, \"histogram\": null}, e);\n",
       "                });\n",
       "            })();\n",
       "        "
      ]
     },
     "metadata": {},
     "output_type": "display_data"
    },
    {
     "data": {
      "application/javascript": [
       "$(\"head\").append($(\"<link/>\").attr({\n",
       "  rel:  \"stylesheet\",\n",
       "  type: \"text/css\",\n",
       "  href: \"//cdnjs.cloudflare.com/ajax/libs/font-awesome/4.1.0/css/font-awesome.min.css\"\n",
       "}));\n",
       "$(\"head\").append($(\"<link/>\").attr({\n",
       "  rel:  \"stylesheet\",\n",
       "  type: \"text/css\",\n",
       "  href: \"https://static.turi.com/products/graphlab-create/2.1/canvas/css/canvas.css\"\n",
       "}));\n",
       "\n",
       "            (function(){\n",
       "\n",
       "                var e = null;\n",
       "                if (typeof element == 'undefined') {\n",
       "                    var scripts = document.getElementsByTagName('script');\n",
       "                    var thisScriptTag = scripts[scripts.length-1];\n",
       "                    var parentDiv = thisScriptTag.parentNode;\n",
       "                    e = document.createElement('div');\n",
       "                    parentDiv.appendChild(e);\n",
       "                } else {\n",
       "                    e = element[0];\n",
       "                }\n",
       "\n",
       "                if (typeof requirejs !== 'undefined') {\n",
       "                    // disable load timeout; ipython_app.js is large and can take a while to load.\n",
       "                    requirejs.config({waitSeconds: 0});\n",
       "                }\n",
       "\n",
       "                require(['https://static.turi.com/products/graphlab-create/2.1/canvas/js/ipython_app.js'], function(IPythonApp){\n",
       "                    var app = new IPythonApp();\n",
       "                    app.attachView('sarray','Categorical', {\"ipython\": true, \"sketch\": {\"complete\": true, \"numeric\": false, \"num_unique\": 21, \"num_undefined\": 0, \"progress\": 1.0, \"frequent_items\": {\"meat seafood\": {\"frequency\": 46724, \"value\": \"meat seafood\"}, \"canned goods\": {\"frequency\": 70934, \"value\": \"canned goods\"}, \"dairy eggs\": {\"frequency\": 645584, \"value\": \"dairy eggs\"}, \"alcohol\": {\"frequency\": 11670, \"value\": \"alcohol\"}, \"snacks\": {\"frequency\": 433313, \"value\": \"snacks\"}, \"deli\": {\"frequency\": 98377, \"value\": \"deli\"}, \"household\": {\"frequency\": 73914, \"value\": \"household\"}, \"missing\": {\"frequency\": 5548, \"value\": \"missing\"}, \"pantry\": {\"frequency\": 150485, \"value\": \"pantry\"}, \"dry goods pasta\": {\"frequency\": 66831, \"value\": \"dry goods pasta\"}, \"bulk\": {\"frequency\": 2689, \"value\": \"bulk\"}, \"frozen\": {\"frequency\": 207985, \"value\": \"frozen\"}, \"bakery\": {\"frequency\": 126877, \"value\": \"bakery\"}, \"produce\": {\"frequency\": 481825, \"value\": \"produce\"}, \"beverages\": {\"frequency\": 381643, \"value\": \"beverages\"}, \"babies\": {\"frequency\": 47783, \"value\": \"babies\"}, \"international\": {\"frequency\": 19420, \"value\": \"international\"}, \"breakfast\": {\"frequency\": 92172, \"value\": \"breakfast\"}, \"other\": {\"frequency\": 3338, \"value\": \"other\"}, \"personal care\": {\"frequency\": 41542, \"value\": \"personal care\"}, \"pets\": {\"frequency\": 12194, \"value\": \"pets\"}}, \"size\": 3020848}, \"selected_variable\": {\"name\": [\"<SArray>\"], \"dtype\": \"str\", \"view_component\": \"Categorical\", \"view_file\": \"sarray\", \"descriptives\": {\"rows\": 3020848}, \"type\": \"SArray\", \"view_components\": [\"Categorical\"]}, \"histogram\": null}, e);\n",
       "                });\n",
       "            })();\n",
       "        "
      ]
     },
     "metadata": {},
     "output_type": "display_data"
    }
   ],
   "source": [
    "department_pattern = {}\n",
    "for i in range(table_count.shape[0]):\n",
    "    customer_department = grouped.get_group(i).reset_index()\n",
    "    department = prior_data_da[prior_data_da['user_id'].isin(customer_department['user_id'])]\n",
    "    department_pattern[i] = pd.DataFrame(department.groupby('department', as_index=False)['order_id'].count()).\\\n",
    "                        sort_values('order_id', ascending = False)\n",
    "        \n",
    "    department_plot = graphlab.SFrame(department)\n",
    "    department_plot['department'].show()"
   ]
  },
  {
   "cell_type": "code",
   "execution_count": null,
   "metadata": {
    "collapsed": true
   },
   "outputs": [],
   "source": []
  },
  {
   "cell_type": "code",
   "execution_count": 376,
   "metadata": {},
   "outputs": [
    {
     "data": {
      "text/html": [
       "<div>\n",
       "<style scoped>\n",
       "    .dataframe tbody tr th:only-of-type {\n",
       "        vertical-align: middle;\n",
       "    }\n",
       "\n",
       "    .dataframe tbody tr th {\n",
       "        vertical-align: top;\n",
       "    }\n",
       "\n",
       "    .dataframe thead th {\n",
       "        text-align: right;\n",
       "    }\n",
       "</style>\n",
       "<table border=\"1\" class=\"dataframe\">\n",
       "  <thead>\n",
       "    <tr style=\"text-align: right;\">\n",
       "      <th></th>\n",
       "      <th>department</th>\n",
       "      <th>order_id</th>\n",
       "    </tr>\n",
       "  </thead>\n",
       "  <tbody>\n",
       "    <tr>\n",
       "      <th>19</th>\n",
       "      <td>produce</td>\n",
       "      <td>2146173</td>\n",
       "    </tr>\n",
       "    <tr>\n",
       "      <th>7</th>\n",
       "      <td>dairy eggs</td>\n",
       "      <td>1402868</td>\n",
       "    </tr>\n",
       "    <tr>\n",
       "      <th>3</th>\n",
       "      <td>beverages</td>\n",
       "      <td>941742</td>\n",
       "    </tr>\n",
       "    <tr>\n",
       "      <th>20</th>\n",
       "      <td>snacks</td>\n",
       "      <td>872279</td>\n",
       "    </tr>\n",
       "    <tr>\n",
       "      <th>10</th>\n",
       "      <td>frozen</td>\n",
       "      <td>735469</td>\n",
       "    </tr>\n",
       "    <tr>\n",
       "      <th>16</th>\n",
       "      <td>pantry</td>\n",
       "      <td>583704</td>\n",
       "    </tr>\n",
       "    <tr>\n",
       "      <th>2</th>\n",
       "      <td>bakery</td>\n",
       "      <td>340838</td>\n",
       "    </tr>\n",
       "    <tr>\n",
       "      <th>6</th>\n",
       "      <td>canned goods</td>\n",
       "      <td>314984</td>\n",
       "    </tr>\n",
       "    <tr>\n",
       "      <th>11</th>\n",
       "      <td>household</td>\n",
       "      <td>311851</td>\n",
       "    </tr>\n",
       "    <tr>\n",
       "      <th>8</th>\n",
       "      <td>deli</td>\n",
       "      <td>294391</td>\n",
       "    </tr>\n",
       "    <tr>\n",
       "      <th>9</th>\n",
       "      <td>dry goods pasta</td>\n",
       "      <td>256248</td>\n",
       "    </tr>\n",
       "    <tr>\n",
       "      <th>4</th>\n",
       "      <td>breakfast</td>\n",
       "      <td>220523</td>\n",
       "    </tr>\n",
       "    <tr>\n",
       "      <th>13</th>\n",
       "      <td>meat seafood</td>\n",
       "      <td>208542</td>\n",
       "    </tr>\n",
       "    <tr>\n",
       "      <th>17</th>\n",
       "      <td>personal care</td>\n",
       "      <td>183043</td>\n",
       "    </tr>\n",
       "    <tr>\n",
       "      <th>0</th>\n",
       "      <td>alcohol</td>\n",
       "      <td>95682</td>\n",
       "    </tr>\n",
       "    <tr>\n",
       "      <th>1</th>\n",
       "      <td>babies</td>\n",
       "      <td>88369</td>\n",
       "    </tr>\n",
       "    <tr>\n",
       "      <th>12</th>\n",
       "      <td>international</td>\n",
       "      <td>80296</td>\n",
       "    </tr>\n",
       "    <tr>\n",
       "      <th>18</th>\n",
       "      <td>pets</td>\n",
       "      <td>43162</td>\n",
       "    </tr>\n",
       "    <tr>\n",
       "      <th>14</th>\n",
       "      <td>missing</td>\n",
       "      <td>23987</td>\n",
       "    </tr>\n",
       "    <tr>\n",
       "      <th>15</th>\n",
       "      <td>other</td>\n",
       "      <td>13968</td>\n",
       "    </tr>\n",
       "    <tr>\n",
       "      <th>5</th>\n",
       "      <td>bulk</td>\n",
       "      <td>7351</td>\n",
       "    </tr>\n",
       "  </tbody>\n",
       "</table>\n",
       "</div>"
      ],
      "text/plain": [
       "         department  order_id\n",
       "19          produce   2146173\n",
       "7        dairy eggs   1402868\n",
       "3         beverages    941742\n",
       "20           snacks    872279\n",
       "10           frozen    735469\n",
       "16           pantry    583704\n",
       "2            bakery    340838\n",
       "6      canned goods    314984\n",
       "11        household    311851\n",
       "8              deli    294391\n",
       "9   dry goods pasta    256248\n",
       "4         breakfast    220523\n",
       "13     meat seafood    208542\n",
       "17    personal care    183043\n",
       "0           alcohol     95682\n",
       "1            babies     88369\n",
       "12    international     80296\n",
       "18             pets     43162\n",
       "14          missing     23987\n",
       "15            other     13968\n",
       "5              bulk      7351"
      ]
     },
     "execution_count": 376,
     "metadata": {},
     "output_type": "execute_result"
    }
   ],
   "source": [
    "department_pattern[0]"
   ]
  },
  {
   "cell_type": "code",
   "execution_count": 377,
   "metadata": {},
   "outputs": [
    {
     "data": {
      "text/html": [
       "<div>\n",
       "<style scoped>\n",
       "    .dataframe tbody tr th:only-of-type {\n",
       "        vertical-align: middle;\n",
       "    }\n",
       "\n",
       "    .dataframe tbody tr th {\n",
       "        vertical-align: top;\n",
       "    }\n",
       "\n",
       "    .dataframe thead th {\n",
       "        text-align: right;\n",
       "    }\n",
       "</style>\n",
       "<table border=\"1\" class=\"dataframe\">\n",
       "  <thead>\n",
       "    <tr style=\"text-align: right;\">\n",
       "      <th></th>\n",
       "      <th>department</th>\n",
       "      <th>order_id</th>\n",
       "    </tr>\n",
       "  </thead>\n",
       "  <tbody>\n",
       "    <tr>\n",
       "      <th>19</th>\n",
       "      <td>produce</td>\n",
       "      <td>2420428</td>\n",
       "    </tr>\n",
       "    <tr>\n",
       "      <th>7</th>\n",
       "      <td>dairy eggs</td>\n",
       "      <td>1013378</td>\n",
       "    </tr>\n",
       "    <tr>\n",
       "      <th>20</th>\n",
       "      <td>snacks</td>\n",
       "      <td>420076</td>\n",
       "    </tr>\n",
       "    <tr>\n",
       "      <th>10</th>\n",
       "      <td>frozen</td>\n",
       "      <td>358274</td>\n",
       "    </tr>\n",
       "    <tr>\n",
       "      <th>3</th>\n",
       "      <td>beverages</td>\n",
       "      <td>345653</td>\n",
       "    </tr>\n",
       "    <tr>\n",
       "      <th>16</th>\n",
       "      <td>pantry</td>\n",
       "      <td>344536</td>\n",
       "    </tr>\n",
       "    <tr>\n",
       "      <th>6</th>\n",
       "      <td>canned goods</td>\n",
       "      <td>214348</td>\n",
       "    </tr>\n",
       "    <tr>\n",
       "      <th>2</th>\n",
       "      <td>bakery</td>\n",
       "      <td>206112</td>\n",
       "    </tr>\n",
       "    <tr>\n",
       "      <th>8</th>\n",
       "      <td>deli</td>\n",
       "      <td>203026</td>\n",
       "    </tr>\n",
       "    <tr>\n",
       "      <th>9</th>\n",
       "      <td>dry goods pasta</td>\n",
       "      <td>164801</td>\n",
       "    </tr>\n",
       "    <tr>\n",
       "      <th>13</th>\n",
       "      <td>meat seafood</td>\n",
       "      <td>144964</td>\n",
       "    </tr>\n",
       "    <tr>\n",
       "      <th>4</th>\n",
       "      <td>breakfast</td>\n",
       "      <td>107346</td>\n",
       "    </tr>\n",
       "    <tr>\n",
       "      <th>1</th>\n",
       "      <td>babies</td>\n",
       "      <td>94323</td>\n",
       "    </tr>\n",
       "    <tr>\n",
       "      <th>11</th>\n",
       "      <td>household</td>\n",
       "      <td>85290</td>\n",
       "    </tr>\n",
       "    <tr>\n",
       "      <th>17</th>\n",
       "      <td>personal care</td>\n",
       "      <td>57145</td>\n",
       "    </tr>\n",
       "    <tr>\n",
       "      <th>12</th>\n",
       "      <td>international</td>\n",
       "      <td>52422</td>\n",
       "    </tr>\n",
       "    <tr>\n",
       "      <th>14</th>\n",
       "      <td>missing</td>\n",
       "      <td>11782</td>\n",
       "    </tr>\n",
       "    <tr>\n",
       "      <th>18</th>\n",
       "      <td>pets</td>\n",
       "      <td>8544</td>\n",
       "    </tr>\n",
       "    <tr>\n",
       "      <th>5</th>\n",
       "      <td>bulk</td>\n",
       "      <td>8226</td>\n",
       "    </tr>\n",
       "    <tr>\n",
       "      <th>0</th>\n",
       "      <td>alcohol</td>\n",
       "      <td>6193</td>\n",
       "    </tr>\n",
       "    <tr>\n",
       "      <th>15</th>\n",
       "      <td>other</td>\n",
       "      <td>5119</td>\n",
       "    </tr>\n",
       "  </tbody>\n",
       "</table>\n",
       "</div>"
      ],
      "text/plain": [
       "         department  order_id\n",
       "19          produce   2420428\n",
       "7        dairy eggs   1013378\n",
       "20           snacks    420076\n",
       "10           frozen    358274\n",
       "3         beverages    345653\n",
       "16           pantry    344536\n",
       "6      canned goods    214348\n",
       "2            bakery    206112\n",
       "8              deli    203026\n",
       "9   dry goods pasta    164801\n",
       "13     meat seafood    144964\n",
       "4         breakfast    107346\n",
       "1            babies     94323\n",
       "11        household     85290\n",
       "17    personal care     57145\n",
       "12    international     52422\n",
       "14          missing     11782\n",
       "18             pets      8544\n",
       "5              bulk      8226\n",
       "0           alcohol      6193\n",
       "15            other      5119"
      ]
     },
     "execution_count": 377,
     "metadata": {},
     "output_type": "execute_result"
    }
   ],
   "source": [
    "department_pattern[1]"
   ]
  },
  {
   "cell_type": "code",
   "execution_count": 379,
   "metadata": {
    "scrolled": true
   },
   "outputs": [
    {
     "data": {
      "text/html": [
       "<div>\n",
       "<style scoped>\n",
       "    .dataframe tbody tr th:only-of-type {\n",
       "        vertical-align: middle;\n",
       "    }\n",
       "\n",
       "    .dataframe tbody tr th {\n",
       "        vertical-align: top;\n",
       "    }\n",
       "\n",
       "    .dataframe thead th {\n",
       "        text-align: right;\n",
       "    }\n",
       "</style>\n",
       "<table border=\"1\" class=\"dataframe\">\n",
       "  <thead>\n",
       "    <tr style=\"text-align: right;\">\n",
       "      <th></th>\n",
       "      <th>department</th>\n",
       "      <th>order_id</th>\n",
       "    </tr>\n",
       "  </thead>\n",
       "  <tbody>\n",
       "    <tr>\n",
       "      <th>19</th>\n",
       "      <td>produce</td>\n",
       "      <td>2972729</td>\n",
       "    </tr>\n",
       "    <tr>\n",
       "      <th>7</th>\n",
       "      <td>dairy eggs</td>\n",
       "      <td>1719238</td>\n",
       "    </tr>\n",
       "    <tr>\n",
       "      <th>20</th>\n",
       "      <td>snacks</td>\n",
       "      <td>891124</td>\n",
       "    </tr>\n",
       "    <tr>\n",
       "      <th>3</th>\n",
       "      <td>beverages</td>\n",
       "      <td>832083</td>\n",
       "    </tr>\n",
       "    <tr>\n",
       "      <th>10</th>\n",
       "      <td>frozen</td>\n",
       "      <td>737924</td>\n",
       "    </tr>\n",
       "    <tr>\n",
       "      <th>16</th>\n",
       "      <td>pantry</td>\n",
       "      <td>602553</td>\n",
       "    </tr>\n",
       "    <tr>\n",
       "      <th>2</th>\n",
       "      <td>bakery</td>\n",
       "      <td>374382</td>\n",
       "    </tr>\n",
       "    <tr>\n",
       "      <th>6</th>\n",
       "      <td>canned goods</td>\n",
       "      <td>350179</td>\n",
       "    </tr>\n",
       "    <tr>\n",
       "      <th>8</th>\n",
       "      <td>deli</td>\n",
       "      <td>338470</td>\n",
       "    </tr>\n",
       "    <tr>\n",
       "      <th>9</th>\n",
       "      <td>dry goods pasta</td>\n",
       "      <td>282258</td>\n",
       "    </tr>\n",
       "    <tr>\n",
       "      <th>13</th>\n",
       "      <td>meat seafood</td>\n",
       "      <td>231851</td>\n",
       "    </tr>\n",
       "    <tr>\n",
       "      <th>11</th>\n",
       "      <td>household</td>\n",
       "      <td>225107</td>\n",
       "    </tr>\n",
       "    <tr>\n",
       "      <th>4</th>\n",
       "      <td>breakfast</td>\n",
       "      <td>220272</td>\n",
       "    </tr>\n",
       "    <tr>\n",
       "      <th>17</th>\n",
       "      <td>personal care</td>\n",
       "      <td>136820</td>\n",
       "    </tr>\n",
       "    <tr>\n",
       "      <th>1</th>\n",
       "      <td>babies</td>\n",
       "      <td>124292</td>\n",
       "    </tr>\n",
       "    <tr>\n",
       "      <th>12</th>\n",
       "      <td>international</td>\n",
       "      <td>87707</td>\n",
       "    </tr>\n",
       "    <tr>\n",
       "      <th>0</th>\n",
       "      <td>alcohol</td>\n",
       "      <td>38778</td>\n",
       "    </tr>\n",
       "    <tr>\n",
       "      <th>18</th>\n",
       "      <td>pets</td>\n",
       "      <td>30941</td>\n",
       "    </tr>\n",
       "    <tr>\n",
       "      <th>14</th>\n",
       "      <td>missing</td>\n",
       "      <td>22384</td>\n",
       "    </tr>\n",
       "    <tr>\n",
       "      <th>15</th>\n",
       "      <td>other</td>\n",
       "      <td>11021</td>\n",
       "    </tr>\n",
       "    <tr>\n",
       "      <th>5</th>\n",
       "      <td>bulk</td>\n",
       "      <td>10678</td>\n",
       "    </tr>\n",
       "  </tbody>\n",
       "</table>\n",
       "</div>"
      ],
      "text/plain": [
       "         department  order_id\n",
       "19          produce   2972729\n",
       "7        dairy eggs   1719238\n",
       "20           snacks    891124\n",
       "3         beverages    832083\n",
       "10           frozen    737924\n",
       "16           pantry    602553\n",
       "2            bakery    374382\n",
       "6      canned goods    350179\n",
       "8              deli    338470\n",
       "9   dry goods pasta    282258\n",
       "13     meat seafood    231851\n",
       "11        household    225107\n",
       "4         breakfast    220272\n",
       "17    personal care    136820\n",
       "1            babies    124292\n",
       "12    international     87707\n",
       "0           alcohol     38778\n",
       "18             pets     30941\n",
       "14          missing     22384\n",
       "15            other     11021\n",
       "5              bulk     10678"
      ]
     },
     "execution_count": 379,
     "metadata": {},
     "output_type": "execute_result"
    }
   ],
   "source": [
    "department_pattern[2]"
   ]
  },
  {
   "cell_type": "code",
   "execution_count": null,
   "metadata": {
    "collapsed": true
   },
   "outputs": [],
   "source": []
  }
 ],
 "metadata": {
  "kernelspec": {
   "display_name": "Python 2",
   "language": "python",
   "name": "python2"
  },
  "language_info": {
   "codemirror_mode": {
    "name": "ipython",
    "version": 2
   },
   "file_extension": ".py",
   "mimetype": "text/x-python",
   "name": "python",
   "nbconvert_exporter": "python",
   "pygments_lexer": "ipython2",
   "version": "2.7.13"
  }
 },
 "nbformat": 4,
 "nbformat_minor": 2
}

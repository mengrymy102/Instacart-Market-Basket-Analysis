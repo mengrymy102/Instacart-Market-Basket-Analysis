{
 "cells": [
  {
   "cell_type": "markdown",
   "metadata": {},
   "source": [
    "Goal: recommend products for customers in each group. Groups are derived from customer segment based on aisle.\n",
    "\n",
    "Method: \n",
    "* Popularity Model with user and item feature\n",
    "* association analysis"
   ]
  },
  {
   "cell_type": "code",
   "execution_count": 1,
   "metadata": {
    "collapsed": true
   },
   "outputs": [],
   "source": [
    "import pandas as pd"
   ]
  },
  {
   "cell_type": "code",
   "execution_count": 233,
   "metadata": {
    "collapsed": true
   },
   "outputs": [],
   "source": [
    "pd.set_option('max_colwidth',600)"
   ]
  },
  {
   "cell_type": "code",
   "execution_count": null,
   "metadata": {
    "collapsed": true
   },
   "outputs": [],
   "source": [
    "prior_data_da = pd.read_csv('/Users/mengruiyin/Desktop/project/prior_data_da.csv')"
   ]
  },
  {
   "cell_type": "code",
   "execution_count": null,
   "metadata": {
    "collapsed": true
   },
   "outputs": [],
   "source": [
    "aisle_list = pd.read_csv('aisle_list.csv')"
   ]
  },
  {
   "cell_type": "markdown",
   "metadata": {},
   "source": [
    "## Popularity Model"
   ]
  },
  {
   "cell_type": "code",
   "execution_count": 179,
   "metadata": {
    "collapsed": true
   },
   "outputs": [],
   "source": [
    "def user_item(df):\n",
    "    user_data = df[['user_id','order_dow','order_hour_of_day',\n",
    "                           'add_to_cart_order']]\n",
    "    item_data = df[['product_name', 'department', 'aisle', 'reordered']]\n",
    "    return user_data,item_data"
   ]
  },
  {
   "cell_type": "code",
   "execution_count": 191,
   "metadata": {
    "collapsed": true
   },
   "outputs": [],
   "source": [
    "product_count = prior_data_da.groupby(['user_id', 'product_name'], as_index = False)['order_id'].count()"
   ]
  },
  {
   "cell_type": "code",
   "execution_count": 192,
   "metadata": {
    "collapsed": true
   },
   "outputs": [],
   "source": [
    "product_count.rename(columns = {'order_id':'count'}, inplace = True)"
   ]
  },
  {
   "cell_type": "code",
   "execution_count": 196,
   "metadata": {
    "collapsed": true
   },
   "outputs": [],
   "source": [
    "pop_data = prior_data_da.merge(product_count, on = ['user_id', 'product_name']).drop_duplicates(['user_id', 'product_name'])"
   ]
  },
  {
   "cell_type": "code",
   "execution_count": 205,
   "metadata": {
    "scrolled": true
   },
   "outputs": [
    {
     "data": {
      "text/html": [
       "<div>\n",
       "<style scoped>\n",
       "    .dataframe tbody tr th:only-of-type {\n",
       "        vertical-align: middle;\n",
       "    }\n",
       "\n",
       "    .dataframe tbody tr th {\n",
       "        vertical-align: top;\n",
       "    }\n",
       "\n",
       "    .dataframe thead th {\n",
       "        text-align: right;\n",
       "    }\n",
       "</style>\n",
       "<table border=\"1\" class=\"dataframe\">\n",
       "  <thead>\n",
       "    <tr style=\"text-align: right;\">\n",
       "      <th></th>\n",
       "      <th>Unnamed: 0</th>\n",
       "      <th>order_id</th>\n",
       "      <th>user_id</th>\n",
       "      <th>eval_set</th>\n",
       "      <th>order_number</th>\n",
       "      <th>order_dow</th>\n",
       "      <th>order_hour_of_day</th>\n",
       "      <th>days_since_prior_order</th>\n",
       "      <th>product_id</th>\n",
       "      <th>add_to_cart_order</th>\n",
       "      <th>reordered</th>\n",
       "      <th>product_name</th>\n",
       "      <th>aisle_id</th>\n",
       "      <th>department_id</th>\n",
       "      <th>department</th>\n",
       "      <th>aisle</th>\n",
       "      <th>count</th>\n",
       "    </tr>\n",
       "  </thead>\n",
       "  <tbody>\n",
       "    <tr>\n",
       "      <th>0</th>\n",
       "      <td>0</td>\n",
       "      <td>2539329</td>\n",
       "      <td>1</td>\n",
       "      <td>prior</td>\n",
       "      <td>1</td>\n",
       "      <td>2</td>\n",
       "      <td>8</td>\n",
       "      <td>NaN</td>\n",
       "      <td>196</td>\n",
       "      <td>1</td>\n",
       "      <td>0</td>\n",
       "      <td>Soda</td>\n",
       "      <td>77</td>\n",
       "      <td>7</td>\n",
       "      <td>beverages</td>\n",
       "      <td>soft drinks</td>\n",
       "      <td>10</td>\n",
       "    </tr>\n",
       "    <tr>\n",
       "      <th>10</th>\n",
       "      <td>1</td>\n",
       "      <td>2539329</td>\n",
       "      <td>1</td>\n",
       "      <td>prior</td>\n",
       "      <td>1</td>\n",
       "      <td>2</td>\n",
       "      <td>8</td>\n",
       "      <td>NaN</td>\n",
       "      <td>14084</td>\n",
       "      <td>2</td>\n",
       "      <td>0</td>\n",
       "      <td>Organic Unsweetened Vanilla Almond Milk</td>\n",
       "      <td>91</td>\n",
       "      <td>16</td>\n",
       "      <td>dairy eggs</td>\n",
       "      <td>soy lactosefree</td>\n",
       "      <td>1</td>\n",
       "    </tr>\n",
       "    <tr>\n",
       "      <th>11</th>\n",
       "      <td>2</td>\n",
       "      <td>2539329</td>\n",
       "      <td>1</td>\n",
       "      <td>prior</td>\n",
       "      <td>1</td>\n",
       "      <td>2</td>\n",
       "      <td>8</td>\n",
       "      <td>NaN</td>\n",
       "      <td>12427</td>\n",
       "      <td>3</td>\n",
       "      <td>0</td>\n",
       "      <td>Original Beef Jerky</td>\n",
       "      <td>23</td>\n",
       "      <td>19</td>\n",
       "      <td>snacks</td>\n",
       "      <td>popcorn jerky</td>\n",
       "      <td>10</td>\n",
       "    </tr>\n",
       "    <tr>\n",
       "      <th>21</th>\n",
       "      <td>3</td>\n",
       "      <td>2539329</td>\n",
       "      <td>1</td>\n",
       "      <td>prior</td>\n",
       "      <td>1</td>\n",
       "      <td>2</td>\n",
       "      <td>8</td>\n",
       "      <td>NaN</td>\n",
       "      <td>26088</td>\n",
       "      <td>4</td>\n",
       "      <td>0</td>\n",
       "      <td>Aged White Cheddar Popcorn</td>\n",
       "      <td>23</td>\n",
       "      <td>19</td>\n",
       "      <td>snacks</td>\n",
       "      <td>popcorn jerky</td>\n",
       "      <td>2</td>\n",
       "    </tr>\n",
       "    <tr>\n",
       "      <th>23</th>\n",
       "      <td>4</td>\n",
       "      <td>2539329</td>\n",
       "      <td>1</td>\n",
       "      <td>prior</td>\n",
       "      <td>1</td>\n",
       "      <td>2</td>\n",
       "      <td>8</td>\n",
       "      <td>NaN</td>\n",
       "      <td>26405</td>\n",
       "      <td>5</td>\n",
       "      <td>0</td>\n",
       "      <td>XL Pick-A-Size Paper Towel Rolls</td>\n",
       "      <td>54</td>\n",
       "      <td>17</td>\n",
       "      <td>household</td>\n",
       "      <td>paper goods</td>\n",
       "      <td>2</td>\n",
       "    </tr>\n",
       "    <tr>\n",
       "      <th>25</th>\n",
       "      <td>6</td>\n",
       "      <td>2398795</td>\n",
       "      <td>1</td>\n",
       "      <td>prior</td>\n",
       "      <td>2</td>\n",
       "      <td>3</td>\n",
       "      <td>7</td>\n",
       "      <td>15.0</td>\n",
       "      <td>10258</td>\n",
       "      <td>2</td>\n",
       "      <td>0</td>\n",
       "      <td>Pistachios</td>\n",
       "      <td>117</td>\n",
       "      <td>19</td>\n",
       "      <td>snacks</td>\n",
       "      <td>nuts seeds dried fruit</td>\n",
       "      <td>9</td>\n",
       "    </tr>\n",
       "    <tr>\n",
       "      <th>34</th>\n",
       "      <td>8</td>\n",
       "      <td>2398795</td>\n",
       "      <td>1</td>\n",
       "      <td>prior</td>\n",
       "      <td>2</td>\n",
       "      <td>3</td>\n",
       "      <td>7</td>\n",
       "      <td>15.0</td>\n",
       "      <td>13176</td>\n",
       "      <td>4</td>\n",
       "      <td>0</td>\n",
       "      <td>Bag of Organic Bananas</td>\n",
       "      <td>24</td>\n",
       "      <td>4</td>\n",
       "      <td>produce</td>\n",
       "      <td>fresh fruits</td>\n",
       "      <td>2</td>\n",
       "    </tr>\n",
       "    <tr>\n",
       "      <th>36</th>\n",
       "      <td>10</td>\n",
       "      <td>2398795</td>\n",
       "      <td>1</td>\n",
       "      <td>prior</td>\n",
       "      <td>2</td>\n",
       "      <td>3</td>\n",
       "      <td>7</td>\n",
       "      <td>15.0</td>\n",
       "      <td>13032</td>\n",
       "      <td>6</td>\n",
       "      <td>0</td>\n",
       "      <td>Cinnamon Toast Crunch</td>\n",
       "      <td>121</td>\n",
       "      <td>14</td>\n",
       "      <td>breakfast</td>\n",
       "      <td>cereal</td>\n",
       "      <td>3</td>\n",
       "    </tr>\n",
       "    <tr>\n",
       "      <th>39</th>\n",
       "      <td>14</td>\n",
       "      <td>473747</td>\n",
       "      <td>1</td>\n",
       "      <td>prior</td>\n",
       "      <td>3</td>\n",
       "      <td>3</td>\n",
       "      <td>12</td>\n",
       "      <td>21.0</td>\n",
       "      <td>25133</td>\n",
       "      <td>4</td>\n",
       "      <td>0</td>\n",
       "      <td>Organic String Cheese</td>\n",
       "      <td>21</td>\n",
       "      <td>16</td>\n",
       "      <td>dairy eggs</td>\n",
       "      <td>packaged cheese</td>\n",
       "      <td>8</td>\n",
       "    </tr>\n",
       "    <tr>\n",
       "      <th>47</th>\n",
       "      <td>15</td>\n",
       "      <td>473747</td>\n",
       "      <td>1</td>\n",
       "      <td>prior</td>\n",
       "      <td>3</td>\n",
       "      <td>3</td>\n",
       "      <td>12</td>\n",
       "      <td>21.0</td>\n",
       "      <td>30450</td>\n",
       "      <td>5</td>\n",
       "      <td>0</td>\n",
       "      <td>Creamy Almond Butter</td>\n",
       "      <td>88</td>\n",
       "      <td>13</td>\n",
       "      <td>pantry</td>\n",
       "      <td>spreads</td>\n",
       "      <td>1</td>\n",
       "    </tr>\n",
       "    <tr>\n",
       "      <th>48</th>\n",
       "      <td>25</td>\n",
       "      <td>431534</td>\n",
       "      <td>1</td>\n",
       "      <td>prior</td>\n",
       "      <td>5</td>\n",
       "      <td>4</td>\n",
       "      <td>15</td>\n",
       "      <td>28.0</td>\n",
       "      <td>10326</td>\n",
       "      <td>5</td>\n",
       "      <td>0</td>\n",
       "      <td>Organic Fuji Apples</td>\n",
       "      <td>24</td>\n",
       "      <td>4</td>\n",
       "      <td>produce</td>\n",
       "      <td>fresh fruits</td>\n",
       "      <td>1</td>\n",
       "    </tr>\n",
       "    <tr>\n",
       "      <th>49</th>\n",
       "      <td>26</td>\n",
       "      <td>431534</td>\n",
       "      <td>1</td>\n",
       "      <td>prior</td>\n",
       "      <td>5</td>\n",
       "      <td>4</td>\n",
       "      <td>15</td>\n",
       "      <td>28.0</td>\n",
       "      <td>17122</td>\n",
       "      <td>6</td>\n",
       "      <td>0</td>\n",
       "      <td>Honeycrisp Apples</td>\n",
       "      <td>24</td>\n",
       "      <td>4</td>\n",
       "      <td>produce</td>\n",
       "      <td>fresh fruits</td>\n",
       "      <td>1</td>\n",
       "    </tr>\n",
       "    <tr>\n",
       "      <th>50</th>\n",
       "      <td>27</td>\n",
       "      <td>431534</td>\n",
       "      <td>1</td>\n",
       "      <td>prior</td>\n",
       "      <td>5</td>\n",
       "      <td>4</td>\n",
       "      <td>15</td>\n",
       "      <td>28.0</td>\n",
       "      <td>41787</td>\n",
       "      <td>7</td>\n",
       "      <td>0</td>\n",
       "      <td>Bartlett Pears</td>\n",
       "      <td>24</td>\n",
       "      <td>4</td>\n",
       "      <td>produce</td>\n",
       "      <td>fresh fruits</td>\n",
       "      <td>1</td>\n",
       "    </tr>\n",
       "    <tr>\n",
       "      <th>51</th>\n",
       "      <td>42</td>\n",
       "      <td>3108588</td>\n",
       "      <td>1</td>\n",
       "      <td>prior</td>\n",
       "      <td>8</td>\n",
       "      <td>1</td>\n",
       "      <td>14</td>\n",
       "      <td>14.0</td>\n",
       "      <td>46149</td>\n",
       "      <td>5</td>\n",
       "      <td>0</td>\n",
       "      <td>Zero Calorie Cola</td>\n",
       "      <td>77</td>\n",
       "      <td>7</td>\n",
       "      <td>beverages</td>\n",
       "      <td>soft drinks</td>\n",
       "      <td>3</td>\n",
       "    </tr>\n",
       "    <tr>\n",
       "      <th>54</th>\n",
       "      <td>43</td>\n",
       "      <td>3108588</td>\n",
       "      <td>1</td>\n",
       "      <td>prior</td>\n",
       "      <td>8</td>\n",
       "      <td>1</td>\n",
       "      <td>14</td>\n",
       "      <td>14.0</td>\n",
       "      <td>49235</td>\n",
       "      <td>6</td>\n",
       "      <td>0</td>\n",
       "      <td>Organic Half &amp; Half</td>\n",
       "      <td>53</td>\n",
       "      <td>16</td>\n",
       "      <td>dairy eggs</td>\n",
       "      <td>cream</td>\n",
       "      <td>2</td>\n",
       "    </tr>\n",
       "    <tr>\n",
       "      <th>56</th>\n",
       "      <td>52</td>\n",
       "      <td>2550362</td>\n",
       "      <td>1</td>\n",
       "      <td>prior</td>\n",
       "      <td>10</td>\n",
       "      <td>4</td>\n",
       "      <td>8</td>\n",
       "      <td>30.0</td>\n",
       "      <td>39657</td>\n",
       "      <td>3</td>\n",
       "      <td>0</td>\n",
       "      <td>Milk Chocolate Almonds</td>\n",
       "      <td>45</td>\n",
       "      <td>19</td>\n",
       "      <td>snacks</td>\n",
       "      <td>candy chocolate</td>\n",
       "      <td>1</td>\n",
       "    </tr>\n",
       "    <tr>\n",
       "      <th>57</th>\n",
       "      <td>53</td>\n",
       "      <td>2550362</td>\n",
       "      <td>1</td>\n",
       "      <td>prior</td>\n",
       "      <td>10</td>\n",
       "      <td>4</td>\n",
       "      <td>8</td>\n",
       "      <td>30.0</td>\n",
       "      <td>38928</td>\n",
       "      <td>4</td>\n",
       "      <td>0</td>\n",
       "      <td>0% Greek Strained Yogurt</td>\n",
       "      <td>120</td>\n",
       "      <td>16</td>\n",
       "      <td>dairy eggs</td>\n",
       "      <td>yogurt</td>\n",
       "      <td>1</td>\n",
       "    </tr>\n",
       "    <tr>\n",
       "      <th>58</th>\n",
       "      <td>56</td>\n",
       "      <td>2550362</td>\n",
       "      <td>1</td>\n",
       "      <td>prior</td>\n",
       "      <td>10</td>\n",
       "      <td>4</td>\n",
       "      <td>8</td>\n",
       "      <td>30.0</td>\n",
       "      <td>35951</td>\n",
       "      <td>7</td>\n",
       "      <td>0</td>\n",
       "      <td>Organic Unsweetened Almond Milk</td>\n",
       "      <td>91</td>\n",
       "      <td>16</td>\n",
       "      <td>dairy eggs</td>\n",
       "      <td>soy lactosefree</td>\n",
       "      <td>1</td>\n",
       "    </tr>\n",
       "    <tr>\n",
       "      <th>59</th>\n",
       "      <td>59</td>\n",
       "      <td>2168274</td>\n",
       "      <td>2</td>\n",
       "      <td>prior</td>\n",
       "      <td>1</td>\n",
       "      <td>2</td>\n",
       "      <td>11</td>\n",
       "      <td>NaN</td>\n",
       "      <td>32792</td>\n",
       "      <td>1</td>\n",
       "      <td>0</td>\n",
       "      <td>Chipotle Beef &amp; Pork Realstick</td>\n",
       "      <td>23</td>\n",
       "      <td>19</td>\n",
       "      <td>snacks</td>\n",
       "      <td>popcorn jerky</td>\n",
       "      <td>9</td>\n",
       "    </tr>\n",
       "    <tr>\n",
       "      <th>68</th>\n",
       "      <td>60</td>\n",
       "      <td>2168274</td>\n",
       "      <td>2</td>\n",
       "      <td>prior</td>\n",
       "      <td>1</td>\n",
       "      <td>2</td>\n",
       "      <td>11</td>\n",
       "      <td>NaN</td>\n",
       "      <td>47766</td>\n",
       "      <td>2</td>\n",
       "      <td>0</td>\n",
       "      <td>Organic Avocado</td>\n",
       "      <td>24</td>\n",
       "      <td>4</td>\n",
       "      <td>produce</td>\n",
       "      <td>fresh fruits</td>\n",
       "      <td>4</td>\n",
       "    </tr>\n",
       "    <tr>\n",
       "      <th>72</th>\n",
       "      <td>61</td>\n",
       "      <td>2168274</td>\n",
       "      <td>2</td>\n",
       "      <td>prior</td>\n",
       "      <td>1</td>\n",
       "      <td>2</td>\n",
       "      <td>11</td>\n",
       "      <td>NaN</td>\n",
       "      <td>20574</td>\n",
       "      <td>3</td>\n",
       "      <td>0</td>\n",
       "      <td>Roasted Turkey</td>\n",
       "      <td>96</td>\n",
       "      <td>20</td>\n",
       "      <td>deli</td>\n",
       "      <td>lunch meat</td>\n",
       "      <td>2</td>\n",
       "    </tr>\n",
       "    <tr>\n",
       "      <th>74</th>\n",
       "      <td>62</td>\n",
       "      <td>2168274</td>\n",
       "      <td>2</td>\n",
       "      <td>prior</td>\n",
       "      <td>1</td>\n",
       "      <td>2</td>\n",
       "      <td>11</td>\n",
       "      <td>NaN</td>\n",
       "      <td>12000</td>\n",
       "      <td>4</td>\n",
       "      <td>0</td>\n",
       "      <td>Baked Organic Sea Salt Crunchy Pea Snack</td>\n",
       "      <td>72</td>\n",
       "      <td>13</td>\n",
       "      <td>pantry</td>\n",
       "      <td>condiments</td>\n",
       "      <td>5</td>\n",
       "    </tr>\n",
       "    <tr>\n",
       "      <th>79</th>\n",
       "      <td>63</td>\n",
       "      <td>2168274</td>\n",
       "      <td>2</td>\n",
       "      <td>prior</td>\n",
       "      <td>1</td>\n",
       "      <td>2</td>\n",
       "      <td>11</td>\n",
       "      <td>NaN</td>\n",
       "      <td>48110</td>\n",
       "      <td>5</td>\n",
       "      <td>0</td>\n",
       "      <td>Thin Stackers Brown Rice Lightly Salted</td>\n",
       "      <td>78</td>\n",
       "      <td>19</td>\n",
       "      <td>snacks</td>\n",
       "      <td>crackers</td>\n",
       "      <td>2</td>\n",
       "    </tr>\n",
       "    <tr>\n",
       "      <th>81</th>\n",
       "      <td>64</td>\n",
       "      <td>2168274</td>\n",
       "      <td>2</td>\n",
       "      <td>prior</td>\n",
       "      <td>1</td>\n",
       "      <td>2</td>\n",
       "      <td>11</td>\n",
       "      <td>NaN</td>\n",
       "      <td>22474</td>\n",
       "      <td>6</td>\n",
       "      <td>0</td>\n",
       "      <td>Cheddar Bunnies Snack Crackers</td>\n",
       "      <td>78</td>\n",
       "      <td>19</td>\n",
       "      <td>snacks</td>\n",
       "      <td>crackers</td>\n",
       "      <td>3</td>\n",
       "    </tr>\n",
       "    <tr>\n",
       "      <th>84</th>\n",
       "      <td>65</td>\n",
       "      <td>2168274</td>\n",
       "      <td>2</td>\n",
       "      <td>prior</td>\n",
       "      <td>1</td>\n",
       "      <td>2</td>\n",
       "      <td>11</td>\n",
       "      <td>NaN</td>\n",
       "      <td>16589</td>\n",
       "      <td>7</td>\n",
       "      <td>0</td>\n",
       "      <td>Plantain Chips</td>\n",
       "      <td>107</td>\n",
       "      <td>19</td>\n",
       "      <td>snacks</td>\n",
       "      <td>chips pretzels</td>\n",
       "      <td>5</td>\n",
       "    </tr>\n",
       "    <tr>\n",
       "      <th>89</th>\n",
       "      <td>66</td>\n",
       "      <td>2168274</td>\n",
       "      <td>2</td>\n",
       "      <td>prior</td>\n",
       "      <td>1</td>\n",
       "      <td>2</td>\n",
       "      <td>11</td>\n",
       "      <td>NaN</td>\n",
       "      <td>35917</td>\n",
       "      <td>8</td>\n",
       "      <td>0</td>\n",
       "      <td>Organic Just Concord Grape Juice</td>\n",
       "      <td>98</td>\n",
       "      <td>7</td>\n",
       "      <td>beverages</td>\n",
       "      <td>juice nectars</td>\n",
       "      <td>1</td>\n",
       "    </tr>\n",
       "    <tr>\n",
       "      <th>90</th>\n",
       "      <td>67</td>\n",
       "      <td>2168274</td>\n",
       "      <td>2</td>\n",
       "      <td>prior</td>\n",
       "      <td>1</td>\n",
       "      <td>2</td>\n",
       "      <td>11</td>\n",
       "      <td>NaN</td>\n",
       "      <td>27344</td>\n",
       "      <td>9</td>\n",
       "      <td>0</td>\n",
       "      <td>Uncured Genoa Salami</td>\n",
       "      <td>96</td>\n",
       "      <td>20</td>\n",
       "      <td>deli</td>\n",
       "      <td>lunch meat</td>\n",
       "      <td>2</td>\n",
       "    </tr>\n",
       "    <tr>\n",
       "      <th>92</th>\n",
       "      <td>68</td>\n",
       "      <td>2168274</td>\n",
       "      <td>2</td>\n",
       "      <td>prior</td>\n",
       "      <td>1</td>\n",
       "      <td>2</td>\n",
       "      <td>11</td>\n",
       "      <td>NaN</td>\n",
       "      <td>30489</td>\n",
       "      <td>10</td>\n",
       "      <td>0</td>\n",
       "      <td>Original Hummus</td>\n",
       "      <td>67</td>\n",
       "      <td>20</td>\n",
       "      <td>deli</td>\n",
       "      <td>fresh dips tapenades</td>\n",
       "      <td>1</td>\n",
       "    </tr>\n",
       "    <tr>\n",
       "      <th>93</th>\n",
       "      <td>69</td>\n",
       "      <td>2168274</td>\n",
       "      <td>2</td>\n",
       "      <td>prior</td>\n",
       "      <td>1</td>\n",
       "      <td>2</td>\n",
       "      <td>11</td>\n",
       "      <td>NaN</td>\n",
       "      <td>27966</td>\n",
       "      <td>11</td>\n",
       "      <td>0</td>\n",
       "      <td>Organic Raspberries</td>\n",
       "      <td>123</td>\n",
       "      <td>4</td>\n",
       "      <td>produce</td>\n",
       "      <td>packaged vegetables fruits</td>\n",
       "      <td>2</td>\n",
       "    </tr>\n",
       "    <tr>\n",
       "      <th>95</th>\n",
       "      <td>70</td>\n",
       "      <td>2168274</td>\n",
       "      <td>2</td>\n",
       "      <td>prior</td>\n",
       "      <td>1</td>\n",
       "      <td>2</td>\n",
       "      <td>11</td>\n",
       "      <td>NaN</td>\n",
       "      <td>13176</td>\n",
       "      <td>12</td>\n",
       "      <td>0</td>\n",
       "      <td>Bag of Organic Bananas</td>\n",
       "      <td>24</td>\n",
       "      <td>4</td>\n",
       "      <td>produce</td>\n",
       "      <td>fresh fruits</td>\n",
       "      <td>1</td>\n",
       "    </tr>\n",
       "    <tr>\n",
       "      <th>...</th>\n",
       "      <td>...</td>\n",
       "      <td>...</td>\n",
       "      <td>...</td>\n",
       "      <td>...</td>\n",
       "      <td>...</td>\n",
       "      <td>...</td>\n",
       "      <td>...</td>\n",
       "      <td>...</td>\n",
       "      <td>...</td>\n",
       "      <td>...</td>\n",
       "      <td>...</td>\n",
       "      <td>...</td>\n",
       "      <td>...</td>\n",
       "      <td>...</td>\n",
       "      <td>...</td>\n",
       "      <td>...</td>\n",
       "      <td>...</td>\n",
       "    </tr>\n",
       "    <tr>\n",
       "      <th>32434450</th>\n",
       "      <td>32434423</td>\n",
       "      <td>550836</td>\n",
       "      <td>206209</td>\n",
       "      <td>prior</td>\n",
       "      <td>7</td>\n",
       "      <td>2</td>\n",
       "      <td>13</td>\n",
       "      <td>9.0</td>\n",
       "      <td>48697</td>\n",
       "      <td>6</td>\n",
       "      <td>0</td>\n",
       "      <td>Canola Oil</td>\n",
       "      <td>19</td>\n",
       "      <td>13</td>\n",
       "      <td>pantry</td>\n",
       "      <td>oils vinegars</td>\n",
       "      <td>1</td>\n",
       "    </tr>\n",
       "    <tr>\n",
       "      <th>32434451</th>\n",
       "      <td>32434424</td>\n",
       "      <td>550836</td>\n",
       "      <td>206209</td>\n",
       "      <td>prior</td>\n",
       "      <td>7</td>\n",
       "      <td>2</td>\n",
       "      <td>13</td>\n",
       "      <td>9.0</td>\n",
       "      <td>6825</td>\n",
       "      <td>7</td>\n",
       "      <td>0</td>\n",
       "      <td>Breakfast Veggie Bacon Strips</td>\n",
       "      <td>42</td>\n",
       "      <td>1</td>\n",
       "      <td>frozen</td>\n",
       "      <td>frozen vegan vegetarian</td>\n",
       "      <td>1</td>\n",
       "    </tr>\n",
       "    <tr>\n",
       "      <th>32434452</th>\n",
       "      <td>32434425</td>\n",
       "      <td>550836</td>\n",
       "      <td>206209</td>\n",
       "      <td>prior</td>\n",
       "      <td>7</td>\n",
       "      <td>2</td>\n",
       "      <td>13</td>\n",
       "      <td>9.0</td>\n",
       "      <td>44325</td>\n",
       "      <td>8</td>\n",
       "      <td>0</td>\n",
       "      <td>Elbow Macaroni Pasta</td>\n",
       "      <td>131</td>\n",
       "      <td>9</td>\n",
       "      <td>dry goods pasta</td>\n",
       "      <td>dry pasta</td>\n",
       "      <td>1</td>\n",
       "    </tr>\n",
       "    <tr>\n",
       "      <th>32434453</th>\n",
       "      <td>32434426</td>\n",
       "      <td>550836</td>\n",
       "      <td>206209</td>\n",
       "      <td>prior</td>\n",
       "      <td>7</td>\n",
       "      <td>2</td>\n",
       "      <td>13</td>\n",
       "      <td>9.0</td>\n",
       "      <td>23909</td>\n",
       "      <td>9</td>\n",
       "      <td>0</td>\n",
       "      <td>2% Reduced Fat Milk</td>\n",
       "      <td>84</td>\n",
       "      <td>16</td>\n",
       "      <td>dairy eggs</td>\n",
       "      <td>milk</td>\n",
       "      <td>1</td>\n",
       "    </tr>\n",
       "    <tr>\n",
       "      <th>32434454</th>\n",
       "      <td>32434427</td>\n",
       "      <td>550836</td>\n",
       "      <td>206209</td>\n",
       "      <td>prior</td>\n",
       "      <td>7</td>\n",
       "      <td>2</td>\n",
       "      <td>13</td>\n",
       "      <td>9.0</td>\n",
       "      <td>4461</td>\n",
       "      <td>10</td>\n",
       "      <td>0</td>\n",
       "      <td>Organic Raw Unfiltered Apple Cider Vinegar</td>\n",
       "      <td>19</td>\n",
       "      <td>13</td>\n",
       "      <td>pantry</td>\n",
       "      <td>oils vinegars</td>\n",
       "      <td>1</td>\n",
       "    </tr>\n",
       "    <tr>\n",
       "      <th>32434455</th>\n",
       "      <td>32434433</td>\n",
       "      <td>2129269</td>\n",
       "      <td>206209</td>\n",
       "      <td>prior</td>\n",
       "      <td>8</td>\n",
       "      <td>3</td>\n",
       "      <td>17</td>\n",
       "      <td>22.0</td>\n",
       "      <td>17500</td>\n",
       "      <td>6</td>\n",
       "      <td>0</td>\n",
       "      <td>Cinch Sak Extra Large 33 Gallon Trash Bags</td>\n",
       "      <td>60</td>\n",
       "      <td>17</td>\n",
       "      <td>household</td>\n",
       "      <td>trash bags liners</td>\n",
       "      <td>1</td>\n",
       "    </tr>\n",
       "    <tr>\n",
       "      <th>32434456</th>\n",
       "      <td>32434434</td>\n",
       "      <td>2129269</td>\n",
       "      <td>206209</td>\n",
       "      <td>prior</td>\n",
       "      <td>8</td>\n",
       "      <td>3</td>\n",
       "      <td>17</td>\n",
       "      <td>22.0</td>\n",
       "      <td>36056</td>\n",
       "      <td>7</td>\n",
       "      <td>0</td>\n",
       "      <td>Freezer Slider Bags</td>\n",
       "      <td>85</td>\n",
       "      <td>17</td>\n",
       "      <td>household</td>\n",
       "      <td>food storage</td>\n",
       "      <td>1</td>\n",
       "    </tr>\n",
       "    <tr>\n",
       "      <th>32434457</th>\n",
       "      <td>32434435</td>\n",
       "      <td>2129269</td>\n",
       "      <td>206209</td>\n",
       "      <td>prior</td>\n",
       "      <td>8</td>\n",
       "      <td>3</td>\n",
       "      <td>17</td>\n",
       "      <td>22.0</td>\n",
       "      <td>12376</td>\n",
       "      <td>8</td>\n",
       "      <td>0</td>\n",
       "      <td>Sourdough Demi Baguette</td>\n",
       "      <td>112</td>\n",
       "      <td>3</td>\n",
       "      <td>bakery</td>\n",
       "      <td>bread</td>\n",
       "      <td>1</td>\n",
       "    </tr>\n",
       "    <tr>\n",
       "      <th>32434458</th>\n",
       "      <td>32434437</td>\n",
       "      <td>2129269</td>\n",
       "      <td>206209</td>\n",
       "      <td>prior</td>\n",
       "      <td>8</td>\n",
       "      <td>3</td>\n",
       "      <td>17</td>\n",
       "      <td>22.0</td>\n",
       "      <td>33129</td>\n",
       "      <td>10</td>\n",
       "      <td>0</td>\n",
       "      <td>Classic Hummus</td>\n",
       "      <td>67</td>\n",
       "      <td>20</td>\n",
       "      <td>deli</td>\n",
       "      <td>fresh dips tapenades</td>\n",
       "      <td>2</td>\n",
       "    </tr>\n",
       "    <tr>\n",
       "      <th>32434460</th>\n",
       "      <td>32434438</td>\n",
       "      <td>2129269</td>\n",
       "      <td>206209</td>\n",
       "      <td>prior</td>\n",
       "      <td>8</td>\n",
       "      <td>3</td>\n",
       "      <td>17</td>\n",
       "      <td>22.0</td>\n",
       "      <td>14870</td>\n",
       "      <td>11</td>\n",
       "      <td>0</td>\n",
       "      <td>Icelandic Style Fat Free Plain Yogurt</td>\n",
       "      <td>120</td>\n",
       "      <td>16</td>\n",
       "      <td>dairy eggs</td>\n",
       "      <td>yogurt</td>\n",
       "      <td>1</td>\n",
       "    </tr>\n",
       "    <tr>\n",
       "      <th>32434461</th>\n",
       "      <td>32434439</td>\n",
       "      <td>2129269</td>\n",
       "      <td>206209</td>\n",
       "      <td>prior</td>\n",
       "      <td>8</td>\n",
       "      <td>3</td>\n",
       "      <td>17</td>\n",
       "      <td>22.0</td>\n",
       "      <td>16066</td>\n",
       "      <td>12</td>\n",
       "      <td>0</td>\n",
       "      <td>Unsalted Tops Saltine Crackers</td>\n",
       "      <td>78</td>\n",
       "      <td>19</td>\n",
       "      <td>snacks</td>\n",
       "      <td>crackers</td>\n",
       "      <td>1</td>\n",
       "    </tr>\n",
       "    <tr>\n",
       "      <th>32434462</th>\n",
       "      <td>32434445</td>\n",
       "      <td>2266710</td>\n",
       "      <td>206209</td>\n",
       "      <td>prior</td>\n",
       "      <td>10</td>\n",
       "      <td>5</td>\n",
       "      <td>18</td>\n",
       "      <td>29.0</td>\n",
       "      <td>15700</td>\n",
       "      <td>3</td>\n",
       "      <td>0</td>\n",
       "      <td>Cheddar Cheese Nut Thins Cracker Snacks</td>\n",
       "      <td>78</td>\n",
       "      <td>19</td>\n",
       "      <td>snacks</td>\n",
       "      <td>crackers</td>\n",
       "      <td>3</td>\n",
       "    </tr>\n",
       "    <tr>\n",
       "      <th>32434465</th>\n",
       "      <td>32434446</td>\n",
       "      <td>2266710</td>\n",
       "      <td>206209</td>\n",
       "      <td>prior</td>\n",
       "      <td>10</td>\n",
       "      <td>5</td>\n",
       "      <td>18</td>\n",
       "      <td>29.0</td>\n",
       "      <td>26503</td>\n",
       "      <td>4</td>\n",
       "      <td>0</td>\n",
       "      <td>Classic Vegetables Whole  Kernel Corn</td>\n",
       "      <td>116</td>\n",
       "      <td>1</td>\n",
       "      <td>frozen</td>\n",
       "      <td>frozen produce</td>\n",
       "      <td>1</td>\n",
       "    </tr>\n",
       "    <tr>\n",
       "      <th>32434466</th>\n",
       "      <td>32434448</td>\n",
       "      <td>2266710</td>\n",
       "      <td>206209</td>\n",
       "      <td>prior</td>\n",
       "      <td>10</td>\n",
       "      <td>5</td>\n",
       "      <td>18</td>\n",
       "      <td>29.0</td>\n",
       "      <td>23800</td>\n",
       "      <td>6</td>\n",
       "      <td>0</td>\n",
       "      <td>Whole Grain Cereal</td>\n",
       "      <td>121</td>\n",
       "      <td>14</td>\n",
       "      <td>breakfast</td>\n",
       "      <td>cereal</td>\n",
       "      <td>2</td>\n",
       "    </tr>\n",
       "    <tr>\n",
       "      <th>32434468</th>\n",
       "      <td>32434449</td>\n",
       "      <td>2266710</td>\n",
       "      <td>206209</td>\n",
       "      <td>prior</td>\n",
       "      <td>10</td>\n",
       "      <td>5</td>\n",
       "      <td>18</td>\n",
       "      <td>29.0</td>\n",
       "      <td>24852</td>\n",
       "      <td>7</td>\n",
       "      <td>0</td>\n",
       "      <td>Banana</td>\n",
       "      <td>24</td>\n",
       "      <td>4</td>\n",
       "      <td>produce</td>\n",
       "      <td>fresh fruits</td>\n",
       "      <td>4</td>\n",
       "    </tr>\n",
       "    <tr>\n",
       "      <th>32434472</th>\n",
       "      <td>32434450</td>\n",
       "      <td>2266710</td>\n",
       "      <td>206209</td>\n",
       "      <td>prior</td>\n",
       "      <td>10</td>\n",
       "      <td>5</td>\n",
       "      <td>18</td>\n",
       "      <td>29.0</td>\n",
       "      <td>13838</td>\n",
       "      <td>8</td>\n",
       "      <td>0</td>\n",
       "      <td>Natural Free &amp; Clear Dish Liquid</td>\n",
       "      <td>74</td>\n",
       "      <td>17</td>\n",
       "      <td>household</td>\n",
       "      <td>dish detergents</td>\n",
       "      <td>2</td>\n",
       "    </tr>\n",
       "    <tr>\n",
       "      <th>32434474</th>\n",
       "      <td>32434451</td>\n",
       "      <td>2266710</td>\n",
       "      <td>206209</td>\n",
       "      <td>prior</td>\n",
       "      <td>10</td>\n",
       "      <td>5</td>\n",
       "      <td>18</td>\n",
       "      <td>29.0</td>\n",
       "      <td>31130</td>\n",
       "      <td>9</td>\n",
       "      <td>0</td>\n",
       "      <td>Sea Salt Flakes Original</td>\n",
       "      <td>104</td>\n",
       "      <td>13</td>\n",
       "      <td>pantry</td>\n",
       "      <td>spices seasonings</td>\n",
       "      <td>1</td>\n",
       "    </tr>\n",
       "    <tr>\n",
       "      <th>32434475</th>\n",
       "      <td>32434458</td>\n",
       "      <td>1854736</td>\n",
       "      <td>206209</td>\n",
       "      <td>prior</td>\n",
       "      <td>11</td>\n",
       "      <td>4</td>\n",
       "      <td>10</td>\n",
       "      <td>30.0</td>\n",
       "      <td>40310</td>\n",
       "      <td>7</td>\n",
       "      <td>0</td>\n",
       "      <td>Oven Roasted Turkey Breast</td>\n",
       "      <td>96</td>\n",
       "      <td>20</td>\n",
       "      <td>deli</td>\n",
       "      <td>lunch meat</td>\n",
       "      <td>1</td>\n",
       "    </tr>\n",
       "    <tr>\n",
       "      <th>32434476</th>\n",
       "      <td>32434459</td>\n",
       "      <td>1854736</td>\n",
       "      <td>206209</td>\n",
       "      <td>prior</td>\n",
       "      <td>11</td>\n",
       "      <td>4</td>\n",
       "      <td>10</td>\n",
       "      <td>30.0</td>\n",
       "      <td>48370</td>\n",
       "      <td>8</td>\n",
       "      <td>0</td>\n",
       "      <td>Sensitive Toilet Paper</td>\n",
       "      <td>54</td>\n",
       "      <td>17</td>\n",
       "      <td>household</td>\n",
       "      <td>paper goods</td>\n",
       "      <td>1</td>\n",
       "    </tr>\n",
       "    <tr>\n",
       "      <th>32434477</th>\n",
       "      <td>32434467</td>\n",
       "      <td>626363</td>\n",
       "      <td>206209</td>\n",
       "      <td>prior</td>\n",
       "      <td>12</td>\n",
       "      <td>1</td>\n",
       "      <td>12</td>\n",
       "      <td>18.0</td>\n",
       "      <td>26209</td>\n",
       "      <td>8</td>\n",
       "      <td>0</td>\n",
       "      <td>Limes</td>\n",
       "      <td>24</td>\n",
       "      <td>4</td>\n",
       "      <td>produce</td>\n",
       "      <td>fresh fruits</td>\n",
       "      <td>1</td>\n",
       "    </tr>\n",
       "    <tr>\n",
       "      <th>32434478</th>\n",
       "      <td>32434474</td>\n",
       "      <td>626363</td>\n",
       "      <td>206209</td>\n",
       "      <td>prior</td>\n",
       "      <td>12</td>\n",
       "      <td>1</td>\n",
       "      <td>12</td>\n",
       "      <td>18.0</td>\n",
       "      <td>20590</td>\n",
       "      <td>15</td>\n",
       "      <td>0</td>\n",
       "      <td>Disinfecting Wipes Fresh Scent</td>\n",
       "      <td>114</td>\n",
       "      <td>17</td>\n",
       "      <td>household</td>\n",
       "      <td>cleaning products</td>\n",
       "      <td>1</td>\n",
       "    </tr>\n",
       "    <tr>\n",
       "      <th>32434479</th>\n",
       "      <td>32434475</td>\n",
       "      <td>626363</td>\n",
       "      <td>206209</td>\n",
       "      <td>prior</td>\n",
       "      <td>12</td>\n",
       "      <td>1</td>\n",
       "      <td>12</td>\n",
       "      <td>18.0</td>\n",
       "      <td>16168</td>\n",
       "      <td>16</td>\n",
       "      <td>0</td>\n",
       "      <td>Large Organic Omega3 Brown Eggs</td>\n",
       "      <td>86</td>\n",
       "      <td>16</td>\n",
       "      <td>dairy eggs</td>\n",
       "      <td>eggs</td>\n",
       "      <td>2</td>\n",
       "    </tr>\n",
       "    <tr>\n",
       "      <th>32434481</th>\n",
       "      <td>32434476</td>\n",
       "      <td>626363</td>\n",
       "      <td>206209</td>\n",
       "      <td>prior</td>\n",
       "      <td>12</td>\n",
       "      <td>1</td>\n",
       "      <td>12</td>\n",
       "      <td>18.0</td>\n",
       "      <td>33351</td>\n",
       "      <td>17</td>\n",
       "      <td>0</td>\n",
       "      <td>Light Multi-Grain English Muffins</td>\n",
       "      <td>93</td>\n",
       "      <td>3</td>\n",
       "      <td>bakery</td>\n",
       "      <td>breakfast bakery</td>\n",
       "      <td>1</td>\n",
       "    </tr>\n",
       "    <tr>\n",
       "      <th>32434482</th>\n",
       "      <td>32434477</td>\n",
       "      <td>626363</td>\n",
       "      <td>206209</td>\n",
       "      <td>prior</td>\n",
       "      <td>12</td>\n",
       "      <td>1</td>\n",
       "      <td>12</td>\n",
       "      <td>18.0</td>\n",
       "      <td>5622</td>\n",
       "      <td>18</td>\n",
       "      <td>0</td>\n",
       "      <td>Cocktail Tomatoes on the Vine</td>\n",
       "      <td>123</td>\n",
       "      <td>4</td>\n",
       "      <td>produce</td>\n",
       "      <td>packaged vegetables fruits</td>\n",
       "      <td>1</td>\n",
       "    </tr>\n",
       "    <tr>\n",
       "      <th>32434483</th>\n",
       "      <td>32434479</td>\n",
       "      <td>626363</td>\n",
       "      <td>206209</td>\n",
       "      <td>prior</td>\n",
       "      <td>12</td>\n",
       "      <td>1</td>\n",
       "      <td>12</td>\n",
       "      <td>18.0</td>\n",
       "      <td>14727</td>\n",
       "      <td>20</td>\n",
       "      <td>0</td>\n",
       "      <td>Yellow Onion</td>\n",
       "      <td>123</td>\n",
       "      <td>4</td>\n",
       "      <td>produce</td>\n",
       "      <td>packaged vegetables fruits</td>\n",
       "      <td>1</td>\n",
       "    </tr>\n",
       "    <tr>\n",
       "      <th>32434484</th>\n",
       "      <td>32434483</td>\n",
       "      <td>2977660</td>\n",
       "      <td>206209</td>\n",
       "      <td>prior</td>\n",
       "      <td>13</td>\n",
       "      <td>1</td>\n",
       "      <td>12</td>\n",
       "      <td>7.0</td>\n",
       "      <td>39216</td>\n",
       "      <td>4</td>\n",
       "      <td>0</td>\n",
       "      <td>Original Multigrain Spoonfuls Cereal</td>\n",
       "      <td>121</td>\n",
       "      <td>14</td>\n",
       "      <td>breakfast</td>\n",
       "      <td>cereal</td>\n",
       "      <td>1</td>\n",
       "    </tr>\n",
       "    <tr>\n",
       "      <th>32434485</th>\n",
       "      <td>32434485</td>\n",
       "      <td>2977660</td>\n",
       "      <td>206209</td>\n",
       "      <td>prior</td>\n",
       "      <td>13</td>\n",
       "      <td>1</td>\n",
       "      <td>12</td>\n",
       "      <td>7.0</td>\n",
       "      <td>38730</td>\n",
       "      <td>6</td>\n",
       "      <td>0</td>\n",
       "      <td>Brownie Crunch High Protein Bar</td>\n",
       "      <td>3</td>\n",
       "      <td>19</td>\n",
       "      <td>snacks</td>\n",
       "      <td>energy granola bars</td>\n",
       "      <td>1</td>\n",
       "    </tr>\n",
       "    <tr>\n",
       "      <th>32434486</th>\n",
       "      <td>32434486</td>\n",
       "      <td>2977660</td>\n",
       "      <td>206209</td>\n",
       "      <td>prior</td>\n",
       "      <td>13</td>\n",
       "      <td>1</td>\n",
       "      <td>12</td>\n",
       "      <td>7.0</td>\n",
       "      <td>31477</td>\n",
       "      <td>7</td>\n",
       "      <td>0</td>\n",
       "      <td>High Protein Bar Chunky Peanut Butter</td>\n",
       "      <td>3</td>\n",
       "      <td>19</td>\n",
       "      <td>snacks</td>\n",
       "      <td>energy granola bars</td>\n",
       "      <td>1</td>\n",
       "    </tr>\n",
       "    <tr>\n",
       "      <th>32434487</th>\n",
       "      <td>32434487</td>\n",
       "      <td>2977660</td>\n",
       "      <td>206209</td>\n",
       "      <td>prior</td>\n",
       "      <td>13</td>\n",
       "      <td>1</td>\n",
       "      <td>12</td>\n",
       "      <td>7.0</td>\n",
       "      <td>6567</td>\n",
       "      <td>8</td>\n",
       "      <td>0</td>\n",
       "      <td>Chocolate Peanut Butter Protein Bar</td>\n",
       "      <td>3</td>\n",
       "      <td>19</td>\n",
       "      <td>snacks</td>\n",
       "      <td>energy granola bars</td>\n",
       "      <td>1</td>\n",
       "    </tr>\n",
       "    <tr>\n",
       "      <th>32434488</th>\n",
       "      <td>32434488</td>\n",
       "      <td>2977660</td>\n",
       "      <td>206209</td>\n",
       "      <td>prior</td>\n",
       "      <td>13</td>\n",
       "      <td>1</td>\n",
       "      <td>12</td>\n",
       "      <td>7.0</td>\n",
       "      <td>22920</td>\n",
       "      <td>9</td>\n",
       "      <td>0</td>\n",
       "      <td>Roasted &amp; Salted Shelled Pistachios</td>\n",
       "      <td>117</td>\n",
       "      <td>19</td>\n",
       "      <td>snacks</td>\n",
       "      <td>nuts seeds dried fruit</td>\n",
       "      <td>1</td>\n",
       "    </tr>\n",
       "  </tbody>\n",
       "</table>\n",
       "<p>13307953 rows × 17 columns</p>\n",
       "</div>"
      ],
      "text/plain": [
       "          Unnamed: 0  order_id  user_id eval_set  order_number  order_dow  \\\n",
       "0                  0   2539329        1    prior             1          2   \n",
       "10                 1   2539329        1    prior             1          2   \n",
       "11                 2   2539329        1    prior             1          2   \n",
       "21                 3   2539329        1    prior             1          2   \n",
       "23                 4   2539329        1    prior             1          2   \n",
       "25                 6   2398795        1    prior             2          3   \n",
       "34                 8   2398795        1    prior             2          3   \n",
       "36                10   2398795        1    prior             2          3   \n",
       "39                14    473747        1    prior             3          3   \n",
       "47                15    473747        1    prior             3          3   \n",
       "48                25    431534        1    prior             5          4   \n",
       "49                26    431534        1    prior             5          4   \n",
       "50                27    431534        1    prior             5          4   \n",
       "51                42   3108588        1    prior             8          1   \n",
       "54                43   3108588        1    prior             8          1   \n",
       "56                52   2550362        1    prior            10          4   \n",
       "57                53   2550362        1    prior            10          4   \n",
       "58                56   2550362        1    prior            10          4   \n",
       "59                59   2168274        2    prior             1          2   \n",
       "68                60   2168274        2    prior             1          2   \n",
       "72                61   2168274        2    prior             1          2   \n",
       "74                62   2168274        2    prior             1          2   \n",
       "79                63   2168274        2    prior             1          2   \n",
       "81                64   2168274        2    prior             1          2   \n",
       "84                65   2168274        2    prior             1          2   \n",
       "89                66   2168274        2    prior             1          2   \n",
       "90                67   2168274        2    prior             1          2   \n",
       "92                68   2168274        2    prior             1          2   \n",
       "93                69   2168274        2    prior             1          2   \n",
       "95                70   2168274        2    prior             1          2   \n",
       "...              ...       ...      ...      ...           ...        ...   \n",
       "32434450    32434423    550836   206209    prior             7          2   \n",
       "32434451    32434424    550836   206209    prior             7          2   \n",
       "32434452    32434425    550836   206209    prior             7          2   \n",
       "32434453    32434426    550836   206209    prior             7          2   \n",
       "32434454    32434427    550836   206209    prior             7          2   \n",
       "32434455    32434433   2129269   206209    prior             8          3   \n",
       "32434456    32434434   2129269   206209    prior             8          3   \n",
       "32434457    32434435   2129269   206209    prior             8          3   \n",
       "32434458    32434437   2129269   206209    prior             8          3   \n",
       "32434460    32434438   2129269   206209    prior             8          3   \n",
       "32434461    32434439   2129269   206209    prior             8          3   \n",
       "32434462    32434445   2266710   206209    prior            10          5   \n",
       "32434465    32434446   2266710   206209    prior            10          5   \n",
       "32434466    32434448   2266710   206209    prior            10          5   \n",
       "32434468    32434449   2266710   206209    prior            10          5   \n",
       "32434472    32434450   2266710   206209    prior            10          5   \n",
       "32434474    32434451   2266710   206209    prior            10          5   \n",
       "32434475    32434458   1854736   206209    prior            11          4   \n",
       "32434476    32434459   1854736   206209    prior            11          4   \n",
       "32434477    32434467    626363   206209    prior            12          1   \n",
       "32434478    32434474    626363   206209    prior            12          1   \n",
       "32434479    32434475    626363   206209    prior            12          1   \n",
       "32434481    32434476    626363   206209    prior            12          1   \n",
       "32434482    32434477    626363   206209    prior            12          1   \n",
       "32434483    32434479    626363   206209    prior            12          1   \n",
       "32434484    32434483   2977660   206209    prior            13          1   \n",
       "32434485    32434485   2977660   206209    prior            13          1   \n",
       "32434486    32434486   2977660   206209    prior            13          1   \n",
       "32434487    32434487   2977660   206209    prior            13          1   \n",
       "32434488    32434488   2977660   206209    prior            13          1   \n",
       "\n",
       "          order_hour_of_day  days_since_prior_order  product_id  \\\n",
       "0                         8                     NaN         196   \n",
       "10                        8                     NaN       14084   \n",
       "11                        8                     NaN       12427   \n",
       "21                        8                     NaN       26088   \n",
       "23                        8                     NaN       26405   \n",
       "25                        7                    15.0       10258   \n",
       "34                        7                    15.0       13176   \n",
       "36                        7                    15.0       13032   \n",
       "39                       12                    21.0       25133   \n",
       "47                       12                    21.0       30450   \n",
       "48                       15                    28.0       10326   \n",
       "49                       15                    28.0       17122   \n",
       "50                       15                    28.0       41787   \n",
       "51                       14                    14.0       46149   \n",
       "54                       14                    14.0       49235   \n",
       "56                        8                    30.0       39657   \n",
       "57                        8                    30.0       38928   \n",
       "58                        8                    30.0       35951   \n",
       "59                       11                     NaN       32792   \n",
       "68                       11                     NaN       47766   \n",
       "72                       11                     NaN       20574   \n",
       "74                       11                     NaN       12000   \n",
       "79                       11                     NaN       48110   \n",
       "81                       11                     NaN       22474   \n",
       "84                       11                     NaN       16589   \n",
       "89                       11                     NaN       35917   \n",
       "90                       11                     NaN       27344   \n",
       "92                       11                     NaN       30489   \n",
       "93                       11                     NaN       27966   \n",
       "95                       11                     NaN       13176   \n",
       "...                     ...                     ...         ...   \n",
       "32434450                 13                     9.0       48697   \n",
       "32434451                 13                     9.0        6825   \n",
       "32434452                 13                     9.0       44325   \n",
       "32434453                 13                     9.0       23909   \n",
       "32434454                 13                     9.0        4461   \n",
       "32434455                 17                    22.0       17500   \n",
       "32434456                 17                    22.0       36056   \n",
       "32434457                 17                    22.0       12376   \n",
       "32434458                 17                    22.0       33129   \n",
       "32434460                 17                    22.0       14870   \n",
       "32434461                 17                    22.0       16066   \n",
       "32434462                 18                    29.0       15700   \n",
       "32434465                 18                    29.0       26503   \n",
       "32434466                 18                    29.0       23800   \n",
       "32434468                 18                    29.0       24852   \n",
       "32434472                 18                    29.0       13838   \n",
       "32434474                 18                    29.0       31130   \n",
       "32434475                 10                    30.0       40310   \n",
       "32434476                 10                    30.0       48370   \n",
       "32434477                 12                    18.0       26209   \n",
       "32434478                 12                    18.0       20590   \n",
       "32434479                 12                    18.0       16168   \n",
       "32434481                 12                    18.0       33351   \n",
       "32434482                 12                    18.0        5622   \n",
       "32434483                 12                    18.0       14727   \n",
       "32434484                 12                     7.0       39216   \n",
       "32434485                 12                     7.0       38730   \n",
       "32434486                 12                     7.0       31477   \n",
       "32434487                 12                     7.0        6567   \n",
       "32434488                 12                     7.0       22920   \n",
       "\n",
       "          add_to_cart_order  reordered  \\\n",
       "0                         1          0   \n",
       "10                        2          0   \n",
       "11                        3          0   \n",
       "21                        4          0   \n",
       "23                        5          0   \n",
       "25                        2          0   \n",
       "34                        4          0   \n",
       "36                        6          0   \n",
       "39                        4          0   \n",
       "47                        5          0   \n",
       "48                        5          0   \n",
       "49                        6          0   \n",
       "50                        7          0   \n",
       "51                        5          0   \n",
       "54                        6          0   \n",
       "56                        3          0   \n",
       "57                        4          0   \n",
       "58                        7          0   \n",
       "59                        1          0   \n",
       "68                        2          0   \n",
       "72                        3          0   \n",
       "74                        4          0   \n",
       "79                        5          0   \n",
       "81                        6          0   \n",
       "84                        7          0   \n",
       "89                        8          0   \n",
       "90                        9          0   \n",
       "92                       10          0   \n",
       "93                       11          0   \n",
       "95                       12          0   \n",
       "...                     ...        ...   \n",
       "32434450                  6          0   \n",
       "32434451                  7          0   \n",
       "32434452                  8          0   \n",
       "32434453                  9          0   \n",
       "32434454                 10          0   \n",
       "32434455                  6          0   \n",
       "32434456                  7          0   \n",
       "32434457                  8          0   \n",
       "32434458                 10          0   \n",
       "32434460                 11          0   \n",
       "32434461                 12          0   \n",
       "32434462                  3          0   \n",
       "32434465                  4          0   \n",
       "32434466                  6          0   \n",
       "32434468                  7          0   \n",
       "32434472                  8          0   \n",
       "32434474                  9          0   \n",
       "32434475                  7          0   \n",
       "32434476                  8          0   \n",
       "32434477                  8          0   \n",
       "32434478                 15          0   \n",
       "32434479                 16          0   \n",
       "32434481                 17          0   \n",
       "32434482                 18          0   \n",
       "32434483                 20          0   \n",
       "32434484                  4          0   \n",
       "32434485                  6          0   \n",
       "32434486                  7          0   \n",
       "32434487                  8          0   \n",
       "32434488                  9          0   \n",
       "\n",
       "                                        product_name  aisle_id  department_id  \\\n",
       "0                                               Soda        77              7   \n",
       "10           Organic Unsweetened Vanilla Almond Milk        91             16   \n",
       "11                               Original Beef Jerky        23             19   \n",
       "21                        Aged White Cheddar Popcorn        23             19   \n",
       "23                  XL Pick-A-Size Paper Towel Rolls        54             17   \n",
       "25                                        Pistachios       117             19   \n",
       "34                            Bag of Organic Bananas        24              4   \n",
       "36                             Cinnamon Toast Crunch       121             14   \n",
       "39                             Organic String Cheese        21             16   \n",
       "47                              Creamy Almond Butter        88             13   \n",
       "48                               Organic Fuji Apples        24              4   \n",
       "49                                 Honeycrisp Apples        24              4   \n",
       "50                                    Bartlett Pears        24              4   \n",
       "51                                 Zero Calorie Cola        77              7   \n",
       "54                               Organic Half & Half        53             16   \n",
       "56                            Milk Chocolate Almonds        45             19   \n",
       "57                          0% Greek Strained Yogurt       120             16   \n",
       "58                   Organic Unsweetened Almond Milk        91             16   \n",
       "59                    Chipotle Beef & Pork Realstick        23             19   \n",
       "68                                   Organic Avocado        24              4   \n",
       "72                                    Roasted Turkey        96             20   \n",
       "74          Baked Organic Sea Salt Crunchy Pea Snack        72             13   \n",
       "79           Thin Stackers Brown Rice Lightly Salted        78             19   \n",
       "81                    Cheddar Bunnies Snack Crackers        78             19   \n",
       "84                                    Plantain Chips       107             19   \n",
       "89                  Organic Just Concord Grape Juice        98              7   \n",
       "90                              Uncured Genoa Salami        96             20   \n",
       "92                                   Original Hummus        67             20   \n",
       "93                               Organic Raspberries       123              4   \n",
       "95                            Bag of Organic Bananas        24              4   \n",
       "...                                              ...       ...            ...   \n",
       "32434450                                  Canola Oil        19             13   \n",
       "32434451               Breakfast Veggie Bacon Strips        42              1   \n",
       "32434452                        Elbow Macaroni Pasta       131              9   \n",
       "32434453                         2% Reduced Fat Milk        84             16   \n",
       "32434454  Organic Raw Unfiltered Apple Cider Vinegar        19             13   \n",
       "32434455  Cinch Sak Extra Large 33 Gallon Trash Bags        60             17   \n",
       "32434456                         Freezer Slider Bags        85             17   \n",
       "32434457                     Sourdough Demi Baguette       112              3   \n",
       "32434458                              Classic Hummus        67             20   \n",
       "32434460       Icelandic Style Fat Free Plain Yogurt       120             16   \n",
       "32434461              Unsalted Tops Saltine Crackers        78             19   \n",
       "32434462     Cheddar Cheese Nut Thins Cracker Snacks        78             19   \n",
       "32434465       Classic Vegetables Whole  Kernel Corn       116              1   \n",
       "32434466                          Whole Grain Cereal       121             14   \n",
       "32434468                                      Banana        24              4   \n",
       "32434472            Natural Free & Clear Dish Liquid        74             17   \n",
       "32434474                    Sea Salt Flakes Original       104             13   \n",
       "32434475                  Oven Roasted Turkey Breast        96             20   \n",
       "32434476                      Sensitive Toilet Paper        54             17   \n",
       "32434477                                       Limes        24              4   \n",
       "32434478              Disinfecting Wipes Fresh Scent       114             17   \n",
       "32434479             Large Organic Omega3 Brown Eggs        86             16   \n",
       "32434481           Light Multi-Grain English Muffins        93              3   \n",
       "32434482               Cocktail Tomatoes on the Vine       123              4   \n",
       "32434483                                Yellow Onion       123              4   \n",
       "32434484        Original Multigrain Spoonfuls Cereal       121             14   \n",
       "32434485             Brownie Crunch High Protein Bar         3             19   \n",
       "32434486       High Protein Bar Chunky Peanut Butter         3             19   \n",
       "32434487         Chocolate Peanut Butter Protein Bar         3             19   \n",
       "32434488         Roasted & Salted Shelled Pistachios       117             19   \n",
       "\n",
       "               department                       aisle  count  \n",
       "0               beverages                 soft drinks     10  \n",
       "10             dairy eggs             soy lactosefree      1  \n",
       "11                 snacks               popcorn jerky     10  \n",
       "21                 snacks               popcorn jerky      2  \n",
       "23              household                 paper goods      2  \n",
       "25                 snacks      nuts seeds dried fruit      9  \n",
       "34                produce                fresh fruits      2  \n",
       "36              breakfast                      cereal      3  \n",
       "39             dairy eggs             packaged cheese      8  \n",
       "47                 pantry                     spreads      1  \n",
       "48                produce                fresh fruits      1  \n",
       "49                produce                fresh fruits      1  \n",
       "50                produce                fresh fruits      1  \n",
       "51              beverages                 soft drinks      3  \n",
       "54             dairy eggs                       cream      2  \n",
       "56                 snacks             candy chocolate      1  \n",
       "57             dairy eggs                      yogurt      1  \n",
       "58             dairy eggs             soy lactosefree      1  \n",
       "59                 snacks               popcorn jerky      9  \n",
       "68                produce                fresh fruits      4  \n",
       "72                   deli                  lunch meat      2  \n",
       "74                 pantry                  condiments      5  \n",
       "79                 snacks                    crackers      2  \n",
       "81                 snacks                    crackers      3  \n",
       "84                 snacks              chips pretzels      5  \n",
       "89              beverages               juice nectars      1  \n",
       "90                   deli                  lunch meat      2  \n",
       "92                   deli        fresh dips tapenades      1  \n",
       "93                produce  packaged vegetables fruits      2  \n",
       "95                produce                fresh fruits      1  \n",
       "...                   ...                         ...    ...  \n",
       "32434450           pantry               oils vinegars      1  \n",
       "32434451           frozen     frozen vegan vegetarian      1  \n",
       "32434452  dry goods pasta                   dry pasta      1  \n",
       "32434453       dairy eggs                        milk      1  \n",
       "32434454           pantry               oils vinegars      1  \n",
       "32434455        household           trash bags liners      1  \n",
       "32434456        household                food storage      1  \n",
       "32434457           bakery                       bread      1  \n",
       "32434458             deli        fresh dips tapenades      2  \n",
       "32434460       dairy eggs                      yogurt      1  \n",
       "32434461           snacks                    crackers      1  \n",
       "32434462           snacks                    crackers      3  \n",
       "32434465           frozen              frozen produce      1  \n",
       "32434466        breakfast                      cereal      2  \n",
       "32434468          produce                fresh fruits      4  \n",
       "32434472        household             dish detergents      2  \n",
       "32434474           pantry           spices seasonings      1  \n",
       "32434475             deli                  lunch meat      1  \n",
       "32434476        household                 paper goods      1  \n",
       "32434477          produce                fresh fruits      1  \n",
       "32434478        household           cleaning products      1  \n",
       "32434479       dairy eggs                        eggs      2  \n",
       "32434481           bakery            breakfast bakery      1  \n",
       "32434482          produce  packaged vegetables fruits      1  \n",
       "32434483          produce  packaged vegetables fruits      1  \n",
       "32434484        breakfast                      cereal      1  \n",
       "32434485           snacks         energy granola bars      1  \n",
       "32434486           snacks         energy granola bars      1  \n",
       "32434487           snacks         energy granola bars      1  \n",
       "32434488           snacks      nuts seeds dried fruit      1  \n",
       "\n",
       "[13307953 rows x 17 columns]"
      ]
     },
     "execution_count": 205,
     "metadata": {},
     "output_type": "execute_result"
    }
   ],
   "source": [
    "pop_data"
   ]
  },
  {
   "cell_type": "code",
   "execution_count": 171,
   "metadata": {
    "collapsed": true
   },
   "outputs": [],
   "source": [
    "grouped2 = aisle_list.groupby('topic')\n",
    "aisle_group = {}\n",
    "#user_group = {}\n",
    "for i in range(5):\n",
    "    aisle_group[i] = grouped2.get_group(i)"
   ]
  },
  {
   "cell_type": "code",
   "execution_count": 199,
   "metadata": {
    "collapsed": true
   },
   "outputs": [],
   "source": [
    "cluster = {}\n",
    "for index in range(5):\n",
    "    cluster[index] = pop_data[pop_data['user_id'].isin(aisle_group[index].user_id.values)]"
   ]
  },
  {
   "cell_type": "code",
   "execution_count": 200,
   "metadata": {
    "collapsed": true,
    "scrolled": true
   },
   "outputs": [],
   "source": [
    "aisle0 = graphlab.SFrame(cluster[0])"
   ]
  },
  {
   "cell_type": "code",
   "execution_count": 212,
   "metadata": {
    "collapsed": true
   },
   "outputs": [],
   "source": [
    "user_data0, item_data0 = user_item(aisle0)"
   ]
  },
  {
   "cell_type": "code",
   "execution_count": 247,
   "metadata": {
    "collapsed": true
   },
   "outputs": [
    {
     "data": {
      "text/html": [
       "<pre>Recsys training: model = factorization_recommender</pre>"
      ],
      "text/plain": [
       "Recsys training: model = factorization_recommender"
      ]
     },
     "metadata": {},
     "output_type": "display_data"
    },
    {
     "data": {
      "text/html": [
       "<pre>Preparing data set.</pre>"
      ],
      "text/plain": [
       "Preparing data set."
      ]
     },
     "metadata": {},
     "output_type": "display_data"
    },
    {
     "data": {
      "text/html": [
       "<pre>    Data has 2712864 observations with 45067 users and 46409 items.</pre>"
      ],
      "text/plain": [
       "    Data has 2712864 observations with 45067 users and 46409 items."
      ]
     },
     "metadata": {},
     "output_type": "display_data"
    },
    {
     "data": {
      "text/html": [
       "<pre>    Data prepared in: 8.50857s</pre>"
      ],
      "text/plain": [
       "    Data prepared in: 8.50857s"
      ]
     },
     "metadata": {},
     "output_type": "display_data"
    },
    {
     "data": {
      "text/html": [
       "<pre>Training factorization_recommender for recommendations.</pre>"
      ],
      "text/plain": [
       "Training factorization_recommender for recommendations."
      ]
     },
     "metadata": {},
     "output_type": "display_data"
    },
    {
     "data": {
      "text/html": [
       "<pre>+--------------------------------+--------------------------------------------------+----------+</pre>"
      ],
      "text/plain": [
       "+--------------------------------+--------------------------------------------------+----------+"
      ]
     },
     "metadata": {},
     "output_type": "display_data"
    },
    {
     "data": {
      "text/html": [
       "<pre>| Parameter                      | Description                                      | Value    |</pre>"
      ],
      "text/plain": [
       "| Parameter                      | Description                                      | Value    |"
      ]
     },
     "metadata": {},
     "output_type": "display_data"
    },
    {
     "data": {
      "text/html": [
       "<pre>+--------------------------------+--------------------------------------------------+----------+</pre>"
      ],
      "text/plain": [
       "+--------------------------------+--------------------------------------------------+----------+"
      ]
     },
     "metadata": {},
     "output_type": "display_data"
    },
    {
     "data": {
      "text/html": [
       "<pre>| num_factors                    | Factor Dimension                                 | 8        |</pre>"
      ],
      "text/plain": [
       "| num_factors                    | Factor Dimension                                 | 8        |"
      ]
     },
     "metadata": {},
     "output_type": "display_data"
    },
    {
     "data": {
      "text/html": [
       "<pre>| regularization                 | L2 Regularization on Factors                     | 1e-08    |</pre>"
      ],
      "text/plain": [
       "| regularization                 | L2 Regularization on Factors                     | 1e-08    |"
      ]
     },
     "metadata": {},
     "output_type": "display_data"
    },
    {
     "data": {
      "text/html": [
       "<pre>| solver                         | Solver used for training                         | adagrad  |</pre>"
      ],
      "text/plain": [
       "| solver                         | Solver used for training                         | adagrad  |"
      ]
     },
     "metadata": {},
     "output_type": "display_data"
    },
    {
     "data": {
      "text/html": [
       "<pre>| linear_regularization          | L2 Regularization on Linear Coefficients         | 1e-10    |</pre>"
      ],
      "text/plain": [
       "| linear_regularization          | L2 Regularization on Linear Coefficients         | 1e-10    |"
      ]
     },
     "metadata": {},
     "output_type": "display_data"
    },
    {
     "data": {
      "text/html": [
       "<pre>| side_data_factorization        | Assign Factors for Side Data                     | True     |</pre>"
      ],
      "text/plain": [
       "| side_data_factorization        | Assign Factors for Side Data                     | True     |"
      ]
     },
     "metadata": {},
     "output_type": "display_data"
    },
    {
     "data": {
      "text/html": [
       "<pre>| max_iterations                 | Maximum Number of Iterations                     | 50       |</pre>"
      ],
      "text/plain": [
       "| max_iterations                 | Maximum Number of Iterations                     | 50       |"
      ]
     },
     "metadata": {},
     "output_type": "display_data"
    },
    {
     "data": {
      "text/html": [
       "<pre>+--------------------------------+--------------------------------------------------+----------+</pre>"
      ],
      "text/plain": [
       "+--------------------------------+--------------------------------------------------+----------+"
      ]
     },
     "metadata": {},
     "output_type": "display_data"
    },
    {
     "data": {
      "text/html": [
       "<pre>  Optimizing model using SGD; tuning step size.</pre>"
      ],
      "text/plain": [
       "  Optimizing model using SGD; tuning step size."
      ]
     },
     "metadata": {},
     "output_type": "display_data"
    },
    {
     "data": {
      "text/html": [
       "<pre>  Using 339108 / 2712864 points for tuning the step size.</pre>"
      ],
      "text/plain": [
       "  Using 339108 / 2712864 points for tuning the step size."
      ]
     },
     "metadata": {},
     "output_type": "display_data"
    },
    {
     "data": {
      "text/html": [
       "<pre>+---------+-------------------+------------------------------------------+</pre>"
      ],
      "text/plain": [
       "+---------+-------------------+------------------------------------------+"
      ]
     },
     "metadata": {},
     "output_type": "display_data"
    },
    {
     "data": {
      "text/html": [
       "<pre>| Attempt | Initial Step Size | Estimated Objective Value                |</pre>"
      ],
      "text/plain": [
       "| Attempt | Initial Step Size | Estimated Objective Value                |"
      ]
     },
     "metadata": {},
     "output_type": "display_data"
    },
    {
     "data": {
      "text/html": [
       "<pre>+---------+-------------------+------------------------------------------+</pre>"
      ],
      "text/plain": [
       "+---------+-------------------+------------------------------------------+"
      ]
     },
     "metadata": {},
     "output_type": "display_data"
    },
    {
     "data": {
      "text/html": [
       "<pre>| 0       | 2.38095           | Not Viable                               |</pre>"
      ],
      "text/plain": [
       "| 0       | 2.38095           | Not Viable                               |"
      ]
     },
     "metadata": {},
     "output_type": "display_data"
    },
    {
     "data": {
      "text/html": [
       "<pre>| 1       | 0.595238          | No Decrease (15.8776 >= 7.47522)         |</pre>"
      ],
      "text/plain": [
       "| 1       | 0.595238          | No Decrease (15.8776 >= 7.47522)         |"
      ]
     },
     "metadata": {},
     "output_type": "display_data"
    },
    {
     "data": {
      "text/html": [
       "<pre>| 2       | 0.14881           | 4.44736                                  |</pre>"
      ],
      "text/plain": [
       "| 2       | 0.14881           | 4.44736                                  |"
      ]
     },
     "metadata": {},
     "output_type": "display_data"
    },
    {
     "data": {
      "text/html": [
       "<pre>| 3       | 0.0744048         | 5.99594                                  |</pre>"
      ],
      "text/plain": [
       "| 3       | 0.0744048         | 5.99594                                  |"
      ]
     },
     "metadata": {},
     "output_type": "display_data"
    },
    {
     "data": {
      "text/html": [
       "<pre>| 4       | 0.0372024         | No Decrease (11.7545 >= 7.47522)         |</pre>"
      ],
      "text/plain": [
       "| 4       | 0.0372024         | No Decrease (11.7545 >= 7.47522)         |"
      ]
     },
     "metadata": {},
     "output_type": "display_data"
    },
    {
     "data": {
      "text/html": [
       "<pre>| 5       | 0.0093006         | 7.21602                                  |</pre>"
      ],
      "text/plain": [
       "| 5       | 0.0093006         | 7.21602                                  |"
      ]
     },
     "metadata": {},
     "output_type": "display_data"
    },
    {
     "data": {
      "text/html": [
       "<pre>+---------+-------------------+------------------------------------------+</pre>"
      ],
      "text/plain": [
       "+---------+-------------------+------------------------------------------+"
      ]
     },
     "metadata": {},
     "output_type": "display_data"
    },
    {
     "data": {
      "text/html": [
       "<pre>| Final   | 0.14881           | 4.44736                                  |</pre>"
      ],
      "text/plain": [
       "| Final   | 0.14881           | 4.44736                                  |"
      ]
     },
     "metadata": {},
     "output_type": "display_data"
    },
    {
     "data": {
      "text/html": [
       "<pre>+---------+-------------------+------------------------------------------+</pre>"
      ],
      "text/plain": [
       "+---------+-------------------+------------------------------------------+"
      ]
     },
     "metadata": {},
     "output_type": "display_data"
    },
    {
     "data": {
      "text/html": [
       "<pre>Starting Optimization.</pre>"
      ],
      "text/plain": [
       "Starting Optimization."
      ]
     },
     "metadata": {},
     "output_type": "display_data"
    },
    {
     "data": {
      "text/html": [
       "<pre>+---------+--------------+-------------------+-----------------------+-------------+</pre>"
      ],
      "text/plain": [
       "+---------+--------------+-------------------+-----------------------+-------------+"
      ]
     },
     "metadata": {},
     "output_type": "display_data"
    },
    {
     "data": {
      "text/html": [
       "<pre>| Iter.   | Elapsed Time | Approx. Objective | Approx. Training RMSE | Step Size   |</pre>"
      ],
      "text/plain": [
       "| Iter.   | Elapsed Time | Approx. Objective | Approx. Training RMSE | Step Size   |"
      ]
     },
     "metadata": {},
     "output_type": "display_data"
    },
    {
     "data": {
      "text/html": [
       "<pre>+---------+--------------+-------------------+-----------------------+-------------+</pre>"
      ],
      "text/plain": [
       "+---------+--------------+-------------------+-----------------------+-------------+"
      ]
     },
     "metadata": {},
     "output_type": "display_data"
    },
    {
     "data": {
      "text/html": [
       "<pre>| Initial | 65us         | 7.38591           | 2.7177                |             |</pre>"
      ],
      "text/plain": [
       "| Initial | 65us         | 7.38591           | 2.7177                |             |"
      ]
     },
     "metadata": {},
     "output_type": "display_data"
    },
    {
     "data": {
      "text/html": [
       "<pre>+---------+--------------+-------------------+-----------------------+-------------+</pre>"
      ],
      "text/plain": [
       "+---------+--------------+-------------------+-----------------------+-------------+"
      ]
     },
     "metadata": {},
     "output_type": "display_data"
    },
    {
     "data": {
      "text/html": [
       "<pre>| 1       | 2.12s        | 6.39283           | 2.52825               | 0.14881     |</pre>"
      ],
      "text/plain": [
       "| 1       | 2.12s        | 6.39283           | 2.52825               | 0.14881     |"
      ]
     },
     "metadata": {},
     "output_type": "display_data"
    },
    {
     "data": {
      "text/html": [
       "<pre>| 2       | 4.46s        | 5.82759           | 2.41388               | 0.14881     |</pre>"
      ],
      "text/plain": [
       "| 2       | 4.46s        | 5.82759           | 2.41388               | 0.14881     |"
      ]
     },
     "metadata": {},
     "output_type": "display_data"
    },
    {
     "data": {
      "text/html": [
       "<pre>| 3       | 7.14s        | 5.53104           | 2.35166               | 0.14881     |</pre>"
      ],
      "text/plain": [
       "| 3       | 7.14s        | 5.53104           | 2.35166               | 0.14881     |"
      ]
     },
     "metadata": {},
     "output_type": "display_data"
    },
    {
     "data": {
      "text/html": [
       "<pre>| 4       | 9.18s        | 5.2615            | 2.29363               | 0.14881     |</pre>"
      ],
      "text/plain": [
       "| 4       | 9.18s        | 5.2615            | 2.29363               | 0.14881     |"
      ]
     },
     "metadata": {},
     "output_type": "display_data"
    },
    {
     "data": {
      "text/html": [
       "<pre>| 5       | 10.97s       | 5.08295           | 2.25436               | 0.14881     |</pre>"
      ],
      "text/plain": [
       "| 5       | 10.97s       | 5.08295           | 2.25436               | 0.14881     |"
      ]
     },
     "metadata": {},
     "output_type": "display_data"
    },
    {
     "data": {
      "text/html": [
       "<pre>| 6       | 12.72s       | 4.95658           | 2.22616               | 0.14881     |</pre>"
      ],
      "text/plain": [
       "| 6       | 12.72s       | 4.95658           | 2.22616               | 0.14881     |"
      ]
     },
     "metadata": {},
     "output_type": "display_data"
    },
    {
     "data": {
      "text/html": [
       "<pre>| 7       | 14.52s       | 4.89255           | 2.21172               | 0.14881     |</pre>"
      ],
      "text/plain": [
       "| 7       | 14.52s       | 4.89255           | 2.21172               | 0.14881     |"
      ]
     },
     "metadata": {},
     "output_type": "display_data"
    },
    {
     "data": {
      "text/html": [
       "<pre>| 8       | 17.17s       | 4.82704           | 2.19686               | 0.14881     |</pre>"
      ],
      "text/plain": [
       "| 8       | 17.17s       | 4.82704           | 2.19686               | 0.14881     |"
      ]
     },
     "metadata": {},
     "output_type": "display_data"
    },
    {
     "data": {
      "text/html": [
       "<pre>| 9       | 18.90s       | 4.76745           | 2.18325               | 0.14881     |</pre>"
      ],
      "text/plain": [
       "| 9       | 18.90s       | 4.76745           | 2.18325               | 0.14881     |"
      ]
     },
     "metadata": {},
     "output_type": "display_data"
    },
    {
     "data": {
      "text/html": [
       "<pre>| 10      | 20.65s       | 4.68442           | 2.16415               | 0.14881     |</pre>"
      ],
      "text/plain": [
       "| 10      | 20.65s       | 4.68442           | 2.16415               | 0.14881     |"
      ]
     },
     "metadata": {},
     "output_type": "display_data"
    },
    {
     "data": {
      "text/html": [
       "<pre>| 11      | 22.38s       | 4.63461           | 2.1526                | 0.14881     |</pre>"
      ],
      "text/plain": [
       "| 11      | 22.38s       | 4.63461           | 2.1526                | 0.14881     |"
      ]
     },
     "metadata": {},
     "output_type": "display_data"
    },
    {
     "data": {
      "text/html": [
       "<pre>| 12      | 24.11s       | 4.59164           | 2.1426                | 0.14881     |</pre>"
      ],
      "text/plain": [
       "| 12      | 24.11s       | 4.59164           | 2.1426                | 0.14881     |"
      ]
     },
     "metadata": {},
     "output_type": "display_data"
    },
    {
     "data": {
      "text/html": [
       "<pre>| 13      | 25.89s       | 4.5437            | 2.13138               | 0.14881     |</pre>"
      ],
      "text/plain": [
       "| 13      | 25.89s       | 4.5437            | 2.13138               | 0.14881     |"
      ]
     },
     "metadata": {},
     "output_type": "display_data"
    },
    {
     "data": {
      "text/html": [
       "<pre>| 14      | 27.64s       | 4.51693           | 2.12508               | 0.14881     |</pre>"
      ],
      "text/plain": [
       "| 14      | 27.64s       | 4.51693           | 2.12508               | 0.14881     |"
      ]
     },
     "metadata": {},
     "output_type": "display_data"
    },
    {
     "data": {
      "text/html": [
       "<pre>| 15      | 29.38s       | 4.48776           | 2.11821               | 0.14881     |</pre>"
      ],
      "text/plain": [
       "| 15      | 29.38s       | 4.48776           | 2.11821               | 0.14881     |"
      ]
     },
     "metadata": {},
     "output_type": "display_data"
    },
    {
     "data": {
      "text/html": [
       "<pre>| 16      | 31.12s       | 4.44087           | 2.10711               | 0.14881     |</pre>"
      ],
      "text/plain": [
       "| 16      | 31.12s       | 4.44087           | 2.10711               | 0.14881     |"
      ]
     },
     "metadata": {},
     "output_type": "display_data"
    },
    {
     "data": {
      "text/html": [
       "<pre>| 17      | 33.41s       | 4.40261           | 2.09801               | 0.14881     |</pre>"
      ],
      "text/plain": [
       "| 17      | 33.41s       | 4.40261           | 2.09801               | 0.14881     |"
      ]
     },
     "metadata": {},
     "output_type": "display_data"
    },
    {
     "data": {
      "text/html": [
       "<pre>| 18      | 35.49s       | 4.37311           | 2.09096               | 0.14881     |</pre>"
      ],
      "text/plain": [
       "| 18      | 35.49s       | 4.37311           | 2.09096               | 0.14881     |"
      ]
     },
     "metadata": {},
     "output_type": "display_data"
    },
    {
     "data": {
      "text/html": [
       "<pre>| 19      | 37.46s       | 4.36166           | 2.08822               | 0.14881     |</pre>"
      ],
      "text/plain": [
       "| 19      | 37.46s       | 4.36166           | 2.08822               | 0.14881     |"
      ]
     },
     "metadata": {},
     "output_type": "display_data"
    },
    {
     "data": {
      "text/html": [
       "<pre>| 20      | 39.42s       | 4.34078           | 2.08321               | 0.14881     |</pre>"
      ],
      "text/plain": [
       "| 20      | 39.42s       | 4.34078           | 2.08321               | 0.14881     |"
      ]
     },
     "metadata": {},
     "output_type": "display_data"
    },
    {
     "data": {
      "text/html": [
       "<pre>| 21      | 41.57s       | 4.33682           | 2.08226               | 0.14881     |</pre>"
      ],
      "text/plain": [
       "| 21      | 41.57s       | 4.33682           | 2.08226               | 0.14881     |"
      ]
     },
     "metadata": {},
     "output_type": "display_data"
    },
    {
     "data": {
      "text/html": [
       "<pre>| 22      | 43.49s       | 4.31492           | 2.07699               | 0.14881     |</pre>"
      ],
      "text/plain": [
       "| 22      | 43.49s       | 4.31492           | 2.07699               | 0.14881     |"
      ]
     },
     "metadata": {},
     "output_type": "display_data"
    },
    {
     "data": {
      "text/html": [
       "<pre>| 23      | 45.24s       | 4.29548           | 2.07231               | 0.14881     |</pre>"
      ],
      "text/plain": [
       "| 23      | 45.24s       | 4.29548           | 2.07231               | 0.14881     |"
      ]
     },
     "metadata": {},
     "output_type": "display_data"
    },
    {
     "data": {
      "text/html": [
       "<pre>| 24      | 46.99s       | 4.27516           | 2.06739               | 0.14881     |</pre>"
      ],
      "text/plain": [
       "| 24      | 46.99s       | 4.27516           | 2.06739               | 0.14881     |"
      ]
     },
     "metadata": {},
     "output_type": "display_data"
    },
    {
     "data": {
      "text/html": [
       "<pre>| 25      | 48.73s       | 4.25064           | 2.06145               | 0.14881     |</pre>"
      ],
      "text/plain": [
       "| 25      | 48.73s       | 4.25064           | 2.06145               | 0.14881     |"
      ]
     },
     "metadata": {},
     "output_type": "display_data"
    },
    {
     "data": {
      "text/html": [
       "<pre>| 26      | 50.45s       | 4.2384            | 2.05848               | 0.14881     |</pre>"
      ],
      "text/plain": [
       "| 26      | 50.45s       | 4.2384            | 2.05848               | 0.14881     |"
      ]
     },
     "metadata": {},
     "output_type": "display_data"
    },
    {
     "data": {
      "text/html": [
       "<pre>| 27      | 52.18s       | 4.22704           | 2.05572               | 0.14881     |</pre>"
      ],
      "text/plain": [
       "| 27      | 52.18s       | 4.22704           | 2.05572               | 0.14881     |"
      ]
     },
     "metadata": {},
     "output_type": "display_data"
    },
    {
     "data": {
      "text/html": [
       "<pre>| 28      | 53.94s       | 4.20615           | 2.05063               | 0.14881     |</pre>"
      ],
      "text/plain": [
       "| 28      | 53.94s       | 4.20615           | 2.05063               | 0.14881     |"
      ]
     },
     "metadata": {},
     "output_type": "display_data"
    },
    {
     "data": {
      "text/html": [
       "<pre>| 29      | 55.76s       | 4.19326           | 2.04748               | 0.14881     |</pre>"
      ],
      "text/plain": [
       "| 29      | 55.76s       | 4.19326           | 2.04748               | 0.14881     |"
      ]
     },
     "metadata": {},
     "output_type": "display_data"
    },
    {
     "data": {
      "text/html": [
       "<pre>| 30      | 57.51s       | 4.19675           | 2.04833               | 0.14881     |</pre>"
      ],
      "text/plain": [
       "| 30      | 57.51s       | 4.19675           | 2.04833               | 0.14881     |"
      ]
     },
     "metadata": {},
     "output_type": "display_data"
    },
    {
     "data": {
      "text/html": [
       "<pre>| 31      | 59.25s       | 4.19449           | 2.04778               | 0.14881     |</pre>"
      ],
      "text/plain": [
       "| 31      | 59.25s       | 4.19449           | 2.04778               | 0.14881     |"
      ]
     },
     "metadata": {},
     "output_type": "display_data"
    },
    {
     "data": {
      "text/html": [
       "<pre>| 32      | 1m 0s        | 4.17844           | 2.04385               | 0.14881     |</pre>"
      ],
      "text/plain": [
       "| 32      | 1m 0s        | 4.17844           | 2.04385               | 0.14881     |"
      ]
     },
     "metadata": {},
     "output_type": "display_data"
    },
    {
     "data": {
      "text/html": [
       "<pre>| 33      | 1m 2s        | 4.14615           | 2.03594               | 0.14881     |</pre>"
      ],
      "text/plain": [
       "| 33      | 1m 2s        | 4.14615           | 2.03594               | 0.14881     |"
      ]
     },
     "metadata": {},
     "output_type": "display_data"
    },
    {
     "data": {
      "text/html": [
       "<pre>| 34      | 1m 4s        | 4.1344            | 2.03305               | 0.14881     |</pre>"
      ],
      "text/plain": [
       "| 34      | 1m 4s        | 4.1344            | 2.03305               | 0.14881     |"
      ]
     },
     "metadata": {},
     "output_type": "display_data"
    },
    {
     "data": {
      "text/html": [
       "<pre>| 35      | 1m 6s        | 4.1262            | 2.03103               | 0.14881     |</pre>"
      ],
      "text/plain": [
       "| 35      | 1m 6s        | 4.1262            | 2.03103               | 0.14881     |"
      ]
     },
     "metadata": {},
     "output_type": "display_data"
    },
    {
     "data": {
      "text/html": [
       "<pre>| 36      | 1m 7s        | 4.10591           | 2.02603               | 0.14881     |</pre>"
      ],
      "text/plain": [
       "| 36      | 1m 7s        | 4.10591           | 2.02603               | 0.14881     |"
      ]
     },
     "metadata": {},
     "output_type": "display_data"
    },
    {
     "data": {
      "text/html": [
       "<pre>| 37      | 1m 9s        | 4.09193           | 2.02257               | 0.14881     |</pre>"
      ],
      "text/plain": [
       "| 37      | 1m 9s        | 4.09193           | 2.02257               | 0.14881     |"
      ]
     },
     "metadata": {},
     "output_type": "display_data"
    },
    {
     "data": {
      "text/html": [
       "<pre>| 38      | 1m 11s       | 4.08676           | 2.02129               | 0.14881     |</pre>"
      ],
      "text/plain": [
       "| 38      | 1m 11s       | 4.08676           | 2.02129               | 0.14881     |"
      ]
     },
     "metadata": {},
     "output_type": "display_data"
    },
    {
     "data": {
      "text/html": [
       "<pre>| 39      | 1m 13s       | 4.07168           | 2.01756               | 0.14881     |</pre>"
      ],
      "text/plain": [
       "| 39      | 1m 13s       | 4.07168           | 2.01756               | 0.14881     |"
      ]
     },
     "metadata": {},
     "output_type": "display_data"
    },
    {
     "data": {
      "text/html": [
       "<pre>| 40      | 1m 14s       | 4.05991           | 2.01464               | 0.14881     |</pre>"
      ],
      "text/plain": [
       "| 40      | 1m 14s       | 4.05991           | 2.01464               | 0.14881     |"
      ]
     },
     "metadata": {},
     "output_type": "display_data"
    },
    {
     "data": {
      "text/html": [
       "<pre>| 41      | 1m 16s       | 4.04329           | 2.01051               | 0.14881     |</pre>"
      ],
      "text/plain": [
       "| 41      | 1m 16s       | 4.04329           | 2.01051               | 0.14881     |"
      ]
     },
     "metadata": {},
     "output_type": "display_data"
    },
    {
     "data": {
      "text/html": [
       "<pre>| 42      | 1m 18s       | 4.03013           | 2.00723               | 0.14881     |</pre>"
      ],
      "text/plain": [
       "| 42      | 1m 18s       | 4.03013           | 2.00723               | 0.14881     |"
      ]
     },
     "metadata": {},
     "output_type": "display_data"
    },
    {
     "data": {
      "text/html": [
       "<pre>| 43      | 1m 20s       | 4.01665           | 2.00387               | 0.14881     |</pre>"
      ],
      "text/plain": [
       "| 43      | 1m 20s       | 4.01665           | 2.00387               | 0.14881     |"
      ]
     },
     "metadata": {},
     "output_type": "display_data"
    },
    {
     "data": {
      "text/html": [
       "<pre>| 44      | 1m 21s       | 4.00873           | 2.00189               | 0.14881     |</pre>"
      ],
      "text/plain": [
       "| 44      | 1m 21s       | 4.00873           | 2.00189               | 0.14881     |"
      ]
     },
     "metadata": {},
     "output_type": "display_data"
    },
    {
     "data": {
      "text/html": [
       "<pre>| 45      | 1m 23s       | 4.00108           | 1.99998               | 0.14881     |</pre>"
      ],
      "text/plain": [
       "| 45      | 1m 23s       | 4.00108           | 1.99998               | 0.14881     |"
      ]
     },
     "metadata": {},
     "output_type": "display_data"
    },
    {
     "data": {
      "text/html": [
       "<pre>| 46      | 1m 25s       | 3.98745           | 1.99657               | 0.14881     |</pre>"
      ],
      "text/plain": [
       "| 46      | 1m 25s       | 3.98745           | 1.99657               | 0.14881     |"
      ]
     },
     "metadata": {},
     "output_type": "display_data"
    },
    {
     "data": {
      "text/html": [
       "<pre>| 47      | 1m 26s       | 3.97743           | 1.99406               | 0.14881     |</pre>"
      ],
      "text/plain": [
       "| 47      | 1m 26s       | 3.97743           | 1.99406               | 0.14881     |"
      ]
     },
     "metadata": {},
     "output_type": "display_data"
    },
    {
     "data": {
      "text/html": [
       "<pre>| 48      | 1m 28s       | 3.97322           | 1.993                 | 0.14881     |</pre>"
      ],
      "text/plain": [
       "| 48      | 1m 28s       | 3.97322           | 1.993                 | 0.14881     |"
      ]
     },
     "metadata": {},
     "output_type": "display_data"
    },
    {
     "data": {
      "text/html": [
       "<pre>| 49      | 1m 30s       | 3.96179           | 1.99013               | 0.14881     |</pre>"
      ],
      "text/plain": [
       "| 49      | 1m 30s       | 3.96179           | 1.99013               | 0.14881     |"
      ]
     },
     "metadata": {},
     "output_type": "display_data"
    },
    {
     "data": {
      "text/html": [
       "<pre>| 50      | 1m 32s       | 3.96059           | 1.98982               | 0.14881     |</pre>"
      ],
      "text/plain": [
       "| 50      | 1m 32s       | 3.96059           | 1.98982               | 0.14881     |"
      ]
     },
     "metadata": {},
     "output_type": "display_data"
    },
    {
     "data": {
      "text/html": [
       "<pre>+---------+--------------+-------------------+-----------------------+-------------+</pre>"
      ],
      "text/plain": [
       "+---------+--------------+-------------------+-----------------------+-------------+"
      ]
     },
     "metadata": {},
     "output_type": "display_data"
    },
    {
     "data": {
      "text/html": [
       "<pre>Optimization Complete: Maximum number of passes through the data reached.</pre>"
      ],
      "text/plain": [
       "Optimization Complete: Maximum number of passes through the data reached."
      ]
     },
     "metadata": {},
     "output_type": "display_data"
    },
    {
     "data": {
      "text/html": [
       "<pre>Computing final objective value and training RMSE.</pre>"
      ],
      "text/plain": [
       "Computing final objective value and training RMSE."
      ]
     },
     "metadata": {},
     "output_type": "display_data"
    },
    {
     "data": {
      "text/html": [
       "<pre>       Final objective value: 3.92501</pre>"
      ],
      "text/plain": [
       "       Final objective value: 3.92501"
      ]
     },
     "metadata": {},
     "output_type": "display_data"
    },
    {
     "data": {
      "text/html": [
       "<pre>       Final training RMSE: 1.98086</pre>"
      ],
      "text/plain": [
       "       Final training RMSE: 1.98086"
      ]
     },
     "metadata": {},
     "output_type": "display_data"
    }
   ],
   "source": [
    "personalized_model_0 = graphlab.recommender.factorization_recommender.create(aisle0,\n",
    "                                                                            user_id = 'user_id',\n",
    "                                                                            item_id = 'product_name',\n",
    "                                                                            target = 'count',\n",
    "                                                                            user_data = user_data0,\n",
    "                                                                            item_data = item_data0\n",
    "                                                                           )"
   ]
  },
  {
   "cell_type": "code",
   "execution_count": 283,
   "metadata": {
    "collapsed": true
   },
   "outputs": [],
   "source": [
    "certain_str0_0 = ['Soda', \n",
    "               'Fridge Pack Cola',\n",
    "               'Cola',\n",
    "               'Coke Classic',\n",
    "               'Ginger Ale']"
   ]
  },
  {
   "cell_type": "code",
   "execution_count": 245,
   "metadata": {
    "collapsed": true
   },
   "outputs": [],
   "source": [
    "certain_str0_1 = ['Chocolate Ice Cream', \n",
    "               'Vanilla Ice Cream',\n",
    "               'Chocolate Chip Cookie Dough Ice Cream',\n",
    "               'Natural Vanilla Ice Cream',\n",
    "               'Half Baked\\xc2\\xae Ice Cream']"
   ]
  },
  {
   "cell_type": "code",
   "execution_count": 237,
   "metadata": {
    "collapsed": true
   },
   "outputs": [],
   "source": [
    "certain_str0_2 = ['Ultra Soft Facial Tissues', \n",
    "              'Select-A-Size White Paper Towels',\n",
    "               'White Giant Paper Towel Rolls',\n",
    "               'Select-A-Size Paper Towels, White, 2 Huge Rolls = 5 Regular Rolls  Towels/Napkins',\n",
    "               'Sensitive Toilet Paper']"
   ]
  },
  {
   "cell_type": "code",
   "execution_count": 257,
   "metadata": {
    "collapsed": true
   },
   "outputs": [],
   "source": [
    "certain_str0_3 = ['Beef Franks', \n",
    "              'Hardwood SmokedCenter Cut Original Bacon',\n",
    "               'Uncured Hickory Smoked Sunday Bacon',\n",
    "               'Hardwood Smoked Bacon',\n",
    "               'Smok Cured Turkey Bacon']"
   ]
  },
  {
   "cell_type": "code",
   "execution_count": 363,
   "metadata": {
    "collapsed": true
   },
   "outputs": [],
   "source": [
    "certain_str0 = [certain_str0_0, certain_str0_1, certain_str0_2, certain_str0_3]"
   ]
  },
  {
   "cell_type": "code",
   "execution_count": 364,
   "metadata": {
    "collapsed": true
   },
   "outputs": [],
   "source": [
    "for s in range(len(certain_str0)): \n",
    "    appended_data = []\n",
    "    for item in certain_str0[s]:\n",
    "        df = personalized_model_0.get_similar_items([item])\n",
    "        appended_data.append(df)\n",
    "    personal_recommend0[s] = appended_data   "
   ]
  },
  {
   "cell_type": "code",
   "execution_count": 365,
   "metadata": {},
   "outputs": [
    {
     "data": {
      "text/plain": [
       "[Columns:\n",
       " \tproduct_name\tstr\n",
       " \tsimilar\tstr\n",
       " \tscore\tfloat\n",
       " \trank\tint\n",
       " \n",
       " Rows: 10\n",
       " \n",
       " Data:\n",
       " +--------------+-------------------------------+----------------+------+\n",
       " | product_name |            similar            |     score      | rank |\n",
       " +--------------+-------------------------------+----------------+------+\n",
       " |     Soda     |      Mango Protein Shake      | 0.977502763271 |  1   |\n",
       " |     Soda     |  Small Curd Cottage Cheese 4% | 0.954149603844 |  2   |\n",
       " |     Soda     |        Breakfast Claws        | 0.949481248856 |  3   |\n",
       " |     Soda     | Classic Macaroni and Chees... |  0.9443988204  |  4   |\n",
       " |     Soda     | Flashin' Fruit Punch Fruit... | 0.943142235279 |  5   |\n",
       " |     Soda     |         Sesame Chicken        | 0.938020944595 |  6   |\n",
       " |     Soda     |  Sliced Carrots No Salt Added | 0.934114038944 |  7   |\n",
       " |     Soda     |  Lemon Mint Foaming Hand Wash | 0.918240308762 |  8   |\n",
       " |     Soda     |   2nd Foods Chicken & Gravy   | 0.910972654819 |  9   |\n",
       " |     Soda     |     Superfood Pesto Sauce     | 0.909017860889 |  10  |\n",
       " +--------------+-------------------------------+----------------+------+\n",
       " [10 rows x 4 columns], Columns:\n",
       " \tproduct_name\tstr\n",
       " \tsimilar\tstr\n",
       " \tscore\tfloat\n",
       " \trank\tint\n",
       " \n",
       " Rows: 10\n",
       " \n",
       " Data:\n",
       " +------------------+-------------------------------+----------------+------+\n",
       " |   product_name   |            similar            |     score      | rank |\n",
       " +------------------+-------------------------------+----------------+------+\n",
       " | Fridge Pack Cola |   Fancy Sliced Bamboo Shoots  | 0.93947583437  |  1   |\n",
       " | Fridge Pack Cola |      Facial Tissues Boxes     | 0.931430697441 |  2   |\n",
       " | Fridge Pack Cola | MixUps Backyard Cookout Ca... | 0.925855755806 |  3   |\n",
       " | Fridge Pack Cola | Gluten Free Vegetable Dump... | 0.925521314144 |  4   |\n",
       " | Fridge Pack Cola |  Apple + Blueberry Fruit Bar  |  0.9239782691  |  5   |\n",
       " | Fridge Pack Cola | Salmon Dinner Classic Pate... | 0.921928286552 |  6   |\n",
       " | Fridge Pack Cola | Brooklyn Blackout Cake Ice... | 0.920555114746 |  7   |\n",
       " | Fridge Pack Cola | Chocolate Almond & Sea Sal... | 0.91515570879  |  8   |\n",
       " | Fridge Pack Cola | Chocolatier 72% Dark Choco... | 0.913376510143 |  9   |\n",
       " | Fridge Pack Cola |  Mini Semisoft Gouda Cheeses  | 0.912652671337 |  10  |\n",
       " +------------------+-------------------------------+----------------+------+\n",
       " [10 rows x 4 columns], Columns:\n",
       " \tproduct_name\tstr\n",
       " \tsimilar\tstr\n",
       " \tscore\tfloat\n",
       " \trank\tint\n",
       " \n",
       " Rows: 10\n",
       " \n",
       " Data:\n",
       " +--------------+-------------------------------+----------------+------+\n",
       " | product_name |            similar            |     score      | rank |\n",
       " +--------------+-------------------------------+----------------+------+\n",
       " |     Cola     |          Curieux Ale          | 0.960624873638 |  1   |\n",
       " |     Cola     |    Natural Apple Sauce Cups   | 0.937256395817 |  2   |\n",
       " |     Cola     |     Black Cherry Lemonade     | 0.931523680687 |  3   |\n",
       " |     Cola     |         Blanc De Noirs        | 0.926728844643 |  4   |\n",
       " |     Cola     |         667 Pinot Noir        | 0.921900331974 |  5   |\n",
       " |     Cola     |             Banana            | 0.919714212418 |  6   |\n",
       " |     Cola     |       Ten Hills Pale Ale      | 0.919236779213 |  7   |\n",
       " |     Cola     |        Stone Go To IPA        | 0.917847931385 |  8   |\n",
       " |     Cola     | Baked White Cheddar Cheese... | 0.916788697243 |  9   |\n",
       " |     Cola     |      Light Glass Bottles      | 0.914841294289 |  10  |\n",
       " +--------------+-------------------------------+----------------+------+\n",
       " [10 rows x 4 columns], Columns:\n",
       " \tproduct_name\tstr\n",
       " \tsimilar\tstr\n",
       " \tscore\tfloat\n",
       " \trank\tint\n",
       " \n",
       " Rows: 10\n",
       " \n",
       " Data:\n",
       " +--------------+--------------------------------+----------------+------+\n",
       " | product_name |            similar             |     score      | rank |\n",
       " +--------------+--------------------------------+----------------+------+\n",
       " | Coke Classic |    Butter Rich Maple Syrup     | 0.96681535244  |  1   |\n",
       " | Coke Classic |   Organic Crushed Red Pepper   | 0.947807967663 |  2   |\n",
       " | Coke Classic | Valentines Milk White Squares  | 0.943386673927 |  3   |\n",
       " | Coke Classic | Uncrustables Peanut Butter...  | 0.942985296249 |  4   |\n",
       " | Coke Classic |   Hair Spritz, Maximum Hold    | 0.936059832573 |  5   |\n",
       " | Coke Classic | Chicken Parmesan Home Styl...  | 0.928604841232 |  6   |\n",
       " | Coke Classic | Homestyle Fruit & Nut Granola  | 0.926178693771 |  7   |\n",
       " | Coke Classic | Breaded Nuggets Chicken Breast | 0.923533141613 |  8   |\n",
       " | Coke Classic | Silver Multivitamin/Multim...  | 0.922982752323 |  9   |\n",
       " | Coke Classic | Pork & Duck Live Mousse Wi...  | 0.922438621521 |  10  |\n",
       " +--------------+--------------------------------+----------------+------+\n",
       " [10 rows x 4 columns], Columns:\n",
       " \tproduct_name\tstr\n",
       " \tsimilar\tstr\n",
       " \tscore\tfloat\n",
       " \trank\tint\n",
       " \n",
       " Rows: 10\n",
       " \n",
       " Data:\n",
       " +--------------+--------------------------------+----------------+------+\n",
       " | product_name |            similar             |     score      | rank |\n",
       " +--------------+--------------------------------+----------------+------+\n",
       " |  Ginger Ale  |       Chicken Enchiladas       | 0.948836147785 |  1   |\n",
       " |  Ginger Ale  |            Chayote             | 0.947607517242 |  2   |\n",
       " |  Ginger Ale  | Cream Cheese Stuffed Jalap...  | 0.937437832355 |  3   |\n",
       " |  Ginger Ale  |    Vegetable Thins Crackers    | 0.929098308086 |  4   |\n",
       " |  Ginger Ale  | Adrenaline Series Sport De...  | 0.927207350731 |  5   |\n",
       " |  Ginger Ale  | Breaded Chicken Breast Tenders | 0.926122844219 |  6   |\n",
       " |  Ginger Ale  | Protein Plus Farfalle Mult...  | 0.924987792969 |  7   |\n",
       " |  Ginger Ale  | Italian with Sun Dried Tom...  | 0.921592652798 |  8   |\n",
       " |  Ginger Ale  |          Tomato Puree          | 0.921535313129 |  9   |\n",
       " |  Ginger Ale  |    Beeswax Cake Candle - 5     | 0.918175756931 |  10  |\n",
       " +--------------+--------------------------------+----------------+------+\n",
       " [10 rows x 4 columns]]"
      ]
     },
     "execution_count": 365,
     "metadata": {},
     "output_type": "execute_result"
    }
   ],
   "source": [
    "personal_recommend0[0]"
   ]
  },
  {
   "cell_type": "code",
   "execution_count": 374,
   "metadata": {
    "collapsed": true
   },
   "outputs": [
    {
     "name": "stdout",
     "output_type": "stream",
     "text": [
      "+--------------+----------------------------------+----------------+------+\n",
      "| product_name |             similar              |     score      | rank |\n",
      "+--------------+----------------------------------+----------------+------+\n",
      "|     Soda     |       Mango Protein Shake        | 0.977502763271 |  1   |\n",
      "|     Soda     |   Small Curd Cottage Cheese 4%   | 0.954149603844 |  2   |\n",
      "|     Soda     |         Breakfast Claws          | 0.949481248856 |  3   |\n",
      "|     Soda     | Classic Macaroni and Cheese Cups |  0.9443988204  |  4   |\n",
      "|     Soda     | Flashin' Fruit Punch Fruit Drink | 0.943142235279 |  5   |\n",
      "|     Soda     |          Sesame Chicken          | 0.938020944595 |  6   |\n",
      "|     Soda     |   Sliced Carrots No Salt Added   | 0.934114038944 |  7   |\n",
      "|     Soda     |   Lemon Mint Foaming Hand Wash   | 0.918240308762 |  8   |\n",
      "|     Soda     |    2nd Foods Chicken & Gravy     | 0.910972654819 |  9   |\n",
      "|     Soda     |      Superfood Pesto Sauce       | 0.909017860889 |  10  |\n",
      "+--------------+----------------------------------+----------------+------+\n",
      "[10 rows x 4 columns]\n",
      "\n"
     ]
    }
   ],
   "source": [
    "personal_recommend0[0][0].print_rows(max_column_width = 300)"
   ]
  },
  {
   "cell_type": "code",
   "execution_count": 221,
   "metadata": {
    "collapsed": true
   },
   "outputs": [],
   "source": [
    "aisle1 = graphlab.SFrame(cluster[1])"
   ]
  },
  {
   "cell_type": "code",
   "execution_count": 222,
   "metadata": {
    "collapsed": true
   },
   "outputs": [],
   "source": [
    "user_data1, item_data1 = user_item(aisle1)"
   ]
  },
  {
   "cell_type": "code",
   "execution_count": 223,
   "metadata": {
    "collapsed": true
   },
   "outputs": [
    {
     "data": {
      "text/html": [
       "<pre>Recsys training: model = factorization_recommender</pre>"
      ],
      "text/plain": [
       "Recsys training: model = factorization_recommender"
      ]
     },
     "metadata": {},
     "output_type": "display_data"
    },
    {
     "data": {
      "text/html": [
       "<pre>Preparing data set.</pre>"
      ],
      "text/plain": [
       "Preparing data set."
      ]
     },
     "metadata": {},
     "output_type": "display_data"
    },
    {
     "data": {
      "text/html": [
       "<pre>    Data has 1213613 observations with 26159 users and 37835 items.</pre>"
      ],
      "text/plain": [
       "    Data has 1213613 observations with 26159 users and 37835 items."
      ]
     },
     "metadata": {},
     "output_type": "display_data"
    },
    {
     "data": {
      "text/html": [
       "<pre>    Data prepared in: 5.51174s</pre>"
      ],
      "text/plain": [
       "    Data prepared in: 5.51174s"
      ]
     },
     "metadata": {},
     "output_type": "display_data"
    },
    {
     "data": {
      "text/html": [
       "<pre>Training factorization_recommender for recommendations.</pre>"
      ],
      "text/plain": [
       "Training factorization_recommender for recommendations."
      ]
     },
     "metadata": {},
     "output_type": "display_data"
    },
    {
     "data": {
      "text/html": [
       "<pre>+--------------------------------+--------------------------------------------------+----------+</pre>"
      ],
      "text/plain": [
       "+--------------------------------+--------------------------------------------------+----------+"
      ]
     },
     "metadata": {},
     "output_type": "display_data"
    },
    {
     "data": {
      "text/html": [
       "<pre>| Parameter                      | Description                                      | Value    |</pre>"
      ],
      "text/plain": [
       "| Parameter                      | Description                                      | Value    |"
      ]
     },
     "metadata": {},
     "output_type": "display_data"
    },
    {
     "data": {
      "text/html": [
       "<pre>+--------------------------------+--------------------------------------------------+----------+</pre>"
      ],
      "text/plain": [
       "+--------------------------------+--------------------------------------------------+----------+"
      ]
     },
     "metadata": {},
     "output_type": "display_data"
    },
    {
     "data": {
      "text/html": [
       "<pre>| num_factors                    | Factor Dimension                                 | 8        |</pre>"
      ],
      "text/plain": [
       "| num_factors                    | Factor Dimension                                 | 8        |"
      ]
     },
     "metadata": {},
     "output_type": "display_data"
    },
    {
     "data": {
      "text/html": [
       "<pre>| regularization                 | L2 Regularization on Factors                     | 1e-08    |</pre>"
      ],
      "text/plain": [
       "| regularization                 | L2 Regularization on Factors                     | 1e-08    |"
      ]
     },
     "metadata": {},
     "output_type": "display_data"
    },
    {
     "data": {
      "text/html": [
       "<pre>| solver                         | Solver used for training                         | adagrad  |</pre>"
      ],
      "text/plain": [
       "| solver                         | Solver used for training                         | adagrad  |"
      ]
     },
     "metadata": {},
     "output_type": "display_data"
    },
    {
     "data": {
      "text/html": [
       "<pre>| linear_regularization          | L2 Regularization on Linear Coefficients         | 1e-10    |</pre>"
      ],
      "text/plain": [
       "| linear_regularization          | L2 Regularization on Linear Coefficients         | 1e-10    |"
      ]
     },
     "metadata": {},
     "output_type": "display_data"
    },
    {
     "data": {
      "text/html": [
       "<pre>| side_data_factorization        | Assign Factors for Side Data                     | True     |</pre>"
      ],
      "text/plain": [
       "| side_data_factorization        | Assign Factors for Side Data                     | True     |"
      ]
     },
     "metadata": {},
     "output_type": "display_data"
    },
    {
     "data": {
      "text/html": [
       "<pre>| max_iterations                 | Maximum Number of Iterations                     | 50       |</pre>"
      ],
      "text/plain": [
       "| max_iterations                 | Maximum Number of Iterations                     | 50       |"
      ]
     },
     "metadata": {},
     "output_type": "display_data"
    },
    {
     "data": {
      "text/html": [
       "<pre>+--------------------------------+--------------------------------------------------+----------+</pre>"
      ],
      "text/plain": [
       "+--------------------------------+--------------------------------------------------+----------+"
      ]
     },
     "metadata": {},
     "output_type": "display_data"
    },
    {
     "data": {
      "text/html": [
       "<pre>  Optimizing model using SGD; tuning step size.</pre>"
      ],
      "text/plain": [
       "  Optimizing model using SGD; tuning step size."
      ]
     },
     "metadata": {},
     "output_type": "display_data"
    },
    {
     "data": {
      "text/html": [
       "<pre>  Using 151701 / 1213613 points for tuning the step size.</pre>"
      ],
      "text/plain": [
       "  Using 151701 / 1213613 points for tuning the step size."
      ]
     },
     "metadata": {},
     "output_type": "display_data"
    },
    {
     "data": {
      "text/html": [
       "<pre>+---------+-------------------+------------------------------------------+</pre>"
      ],
      "text/plain": [
       "+---------+-------------------+------------------------------------------+"
      ]
     },
     "metadata": {},
     "output_type": "display_data"
    },
    {
     "data": {
      "text/html": [
       "<pre>| Attempt | Initial Step Size | Estimated Objective Value                |</pre>"
      ],
      "text/plain": [
       "| Attempt | Initial Step Size | Estimated Objective Value                |"
      ]
     },
     "metadata": {},
     "output_type": "display_data"
    },
    {
     "data": {
      "text/html": [
       "<pre>+---------+-------------------+------------------------------------------+</pre>"
      ],
      "text/plain": [
       "+---------+-------------------+------------------------------------------+"
      ]
     },
     "metadata": {},
     "output_type": "display_data"
    },
    {
     "data": {
      "text/html": [
       "<pre>| 0       | 2.38095           | Not Viable                               |</pre>"
      ],
      "text/plain": [
       "| 0       | 2.38095           | Not Viable                               |"
      ]
     },
     "metadata": {},
     "output_type": "display_data"
    },
    {
     "data": {
      "text/html": [
       "<pre>| 1       | 0.595238          | Not Viable                               |</pre>"
      ],
      "text/plain": [
       "| 1       | 0.595238          | Not Viable                               |"
      ]
     },
     "metadata": {},
     "output_type": "display_data"
    },
    {
     "data": {
      "text/html": [
       "<pre>| 2       | 0.14881           | No Decrease (89.4251 >= 20.2501)         |</pre>"
      ],
      "text/plain": [
       "| 2       | 0.14881           | No Decrease (89.4251 >= 20.2501)         |"
      ]
     },
     "metadata": {},
     "output_type": "display_data"
    },
    {
     "data": {
      "text/html": [
       "<pre>| 3       | 0.0372024         | 16.7791                                  |</pre>"
      ],
      "text/plain": [
       "| 3       | 0.0372024         | 16.7791                                  |"
      ]
     },
     "metadata": {},
     "output_type": "display_data"
    },
    {
     "data": {
      "text/html": [
       "<pre>| 4       | 0.0186012         | 17.851                                   |</pre>"
      ],
      "text/plain": [
       "| 4       | 0.0186012         | 17.851                                   |"
      ]
     },
     "metadata": {},
     "output_type": "display_data"
    },
    {
     "data": {
      "text/html": [
       "<pre>| 5       | 0.0093006         | 18.5333                                  |</pre>"
      ],
      "text/plain": [
       "| 5       | 0.0093006         | 18.5333                                  |"
      ]
     },
     "metadata": {},
     "output_type": "display_data"
    },
    {
     "data": {
      "text/html": [
       "<pre>| 6       | 0.0046503         | 18.965                                   |</pre>"
      ],
      "text/plain": [
       "| 6       | 0.0046503         | 18.965                                   |"
      ]
     },
     "metadata": {},
     "output_type": "display_data"
    },
    {
     "data": {
      "text/html": [
       "<pre>+---------+-------------------+------------------------------------------+</pre>"
      ],
      "text/plain": [
       "+---------+-------------------+------------------------------------------+"
      ]
     },
     "metadata": {},
     "output_type": "display_data"
    },
    {
     "data": {
      "text/html": [
       "<pre>| Final   | 0.0372024         | 16.7791                                  |</pre>"
      ],
      "text/plain": [
       "| Final   | 0.0372024         | 16.7791                                  |"
      ]
     },
     "metadata": {},
     "output_type": "display_data"
    },
    {
     "data": {
      "text/html": [
       "<pre>+---------+-------------------+------------------------------------------+</pre>"
      ],
      "text/plain": [
       "+---------+-------------------+------------------------------------------+"
      ]
     },
     "metadata": {},
     "output_type": "display_data"
    },
    {
     "data": {
      "text/html": [
       "<pre>Starting Optimization.</pre>"
      ],
      "text/plain": [
       "Starting Optimization."
      ]
     },
     "metadata": {},
     "output_type": "display_data"
    },
    {
     "data": {
      "text/html": [
       "<pre>+---------+--------------+-------------------+-----------------------+-------------+</pre>"
      ],
      "text/plain": [
       "+---------+--------------+-------------------+-----------------------+-------------+"
      ]
     },
     "metadata": {},
     "output_type": "display_data"
    },
    {
     "data": {
      "text/html": [
       "<pre>| Iter.   | Elapsed Time | Approx. Objective | Approx. Training RMSE | Step Size   |</pre>"
      ],
      "text/plain": [
       "| Iter.   | Elapsed Time | Approx. Objective | Approx. Training RMSE | Step Size   |"
      ]
     },
     "metadata": {},
     "output_type": "display_data"
    },
    {
     "data": {
      "text/html": [
       "<pre>+---------+--------------+-------------------+-----------------------+-------------+</pre>"
      ],
      "text/plain": [
       "+---------+--------------+-------------------+-----------------------+-------------+"
      ]
     },
     "metadata": {},
     "output_type": "display_data"
    },
    {
     "data": {
      "text/html": [
       "<pre>| Initial | 96us         | 19.9532           | 4.46689               |             |</pre>"
      ],
      "text/plain": [
       "| Initial | 96us         | 19.9532           | 4.46689               |             |"
      ]
     },
     "metadata": {},
     "output_type": "display_data"
    },
    {
     "data": {
      "text/html": [
       "<pre>+---------+--------------+-------------------+-----------------------+-------------+</pre>"
      ],
      "text/plain": [
       "+---------+--------------+-------------------+-----------------------+-------------+"
      ]
     },
     "metadata": {},
     "output_type": "display_data"
    },
    {
     "data": {
      "text/html": [
       "<pre>| 1       | 1.12s        | 18.7887           | 4.33459               | 0.0372024   |</pre>"
      ],
      "text/plain": [
       "| 1       | 1.12s        | 18.7887           | 4.33459               | 0.0372024   |"
      ]
     },
     "metadata": {},
     "output_type": "display_data"
    },
    {
     "data": {
      "text/html": [
       "<pre>| 2       | 2.22s        | 20.5512           | 4.53333               | 0.0372024   |</pre>"
      ],
      "text/plain": [
       "| 2       | 2.22s        | 20.5512           | 4.53333               | 0.0372024   |"
      ]
     },
     "metadata": {},
     "output_type": "display_data"
    },
    {
     "data": {
      "text/html": [
       "<pre>| 3       | 3.35s        | 25.1391           | 5.01389               | 0.0372024   |</pre>"
      ],
      "text/plain": [
       "| 3       | 3.35s        | 25.1391           | 5.01389               | 0.0372024   |"
      ]
     },
     "metadata": {},
     "output_type": "display_data"
    },
    {
     "data": {
      "text/html": [
       "<pre>| 4       | 4.43s        | 33.8918           | 5.82165               | 0.0372024   |</pre>"
      ],
      "text/plain": [
       "| 4       | 4.43s        | 33.8918           | 5.82165               | 0.0372024   |"
      ]
     },
     "metadata": {},
     "output_type": "display_data"
    },
    {
     "data": {
      "text/html": [
       "<pre>| 5       | 5.84s        | DIVERGED          | DIVERGED              | 0.0372024   |</pre>"
      ],
      "text/plain": [
       "| 5       | 5.84s        | DIVERGED          | DIVERGED              | 0.0372024   |"
      ]
     },
     "metadata": {},
     "output_type": "display_data"
    },
    {
     "data": {
      "text/html": [
       "<pre>| RESET   | 6.17s        | 19.9536           | 4.46694               |             |</pre>"
      ],
      "text/plain": [
       "| RESET   | 6.17s        | 19.9536           | 4.46694               |             |"
      ]
     },
     "metadata": {},
     "output_type": "display_data"
    },
    {
     "data": {
      "text/html": [
       "<pre>| 1       | 7.31s        | 19.9265           | 4.4639                | 0.0186012   |</pre>"
      ],
      "text/plain": [
       "| 1       | 7.31s        | 19.9265           | 4.4639                | 0.0186012   |"
      ]
     },
     "metadata": {},
     "output_type": "display_data"
    },
    {
     "data": {
      "text/html": [
       "<pre>| 2       | 8.40s        | 21.5235           | 4.63933               | 0.0186012   |</pre>"
      ],
      "text/plain": [
       "| 2       | 8.40s        | 21.5235           | 4.63933               | 0.0186012   |"
      ]
     },
     "metadata": {},
     "output_type": "display_data"
    },
    {
     "data": {
      "text/html": [
       "<pre>| 3       | 9.52s        | 21.1394           | 4.59775               | 0.0186012   |</pre>"
      ],
      "text/plain": [
       "| 3       | 9.52s        | 21.1394           | 4.59775               | 0.0186012   |"
      ]
     },
     "metadata": {},
     "output_type": "display_data"
    },
    {
     "data": {
      "text/html": [
       "<pre>| 4       | 10.65s       | 21.036            | 4.5865                | 0.0186012   |</pre>"
      ],
      "text/plain": [
       "| 4       | 10.65s       | 21.036            | 4.5865                | 0.0186012   |"
      ]
     },
     "metadata": {},
     "output_type": "display_data"
    },
    {
     "data": {
      "text/html": [
       "<pre>| 5       | 11.76s       | 21.0572           | 4.5888                | 0.0186012   |</pre>"
      ],
      "text/plain": [
       "| 5       | 11.76s       | 21.0572           | 4.5888                | 0.0186012   |"
      ]
     },
     "metadata": {},
     "output_type": "display_data"
    },
    {
     "data": {
      "text/html": [
       "<pre>| 6       | 12.90s       | 21.1497           | 4.59888               | 0.0186012   |</pre>"
      ],
      "text/plain": [
       "| 6       | 12.90s       | 21.1497           | 4.59888               | 0.0186012   |"
      ]
     },
     "metadata": {},
     "output_type": "display_data"
    },
    {
     "data": {
      "text/html": [
       "<pre>| 7       | 14.01s       | 21.3931           | 4.62526               | 0.0186012   |</pre>"
      ],
      "text/plain": [
       "| 7       | 14.01s       | 21.3931           | 4.62526               | 0.0186012   |"
      ]
     },
     "metadata": {},
     "output_type": "display_data"
    },
    {
     "data": {
      "text/html": [
       "<pre>| 8       | 15.14s       | 21.8617           | 4.67564               | 0.0186012   |</pre>"
      ],
      "text/plain": [
       "| 8       | 15.14s       | 21.8617           | 4.67564               | 0.0186012   |"
      ]
     },
     "metadata": {},
     "output_type": "display_data"
    },
    {
     "data": {
      "text/html": [
       "<pre>| 9       | 16.59s       | DIVERGED          | DIVERGED              | 0.0186012   |</pre>"
      ],
      "text/plain": [
       "| 9       | 16.59s       | DIVERGED          | DIVERGED              | 0.0186012   |"
      ]
     },
     "metadata": {},
     "output_type": "display_data"
    },
    {
     "data": {
      "text/html": [
       "<pre>| RESET   | 16.93s       | 19.9535           | 4.46694               |             |</pre>"
      ],
      "text/plain": [
       "| RESET   | 16.93s       | 19.9535           | 4.46694               |             |"
      ]
     },
     "metadata": {},
     "output_type": "display_data"
    },
    {
     "data": {
      "text/html": [
       "<pre>| 1       | 18.09s       | 18.8376           | 4.34022               | 0.0093006   |</pre>"
      ],
      "text/plain": [
       "| 1       | 18.09s       | 18.8376           | 4.34022               | 0.0093006   |"
      ]
     },
     "metadata": {},
     "output_type": "display_data"
    },
    {
     "data": {
      "text/html": [
       "<pre>| 2       | 19.21s       | 18.699            | 4.32423               | 0.0093006   |</pre>"
      ],
      "text/plain": [
       "| 2       | 19.21s       | 18.699            | 4.32423               | 0.0093006   |"
      ]
     },
     "metadata": {},
     "output_type": "display_data"
    },
    {
     "data": {
      "text/html": [
       "<pre>| 3       | 20.32s       | 18.7194           | 4.32659               | 0.0093006   |</pre>"
      ],
      "text/plain": [
       "| 3       | 20.32s       | 18.7194           | 4.32659               | 0.0093006   |"
      ]
     },
     "metadata": {},
     "output_type": "display_data"
    },
    {
     "data": {
      "text/html": [
       "<pre>| 4       | 21.46s       | 18.707            | 4.32516               | 0.0093006   |</pre>"
      ],
      "text/plain": [
       "| 4       | 21.46s       | 18.707            | 4.32516               | 0.0093006   |"
      ]
     },
     "metadata": {},
     "output_type": "display_data"
    },
    {
     "data": {
      "text/html": [
       "<pre>| 5       | 22.61s       | 18.7345           | 4.32834               | 0.0093006   |</pre>"
      ],
      "text/plain": [
       "| 5       | 22.61s       | 18.7345           | 4.32834               | 0.0093006   |"
      ]
     },
     "metadata": {},
     "output_type": "display_data"
    },
    {
     "data": {
      "text/html": [
       "<pre>| 6       | 23.72s       | 18.7058           | 4.32501               | 0.0093006   |</pre>"
      ],
      "text/plain": [
       "| 6       | 23.72s       | 18.7058           | 4.32501               | 0.0093006   |"
      ]
     },
     "metadata": {},
     "output_type": "display_data"
    },
    {
     "data": {
      "text/html": [
       "<pre>| 7       | 24.82s       | 18.6638           | 4.32016               | 0.0093006   |</pre>"
      ],
      "text/plain": [
       "| 7       | 24.82s       | 18.6638           | 4.32016               | 0.0093006   |"
      ]
     },
     "metadata": {},
     "output_type": "display_data"
    },
    {
     "data": {
      "text/html": [
       "<pre>| 8       | 25.95s       | 18.6511           | 4.31869               | 0.0093006   |</pre>"
      ],
      "text/plain": [
       "| 8       | 25.95s       | 18.6511           | 4.31869               | 0.0093006   |"
      ]
     },
     "metadata": {},
     "output_type": "display_data"
    },
    {
     "data": {
      "text/html": [
       "<pre>| 9       | 27.06s       | 18.6145           | 4.31445               | 0.0093006   |</pre>"
      ],
      "text/plain": [
       "| 9       | 27.06s       | 18.6145           | 4.31445               | 0.0093006   |"
      ]
     },
     "metadata": {},
     "output_type": "display_data"
    },
    {
     "data": {
      "text/html": [
       "<pre>| 10      | 28.18s       | 18.6021           | 4.31301               | 0.0093006   |</pre>"
      ],
      "text/plain": [
       "| 10      | 28.18s       | 18.6021           | 4.31301               | 0.0093006   |"
      ]
     },
     "metadata": {},
     "output_type": "display_data"
    },
    {
     "data": {
      "text/html": [
       "<pre>| 11      | 29.26s       | 18.5752           | 4.3099                | 0.0093006   |</pre>"
      ],
      "text/plain": [
       "| 11      | 29.26s       | 18.5752           | 4.3099                | 0.0093006   |"
      ]
     },
     "metadata": {},
     "output_type": "display_data"
    },
    {
     "data": {
      "text/html": [
       "<pre>| 12      | 30.40s       | 18.5574           | 4.30783               | 0.0093006   |</pre>"
      ],
      "text/plain": [
       "| 12      | 30.40s       | 18.5574           | 4.30783               | 0.0093006   |"
      ]
     },
     "metadata": {},
     "output_type": "display_data"
    },
    {
     "data": {
      "text/html": [
       "<pre>| 13      | 31.52s       | 18.5412           | 4.30595               | 0.0093006   |</pre>"
      ],
      "text/plain": [
       "| 13      | 31.52s       | 18.5412           | 4.30595               | 0.0093006   |"
      ]
     },
     "metadata": {},
     "output_type": "display_data"
    },
    {
     "data": {
      "text/html": [
       "<pre>| 14      | 32.63s       | 18.5439           | 4.30626               | 0.0093006   |</pre>"
      ],
      "text/plain": [
       "| 14      | 32.63s       | 18.5439           | 4.30626               | 0.0093006   |"
      ]
     },
     "metadata": {},
     "output_type": "display_data"
    },
    {
     "data": {
      "text/html": [
       "<pre>| 15      | 33.73s       | 18.5721           | 4.30953               | 0.0093006   |</pre>"
      ],
      "text/plain": [
       "| 15      | 33.73s       | 18.5721           | 4.30953               | 0.0093006   |"
      ]
     },
     "metadata": {},
     "output_type": "display_data"
    },
    {
     "data": {
      "text/html": [
       "<pre>| 16      | 34.85s       | 18.537            | 4.30546               | 0.0093006   |</pre>"
      ],
      "text/plain": [
       "| 16      | 34.85s       | 18.537            | 4.30546               | 0.0093006   |"
      ]
     },
     "metadata": {},
     "output_type": "display_data"
    },
    {
     "data": {
      "text/html": [
       "<pre>| 17      | 35.97s       | 18.5966           | 4.31238               | 0.0093006   |</pre>"
      ],
      "text/plain": [
       "| 17      | 35.97s       | 18.5966           | 4.31238               | 0.0093006   |"
      ]
     },
     "metadata": {},
     "output_type": "display_data"
    },
    {
     "data": {
      "text/html": [
       "<pre>| 18      | 37.07s       | 18.627            | 4.3159                | 0.0093006   |</pre>"
      ],
      "text/plain": [
       "| 18      | 37.07s       | 18.627            | 4.3159                | 0.0093006   |"
      ]
     },
     "metadata": {},
     "output_type": "display_data"
    },
    {
     "data": {
      "text/html": [
       "<pre>| 19      | 38.18s       | 18.6815           | 4.3222                | 0.0093006   |</pre>"
      ],
      "text/plain": [
       "| 19      | 38.18s       | 18.6815           | 4.3222                | 0.0093006   |"
      ]
     },
     "metadata": {},
     "output_type": "display_data"
    },
    {
     "data": {
      "text/html": [
       "<pre>| 20      | 39.29s       | 18.759            | 4.33117               | 0.0093006   |</pre>"
      ],
      "text/plain": [
       "| 20      | 39.29s       | 18.759            | 4.33117               | 0.0093006   |"
      ]
     },
     "metadata": {},
     "output_type": "display_data"
    },
    {
     "data": {
      "text/html": [
       "<pre>| 21      | 40.40s       | 18.8315           | 4.33953               | 0.0093006   |</pre>"
      ],
      "text/plain": [
       "| 21      | 40.40s       | 18.8315           | 4.33953               | 0.0093006   |"
      ]
     },
     "metadata": {},
     "output_type": "display_data"
    },
    {
     "data": {
      "text/html": [
       "<pre>| 22      | 41.49s       | 18.9089           | 4.34844               | 0.0093006   |</pre>"
      ],
      "text/plain": [
       "| 22      | 41.49s       | 18.9089           | 4.34844               | 0.0093006   |"
      ]
     },
     "metadata": {},
     "output_type": "display_data"
    },
    {
     "data": {
      "text/html": [
       "<pre>| 23      | 42.62s       | 19.0528           | 4.36495               | 0.0093006   |</pre>"
      ],
      "text/plain": [
       "| 23      | 42.62s       | 19.0528           | 4.36495               | 0.0093006   |"
      ]
     },
     "metadata": {},
     "output_type": "display_data"
    },
    {
     "data": {
      "text/html": [
       "<pre>| 24      | 43.75s       | 19.1638           | 4.37764               | 0.0093006   |</pre>"
      ],
      "text/plain": [
       "| 24      | 43.75s       | 19.1638           | 4.37764               | 0.0093006   |"
      ]
     },
     "metadata": {},
     "output_type": "display_data"
    },
    {
     "data": {
      "text/html": [
       "<pre>| 25      | 44.90s       | 19.3324           | 4.39686               | 0.0093006   |</pre>"
      ],
      "text/plain": [
       "| 25      | 44.90s       | 19.3324           | 4.39686               | 0.0093006   |"
      ]
     },
     "metadata": {},
     "output_type": "display_data"
    },
    {
     "data": {
      "text/html": [
       "<pre>| 26      | 46.03s       | 19.4896           | 4.4147                | 0.0093006   |</pre>"
      ],
      "text/plain": [
       "| 26      | 46.03s       | 19.4896           | 4.4147                | 0.0093006   |"
      ]
     },
     "metadata": {},
     "output_type": "display_data"
    },
    {
     "data": {
      "text/html": [
       "<pre>| 27      | 47.18s       | 19.6588           | 4.43382               | 0.0093006   |</pre>"
      ],
      "text/plain": [
       "| 27      | 47.18s       | 19.6588           | 4.43382               | 0.0093006   |"
      ]
     },
     "metadata": {},
     "output_type": "display_data"
    },
    {
     "data": {
      "text/html": [
       "<pre>| 28      | 48.31s       | 19.883            | 4.45904               | 0.0093006   |</pre>"
      ],
      "text/plain": [
       "| 28      | 48.31s       | 19.883            | 4.45904               | 0.0093006   |"
      ]
     },
     "metadata": {},
     "output_type": "display_data"
    },
    {
     "data": {
      "text/html": [
       "<pre>| 29      | 49.43s       | 20.0813           | 4.48121               | 0.0093006   |</pre>"
      ],
      "text/plain": [
       "| 29      | 49.43s       | 20.0813           | 4.48121               | 0.0093006   |"
      ]
     },
     "metadata": {},
     "output_type": "display_data"
    },
    {
     "data": {
      "text/html": [
       "<pre>| 30      | 50.57s       | 20.353            | 4.51142               | 0.0093006   |</pre>"
      ],
      "text/plain": [
       "| 30      | 50.57s       | 20.353            | 4.51142               | 0.0093006   |"
      ]
     },
     "metadata": {},
     "output_type": "display_data"
    },
    {
     "data": {
      "text/html": [
       "<pre>| 31      | 51.70s       | 20.6838           | 4.54794               | 0.0093006   |</pre>"
      ],
      "text/plain": [
       "| 31      | 51.70s       | 20.6838           | 4.54794               | 0.0093006   |"
      ]
     },
     "metadata": {},
     "output_type": "display_data"
    },
    {
     "data": {
      "text/html": [
       "<pre>| 32      | 52.84s       | 20.9774           | 4.58011               | 0.0093006   |</pre>"
      ],
      "text/plain": [
       "| 32      | 52.84s       | 20.9774           | 4.58011               | 0.0093006   |"
      ]
     },
     "metadata": {},
     "output_type": "display_data"
    },
    {
     "data": {
      "text/html": [
       "<pre>| 33      | 53.93s       | 21.3257           | 4.61797               | 0.0093006   |</pre>"
      ],
      "text/plain": [
       "| 33      | 53.93s       | 21.3257           | 4.61797               | 0.0093006   |"
      ]
     },
     "metadata": {},
     "output_type": "display_data"
    },
    {
     "data": {
      "text/html": [
       "<pre>| 34      | 55.35s       | DIVERGED          | DIVERGED              | 0.0093006   |</pre>"
      ],
      "text/plain": [
       "| 34      | 55.35s       | DIVERGED          | DIVERGED              | 0.0093006   |"
      ]
     },
     "metadata": {},
     "output_type": "display_data"
    },
    {
     "data": {
      "text/html": [
       "<pre>| RESET   | 55.70s       | 19.9543           | 4.46702               |             |</pre>"
      ],
      "text/plain": [
       "| RESET   | 55.70s       | 19.9543           | 4.46702               |             |"
      ]
     },
     "metadata": {},
     "output_type": "display_data"
    },
    {
     "data": {
      "text/html": [
       "<pre>| 1       | 57.02s       | 18.8311           | 4.33948               | 0.0046503   |</pre>"
      ],
      "text/plain": [
       "| 1       | 57.02s       | 18.8311           | 4.33948               | 0.0046503   |"
      ]
     },
     "metadata": {},
     "output_type": "display_data"
    },
    {
     "data": {
      "text/html": [
       "<pre>| 2       | 58.13s       | 18.6255           | 4.31573               | 0.0046503   |</pre>"
      ],
      "text/plain": [
       "| 2       | 58.13s       | 18.6255           | 4.31573               | 0.0046503   |"
      ]
     },
     "metadata": {},
     "output_type": "display_data"
    },
    {
     "data": {
      "text/html": [
       "<pre>| 3       | 59.26s       | 18.5851           | 4.31104               | 0.0046503   |</pre>"
      ],
      "text/plain": [
       "| 3       | 59.26s       | 18.5851           | 4.31104               | 0.0046503   |"
      ]
     },
     "metadata": {},
     "output_type": "display_data"
    },
    {
     "data": {
      "text/html": [
       "<pre>| 4       | 1m 0s        | 18.5809           | 4.31056               | 0.0046503   |</pre>"
      ],
      "text/plain": [
       "| 4       | 1m 0s        | 18.5809           | 4.31056               | 0.0046503   |"
      ]
     },
     "metadata": {},
     "output_type": "display_data"
    },
    {
     "data": {
      "text/html": [
       "<pre>| 5       | 1m 1s        | 18.6024           | 4.31305               | 0.0046503   |</pre>"
      ],
      "text/plain": [
       "| 5       | 1m 1s        | 18.6024           | 4.31305               | 0.0046503   |"
      ]
     },
     "metadata": {},
     "output_type": "display_data"
    },
    {
     "data": {
      "text/html": [
       "<pre>| 6       | 1m 2s        | 18.6438           | 4.31785               | 0.0046503   |</pre>"
      ],
      "text/plain": [
       "| 6       | 1m 2s        | 18.6438           | 4.31785               | 0.0046503   |"
      ]
     },
     "metadata": {},
     "output_type": "display_data"
    },
    {
     "data": {
      "text/html": [
       "<pre>| 7       | 1m 3s        | 18.7218           | 4.32686               | 0.0046503   |</pre>"
      ],
      "text/plain": [
       "| 7       | 1m 3s        | 18.7218           | 4.32686               | 0.0046503   |"
      ]
     },
     "metadata": {},
     "output_type": "display_data"
    },
    {
     "data": {
      "text/html": [
       "<pre>+---------+--------------+-------------------+-----------------------+-------------+</pre>"
      ],
      "text/plain": [
       "+---------+--------------+-------------------+-----------------------+-------------+"
      ]
     },
     "metadata": {},
     "output_type": "display_data"
    },
    {
     "data": {
      "text/html": [
       "<pre>Optimization Complete: Maximum number of passes through the data reached (hard limit).</pre>"
      ],
      "text/plain": [
       "Optimization Complete: Maximum number of passes through the data reached (hard limit)."
      ]
     },
     "metadata": {},
     "output_type": "display_data"
    },
    {
     "data": {
      "text/html": [
       "<pre>Computing final objective value and training RMSE.</pre>"
      ],
      "text/plain": [
       "Computing final objective value and training RMSE."
      ]
     },
     "metadata": {},
     "output_type": "display_data"
    },
    {
     "data": {
      "text/html": [
       "<pre>       Final objective value: 18.7509</pre>"
      ],
      "text/plain": [
       "       Final objective value: 18.7509"
      ]
     },
     "metadata": {},
     "output_type": "display_data"
    },
    {
     "data": {
      "text/html": [
       "<pre>       Final training RMSE: 4.33024</pre>"
      ],
      "text/plain": [
       "       Final training RMSE: 4.33024"
      ]
     },
     "metadata": {},
     "output_type": "display_data"
    }
   ],
   "source": [
    "personalized_model_1 = graphlab.recommender.factorization_recommender.create(aisle1.remove_column('days_since_prior_order'),\n",
    "                                                                            user_id = 'user_id',\n",
    "                                                                            item_id = 'product_name',\n",
    "                                                                            target = 'count',\n",
    "                                                                            user_data = user_data1,\n",
    "                                                                            item_data = item_data1\n",
    "                                                                           )"
   ]
  },
  {
   "cell_type": "code",
   "execution_count": 326,
   "metadata": {
    "collapsed": true
   },
   "outputs": [],
   "source": [
    "certain_str1_1 = ['Milk Chocolate Almonds', \n",
    "               'Organic Dark Chocolate Peanut Butter Cups',\n",
    "               'Almonds & Sea Salt in Dark Chocolate',\n",
    "               'Almonds',\n",
    "               'Milk Chocolate Covered Raisins']"
   ]
  },
  {
   "cell_type": "code",
   "execution_count": 331,
   "metadata": {
    "collapsed": true
   },
   "outputs": [],
   "source": [
    "certain_str1_2 = ['Unsweetened Premium Iced Tea', \n",
    "               'Zen Tea',\n",
    "               'Premium Unsweetened Iced Tea',\n",
    "               'Earl Grey Tea',\n",
    "               'Variety Diet Tea']"
   ]
  },
  {
   "cell_type": "code",
   "execution_count": 332,
   "metadata": {
    "collapsed": true
   },
   "outputs": [],
   "source": [
    "certain_str1_3 = ['Unsweetened Almondmilk', \n",
    "               'Organic Unsweetened Almond Milk',\n",
    "               'nsweetened Original Almond Breeze Almond Milk',\n",
    "               'Unsweetened Vanilla Almond Milk',\n",
    "               'Vanilla Almond Breeze Almond Milk']"
   ]
  },
  {
   "cell_type": "code",
   "execution_count": 333,
   "metadata": {
    "collapsed": true
   },
   "outputs": [],
   "source": [
    "certain_str1 = [certain_str1_1, certain_str1_2, certain_str1_3]"
   ]
  },
  {
   "cell_type": "code",
   "execution_count": 375,
   "metadata": {
    "collapsed": true
   },
   "outputs": [],
   "source": [
    "personal_recommend1 = {}\n",
    "for s in range(len(certain_str1)): \n",
    "    appended_data = []\n",
    "    for item in certain_str1[s]:\n",
    "        df = personalized_model_1.get_similar_items([item])\n",
    "        appended_data.append(df)\n",
    "    personal_recommend1[s] = appended_data   "
   ]
  },
  {
   "cell_type": "code",
   "execution_count": 376,
   "metadata": {
    "collapsed": true
   },
   "outputs": [
    {
     "data": {
      "text/plain": [
       "[Columns:\n",
       " \tproduct_name\tstr\n",
       " \tsimilar\tstr\n",
       " \tscore\tfloat\n",
       " \trank\tint\n",
       " \n",
       " Rows: 10\n",
       " \n",
       " Data:\n",
       " +------------------------+-------------------------------+----------------+------+\n",
       " |      product_name      |            similar            |     score      | rank |\n",
       " +------------------------+-------------------------------+----------------+------+\n",
       " | Milk Chocolate Almonds | Lunchables Turkey & Americ... | 0.999949336052 |  1   |\n",
       " | Milk Chocolate Almonds |          Swiss Rolls          | 0.999941408634 |  2   |\n",
       " | Milk Chocolate Almonds | Dark Chocolate Pumpkin See... | 0.999922990799 |  3   |\n",
       " | Milk Chocolate Almonds | Pretzel In Milk Chocolate Bar | 0.999904453754 |  4   |\n",
       " | Milk Chocolate Almonds | Dark Chocolate With Carame... | 0.999868869781 |  5   |\n",
       " | Milk Chocolate Almonds | Rapid Relief Reflux Relief... | 0.999866962433 |  6   |\n",
       " | Milk Chocolate Almonds | Apricot  Walnut & Coconut ... | 0.999865233898 |  7   |\n",
       " | Milk Chocolate Almonds | Vegetable Chips, Taro, Sea... | 0.999844372272 |  8   |\n",
       " | Milk Chocolate Almonds |   Vegan Cheddar Mac & Cheese  | 0.999815165997 |  9   |\n",
       " | Milk Chocolate Almonds |       BBQ Chopped Salad       | 0.999762356281 |  10  |\n",
       " +------------------------+-------------------------------+----------------+------+\n",
       " [10 rows x 4 columns], Columns:\n",
       " \tproduct_name\tstr\n",
       " \tsimilar\tstr\n",
       " \tscore\tfloat\n",
       " \trank\tint\n",
       " \n",
       " Rows: 10\n",
       " \n",
       " Data:\n",
       " +-------------------------------+--------------------------------+\n",
       " |          product_name         |            similar             |\n",
       " +-------------------------------+--------------------------------+\n",
       " | Organic Dark Chocolate Pea... | Milk Chocolate Covered Raisins |\n",
       " | Organic Dark Chocolate Pea... | Kettle Chips, Avocado Oil,...  |\n",
       " | Organic Dark Chocolate Pea... |     Le 100% Chocolate Bar      |\n",
       " | Organic Dark Chocolate Pea... | Cookies, Chocolate Chip Walnut |\n",
       " | Organic Dark Chocolate Pea... | Free and Gentle Unscented ...  |\n",
       " | Organic Dark Chocolate Pea... | Triple Chocolate Chip Cookies  |\n",
       " | Organic Dark Chocolate Pea... |    Organic Gracious Granola    |\n",
       " | Organic Dark Chocolate Pea... | Special Dark Miniatures Ch...  |\n",
       " | Organic Dark Chocolate Pea... | Licorice Soft Eating Raspberry |\n",
       " | Organic Dark Chocolate Pea... |             Milano             |\n",
       " +-------------------------------+--------------------------------+\n",
       " +----------------+------+\n",
       " |     score      | rank |\n",
       " +----------------+------+\n",
       " | 0.999886631966 |  1   |\n",
       " | 0.999865233898 |  2   |\n",
       " | 0.999834001064 |  3   |\n",
       " | 0.999831557274 |  4   |\n",
       " | 0.999813258648 |  5   |\n",
       " | 0.999776601791 |  6   |\n",
       " | 0.999761998653 |  7   |\n",
       " | 0.999755322933 |  8   |\n",
       " | 0.999753892422 |  9   |\n",
       " | 0.99973076582  |  10  |\n",
       " +----------------+------+\n",
       " [10 rows x 4 columns], Columns:\n",
       " \tproduct_name\tstr\n",
       " \tsimilar\tstr\n",
       " \tscore\tfloat\n",
       " \trank\tint\n",
       " \n",
       " Rows: 10\n",
       " \n",
       " Data:\n",
       " +-------------------------------+--------------------------------+\n",
       " |          product_name         |            similar             |\n",
       " +-------------------------------+--------------------------------+\n",
       " | Almonds & Sea Salt in Dark... | Five Star Chocolate Bar Peanut |\n",
       " | Almonds & Sea Salt in Dark... | Organic Fair Trade 73% Dar...  |\n",
       " | Almonds & Sea Salt in Dark... | Light and Lean 3 Cheese Pe...  |\n",
       " | Almonds & Sea Salt in Dark... |         Italian Bread          |\n",
       " | Almonds & Sea Salt in Dark... |    45% Cacao Barcelona Bar     |\n",
       " | Almonds & Sea Salt in Dark... | Superfood Currant Cacao & ...  |\n",
       " | Almonds & Sea Salt in Dark... | Veganic Sprouted Brown Ric...  |\n",
       " | Almonds & Sea Salt in Dark... | 12 Hour Orange Adult Cough...  |\n",
       " | Almonds & Sea Salt in Dark... |     100% Whole Wheat Bread     |\n",
       " | Almonds & Sea Salt in Dark... |   Organic Black Mission Figs   |\n",
       " +-------------------------------+--------------------------------+\n",
       " +----------------+------+\n",
       " |     score      | rank |\n",
       " +----------------+------+\n",
       " | 0.999970793724 |  1   |\n",
       " | 0.999950706959 |  2   |\n",
       " | 0.99994289875  |  3   |\n",
       " | 0.999942779541 |  4   |\n",
       " | 0.999940395355 |  5   |\n",
       " | 0.999935507774 |  6   |\n",
       " | 0.999933362007 |  7   |\n",
       " | 0.999926626682 |  8   |\n",
       " | 0.999925494194 |  9   |\n",
       " | 0.999922454357 |  10  |\n",
       " +----------------+------+\n",
       " [10 rows x 4 columns], Columns:\n",
       " \tproduct_name\tstr\n",
       " \tsimilar\tstr\n",
       " \tscore\tfloat\n",
       " \trank\tint\n",
       " \n",
       " Rows: 10\n",
       " \n",
       " Data:\n",
       " +--------------+-------------------------------+----------------+------+\n",
       " | product_name |            similar            |     score      | rank |\n",
       " +--------------+-------------------------------+----------------+------+\n",
       " |   Almonds    |         Almond Butter         | 0.999759793282 |  1   |\n",
       " |   Almonds    |  Sea Salt Brown Rice Crackers | 0.999734759331 |  2   |\n",
       " |   Almonds    |     Carmel Milk Chocolate     | 0.999714195728 |  3   |\n",
       " |   Almonds    |    Light Sea Salt Plentils    | 0.99968880415  |  4   |\n",
       " |   Almonds    | Chocolate Peanut Crisp Pro... | 0.999678552151 |  5   |\n",
       " |   Almonds    |            Fire Log           | 0.999563455582 |  6   |\n",
       " |   Almonds    |      Organic Medium Salsa     | 0.999496102333 |  7   |\n",
       " |   Almonds    |    Lemon Cashew Protein Bar   | 0.999304175377 |  8   |\n",
       " |   Almonds    | Cinnamon Raisin Swirl Pre-... | 0.999214529991 |  9   |\n",
       " |   Almonds    |          Dried Mangos         | 0.999211907387 |  10  |\n",
       " +--------------+-------------------------------+----------------+------+\n",
       " [10 rows x 4 columns], Columns:\n",
       " \tproduct_name\tstr\n",
       " \tsimilar\tstr\n",
       " \tscore\tfloat\n",
       " \trank\tint\n",
       " \n",
       " Rows: 10\n",
       " \n",
       " Data:\n",
       " +--------------------------------+--------------------------------+\n",
       " |          product_name          |            similar             |\n",
       " +--------------------------------+--------------------------------+\n",
       " | Milk Chocolate Covered Raisins | Licorice Soft Eating Raspberry |\n",
       " | Milk Chocolate Covered Raisins |     Le 100% Chocolate Bar      |\n",
       " | Milk Chocolate Covered Raisins | Salted Peanut Butter Fille...  |\n",
       " | Milk Chocolate Covered Raisins |             Milano             |\n",
       " | Milk Chocolate Covered Raisins | Organic Dark Chocolate Pea...  |\n",
       " | Milk Chocolate Covered Raisins | Free and Gentle Unscented ...  |\n",
       " | Milk Chocolate Covered Raisins | Real Vegetable Chips Origi...  |\n",
       " | Milk Chocolate Covered Raisins | Kettle Chips, Avocado Oil,...  |\n",
       " | Milk Chocolate Covered Raisins | Cookies, Chocolate Chip Walnut |\n",
       " | Milk Chocolate Covered Raisins | Granola Bar, Fig, Cranberr...  |\n",
       " +--------------------------------+--------------------------------+\n",
       " +----------------+------+\n",
       " |     score      | rank |\n",
       " +----------------+------+\n",
       " | 0.99996137619  |  1   |\n",
       " | 0.999939262867 |  2   |\n",
       " | 0.999928176403 |  3   |\n",
       " | 0.99990183115  |  4   |\n",
       " | 0.999886631966 |  5   |\n",
       " | 0.999865114689 |  6   |\n",
       " | 0.999842643738 |  7   |\n",
       " | 0.999827265739 |  8   |\n",
       " | 0.999791800976 |  9   |\n",
       " | 0.999758243561 |  10  |\n",
       " +----------------+------+\n",
       " [10 rows x 4 columns]]"
      ]
     },
     "execution_count": 376,
     "metadata": {},
     "output_type": "execute_result"
    }
   ],
   "source": [
    "personal_recommend1[0]"
   ]
  },
  {
   "cell_type": "code",
   "execution_count": 361,
   "metadata": {
    "collapsed": true
   },
   "outputs": [
    {
     "name": "stdout",
     "output_type": "stream",
     "text": [
      "+------------------------------+-----------------------------------------------------+----------------+------+\n",
      "|         product_name         |                       similar                       |     score      | rank |\n",
      "+------------------------------+-----------------------------------------------------+----------------+------+\n",
      "| Unsweetened Premium Iced Tea |                Premium Glacier Water                | 0.999877810478 |  1   |\n",
      "| Unsweetened Premium Iced Tea | Fragrance Free Natural Confidence Deodorant Crystal | 0.999869406223 |  2   |\n",
      "| Unsweetened Premium Iced Tea |                 Organic Roots Juice                 | 0.999849438667 |  3   |\n",
      "| Unsweetened Premium Iced Tea |                 Black Tea With Lemon                | 0.999817311764 |  4   |\n",
      "| Unsweetened Premium Iced Tea |             Crystal Fresh Drinking Water            | 0.999808847904 |  5   |\n",
      "| Unsweetened Premium Iced Tea |        Original Sparkling Seltzer Water Cans        | 0.999805033207 |  6   |\n",
      "| Unsweetened Premium Iced Tea |         Vitamin Water Zero Squeezed Lemonade        | 0.999770343304 |  7   |\n",
      "| Unsweetened Premium Iced Tea |                      Smartwater                     | 0.99976837635  |  8   |\n",
      "| Unsweetened Premium Iced Tea |                Mint Glide Floss Picks               | 0.999768316746 |  9   |\n",
      "| Unsweetened Premium Iced Tea |             Peach Sparkling Energy Water            | 0.999762654305 |  10  |\n",
      "+------------------------------+-----------------------------------------------------+----------------+------+\n",
      "[10 rows x 4 columns]\n",
      "\n"
     ]
    }
   ],
   "source": [
    "personal_recommend1[1][0].print_rows(max_column_width = 300)"
   ]
  },
  {
   "cell_type": "code",
   "execution_count": 338,
   "metadata": {
    "collapsed": true
   },
   "outputs": [
    {
     "data": {
      "text/plain": [
       "[Columns:\n",
       " \tproduct_name\tstr\n",
       " \tsimilar\tstr\n",
       " \tscore\tfloat\n",
       " \trank\tint\n",
       " \n",
       " Rows: 10\n",
       " \n",
       " Data:\n",
       " +------------------------+-------------------------------+----------------+------+\n",
       " |      product_name      |            similar            |     score      | rank |\n",
       " +------------------------+-------------------------------+----------------+------+\n",
       " | Unsweetened Almondmilk |      Original Almondmilk      | 0.999992549419 |  1   |\n",
       " | Unsweetened Almondmilk | Organic Pomegranate Lemona... | 0.999989748001 |  2   |\n",
       " | Unsweetened Almondmilk | Organic Coconut Lime Kombucha | 0.999985575676 |  3   |\n",
       " | Unsweetened Almondmilk |        Mocha Cappuccino       | 0.999984443188 |  4   |\n",
       " | Unsweetened Almondmilk |  Chewy Fruit & Veggie Snacks  | 0.999984383583 |  5   |\n",
       " | Unsweetened Almondmilk | Lemon Sparkling Natural Mi... | 0.999984145164 |  6   |\n",
       " | Unsweetened Almondmilk |   Organic Raw Kombucha Case   | 0.999983847141 |  7   |\n",
       " | Unsweetened Almondmilk | Juice Blend, Organic Veget... | 0.999983489513 |  8   |\n",
       " | Unsweetened Almondmilk | Lactose Free 2% Reduced Fa... | 0.999981939793 |  9   |\n",
       " | Unsweetened Almondmilk |    Kombucha  Bilberry No. 9   | 0.99998152256  |  10  |\n",
       " +------------------------+-------------------------------+----------------+------+\n",
       " [10 rows x 4 columns], Columns:\n",
       " \tproduct_name\tstr\n",
       " \tsimilar\tstr\n",
       " \tscore\tfloat\n",
       " \trank\tint\n",
       " \n",
       " Rows: 10\n",
       " \n",
       " Data:\n",
       " +-------------------------------+-------------------------------+----------------+\n",
       " |          product_name         |            similar            |     score      |\n",
       " +-------------------------------+-------------------------------+----------------+\n",
       " | Organic Unsweetened Almond... | Acai Juice with Yerba Mate... | 0.999984323978 |\n",
       " | Organic Unsweetened Almond... |         Juice, Escape         | 0.999983072281 |\n",
       " | Organic Unsweetened Almond... |   Ultra-Filtered Whole Milk   | 0.999982357025 |\n",
       " | Organic Unsweetened Almond... | Cold-Pressed Sweet Greens ... | 0.999977886677 |\n",
       " | Organic Unsweetened Almond... |  Blueberry Banana Almondmilk  | 0.999977350235 |\n",
       " | Organic Unsweetened Almond... | Wonderful Pomegranate Cher... | 0.999975562096 |\n",
       " | Organic Unsweetened Almond... | Premium Grapefruit Juice R... | 0.999975025654 |\n",
       " | Organic Unsweetened Almond... | Aloe Vera Pomegranate + Cr... | 0.999973297119 |\n",
       " | Organic Unsweetened Almond... |  Acai Machine Juice Smoothie  | 0.999972999096 |\n",
       " | Organic Unsweetened Almond... |      Ginger Chia Kombucha     | 0.999972999096 |\n",
       " +-------------------------------+-------------------------------+----------------+\n",
       " +------+\n",
       " | rank |\n",
       " +------+\n",
       " |  1   |\n",
       " |  2   |\n",
       " |  3   |\n",
       " |  4   |\n",
       " |  5   |\n",
       " |  6   |\n",
       " |  7   |\n",
       " |  8   |\n",
       " |  9   |\n",
       " |  10  |\n",
       " +------+\n",
       " [10 rows x 4 columns], Columns:\n",
       " \tproduct_name\tstr\n",
       " \tsimilar\tstr\n",
       " \tscore\tfloat\n",
       " \trank\tint\n",
       " \n",
       " Rows: 0\n",
       " \n",
       " Data:\n",
       " \t[], Columns:\n",
       " \tproduct_name\tstr\n",
       " \tsimilar\tstr\n",
       " \tscore\tfloat\n",
       " \trank\tint\n",
       " \n",
       " Rows: 10\n",
       " \n",
       " Data:\n",
       " +-------------------------------+-------------------------------+----------------+\n",
       " |          product_name         |            similar            |     score      |\n",
       " +-------------------------------+-------------------------------+----------------+\n",
       " | Unsweetened Vanilla Almond... |           Guacamole           | 0.998863101006 |\n",
       " | Unsweetened Vanilla Almond... |    Marrakesh Mint Green Tea   | 0.99844455719  |\n",
       " | Unsweetened Vanilla Almond... |    Nonfat Probiotic Drinks    | 0.998432040215 |\n",
       " | Unsweetened Vanilla Almond... |         Assorted Candy        | 0.998252213001 |\n",
       " | Unsweetened Vanilla Almond... |         Mixed Berries         | 0.997992098331 |\n",
       " | Unsweetened Vanilla Almond... | English Breakfast Black Te... | 0.997965037823 |\n",
       " | Unsweetened Vanilla Almond... |      Pure Decaf Green Tea     | 0.997945189476 |\n",
       " | Unsweetened Vanilla Almond... |   Rustic Tomato Basil Sauce   | 0.997935950756 |\n",
       " | Unsweetened Vanilla Almond... |       Splash Berry Blend      | 0.997885704041 |\n",
       " | Unsweetened Vanilla Almond... | School Safe Chocolate Chip... | 0.997784674168 |\n",
       " +-------------------------------+-------------------------------+----------------+\n",
       " +------+\n",
       " | rank |\n",
       " +------+\n",
       " |  1   |\n",
       " |  2   |\n",
       " |  3   |\n",
       " |  4   |\n",
       " |  5   |\n",
       " |  6   |\n",
       " |  7   |\n",
       " |  8   |\n",
       " |  9   |\n",
       " |  10  |\n",
       " +------+\n",
       " [10 rows x 4 columns], Columns:\n",
       " \tproduct_name\tstr\n",
       " \tsimilar\tstr\n",
       " \tscore\tfloat\n",
       " \trank\tint\n",
       " \n",
       " Rows: 10\n",
       " \n",
       " Data:\n",
       " +-------------------------------+-------------------------------+----------------+\n",
       " |          product_name         |            similar            |     score      |\n",
       " +-------------------------------+-------------------------------+----------------+\n",
       " | Vanilla Almond Breeze Almo... |    Fruit Punch Sports Drink   | 0.999882876873 |\n",
       " | Vanilla Almond Breeze Almo... |      Organic Carrot Juice     | 0.999875545502 |\n",
       " | Vanilla Almond Breeze Almo... |       Original Soy Milk       | 0.999872088432 |\n",
       " | Vanilla Almond Breeze Almo... |      Mineral Green Elixir     | 0.999867200851 |\n",
       " | Vanilla Almond Breeze Almo... | Cherry Lime Vitality Beverage | 0.999865651131 |\n",
       " | Vanilla Almond Breeze Almo... |  Mighty Mango Juice Smoothie  | 0.999856650829 |\n",
       " | Vanilla Almond Breeze Almo... |   Coffee Cold Brew Fs W Mcts  | 0.999821960926 |\n",
       " | Vanilla Almond Breeze Almo... | Compostable Basket Coffee ... | 0.999807476997 |\n",
       " | Vanilla Almond Breeze Almo... | Master Brew Kombucha Raspb... | 0.999804735184 |\n",
       " | Vanilla Almond Breeze Almo... | Organic Cold Pressed Carro... | 0.999717950821 |\n",
       " +-------------------------------+-------------------------------+----------------+\n",
       " +------+\n",
       " | rank |\n",
       " +------+\n",
       " |  1   |\n",
       " |  2   |\n",
       " |  3   |\n",
       " |  4   |\n",
       " |  5   |\n",
       " |  6   |\n",
       " |  7   |\n",
       " |  8   |\n",
       " |  9   |\n",
       " |  10  |\n",
       " +------+\n",
       " [10 rows x 4 columns]]"
      ]
     },
     "execution_count": 338,
     "metadata": {},
     "output_type": "execute_result"
    }
   ],
   "source": [
    "personal_recommend1[2]"
   ]
  },
  {
   "cell_type": "code",
   "execution_count": 224,
   "metadata": {
    "collapsed": true
   },
   "outputs": [],
   "source": [
    "aisle2 = graphlab.SFrame(cluster[2])"
   ]
  },
  {
   "cell_type": "code",
   "execution_count": 225,
   "metadata": {
    "collapsed": true
   },
   "outputs": [],
   "source": [
    "user_data2, item_data2 = user_item(aisle2)"
   ]
  },
  {
   "cell_type": "code",
   "execution_count": 226,
   "metadata": {
    "collapsed": true
   },
   "outputs": [
    {
     "data": {
      "text/html": [
       "<pre>Recsys training: model = factorization_recommender</pre>"
      ],
      "text/plain": [
       "Recsys training: model = factorization_recommender"
      ]
     },
     "metadata": {},
     "output_type": "display_data"
    },
    {
     "data": {
      "text/html": [
       "<pre>Preparing data set.</pre>"
      ],
      "text/plain": [
       "Preparing data set."
      ]
     },
     "metadata": {},
     "output_type": "display_data"
    },
    {
     "data": {
      "text/html": [
       "<pre>    Data has 1613589 observations with 34245 users and 36646 items.</pre>"
      ],
      "text/plain": [
       "    Data has 1613589 observations with 34245 users and 36646 items."
      ]
     },
     "metadata": {},
     "output_type": "display_data"
    },
    {
     "data": {
      "text/html": [
       "<pre>    Data prepared in: 5.01518s</pre>"
      ],
      "text/plain": [
       "    Data prepared in: 5.01518s"
      ]
     },
     "metadata": {},
     "output_type": "display_data"
    },
    {
     "data": {
      "text/html": [
       "<pre>Training factorization_recommender for recommendations.</pre>"
      ],
      "text/plain": [
       "Training factorization_recommender for recommendations."
      ]
     },
     "metadata": {},
     "output_type": "display_data"
    },
    {
     "data": {
      "text/html": [
       "<pre>+--------------------------------+--------------------------------------------------+----------+</pre>"
      ],
      "text/plain": [
       "+--------------------------------+--------------------------------------------------+----------+"
      ]
     },
     "metadata": {},
     "output_type": "display_data"
    },
    {
     "data": {
      "text/html": [
       "<pre>| Parameter                      | Description                                      | Value    |</pre>"
      ],
      "text/plain": [
       "| Parameter                      | Description                                      | Value    |"
      ]
     },
     "metadata": {},
     "output_type": "display_data"
    },
    {
     "data": {
      "text/html": [
       "<pre>+--------------------------------+--------------------------------------------------+----------+</pre>"
      ],
      "text/plain": [
       "+--------------------------------+--------------------------------------------------+----------+"
      ]
     },
     "metadata": {},
     "output_type": "display_data"
    },
    {
     "data": {
      "text/html": [
       "<pre>| num_factors                    | Factor Dimension                                 | 8        |</pre>"
      ],
      "text/plain": [
       "| num_factors                    | Factor Dimension                                 | 8        |"
      ]
     },
     "metadata": {},
     "output_type": "display_data"
    },
    {
     "data": {
      "text/html": [
       "<pre>| regularization                 | L2 Regularization on Factors                     | 1e-08    |</pre>"
      ],
      "text/plain": [
       "| regularization                 | L2 Regularization on Factors                     | 1e-08    |"
      ]
     },
     "metadata": {},
     "output_type": "display_data"
    },
    {
     "data": {
      "text/html": [
       "<pre>| solver                         | Solver used for training                         | adagrad  |</pre>"
      ],
      "text/plain": [
       "| solver                         | Solver used for training                         | adagrad  |"
      ]
     },
     "metadata": {},
     "output_type": "display_data"
    },
    {
     "data": {
      "text/html": [
       "<pre>| linear_regularization          | L2 Regularization on Linear Coefficients         | 1e-10    |</pre>"
      ],
      "text/plain": [
       "| linear_regularization          | L2 Regularization on Linear Coefficients         | 1e-10    |"
      ]
     },
     "metadata": {},
     "output_type": "display_data"
    },
    {
     "data": {
      "text/html": [
       "<pre>| side_data_factorization        | Assign Factors for Side Data                     | True     |</pre>"
      ],
      "text/plain": [
       "| side_data_factorization        | Assign Factors for Side Data                     | True     |"
      ]
     },
     "metadata": {},
     "output_type": "display_data"
    },
    {
     "data": {
      "text/html": [
       "<pre>| max_iterations                 | Maximum Number of Iterations                     | 50       |</pre>"
      ],
      "text/plain": [
       "| max_iterations                 | Maximum Number of Iterations                     | 50       |"
      ]
     },
     "metadata": {},
     "output_type": "display_data"
    },
    {
     "data": {
      "text/html": [
       "<pre>+--------------------------------+--------------------------------------------------+----------+</pre>"
      ],
      "text/plain": [
       "+--------------------------------+--------------------------------------------------+----------+"
      ]
     },
     "metadata": {},
     "output_type": "display_data"
    },
    {
     "data": {
      "text/html": [
       "<pre>  Optimizing model using SGD; tuning step size.</pre>"
      ],
      "text/plain": [
       "  Optimizing model using SGD; tuning step size."
      ]
     },
     "metadata": {},
     "output_type": "display_data"
    },
    {
     "data": {
      "text/html": [
       "<pre>  Using 201698 / 1613589 points for tuning the step size.</pre>"
      ],
      "text/plain": [
       "  Using 201698 / 1613589 points for tuning the step size."
      ]
     },
     "metadata": {},
     "output_type": "display_data"
    },
    {
     "data": {
      "text/html": [
       "<pre>+---------+-------------------+------------------------------------------+</pre>"
      ],
      "text/plain": [
       "+---------+-------------------+------------------------------------------+"
      ]
     },
     "metadata": {},
     "output_type": "display_data"
    },
    {
     "data": {
      "text/html": [
       "<pre>| Attempt | Initial Step Size | Estimated Objective Value                |</pre>"
      ],
      "text/plain": [
       "| Attempt | Initial Step Size | Estimated Objective Value                |"
      ]
     },
     "metadata": {},
     "output_type": "display_data"
    },
    {
     "data": {
      "text/html": [
       "<pre>+---------+-------------------+------------------------------------------+</pre>"
      ],
      "text/plain": [
       "+---------+-------------------+------------------------------------------+"
      ]
     },
     "metadata": {},
     "output_type": "display_data"
    },
    {
     "data": {
      "text/html": [
       "<pre>| 0       | 2.38095           | Not Viable                               |</pre>"
      ],
      "text/plain": [
       "| 0       | 2.38095           | Not Viable                               |"
      ]
     },
     "metadata": {},
     "output_type": "display_data"
    },
    {
     "data": {
      "text/html": [
       "<pre>| 1       | 0.595238          | Not Viable                               |</pre>"
      ],
      "text/plain": [
       "| 1       | 0.595238          | Not Viable                               |"
      ]
     },
     "metadata": {},
     "output_type": "display_data"
    },
    {
     "data": {
      "text/html": [
       "<pre>| 2       | 0.14881           | Not Viable                               |</pre>"
      ],
      "text/plain": [
       "| 2       | 0.14881           | Not Viable                               |"
      ]
     },
     "metadata": {},
     "output_type": "display_data"
    },
    {
     "data": {
      "text/html": [
       "<pre>| 3       | 0.0372024         | 17.2599                                  |</pre>"
      ],
      "text/plain": [
       "| 3       | 0.0372024         | 17.2599                                  |"
      ]
     },
     "metadata": {},
     "output_type": "display_data"
    },
    {
     "data": {
      "text/html": [
       "<pre>| 4       | 0.0186012         | No Decrease (21.2625 >= 19.1559)         |</pre>"
      ],
      "text/plain": [
       "| 4       | 0.0186012         | No Decrease (21.2625 >= 19.1559)         |"
      ]
     },
     "metadata": {},
     "output_type": "display_data"
    },
    {
     "data": {
      "text/html": [
       "<pre>| 5       | 0.0046503         | 17.6421                                  |</pre>"
      ],
      "text/plain": [
       "| 5       | 0.0046503         | 17.6421                                  |"
      ]
     },
     "metadata": {},
     "output_type": "display_data"
    },
    {
     "data": {
      "text/html": [
       "<pre>| 6       | 0.00232515        | 17.7201                                  |</pre>"
      ],
      "text/plain": [
       "| 6       | 0.00232515        | 17.7201                                  |"
      ]
     },
     "metadata": {},
     "output_type": "display_data"
    },
    {
     "data": {
      "text/html": [
       "<pre>+---------+-------------------+------------------------------------------+</pre>"
      ],
      "text/plain": [
       "+---------+-------------------+------------------------------------------+"
      ]
     },
     "metadata": {},
     "output_type": "display_data"
    },
    {
     "data": {
      "text/html": [
       "<pre>| Final   | 0.0372024         | 17.2599                                  |</pre>"
      ],
      "text/plain": [
       "| Final   | 0.0372024         | 17.2599                                  |"
      ]
     },
     "metadata": {},
     "output_type": "display_data"
    },
    {
     "data": {
      "text/html": [
       "<pre>+---------+-------------------+------------------------------------------+</pre>"
      ],
      "text/plain": [
       "+---------+-------------------+------------------------------------------+"
      ]
     },
     "metadata": {},
     "output_type": "display_data"
    },
    {
     "data": {
      "text/html": [
       "<pre>Starting Optimization.</pre>"
      ],
      "text/plain": [
       "Starting Optimization."
      ]
     },
     "metadata": {},
     "output_type": "display_data"
    },
    {
     "data": {
      "text/html": [
       "<pre>+---------+--------------+-------------------+-----------------------+-------------+</pre>"
      ],
      "text/plain": [
       "+---------+--------------+-------------------+-----------------------+-------------+"
      ]
     },
     "metadata": {},
     "output_type": "display_data"
    },
    {
     "data": {
      "text/html": [
       "<pre>| Iter.   | Elapsed Time | Approx. Objective | Approx. Training RMSE | Step Size   |</pre>"
      ],
      "text/plain": [
       "| Iter.   | Elapsed Time | Approx. Objective | Approx. Training RMSE | Step Size   |"
      ]
     },
     "metadata": {},
     "output_type": "display_data"
    },
    {
     "data": {
      "text/html": [
       "<pre>+---------+--------------+-------------------+-----------------------+-------------+</pre>"
      ],
      "text/plain": [
       "+---------+--------------+-------------------+-----------------------+-------------+"
      ]
     },
     "metadata": {},
     "output_type": "display_data"
    },
    {
     "data": {
      "text/html": [
       "<pre>| Initial | 101us        | 19.3437           | 4.39815               |             |</pre>"
      ],
      "text/plain": [
       "| Initial | 101us        | 19.3437           | 4.39815               |             |"
      ]
     },
     "metadata": {},
     "output_type": "display_data"
    },
    {
     "data": {
      "text/html": [
       "<pre>+---------+--------------+-------------------+-----------------------+-------------+</pre>"
      ],
      "text/plain": [
       "+---------+--------------+-------------------+-----------------------+-------------+"
      ]
     },
     "metadata": {},
     "output_type": "display_data"
    },
    {
     "data": {
      "text/html": [
       "<pre>| 1       | 1.09s        | 20.7913           | 4.55973               | 0.0372024   |</pre>"
      ],
      "text/plain": [
       "| 1       | 1.09s        | 20.7913           | 4.55973               | 0.0372024   |"
      ]
     },
     "metadata": {},
     "output_type": "display_data"
    },
    {
     "data": {
      "text/html": [
       "<pre>| 2       | 2.37s        | DIVERGED          | DIVERGED              | 0.0372024   |</pre>"
      ],
      "text/plain": [
       "| 2       | 2.37s        | DIVERGED          | DIVERGED              | 0.0372024   |"
      ]
     },
     "metadata": {},
     "output_type": "display_data"
    },
    {
     "data": {
      "text/html": [
       "<pre>| RESET   | 2.65s        | 19.3438           | 4.39815               |             |</pre>"
      ],
      "text/plain": [
       "| RESET   | 2.65s        | 19.3438           | 4.39815               |             |"
      ]
     },
     "metadata": {},
     "output_type": "display_data"
    },
    {
     "data": {
      "text/html": [
       "<pre>| 1       | 3.72s        | 17.6386           | 4.19983               | 0.0186012   |</pre>"
      ],
      "text/plain": [
       "| 1       | 3.72s        | 17.6386           | 4.19983               | 0.0186012   |"
      ]
     },
     "metadata": {},
     "output_type": "display_data"
    },
    {
     "data": {
      "text/html": [
       "<pre>| 2       | 4.76s        | 17.6973           | 4.20682               | 0.0186012   |</pre>"
      ],
      "text/plain": [
       "| 2       | 4.76s        | 17.6973           | 4.20682               | 0.0186012   |"
      ]
     },
     "metadata": {},
     "output_type": "display_data"
    },
    {
     "data": {
      "text/html": [
       "<pre>| 3       | 5.80s        | 18.0392           | 4.24726               | 0.0186012   |</pre>"
      ],
      "text/plain": [
       "| 3       | 5.80s        | 18.0392           | 4.24726               | 0.0186012   |"
      ]
     },
     "metadata": {},
     "output_type": "display_data"
    },
    {
     "data": {
      "text/html": [
       "<pre>| 4       | 6.83s        | 18.3275           | 4.28106               | 0.0186012   |</pre>"
      ],
      "text/plain": [
       "| 4       | 6.83s        | 18.3275           | 4.28106               | 0.0186012   |"
      ]
     },
     "metadata": {},
     "output_type": "display_data"
    },
    {
     "data": {
      "text/html": [
       "<pre>| 5       | 7.88s        | 18.4561           | 4.29606               | 0.0186012   |</pre>"
      ],
      "text/plain": [
       "| 5       | 7.88s        | 18.4561           | 4.29606               | 0.0186012   |"
      ]
     },
     "metadata": {},
     "output_type": "display_data"
    },
    {
     "data": {
      "text/html": [
       "<pre>| 6       | 8.92s        | 18.581            | 4.31056               | 0.0186012   |</pre>"
      ],
      "text/plain": [
       "| 6       | 8.92s        | 18.581            | 4.31056               | 0.0186012   |"
      ]
     },
     "metadata": {},
     "output_type": "display_data"
    },
    {
     "data": {
      "text/html": [
       "<pre>| 7       | 9.95s        | 18.7064           | 4.32508               | 0.0186012   |</pre>"
      ],
      "text/plain": [
       "| 7       | 9.95s        | 18.7064           | 4.32508               | 0.0186012   |"
      ]
     },
     "metadata": {},
     "output_type": "display_data"
    },
    {
     "data": {
      "text/html": [
       "<pre>| 8       | 10.99s       | 18.9259           | 4.35039               | 0.0186012   |</pre>"
      ],
      "text/plain": [
       "| 8       | 10.99s       | 18.9259           | 4.35039               | 0.0186012   |"
      ]
     },
     "metadata": {},
     "output_type": "display_data"
    },
    {
     "data": {
      "text/html": [
       "<pre>| 9       | 12.03s       | 19.1699           | 4.37834               | 0.0186012   |</pre>"
      ],
      "text/plain": [
       "| 9       | 12.03s       | 19.1699           | 4.37834               | 0.0186012   |"
      ]
     },
     "metadata": {},
     "output_type": "display_data"
    },
    {
     "data": {
      "text/html": [
       "<pre>| 10      | 13.07s       | 19.3774           | 4.40198               | 0.0186012   |</pre>"
      ],
      "text/plain": [
       "| 10      | 13.07s       | 19.3774           | 4.40198               | 0.0186012   |"
      ]
     },
     "metadata": {},
     "output_type": "display_data"
    },
    {
     "data": {
      "text/html": [
       "<pre>| 11      | 14.10s       | 19.6578           | 4.43371               | 0.0186012   |</pre>"
      ],
      "text/plain": [
       "| 11      | 14.10s       | 19.6578           | 4.43371               | 0.0186012   |"
      ]
     },
     "metadata": {},
     "output_type": "display_data"
    },
    {
     "data": {
      "text/html": [
       "<pre>| 12      | 15.14s       | 19.9406           | 4.46548               | 0.0186012   |</pre>"
      ],
      "text/plain": [
       "| 12      | 15.14s       | 19.9406           | 4.46548               | 0.0186012   |"
      ]
     },
     "metadata": {},
     "output_type": "display_data"
    },
    {
     "data": {
      "text/html": [
       "<pre>| 13      | 16.19s       | 20.2773           | 4.50302               | 0.0186012   |</pre>"
      ],
      "text/plain": [
       "| 13      | 16.19s       | 20.2773           | 4.50302               | 0.0186012   |"
      ]
     },
     "metadata": {},
     "output_type": "display_data"
    },
    {
     "data": {
      "text/html": [
       "<pre>| 14      | 17.24s       | 20.5496           | 4.53316               | 0.0186012   |</pre>"
      ],
      "text/plain": [
       "| 14      | 17.24s       | 20.5496           | 4.53316               | 0.0186012   |"
      ]
     },
     "metadata": {},
     "output_type": "display_data"
    },
    {
     "data": {
      "text/html": [
       "<pre>| 15      | 18.51s       | DIVERGED          | DIVERGED              | 0.0186012   |</pre>"
      ],
      "text/plain": [
       "| 15      | 18.51s       | DIVERGED          | DIVERGED              | 0.0186012   |"
      ]
     },
     "metadata": {},
     "output_type": "display_data"
    },
    {
     "data": {
      "text/html": [
       "<pre>| RESET   | 18.81s       | 19.3437           | 4.39814               |             |</pre>"
      ],
      "text/plain": [
       "| RESET   | 18.81s       | 19.3437           | 4.39814               |             |"
      ]
     },
     "metadata": {},
     "output_type": "display_data"
    },
    {
     "data": {
      "text/html": [
       "<pre>| 1       | 19.89s       | 18.2776           | 4.27524               | 0.0093006   |</pre>"
      ],
      "text/plain": [
       "| 1       | 19.89s       | 18.2776           | 4.27524               | 0.0093006   |"
      ]
     },
     "metadata": {},
     "output_type": "display_data"
    },
    {
     "data": {
      "text/html": [
       "<pre>| 2       | 20.92s       | 17.7016           | 4.20732               | 0.0093006   |</pre>"
      ],
      "text/plain": [
       "| 2       | 20.92s       | 17.7016           | 4.20732               | 0.0093006   |"
      ]
     },
     "metadata": {},
     "output_type": "display_data"
    },
    {
     "data": {
      "text/html": [
       "<pre>| 3       | 21.97s       | 17.6158           | 4.19711               | 0.0093006   |</pre>"
      ],
      "text/plain": [
       "| 3       | 21.97s       | 17.6158           | 4.19711               | 0.0093006   |"
      ]
     },
     "metadata": {},
     "output_type": "display_data"
    },
    {
     "data": {
      "text/html": [
       "<pre>| 4       | 23.00s       | 17.7493           | 4.21299               | 0.0093006   |</pre>"
      ],
      "text/plain": [
       "| 4       | 23.00s       | 17.7493           | 4.21299               | 0.0093006   |"
      ]
     },
     "metadata": {},
     "output_type": "display_data"
    },
    {
     "data": {
      "text/html": [
       "<pre>| 5       | 24.04s       | 17.9159           | 4.23272               | 0.0093006   |</pre>"
      ],
      "text/plain": [
       "| 5       | 24.04s       | 17.9159           | 4.23272               | 0.0093006   |"
      ]
     },
     "metadata": {},
     "output_type": "display_data"
    },
    {
     "data": {
      "text/html": [
       "<pre>| 6       | 25.10s       | 17.8169           | 4.221                 | 0.0093006   |</pre>"
      ],
      "text/plain": [
       "| 6       | 25.10s       | 17.8169           | 4.221                 | 0.0093006   |"
      ]
     },
     "metadata": {},
     "output_type": "display_data"
    },
    {
     "data": {
      "text/html": [
       "<pre>| 7       | 26.14s       | 17.9002           | 4.23086               | 0.0093006   |</pre>"
      ],
      "text/plain": [
       "| 7       | 26.14s       | 17.9002           | 4.23086               | 0.0093006   |"
      ]
     },
     "metadata": {},
     "output_type": "display_data"
    },
    {
     "data": {
      "text/html": [
       "<pre>| 8       | 27.18s       | 18.2048           | 4.26671               | 0.0093006   |</pre>"
      ],
      "text/plain": [
       "| 8       | 27.18s       | 18.2048           | 4.26671               | 0.0093006   |"
      ]
     },
     "metadata": {},
     "output_type": "display_data"
    },
    {
     "data": {
      "text/html": [
       "<pre>| 9       | 28.22s       | 18.6089           | 4.3138                | 0.0093006   |</pre>"
      ],
      "text/plain": [
       "| 9       | 28.22s       | 18.6089           | 4.3138                | 0.0093006   |"
      ]
     },
     "metadata": {},
     "output_type": "display_data"
    },
    {
     "data": {
      "text/html": [
       "<pre>| 10      | 29.26s       | 19.1189           | 4.37252               | 0.0093006   |</pre>"
      ],
      "text/plain": [
       "| 10      | 29.26s       | 19.1189           | 4.37252               | 0.0093006   |"
      ]
     },
     "metadata": {},
     "output_type": "display_data"
    },
    {
     "data": {
      "text/html": [
       "<pre>| 11      | 30.30s       | 19.7659           | 4.44588               | 0.0093006   |</pre>"
      ],
      "text/plain": [
       "| 11      | 30.30s       | 19.7659           | 4.44588               | 0.0093006   |"
      ]
     },
     "metadata": {},
     "output_type": "display_data"
    },
    {
     "data": {
      "text/html": [
       "<pre>| 12      | 31.35s       | 20.4079           | 4.51751               | 0.0093006   |</pre>"
      ],
      "text/plain": [
       "| 12      | 31.35s       | 20.4079           | 4.51751               | 0.0093006   |"
      ]
     },
     "metadata": {},
     "output_type": "display_data"
    },
    {
     "data": {
      "text/html": [
       "<pre>| 13      | 32.40s       | 21.1416           | 4.59799               | 0.0093006   |</pre>"
      ],
      "text/plain": [
       "| 13      | 32.40s       | 21.1416           | 4.59799               | 0.0093006   |"
      ]
     },
     "metadata": {},
     "output_type": "display_data"
    },
    {
     "data": {
      "text/html": [
       "<pre>| 14      | 33.46s       | 21.8955           | 4.67926               | 0.0093006   |</pre>"
      ],
      "text/plain": [
       "| 14      | 33.46s       | 21.8955           | 4.67926               | 0.0093006   |"
      ]
     },
     "metadata": {},
     "output_type": "display_data"
    },
    {
     "data": {
      "text/html": [
       "<pre>| 15      | 34.50s       | 22.7125           | 4.76576               | 0.0093006   |</pre>"
      ],
      "text/plain": [
       "| 15      | 34.50s       | 22.7125           | 4.76576               | 0.0093006   |"
      ]
     },
     "metadata": {},
     "output_type": "display_data"
    },
    {
     "data": {
      "text/html": [
       "<pre>| 16      | 35.77s       | DIVERGED          | DIVERGED              | 0.0093006   |</pre>"
      ],
      "text/plain": [
       "| 16      | 35.77s       | DIVERGED          | DIVERGED              | 0.0093006   |"
      ]
     },
     "metadata": {},
     "output_type": "display_data"
    },
    {
     "data": {
      "text/html": [
       "<pre>| RESET   | 36.04s       | 19.3434           | 4.39811               |             |</pre>"
      ],
      "text/plain": [
       "| RESET   | 36.04s       | 19.3434           | 4.39811               |             |"
      ]
     },
     "metadata": {},
     "output_type": "display_data"
    },
    {
     "data": {
      "text/html": [
       "<pre>| 1       | 37.14s       | 17.9186           | 4.23304               | 0.0046503   |</pre>"
      ],
      "text/plain": [
       "| 1       | 37.14s       | 17.9186           | 4.23304               | 0.0046503   |"
      ]
     },
     "metadata": {},
     "output_type": "display_data"
    },
    {
     "data": {
      "text/html": [
       "<pre>| 2       | 38.19s       | 17.6308           | 4.19891               | 0.0046503   |</pre>"
      ],
      "text/plain": [
       "| 2       | 38.19s       | 17.6308           | 4.19891               | 0.0046503   |"
      ]
     },
     "metadata": {},
     "output_type": "display_data"
    },
    {
     "data": {
      "text/html": [
       "<pre>| 3       | 39.22s       | 17.5001           | 4.18331               | 0.0046503   |</pre>"
      ],
      "text/plain": [
       "| 3       | 39.22s       | 17.5001           | 4.18331               | 0.0046503   |"
      ]
     },
     "metadata": {},
     "output_type": "display_data"
    },
    {
     "data": {
      "text/html": [
       "<pre>| 4       | 40.28s       | 17.4103           | 4.17257               | 0.0046503   |</pre>"
      ],
      "text/plain": [
       "| 4       | 40.28s       | 17.4103           | 4.17257               | 0.0046503   |"
      ]
     },
     "metadata": {},
     "output_type": "display_data"
    },
    {
     "data": {
      "text/html": [
       "<pre>| 5       | 41.32s       | 17.3381           | 4.1639                | 0.0046503   |</pre>"
      ],
      "text/plain": [
       "| 5       | 41.32s       | 17.3381           | 4.1639                | 0.0046503   |"
      ]
     },
     "metadata": {},
     "output_type": "display_data"
    },
    {
     "data": {
      "text/html": [
       "<pre>| 6       | 42.35s       | 17.2777           | 4.15664               | 0.0046503   |</pre>"
      ],
      "text/plain": [
       "| 6       | 42.35s       | 17.2777           | 4.15664               | 0.0046503   |"
      ]
     },
     "metadata": {},
     "output_type": "display_data"
    },
    {
     "data": {
      "text/html": [
       "<pre>| 7       | 43.41s       | 17.2259           | 4.1504                | 0.0046503   |</pre>"
      ],
      "text/plain": [
       "| 7       | 43.41s       | 17.2259           | 4.1504                | 0.0046503   |"
      ]
     },
     "metadata": {},
     "output_type": "display_data"
    },
    {
     "data": {
      "text/html": [
       "<pre>| 8       | 44.44s       | 17.1802           | 4.1449                | 0.0046503   |</pre>"
      ],
      "text/plain": [
       "| 8       | 44.44s       | 17.1802           | 4.1449                | 0.0046503   |"
      ]
     },
     "metadata": {},
     "output_type": "display_data"
    },
    {
     "data": {
      "text/html": [
       "<pre>| 9       | 45.47s       | 17.1401           | 4.14007               | 0.0046503   |</pre>"
      ],
      "text/plain": [
       "| 9       | 45.47s       | 17.1401           | 4.14007               | 0.0046503   |"
      ]
     },
     "metadata": {},
     "output_type": "display_data"
    },
    {
     "data": {
      "text/html": [
       "<pre>| 10      | 46.53s       | 17.1007           | 4.13529               | 0.0046503   |</pre>"
      ],
      "text/plain": [
       "| 10      | 46.53s       | 17.1007           | 4.13529               | 0.0046503   |"
      ]
     },
     "metadata": {},
     "output_type": "display_data"
    },
    {
     "data": {
      "text/html": [
       "<pre>| 11      | 47.57s       | 17.066            | 4.1311                | 0.0046503   |</pre>"
      ],
      "text/plain": [
       "| 11      | 47.57s       | 17.066            | 4.1311                | 0.0046503   |"
      ]
     },
     "metadata": {},
     "output_type": "display_data"
    },
    {
     "data": {
      "text/html": [
       "<pre>| 12      | 48.61s       | 17.0339           | 4.12722               | 0.0046503   |</pre>"
      ],
      "text/plain": [
       "| 12      | 48.61s       | 17.0339           | 4.12722               | 0.0046503   |"
      ]
     },
     "metadata": {},
     "output_type": "display_data"
    },
    {
     "data": {
      "text/html": [
       "<pre>| 13      | 49.65s       | 17.0032           | 4.12349               | 0.0046503   |</pre>"
      ],
      "text/plain": [
       "| 13      | 49.65s       | 17.0032           | 4.12349               | 0.0046503   |"
      ]
     },
     "metadata": {},
     "output_type": "display_data"
    },
    {
     "data": {
      "text/html": [
       "<pre>| 14      | 50.68s       | 16.976            | 4.12019               | 0.0046503   |</pre>"
      ],
      "text/plain": [
       "| 14      | 50.68s       | 16.976            | 4.12019               | 0.0046503   |"
      ]
     },
     "metadata": {},
     "output_type": "display_data"
    },
    {
     "data": {
      "text/html": [
       "<pre>| 15      | 51.72s       | 16.9493           | 4.11695               | 0.0046503   |</pre>"
      ],
      "text/plain": [
       "| 15      | 51.72s       | 16.9493           | 4.11695               | 0.0046503   |"
      ]
     },
     "metadata": {},
     "output_type": "display_data"
    },
    {
     "data": {
      "text/html": [
       "<pre>| 16      | 52.75s       | 16.9227           | 4.11372               | 0.0046503   |</pre>"
      ],
      "text/plain": [
       "| 16      | 52.75s       | 16.9227           | 4.11372               | 0.0046503   |"
      ]
     },
     "metadata": {},
     "output_type": "display_data"
    },
    {
     "data": {
      "text/html": [
       "<pre>| 17      | 53.78s       | 16.8989           | 4.11083               | 0.0046503   |</pre>"
      ],
      "text/plain": [
       "| 17      | 53.78s       | 16.8989           | 4.11083               | 0.0046503   |"
      ]
     },
     "metadata": {},
     "output_type": "display_data"
    },
    {
     "data": {
      "text/html": [
       "<pre>| 18      | 54.82s       | 16.876            | 4.10804               | 0.0046503   |</pre>"
      ],
      "text/plain": [
       "| 18      | 54.82s       | 16.876            | 4.10804               | 0.0046503   |"
      ]
     },
     "metadata": {},
     "output_type": "display_data"
    },
    {
     "data": {
      "text/html": [
       "<pre>| 19      | 55.86s       | 16.8561           | 4.10561               | 0.0046503   |</pre>"
      ],
      "text/plain": [
       "| 19      | 55.86s       | 16.8561           | 4.10561               | 0.0046503   |"
      ]
     },
     "metadata": {},
     "output_type": "display_data"
    },
    {
     "data": {
      "text/html": [
       "<pre>| 20      | 56.90s       | 16.8332           | 4.10283               | 0.0046503   |</pre>"
      ],
      "text/plain": [
       "| 20      | 56.90s       | 16.8332           | 4.10283               | 0.0046503   |"
      ]
     },
     "metadata": {},
     "output_type": "display_data"
    },
    {
     "data": {
      "text/html": [
       "<pre>| 21      | 57.94s       | 16.8177           | 4.10094               | 0.0046503   |</pre>"
      ],
      "text/plain": [
       "| 21      | 57.94s       | 16.8177           | 4.10094               | 0.0046503   |"
      ]
     },
     "metadata": {},
     "output_type": "display_data"
    },
    {
     "data": {
      "text/html": [
       "<pre>| 22      | 58.99s       | 16.7978           | 4.09851               | 0.0046503   |</pre>"
      ],
      "text/plain": [
       "| 22      | 58.99s       | 16.7978           | 4.09851               | 0.0046503   |"
      ]
     },
     "metadata": {},
     "output_type": "display_data"
    },
    {
     "data": {
      "text/html": [
       "<pre>+---------+--------------+-------------------+-----------------------+-------------+</pre>"
      ],
      "text/plain": [
       "+---------+--------------+-------------------+-----------------------+-------------+"
      ]
     },
     "metadata": {},
     "output_type": "display_data"
    },
    {
     "data": {
      "text/html": [
       "<pre>Optimization Complete: Maximum number of passes through the data reached (hard limit).</pre>"
      ],
      "text/plain": [
       "Optimization Complete: Maximum number of passes through the data reached (hard limit)."
      ]
     },
     "metadata": {},
     "output_type": "display_data"
    },
    {
     "data": {
      "text/html": [
       "<pre>Computing final objective value and training RMSE.</pre>"
      ],
      "text/plain": [
       "Computing final objective value and training RMSE."
      ]
     },
     "metadata": {},
     "output_type": "display_data"
    },
    {
     "data": {
      "text/html": [
       "<pre>       Final objective value: 16.7802</pre>"
      ],
      "text/plain": [
       "       Final objective value: 16.7802"
      ]
     },
     "metadata": {},
     "output_type": "display_data"
    },
    {
     "data": {
      "text/html": [
       "<pre>       Final training RMSE: 4.09636</pre>"
      ],
      "text/plain": [
       "       Final training RMSE: 4.09636"
      ]
     },
     "metadata": {},
     "output_type": "display_data"
    }
   ],
   "source": [
    "personalized_model_2 = graphlab.recommender.factorization_recommender.create(aisle2.remove_column('days_since_prior_order'),\n",
    "                                                                            user_id = 'user_id',\n",
    "                                                                            item_id = 'product_name',\n",
    "                                                                            target = 'count',\n",
    "                                                                            user_data = user_data2,\n",
    "                                                                            item_data = item_data2\n",
    "                                                                           )"
   ]
  },
  {
   "cell_type": "code",
   "execution_count": 339,
   "metadata": {
    "collapsed": true
   },
   "outputs": [],
   "source": [
    "certain_str2_0 = ['Total 2% with Strawberry Lowfat Greek Strained Yogurt', \n",
    "               'Total 2% Lowfat Greek Strained Yogurt with Peach',\n",
    "               'Total 2% Lowfat Greek Strained Yogurt With Blueberry',\n",
    "               'Total 2% All Natural Greek Strained Yogurt with Honey',\n",
    "               'Total 2% Greek Strained Yogurt with Cherry 5.3 oz']"
   ]
  },
  {
   "cell_type": "code",
   "execution_count": 377,
   "metadata": {
    "collapsed": true
   },
   "outputs": [],
   "source": [
    "appended_data = []\n",
    "for item in certain_str2_0:\n",
    "    df = personalized_model_1.get_similar_items([item])\n",
    "    appended_data.append(df)"
   ]
  },
  {
   "cell_type": "code",
   "execution_count": 378,
   "metadata": {},
   "outputs": [
    {
     "data": {
      "text/plain": [
       "[Columns:\n",
       " \tproduct_name\tstr\n",
       " \tsimilar\tstr\n",
       " \tscore\tfloat\n",
       " \trank\tint\n",
       " \n",
       " Rows: 10\n",
       " \n",
       " Data:\n",
       " +-------------------------------+-------------------------------+----------------+\n",
       " |          product_name         |            similar            |     score      |\n",
       " +-------------------------------+-------------------------------+----------------+\n",
       " | Total 2% with Strawberry L... | Superfood Premium Fruit Sm... | 0.99999588728  |\n",
       " | Total 2% with Strawberry L... | Medium Roast Extra Bold K-... | 0.999995291233 |\n",
       " | Total 2% with Strawberry L... | French Roast Single Serve ... | 0.999994337559 |\n",
       " | Total 2% with Strawberry L... |   Shade Grown Ground Coffee   | 0.999990999699 |\n",
       " | Total 2% with Strawberry L... |       Organic Lime Juice      | 0.999990820885 |\n",
       " | Total 2% with Strawberry L... | Medium Roast Extra Bold De... | 0.999990522861 |\n",
       " | Total 2% with Strawberry L... |       Owl's Howl Coffee       | 0.999990224838 |\n",
       " | Total 2% with Strawberry L... | Organic Strawberry Super C... | 0.999989509583 |\n",
       " | Total 2% with Strawberry L... | 100% Orange Strawberry Ban... | 0.999989449978 |\n",
       " | Total 2% with Strawberry L... | 100% Cold Pressed Apricot ... | 0.999988615513 |\n",
       " +-------------------------------+-------------------------------+----------------+\n",
       " +------+\n",
       " | rank |\n",
       " +------+\n",
       " |  1   |\n",
       " |  2   |\n",
       " |  3   |\n",
       " |  4   |\n",
       " |  5   |\n",
       " |  6   |\n",
       " |  7   |\n",
       " |  8   |\n",
       " |  9   |\n",
       " |  10  |\n",
       " +------+\n",
       " [10 rows x 4 columns], Columns:\n",
       " \tproduct_name\tstr\n",
       " \tsimilar\tstr\n",
       " \tscore\tfloat\n",
       " \trank\tint\n",
       " \n",
       " Rows: 10\n",
       " \n",
       " Data:\n",
       " +-------------------------------+-------------------------------+----------------+\n",
       " |          product_name         |            similar            |     score      |\n",
       " +-------------------------------+-------------------------------+----------------+\n",
       " | Total 2% Lowfat Greek Stra... | Cocoa Noir Cold Brew Coffe... | 0.999993622303 |\n",
       " | Total 2% Lowfat Greek Stra... |       Frappuccino Mocha       | 0.999990642071 |\n",
       " | Total 2% Lowfat Greek Stra... | Dandruff Relief Shampoo + ... | 0.999988913536 |\n",
       " | Total 2% Lowfat Greek Stra... | Mahogany Dark Roast Ground... | 0.99998819828  |\n",
       " | Total 2% Lowfat Greek Stra... | Organic & Fair Trade Green... | 0.999987781048 |\n",
       " | Total 2% Lowfat Greek Stra... | G2 Low Calorie Fruit Punch... | 0.99998742342  |\n",
       " | Total 2% Lowfat Greek Stra... |    Cranberry Grape Cocktail   | 0.999986946583 |\n",
       " | Total 2% Lowfat Greek Stra... |        Diet Ginger Ale        | 0.999986171722 |\n",
       " | Total 2% Lowfat Greek Stra... |   White Cherry Sports Drink   | 0.999985814095 |\n",
       " | Total 2% Lowfat Greek Stra... | Pears Apples + Baby Rice, ... | 0.999983727932 |\n",
       " +-------------------------------+-------------------------------+----------------+\n",
       " +------+\n",
       " | rank |\n",
       " +------+\n",
       " |  1   |\n",
       " |  2   |\n",
       " |  3   |\n",
       " |  4   |\n",
       " |  5   |\n",
       " |  6   |\n",
       " |  7   |\n",
       " |  8   |\n",
       " |  9   |\n",
       " |  10  |\n",
       " +------+\n",
       " [10 rows x 4 columns], Columns:\n",
       " \tproduct_name\tstr\n",
       " \tsimilar\tstr\n",
       " \tscore\tfloat\n",
       " \trank\tint\n",
       " \n",
       " Rows: 10\n",
       " \n",
       " Data:\n",
       " +-------------------------------+--------------------------------+\n",
       " |          product_name         |            similar             |\n",
       " +-------------------------------+--------------------------------+\n",
       " | Total 2% Lowfat Greek Stra... | Keurig Medium Roast Lively...  |\n",
       " | Total 2% Lowfat Greek Stra... |     Plain Soymilk Creamer      |\n",
       " | Total 2% Lowfat Greek Stra... |         Arancita Rossa         |\n",
       " | Total 2% Lowfat Greek Stra... | Verona Blend Decaf Ground ...  |\n",
       " | Total 2% Lowfat Greek Stra... | Wild Prickly Pear Cactus Water |\n",
       " | Total 2% Lowfat Greek Stra... |       Caffeine Free Diet       |\n",
       " | Total 2% Lowfat Greek Stra... | Icelandic Style Fat Free P...  |\n",
       " | Total 2% Lowfat Greek Stra... | Kombucha, Organic Raw, Lav...  |\n",
       " | Total 2% Lowfat Greek Stra... | Herbal All Purpose Grind, ...  |\n",
       " | Total 2% Lowfat Greek Stra... | Cafe Solano Medium Roast G...  |\n",
       " +-------------------------------+--------------------------------+\n",
       " +----------------+------+\n",
       " |     score      | rank |\n",
       " +----------------+------+\n",
       " | 0.999997138977 |  1   |\n",
       " | 0.999996721745 |  2   |\n",
       " | 0.999995529652 |  3   |\n",
       " | 0.99999499321  |  4   |\n",
       " | 0.999993741512 |  5   |\n",
       " | 0.999993741512 |  6   |\n",
       " | 0.99999320507  |  7   |\n",
       " | 0.999993026257 |  8   |\n",
       " | 0.999992787838 |  9   |\n",
       " | 0.999992489815 |  10  |\n",
       " +----------------+------+\n",
       " [10 rows x 4 columns], Columns:\n",
       " \tproduct_name\tstr\n",
       " \tsimilar\tstr\n",
       " \tscore\tfloat\n",
       " \trank\tint\n",
       " \n",
       " Rows: 10\n",
       " \n",
       " Data:\n",
       " +-------------------------------+-------------------------------+----------------+\n",
       " |          product_name         |            similar            |     score      |\n",
       " +-------------------------------+-------------------------------+----------------+\n",
       " | Total 2% All Natural Greek... | Original Cold Brew  Coffee... | 0.99999320507  |\n",
       " | Total 2% All Natural Greek... | Ground Espresso Coffee Med... | 0.99999243021  |\n",
       " | Total 2% All Natural Greek... | Organic Spicy Lemonade Jui... | 0.999990284443 |\n",
       " | Total 2% All Natural Greek... |     Kombucha Seasonal Plum    | 0.99998819828  |\n",
       " | Total 2% All Natural Greek... |   Ground Coffee and Chicory   | 0.999987185001 |\n",
       " | Total 2% All Natural Greek... |          Mocha K-Cups         | 0.999987185001 |\n",
       " | Total 2% All Natural Greek... |     Ginger Berry Kombucha     | 0.999987125397 |\n",
       " | Total 2% All Natural Greek... |  Big Bang Medium Roast Coffee | 0.999986350536 |\n",
       " | Total 2% All Natural Greek... |      Mango Premium Nectar     | 0.999985694885 |\n",
       " | Total 2% All Natural Greek... |   Blueberry B Juice Smoothie  | 0.999985694885 |\n",
       " +-------------------------------+-------------------------------+----------------+\n",
       " +------+\n",
       " | rank |\n",
       " +------+\n",
       " |  1   |\n",
       " |  2   |\n",
       " |  3   |\n",
       " |  4   |\n",
       " |  5   |\n",
       " |  6   |\n",
       " |  7   |\n",
       " |  8   |\n",
       " |  9   |\n",
       " |  10  |\n",
       " +------+\n",
       " [10 rows x 4 columns], Columns:\n",
       " \tproduct_name\tstr\n",
       " \tsimilar\tstr\n",
       " \tscore\tfloat\n",
       " \trank\tint\n",
       " \n",
       " Rows: 10\n",
       " \n",
       " Data:\n",
       " +-------------------------------+-------------------------------+----------------+\n",
       " |          product_name         |            similar            |     score      |\n",
       " +-------------------------------+-------------------------------+----------------+\n",
       " | Total 2% Greek Strained Yo... | Pineapple Coconut Water 10... | 0.999911308289 |\n",
       " | Total 2% Greek Strained Yo... |  Green Machine Juice Smoothie | 0.999884605408 |\n",
       " | Total 2% Greek Strained Yo... |    Cranberry Juice Cocktail   | 0.999881625175 |\n",
       " | Total 2% Greek Strained Yo... | Major Dickason's Blend Who... | 0.999877870083 |\n",
       " | Total 2% Greek Strained Yo... |      Glacier Freeze Frost     | 0.999866724014 |\n",
       " | Total 2% Greek Strained Yo... |   Classic Caffeine Free Soda  | 0.999863266945 |\n",
       " | Total 2% Greek Strained Yo... |  Caffe Espresso Ground Coffee | 0.999847590923 |\n",
       " | Total 2% Greek Strained Yo... |         Glacier Freeze        | 0.999816358089 |\n",
       " | Total 2% Greek Strained Yo... | Organic Greek Whole Milk B... | 0.999754726887 |\n",
       " | Total 2% Greek Strained Yo... |  Glow Vegetable & Fruit Juice | 0.999720335007 |\n",
       " +-------------------------------+-------------------------------+----------------+\n",
       " +------+\n",
       " | rank |\n",
       " +------+\n",
       " |  1   |\n",
       " |  2   |\n",
       " |  3   |\n",
       " |  4   |\n",
       " |  5   |\n",
       " |  6   |\n",
       " |  7   |\n",
       " |  8   |\n",
       " |  9   |\n",
       " |  10  |\n",
       " +------+\n",
       " [10 rows x 4 columns]]"
      ]
     },
     "execution_count": 378,
     "metadata": {},
     "output_type": "execute_result"
    }
   ],
   "source": [
    "appended_data"
   ]
  },
  {
   "cell_type": "code",
   "execution_count": 380,
   "metadata": {
    "collapsed": true
   },
   "outputs": [
    {
     "name": "stdout",
     "output_type": "stream",
     "text": [
      "+-------------------------------------------------------+\n",
      "|                      product_name                     |\n",
      "+-------------------------------------------------------+\n",
      "| Total 2% with Strawberry Lowfat Greek Strained Yogurt |\n",
      "| Total 2% with Strawberry Lowfat Greek Strained Yogurt |\n",
      "| Total 2% with Strawberry Lowfat Greek Strained Yogurt |\n",
      "| Total 2% with Strawberry Lowfat Greek Strained Yogurt |\n",
      "| Total 2% with Strawberry Lowfat Greek Strained Yogurt |\n",
      "| Total 2% with Strawberry Lowfat Greek Strained Yogurt |\n",
      "| Total 2% with Strawberry Lowfat Greek Strained Yogurt |\n",
      "| Total 2% with Strawberry Lowfat Greek Strained Yogurt |\n",
      "| Total 2% with Strawberry Lowfat Greek Strained Yogurt |\n",
      "| Total 2% with Strawberry Lowfat Greek Strained Yogurt |\n",
      "+-------------------------------------------------------+\n",
      "+----------------------------------------------------------+----------------+------+\n",
      "|                         similar                          |     score      | rank |\n",
      "+----------------------------------------------------------+----------------+------+\n",
      "|    Superfood Premium Fruit Smoothie Blend Blueberry B    | 0.99999588728  |  1   |\n",
      "|        Medium Roast Extra Bold K-Cup Packs Coffee        | 0.999995291233 |  2   |\n",
      "|         French Roast Single Serve Coffee K-Cups          | 0.999994337559 |  3   |\n",
      "|                Shade Grown Ground Coffee                 | 0.999990999699 |  4   |\n",
      "|                    Organic Lime Juice                    | 0.999990820885 |  5   |\n",
      "| Medium Roast Extra Bold Decaffeinated K Cup Coffee Packs | 0.999990522861 |  6   |\n",
      "|                    Owl's Howl Coffee                     | 0.999990224838 |  7   |\n",
      "|       Organic Strawberry Super C Vitatrition Juice       | 0.999989509583 |  8   |\n",
      "|           100% Orange Strawberry Banana Juice            | 0.999989449978 |  9   |\n",
      "|          100% Cold Pressed Apricot Apple Nectar          | 0.999988615513 |  10  |\n",
      "+----------------------------------------------------------+----------------+------+\n",
      "[10 rows x 4 columns]\n",
      "\n"
     ]
    }
   ],
   "source": [
    "appended_data[0].print_rows(max_column_width = 80)"
   ]
  },
  {
   "cell_type": "markdown",
   "metadata": {},
   "source": [
    "Recommendations for yogurt for this group of customers are tea, coffee, smoothies, cocktail……most of them of drinks, which makes sense. From recommendation based on factorization personality model, customers in this group like yougurt also like coffee. Customers buying yougurt with low fat also like products with low calorie, such as G2 Low Calorie Fruit Punch Drink. Also customers buying strawberry yougurt also like ohter products with fruits flavor such as Superfood Premium Fruit Smoothie Blend Blueberry.          "
   ]
  },
  {
   "cell_type": "code",
   "execution_count": 217,
   "metadata": {
    "collapsed": true
   },
   "outputs": [],
   "source": [
    "aisle3 = graphlab.SFrame(cluster[3])"
   ]
  },
  {
   "cell_type": "code",
   "execution_count": 218,
   "metadata": {
    "collapsed": true
   },
   "outputs": [],
   "source": [
    "user_data3, item_data3 = user_item(aisle3)"
   ]
  },
  {
   "cell_type": "code",
   "execution_count": 219,
   "metadata": {
    "collapsed": true
   },
   "outputs": [
    {
     "data": {
      "text/html": [
       "<pre>Recsys training: model = factorization_recommender</pre>"
      ],
      "text/plain": [
       "Recsys training: model = factorization_recommender"
      ]
     },
     "metadata": {},
     "output_type": "display_data"
    },
    {
     "data": {
      "text/html": [
       "<pre>Preparing data set.</pre>"
      ],
      "text/plain": [
       "Preparing data set."
      ]
     },
     "metadata": {},
     "output_type": "display_data"
    },
    {
     "data": {
      "text/html": [
       "<pre>    Data has 1660212 observations with 20496 users and 37768 items.</pre>"
      ],
      "text/plain": [
       "    Data has 1660212 observations with 20496 users and 37768 items."
      ]
     },
     "metadata": {},
     "output_type": "display_data"
    },
    {
     "data": {
      "text/html": [
       "<pre>    Data prepared in: 7.98707s</pre>"
      ],
      "text/plain": [
       "    Data prepared in: 7.98707s"
      ]
     },
     "metadata": {},
     "output_type": "display_data"
    },
    {
     "data": {
      "text/html": [
       "<pre>Training factorization_recommender for recommendations.</pre>"
      ],
      "text/plain": [
       "Training factorization_recommender for recommendations."
      ]
     },
     "metadata": {},
     "output_type": "display_data"
    },
    {
     "data": {
      "text/html": [
       "<pre>+--------------------------------+--------------------------------------------------+----------+</pre>"
      ],
      "text/plain": [
       "+--------------------------------+--------------------------------------------------+----------+"
      ]
     },
     "metadata": {},
     "output_type": "display_data"
    },
    {
     "data": {
      "text/html": [
       "<pre>| Parameter                      | Description                                      | Value    |</pre>"
      ],
      "text/plain": [
       "| Parameter                      | Description                                      | Value    |"
      ]
     },
     "metadata": {},
     "output_type": "display_data"
    },
    {
     "data": {
      "text/html": [
       "<pre>+--------------------------------+--------------------------------------------------+----------+</pre>"
      ],
      "text/plain": [
       "+--------------------------------+--------------------------------------------------+----------+"
      ]
     },
     "metadata": {},
     "output_type": "display_data"
    },
    {
     "data": {
      "text/html": [
       "<pre>| num_factors                    | Factor Dimension                                 | 8        |</pre>"
      ],
      "text/plain": [
       "| num_factors                    | Factor Dimension                                 | 8        |"
      ]
     },
     "metadata": {},
     "output_type": "display_data"
    },
    {
     "data": {
      "text/html": [
       "<pre>| regularization                 | L2 Regularization on Factors                     | 1e-08    |</pre>"
      ],
      "text/plain": [
       "| regularization                 | L2 Regularization on Factors                     | 1e-08    |"
      ]
     },
     "metadata": {},
     "output_type": "display_data"
    },
    {
     "data": {
      "text/html": [
       "<pre>| solver                         | Solver used for training                         | adagrad  |</pre>"
      ],
      "text/plain": [
       "| solver                         | Solver used for training                         | adagrad  |"
      ]
     },
     "metadata": {},
     "output_type": "display_data"
    },
    {
     "data": {
      "text/html": [
       "<pre>| linear_regularization          | L2 Regularization on Linear Coefficients         | 1e-10    |</pre>"
      ],
      "text/plain": [
       "| linear_regularization          | L2 Regularization on Linear Coefficients         | 1e-10    |"
      ]
     },
     "metadata": {},
     "output_type": "display_data"
    },
    {
     "data": {
      "text/html": [
       "<pre>| side_data_factorization        | Assign Factors for Side Data                     | True     |</pre>"
      ],
      "text/plain": [
       "| side_data_factorization        | Assign Factors for Side Data                     | True     |"
      ]
     },
     "metadata": {},
     "output_type": "display_data"
    },
    {
     "data": {
      "text/html": [
       "<pre>| max_iterations                 | Maximum Number of Iterations                     | 50       |</pre>"
      ],
      "text/plain": [
       "| max_iterations                 | Maximum Number of Iterations                     | 50       |"
      ]
     },
     "metadata": {},
     "output_type": "display_data"
    },
    {
     "data": {
      "text/html": [
       "<pre>+--------------------------------+--------------------------------------------------+----------+</pre>"
      ],
      "text/plain": [
       "+--------------------------------+--------------------------------------------------+----------+"
      ]
     },
     "metadata": {},
     "output_type": "display_data"
    },
    {
     "data": {
      "text/html": [
       "<pre>  Optimizing model using SGD; tuning step size.</pre>"
      ],
      "text/plain": [
       "  Optimizing model using SGD; tuning step size."
      ]
     },
     "metadata": {},
     "output_type": "display_data"
    },
    {
     "data": {
      "text/html": [
       "<pre>  Using 207526 / 1660212 points for tuning the step size.</pre>"
      ],
      "text/plain": [
       "  Using 207526 / 1660212 points for tuning the step size."
      ]
     },
     "metadata": {},
     "output_type": "display_data"
    },
    {
     "data": {
      "text/html": [
       "<pre>+---------+-------------------+------------------------------------------+</pre>"
      ],
      "text/plain": [
       "+---------+-------------------+------------------------------------------+"
      ]
     },
     "metadata": {},
     "output_type": "display_data"
    },
    {
     "data": {
      "text/html": [
       "<pre>| Attempt | Initial Step Size | Estimated Objective Value                |</pre>"
      ],
      "text/plain": [
       "| Attempt | Initial Step Size | Estimated Objective Value                |"
      ]
     },
     "metadata": {},
     "output_type": "display_data"
    },
    {
     "data": {
      "text/html": [
       "<pre>+---------+-------------------+------------------------------------------+</pre>"
      ],
      "text/plain": [
       "+---------+-------------------+------------------------------------------+"
      ]
     },
     "metadata": {},
     "output_type": "display_data"
    },
    {
     "data": {
      "text/html": [
       "<pre>| 0       | 2.38095           | Not Viable                               |</pre>"
      ],
      "text/plain": [
       "| 0       | 2.38095           | Not Viable                               |"
      ]
     },
     "metadata": {},
     "output_type": "display_data"
    },
    {
     "data": {
      "text/html": [
       "<pre>| 1       | 0.595238          | Not Viable                               |</pre>"
      ],
      "text/plain": [
       "| 1       | 0.595238          | Not Viable                               |"
      ]
     },
     "metadata": {},
     "output_type": "display_data"
    },
    {
     "data": {
      "text/html": [
       "<pre>| 2       | 0.14881           | No Decrease (31.6626 >= 15.2748)         |</pre>"
      ],
      "text/plain": [
       "| 2       | 0.14881           | No Decrease (31.6626 >= 15.2748)         |"
      ]
     },
     "metadata": {},
     "output_type": "display_data"
    },
    {
     "data": {
      "text/html": [
       "<pre>| 3       | 0.0372024         | 14.048                                   |</pre>"
      ],
      "text/plain": [
       "| 3       | 0.0372024         | 14.048                                   |"
      ]
     },
     "metadata": {},
     "output_type": "display_data"
    },
    {
     "data": {
      "text/html": [
       "<pre>| 4       | 0.0186012         | No Decrease (17.3826 >= 15.2748)         |</pre>"
      ],
      "text/plain": [
       "| 4       | 0.0186012         | No Decrease (17.3826 >= 15.2748)         |"
      ]
     },
     "metadata": {},
     "output_type": "display_data"
    },
    {
     "data": {
      "text/html": [
       "<pre>| 5       | 0.0046503         | 14.312                                   |</pre>"
      ],
      "text/plain": [
       "| 5       | 0.0046503         | 14.312                                   |"
      ]
     },
     "metadata": {},
     "output_type": "display_data"
    },
    {
     "data": {
      "text/html": [
       "<pre>| 6       | 0.00232515        | 14.384                                   |</pre>"
      ],
      "text/plain": [
       "| 6       | 0.00232515        | 14.384                                   |"
      ]
     },
     "metadata": {},
     "output_type": "display_data"
    },
    {
     "data": {
      "text/html": [
       "<pre>+---------+-------------------+------------------------------------------+</pre>"
      ],
      "text/plain": [
       "+---------+-------------------+------------------------------------------+"
      ]
     },
     "metadata": {},
     "output_type": "display_data"
    },
    {
     "data": {
      "text/html": [
       "<pre>| Final   | 0.0372024         | 14.048                                   |</pre>"
      ],
      "text/plain": [
       "| Final   | 0.0372024         | 14.048                                   |"
      ]
     },
     "metadata": {},
     "output_type": "display_data"
    },
    {
     "data": {
      "text/html": [
       "<pre>+---------+-------------------+------------------------------------------+</pre>"
      ],
      "text/plain": [
       "+---------+-------------------+------------------------------------------+"
      ]
     },
     "metadata": {},
     "output_type": "display_data"
    },
    {
     "data": {
      "text/html": [
       "<pre>Starting Optimization.</pre>"
      ],
      "text/plain": [
       "Starting Optimization."
      ]
     },
     "metadata": {},
     "output_type": "display_data"
    },
    {
     "data": {
      "text/html": [
       "<pre>+---------+--------------+-------------------+-----------------------+-------------+</pre>"
      ],
      "text/plain": [
       "+---------+--------------+-------------------+-----------------------+-------------+"
      ]
     },
     "metadata": {},
     "output_type": "display_data"
    },
    {
     "data": {
      "text/html": [
       "<pre>| Iter.   | Elapsed Time | Approx. Objective | Approx. Training RMSE | Step Size   |</pre>"
      ],
      "text/plain": [
       "| Iter.   | Elapsed Time | Approx. Objective | Approx. Training RMSE | Step Size   |"
      ]
     },
     "metadata": {},
     "output_type": "display_data"
    },
    {
     "data": {
      "text/html": [
       "<pre>+---------+--------------+-------------------+-----------------------+-------------+</pre>"
      ],
      "text/plain": [
       "+---------+--------------+-------------------+-----------------------+-------------+"
      ]
     },
     "metadata": {},
     "output_type": "display_data"
    },
    {
     "data": {
      "text/html": [
       "<pre>| Initial | 345us        | 15.253            | 3.9055                |             |</pre>"
      ],
      "text/plain": [
       "| Initial | 345us        | 15.253            | 3.9055                |             |"
      ]
     },
     "metadata": {},
     "output_type": "display_data"
    },
    {
     "data": {
      "text/html": [
       "<pre>+---------+--------------+-------------------+-----------------------+-------------+</pre>"
      ],
      "text/plain": [
       "+---------+--------------+-------------------+-----------------------+-------------+"
      ]
     },
     "metadata": {},
     "output_type": "display_data"
    },
    {
     "data": {
      "text/html": [
       "<pre>| 1       | 1.76s        | 14.599            | 3.82086               | 0.0372024   |</pre>"
      ],
      "text/plain": [
       "| 1       | 1.76s        | 14.599            | 3.82086               | 0.0372024   |"
      ]
     },
     "metadata": {},
     "output_type": "display_data"
    },
    {
     "data": {
      "text/html": [
       "<pre>| 2       | 3.44s        | 15.3555           | 3.9186                | 0.0372024   |</pre>"
      ],
      "text/plain": [
       "| 2       | 3.44s        | 15.3555           | 3.9186                | 0.0372024   |"
      ]
     },
     "metadata": {},
     "output_type": "display_data"
    },
    {
     "data": {
      "text/html": [
       "<pre>| 3       | 5.19s        | 19.1337           | 4.3742                | 0.0372024   |</pre>"
      ],
      "text/plain": [
       "| 3       | 5.19s        | 19.1337           | 4.3742                | 0.0372024   |"
      ]
     },
     "metadata": {},
     "output_type": "display_data"
    },
    {
     "data": {
      "text/html": [
       "<pre>| 4       | 6.89s        | 26.9867           | 5.19486               | 0.0372024   |</pre>"
      ],
      "text/plain": [
       "| 4       | 6.89s        | 26.9867           | 5.19486               | 0.0372024   |"
      ]
     },
     "metadata": {},
     "output_type": "display_data"
    },
    {
     "data": {
      "text/html": [
       "<pre>| 5       | 8.97s        | DIVERGED          | DIVERGED              | 0.0372024   |</pre>"
      ],
      "text/plain": [
       "| 5       | 8.97s        | DIVERGED          | DIVERGED              | 0.0372024   |"
      ]
     },
     "metadata": {},
     "output_type": "display_data"
    },
    {
     "data": {
      "text/html": [
       "<pre>| RESET   | 9.45s        | 15.2525           | 3.90545               |             |</pre>"
      ],
      "text/plain": [
       "| RESET   | 9.45s        | 15.2525           | 3.90545               |             |"
      ]
     },
     "metadata": {},
     "output_type": "display_data"
    },
    {
     "data": {
      "text/html": [
       "<pre>| 1       | 11.15s       | 14.4264           | 3.7982                | 0.0186012   |</pre>"
      ],
      "text/plain": [
       "| 1       | 11.15s       | 14.4264           | 3.7982                | 0.0186012   |"
      ]
     },
     "metadata": {},
     "output_type": "display_data"
    },
    {
     "data": {
      "text/html": [
       "<pre>| 2       | 12.82s       | 16.1181           | 4.01473               | 0.0186012   |</pre>"
      ],
      "text/plain": [
       "| 2       | 12.82s       | 16.1181           | 4.01473               | 0.0186012   |"
      ]
     },
     "metadata": {},
     "output_type": "display_data"
    },
    {
     "data": {
      "text/html": [
       "<pre>| 3       | 14.51s       | 17.8447           | 4.22429               | 0.0186012   |</pre>"
      ],
      "text/plain": [
       "| 3       | 14.51s       | 17.8447           | 4.22429               | 0.0186012   |"
      ]
     },
     "metadata": {},
     "output_type": "display_data"
    },
    {
     "data": {
      "text/html": [
       "<pre>| 4       | 16.22s       | 18.5692           | 4.30919               | 0.0186012   |</pre>"
      ],
      "text/plain": [
       "| 4       | 16.22s       | 18.5692           | 4.30919               | 0.0186012   |"
      ]
     },
     "metadata": {},
     "output_type": "display_data"
    },
    {
     "data": {
      "text/html": [
       "<pre>| 5       | 17.88s       | 19.1976           | 4.3815                | 0.0186012   |</pre>"
      ],
      "text/plain": [
       "| 5       | 17.88s       | 19.1976           | 4.3815                | 0.0186012   |"
      ]
     },
     "metadata": {},
     "output_type": "display_data"
    },
    {
     "data": {
      "text/html": [
       "<pre>| 6       | 19.67s       | 19.9797           | 4.46985               | 0.0186012   |</pre>"
      ],
      "text/plain": [
       "| 6       | 19.67s       | 19.9797           | 4.46985               | 0.0186012   |"
      ]
     },
     "metadata": {},
     "output_type": "display_data"
    },
    {
     "data": {
      "text/html": [
       "<pre>| 7       | 21.73s       | DIVERGED          | DIVERGED              | 0.0186012   |</pre>"
      ],
      "text/plain": [
       "| 7       | 21.73s       | DIVERGED          | DIVERGED              | 0.0186012   |"
      ]
     },
     "metadata": {},
     "output_type": "display_data"
    },
    {
     "data": {
      "text/html": [
       "<pre>| RESET   | 22.16s       | 15.2522           | 3.90541               |             |</pre>"
      ],
      "text/plain": [
       "| RESET   | 22.16s       | 15.2522           | 3.90541               |             |"
      ]
     },
     "metadata": {},
     "output_type": "display_data"
    },
    {
     "data": {
      "text/html": [
       "<pre>| 1       | 23.93s       | 14.2354           | 3.77298               | 0.0093006   |</pre>"
      ],
      "text/plain": [
       "| 1       | 23.93s       | 14.2354           | 3.77298               | 0.0093006   |"
      ]
     },
     "metadata": {},
     "output_type": "display_data"
    },
    {
     "data": {
      "text/html": [
       "<pre>| 2       | 25.61s       | 14.0377           | 3.7467                | 0.0093006   |</pre>"
      ],
      "text/plain": [
       "| 2       | 25.61s       | 14.0377           | 3.7467                | 0.0093006   |"
      ]
     },
     "metadata": {},
     "output_type": "display_data"
    },
    {
     "data": {
      "text/html": [
       "<pre>| 3       | 27.33s       | 14.2567           | 3.7758                | 0.0093006   |</pre>"
      ],
      "text/plain": [
       "| 3       | 27.33s       | 14.2567           | 3.7758                | 0.0093006   |"
      ]
     },
     "metadata": {},
     "output_type": "display_data"
    },
    {
     "data": {
      "text/html": [
       "<pre>| 4       | 29.03s       | 14.7976           | 3.84677               | 0.0093006   |</pre>"
      ],
      "text/plain": [
       "| 4       | 29.03s       | 14.7976           | 3.84677               | 0.0093006   |"
      ]
     },
     "metadata": {},
     "output_type": "display_data"
    },
    {
     "data": {
      "text/html": [
       "<pre>| 5       | 30.71s       | 15.4193           | 3.92674               | 0.0093006   |</pre>"
      ],
      "text/plain": [
       "| 5       | 30.71s       | 15.4193           | 3.92674               | 0.0093006   |"
      ]
     },
     "metadata": {},
     "output_type": "display_data"
    },
    {
     "data": {
      "text/html": [
       "<pre>| 6       | 32.45s       | 15.7337           | 3.96657               | 0.0093006   |</pre>"
      ],
      "text/plain": [
       "| 6       | 32.45s       | 15.7337           | 3.96657               | 0.0093006   |"
      ]
     },
     "metadata": {},
     "output_type": "display_data"
    },
    {
     "data": {
      "text/html": [
       "<pre>| 7       | 34.13s       | 15.7966           | 3.97449               | 0.0093006   |</pre>"
      ],
      "text/plain": [
       "| 7       | 34.13s       | 15.7966           | 3.97449               | 0.0093006   |"
      ]
     },
     "metadata": {},
     "output_type": "display_data"
    },
    {
     "data": {
      "text/html": [
       "<pre>| 8       | 35.80s       | 15.9086           | 3.98855               | 0.0093006   |</pre>"
      ],
      "text/plain": [
       "| 8       | 35.80s       | 15.9086           | 3.98855               | 0.0093006   |"
      ]
     },
     "metadata": {},
     "output_type": "display_data"
    },
    {
     "data": {
      "text/html": [
       "<pre>| 9       | 37.45s       | 16.0724           | 4.00904               | 0.0093006   |</pre>"
      ],
      "text/plain": [
       "| 9       | 37.45s       | 16.0724           | 4.00904               | 0.0093006   |"
      ]
     },
     "metadata": {},
     "output_type": "display_data"
    },
    {
     "data": {
      "text/html": [
       "<pre>| 10      | 39.56s       | DIVERGED          | DIVERGED              | 0.0093006   |</pre>"
      ],
      "text/plain": [
       "| 10      | 39.56s       | DIVERGED          | DIVERGED              | 0.0093006   |"
      ]
     },
     "metadata": {},
     "output_type": "display_data"
    },
    {
     "data": {
      "text/html": [
       "<pre>| RESET   | 40.03s       | 15.2534           | 3.90556               |             |</pre>"
      ],
      "text/plain": [
       "| RESET   | 40.03s       | 15.2534           | 3.90556               |             |"
      ]
     },
     "metadata": {},
     "output_type": "display_data"
    },
    {
     "data": {
      "text/html": [
       "<pre>| 1       | 41.71s       | 14.5341           | 3.81236               | 0.0046503   |</pre>"
      ],
      "text/plain": [
       "| 1       | 41.71s       | 14.5341           | 3.81236               | 0.0046503   |"
      ]
     },
     "metadata": {},
     "output_type": "display_data"
    },
    {
     "data": {
      "text/html": [
       "<pre>| 2       | 43.44s       | 14.2574           | 3.7759                | 0.0046503   |</pre>"
      ],
      "text/plain": [
       "| 2       | 43.44s       | 14.2574           | 3.7759                | 0.0046503   |"
      ]
     },
     "metadata": {},
     "output_type": "display_data"
    },
    {
     "data": {
      "text/html": [
       "<pre>| 3       | 45.14s       | 14.1384           | 3.7601                | 0.0046503   |</pre>"
      ],
      "text/plain": [
       "| 3       | 45.14s       | 14.1384           | 3.7601                | 0.0046503   |"
      ]
     },
     "metadata": {},
     "output_type": "display_data"
    },
    {
     "data": {
      "text/html": [
       "<pre>| 4       | 46.81s       | 14.0731           | 3.75141               | 0.0046503   |</pre>"
      ],
      "text/plain": [
       "| 4       | 46.81s       | 14.0731           | 3.75141               | 0.0046503   |"
      ]
     },
     "metadata": {},
     "output_type": "display_data"
    },
    {
     "data": {
      "text/html": [
       "<pre>| 5       | 48.49s       | 14.0157           | 3.74375               | 0.0046503   |</pre>"
      ],
      "text/plain": [
       "| 5       | 48.49s       | 14.0157           | 3.74375               | 0.0046503   |"
      ]
     },
     "metadata": {},
     "output_type": "display_data"
    },
    {
     "data": {
      "text/html": [
       "<pre>| 6       | 50.17s       | 13.9756           | 3.7384                | 0.0046503   |</pre>"
      ],
      "text/plain": [
       "| 6       | 50.17s       | 13.9756           | 3.7384                | 0.0046503   |"
      ]
     },
     "metadata": {},
     "output_type": "display_data"
    },
    {
     "data": {
      "text/html": [
       "<pre>| 7       | 51.84s       | 13.9505           | 3.73504               | 0.0046503   |</pre>"
      ],
      "text/plain": [
       "| 7       | 51.84s       | 13.9505           | 3.73504               | 0.0046503   |"
      ]
     },
     "metadata": {},
     "output_type": "display_data"
    },
    {
     "data": {
      "text/html": [
       "<pre>| 8       | 53.52s       | 13.9364           | 3.73315               | 0.0046503   |</pre>"
      ],
      "text/plain": [
       "| 8       | 53.52s       | 13.9364           | 3.73315               | 0.0046503   |"
      ]
     },
     "metadata": {},
     "output_type": "display_data"
    },
    {
     "data": {
      "text/html": [
       "<pre>| 9       | 55.21s       | 13.9326           | 3.73264               | 0.0046503   |</pre>"
      ],
      "text/plain": [
       "| 9       | 55.21s       | 13.9326           | 3.73264               | 0.0046503   |"
      ]
     },
     "metadata": {},
     "output_type": "display_data"
    },
    {
     "data": {
      "text/html": [
       "<pre>| 10      | 56.93s       | 13.9473           | 3.73461               | 0.0046503   |</pre>"
      ],
      "text/plain": [
       "| 10      | 56.93s       | 13.9473           | 3.73461               | 0.0046503   |"
      ]
     },
     "metadata": {},
     "output_type": "display_data"
    },
    {
     "data": {
      "text/html": [
       "<pre>| 11      | 58.63s       | 13.9608           | 3.73641               | 0.0046503   |</pre>"
      ],
      "text/plain": [
       "| 11      | 58.63s       | 13.9608           | 3.73641               | 0.0046503   |"
      ]
     },
     "metadata": {},
     "output_type": "display_data"
    },
    {
     "data": {
      "text/html": [
       "<pre>| 12      | 1m 0s        | 13.9949           | 3.74098               | 0.0046503   |</pre>"
      ],
      "text/plain": [
       "| 12      | 1m 0s        | 13.9949           | 3.74098               | 0.0046503   |"
      ]
     },
     "metadata": {},
     "output_type": "display_data"
    },
    {
     "data": {
      "text/html": [
       "<pre>| 13      | 1m 1s        | 14.0382           | 3.74676               | 0.0046503   |</pre>"
      ],
      "text/plain": [
       "| 13      | 1m 1s        | 14.0382           | 3.74676               | 0.0046503   |"
      ]
     },
     "metadata": {},
     "output_type": "display_data"
    },
    {
     "data": {
      "text/html": [
       "<pre>| 14      | 1m 3s        | 14.088            | 3.7534                | 0.0046503   |</pre>"
      ],
      "text/plain": [
       "| 14      | 1m 3s        | 14.088            | 3.7534                | 0.0046503   |"
      ]
     },
     "metadata": {},
     "output_type": "display_data"
    },
    {
     "data": {
      "text/html": [
       "<pre>| 15      | 1m 5s        | 14.1669           | 3.76389               | 0.0046503   |</pre>"
      ],
      "text/plain": [
       "| 15      | 1m 5s        | 14.1669           | 3.76389               | 0.0046503   |"
      ]
     },
     "metadata": {},
     "output_type": "display_data"
    },
    {
     "data": {
      "text/html": [
       "<pre>| 16      | 1m 6s        | 14.2161           | 3.77042               | 0.0046503   |</pre>"
      ],
      "text/plain": [
       "| 16      | 1m 6s        | 14.2161           | 3.77042               | 0.0046503   |"
      ]
     },
     "metadata": {},
     "output_type": "display_data"
    },
    {
     "data": {
      "text/html": [
       "<pre>| 17      | 1m 8s        | 14.3432           | 3.78724               | 0.0046503   |</pre>"
      ],
      "text/plain": [
       "| 17      | 1m 8s        | 14.3432           | 3.78724               | 0.0046503   |"
      ]
     },
     "metadata": {},
     "output_type": "display_data"
    },
    {
     "data": {
      "text/html": [
       "<pre>| 18      | 1m 10s       | 14.4304           | 3.79874               | 0.0046503   |</pre>"
      ],
      "text/plain": [
       "| 18      | 1m 10s       | 14.4304           | 3.79874               | 0.0046503   |"
      ]
     },
     "metadata": {},
     "output_type": "display_data"
    },
    {
     "data": {
      "text/html": [
       "<pre>| 19      | 1m 12s       | 14.5648           | 3.81638               | 0.0046503   |</pre>"
      ],
      "text/plain": [
       "| 19      | 1m 12s       | 14.5648           | 3.81638               | 0.0046503   |"
      ]
     },
     "metadata": {},
     "output_type": "display_data"
    },
    {
     "data": {
      "text/html": [
       "<pre>| 20      | 1m 13s       | 14.6677           | 3.82985               | 0.0046503   |</pre>"
      ],
      "text/plain": [
       "| 20      | 1m 13s       | 14.6677           | 3.82985               | 0.0046503   |"
      ]
     },
     "metadata": {},
     "output_type": "display_data"
    },
    {
     "data": {
      "text/html": [
       "<pre>| 21      | 1m 15s       | 14.8564           | 3.8544                | 0.0046503   |</pre>"
      ],
      "text/plain": [
       "| 21      | 1m 15s       | 14.8564           | 3.8544                | 0.0046503   |"
      ]
     },
     "metadata": {},
     "output_type": "display_data"
    },
    {
     "data": {
      "text/html": [
       "<pre>| 22      | 1m 17s       | 15.0087           | 3.87411               | 0.0046503   |</pre>"
      ],
      "text/plain": [
       "| 22      | 1m 17s       | 15.0087           | 3.87411               | 0.0046503   |"
      ]
     },
     "metadata": {},
     "output_type": "display_data"
    },
    {
     "data": {
      "text/html": [
       "<pre>| 23      | 1m 18s       | 15.1931           | 3.89783               | 0.0046503   |</pre>"
      ],
      "text/plain": [
       "| 23      | 1m 18s       | 15.1931           | 3.89783               | 0.0046503   |"
      ]
     },
     "metadata": {},
     "output_type": "display_data"
    },
    {
     "data": {
      "text/html": [
       "<pre>| 24      | 1m 20s       | 15.4166           | 3.9264                | 0.0046503   |</pre>"
      ],
      "text/plain": [
       "| 24      | 1m 20s       | 15.4166           | 3.9264                | 0.0046503   |"
      ]
     },
     "metadata": {},
     "output_type": "display_data"
    },
    {
     "data": {
      "text/html": [
       "<pre>| 25      | 1m 22s       | 15.5929           | 3.94878               | 0.0046503   |</pre>"
      ],
      "text/plain": [
       "| 25      | 1m 22s       | 15.5929           | 3.94878               | 0.0046503   |"
      ]
     },
     "metadata": {},
     "output_type": "display_data"
    },
    {
     "data": {
      "text/html": [
       "<pre>| 26      | 1m 23s       | 15.8621           | 3.98273               | 0.0046503   |</pre>"
      ],
      "text/plain": [
       "| 26      | 1m 23s       | 15.8621           | 3.98273               | 0.0046503   |"
      ]
     },
     "metadata": {},
     "output_type": "display_data"
    },
    {
     "data": {
      "text/html": [
       "<pre>| 27      | 1m 25s       | 16.1334           | 4.01664               | 0.0046503   |</pre>"
      ],
      "text/plain": [
       "| 27      | 1m 25s       | 16.1334           | 4.01664               | 0.0046503   |"
      ]
     },
     "metadata": {},
     "output_type": "display_data"
    },
    {
     "data": {
      "text/html": [
       "<pre>| 28      | 1m 27s       | 16.4185           | 4.05198               | 0.0046503   |</pre>"
      ],
      "text/plain": [
       "| 28      | 1m 27s       | 16.4185           | 4.05198               | 0.0046503   |"
      ]
     },
     "metadata": {},
     "output_type": "display_data"
    },
    {
     "data": {
      "text/html": [
       "<pre>| 29      | 1m 29s       | DIVERGED          | DIVERGED              | 0.0046503   |</pre>"
      ],
      "text/plain": [
       "| 29      | 1m 29s       | DIVERGED          | DIVERGED              | 0.0046503   |"
      ]
     },
     "metadata": {},
     "output_type": "display_data"
    },
    {
     "data": {
      "text/html": [
       "<pre>| RESET   | 1m 29s       | 15.2525           | 3.90545               |             |</pre>"
      ],
      "text/plain": [
       "| RESET   | 1m 29s       | 15.2525           | 3.90545               |             |"
      ]
     },
     "metadata": {},
     "output_type": "display_data"
    },
    {
     "data": {
      "text/html": [
       "<pre>| 1       | 1m 31s       | 14.5108           | 3.80931               | 0.00232515  |</pre>"
      ],
      "text/plain": [
       "| 1       | 1m 31s       | 14.5108           | 3.80931               | 0.00232515  |"
      ]
     },
     "metadata": {},
     "output_type": "display_data"
    },
    {
     "data": {
      "text/html": [
       "<pre>| 2       | 1m 33s       | 14.3138           | 3.78335               | 0.00232515  |</pre>"
      ],
      "text/plain": [
       "| 2       | 1m 33s       | 14.3138           | 3.78335               | 0.00232515  |"
      ]
     },
     "metadata": {},
     "output_type": "display_data"
    },
    {
     "data": {
      "text/html": [
       "<pre>| 3       | 1m 34s       | 14.2442           | 3.77415               | 0.00232515  |</pre>"
      ],
      "text/plain": [
       "| 3       | 1m 34s       | 14.2442           | 3.77415               | 0.00232515  |"
      ]
     },
     "metadata": {},
     "output_type": "display_data"
    },
    {
     "data": {
      "text/html": [
       "<pre>| 4       | 1m 36s       | 14.194            | 3.76749               | 0.00232515  |</pre>"
      ],
      "text/plain": [
       "| 4       | 1m 36s       | 14.194            | 3.76749               | 0.00232515  |"
      ]
     },
     "metadata": {},
     "output_type": "display_data"
    },
    {
     "data": {
      "text/html": [
       "<pre>+---------+--------------+-------------------+-----------------------+-------------+</pre>"
      ],
      "text/plain": [
       "+---------+--------------+-------------------+-----------------------+-------------+"
      ]
     },
     "metadata": {},
     "output_type": "display_data"
    },
    {
     "data": {
      "text/html": [
       "<pre>Optimization Complete: Maximum number of passes through the data reached (hard limit).</pre>"
      ],
      "text/plain": [
       "Optimization Complete: Maximum number of passes through the data reached (hard limit)."
      ]
     },
     "metadata": {},
     "output_type": "display_data"
    },
    {
     "data": {
      "text/html": [
       "<pre>Computing final objective value and training RMSE.</pre>"
      ],
      "text/plain": [
       "Computing final objective value and training RMSE."
      ]
     },
     "metadata": {},
     "output_type": "display_data"
    },
    {
     "data": {
      "text/html": [
       "<pre>       Final objective value: 14.1698</pre>"
      ],
      "text/plain": [
       "       Final objective value: 14.1698"
      ]
     },
     "metadata": {},
     "output_type": "display_data"
    },
    {
     "data": {
      "text/html": [
       "<pre>       Final training RMSE: 3.76428</pre>"
      ],
      "text/plain": [
       "       Final training RMSE: 3.76428"
      ]
     },
     "metadata": {},
     "output_type": "display_data"
    }
   ],
   "source": [
    "personalized_model_3 = graphlab.recommender.factorization_recommender.create(aisle3.remove_column('days_since_prior_order'),\n",
    "                                                                            user_id = 'user_id',\n",
    "                                                                            item_id = 'product_name',\n",
    "                                                                            target = 'count',\n",
    "                                                                            user_data = user_data3,\n",
    "                                                                            item_data = item_data3\n",
    "                                                                           )"
   ]
  },
  {
   "cell_type": "code",
   "execution_count": 227,
   "metadata": {
    "collapsed": true
   },
   "outputs": [],
   "source": [
    "aisle4 = graphlab.SFrame(cluster[4])"
   ]
  },
  {
   "cell_type": "code",
   "execution_count": 228,
   "metadata": {
    "collapsed": true
   },
   "outputs": [],
   "source": [
    "user_data4, item_data4 = user_item(aisle4)"
   ]
  },
  {
   "cell_type": "code",
   "execution_count": 229,
   "metadata": {
    "collapsed": true
   },
   "outputs": [
    {
     "data": {
      "text/html": [
       "<pre>Recsys training: model = factorization_recommender</pre>"
      ],
      "text/plain": [
       "Recsys training: model = factorization_recommender"
      ]
     },
     "metadata": {},
     "output_type": "display_data"
    },
    {
     "data": {
      "text/html": [
       "<pre>Preparing data set.</pre>"
      ],
      "text/plain": [
       "Preparing data set."
      ]
     },
     "metadata": {},
     "output_type": "display_data"
    },
    {
     "data": {
      "text/html": [
       "<pre>    Data has 6107675 observations with 80242 users and 44415 items.</pre>"
      ],
      "text/plain": [
       "    Data has 6107675 observations with 80242 users and 44415 items."
      ]
     },
     "metadata": {},
     "output_type": "display_data"
    },
    {
     "data": {
      "text/html": [
       "<pre>    Data prepared in: 16.0319s</pre>"
      ],
      "text/plain": [
       "    Data prepared in: 16.0319s"
      ]
     },
     "metadata": {},
     "output_type": "display_data"
    },
    {
     "data": {
      "text/html": [
       "<pre>Training factorization_recommender for recommendations.</pre>"
      ],
      "text/plain": [
       "Training factorization_recommender for recommendations."
      ]
     },
     "metadata": {},
     "output_type": "display_data"
    },
    {
     "data": {
      "text/html": [
       "<pre>+--------------------------------+--------------------------------------------------+----------+</pre>"
      ],
      "text/plain": [
       "+--------------------------------+--------------------------------------------------+----------+"
      ]
     },
     "metadata": {},
     "output_type": "display_data"
    },
    {
     "data": {
      "text/html": [
       "<pre>| Parameter                      | Description                                      | Value    |</pre>"
      ],
      "text/plain": [
       "| Parameter                      | Description                                      | Value    |"
      ]
     },
     "metadata": {},
     "output_type": "display_data"
    },
    {
     "data": {
      "text/html": [
       "<pre>+--------------------------------+--------------------------------------------------+----------+</pre>"
      ],
      "text/plain": [
       "+--------------------------------+--------------------------------------------------+----------+"
      ]
     },
     "metadata": {},
     "output_type": "display_data"
    },
    {
     "data": {
      "text/html": [
       "<pre>| num_factors                    | Factor Dimension                                 | 8        |</pre>"
      ],
      "text/plain": [
       "| num_factors                    | Factor Dimension                                 | 8        |"
      ]
     },
     "metadata": {},
     "output_type": "display_data"
    },
    {
     "data": {
      "text/html": [
       "<pre>| regularization                 | L2 Regularization on Factors                     | 1e-08    |</pre>"
      ],
      "text/plain": [
       "| regularization                 | L2 Regularization on Factors                     | 1e-08    |"
      ]
     },
     "metadata": {},
     "output_type": "display_data"
    },
    {
     "data": {
      "text/html": [
       "<pre>| solver                         | Solver used for training                         | adagrad  |</pre>"
      ],
      "text/plain": [
       "| solver                         | Solver used for training                         | adagrad  |"
      ]
     },
     "metadata": {},
     "output_type": "display_data"
    },
    {
     "data": {
      "text/html": [
       "<pre>| linear_regularization          | L2 Regularization on Linear Coefficients         | 1e-10    |</pre>"
      ],
      "text/plain": [
       "| linear_regularization          | L2 Regularization on Linear Coefficients         | 1e-10    |"
      ]
     },
     "metadata": {},
     "output_type": "display_data"
    },
    {
     "data": {
      "text/html": [
       "<pre>| side_data_factorization        | Assign Factors for Side Data                     | True     |</pre>"
      ],
      "text/plain": [
       "| side_data_factorization        | Assign Factors for Side Data                     | True     |"
      ]
     },
     "metadata": {},
     "output_type": "display_data"
    },
    {
     "data": {
      "text/html": [
       "<pre>| max_iterations                 | Maximum Number of Iterations                     | 50       |</pre>"
      ],
      "text/plain": [
       "| max_iterations                 | Maximum Number of Iterations                     | 50       |"
      ]
     },
     "metadata": {},
     "output_type": "display_data"
    },
    {
     "data": {
      "text/html": [
       "<pre>+--------------------------------+--------------------------------------------------+----------+</pre>"
      ],
      "text/plain": [
       "+--------------------------------+--------------------------------------------------+----------+"
      ]
     },
     "metadata": {},
     "output_type": "display_data"
    },
    {
     "data": {
      "text/html": [
       "<pre>  Optimizing model using SGD; tuning step size.</pre>"
      ],
      "text/plain": [
       "  Optimizing model using SGD; tuning step size."
      ]
     },
     "metadata": {},
     "output_type": "display_data"
    },
    {
     "data": {
      "text/html": [
       "<pre>  Using 763459 / 6107675 points for tuning the step size.</pre>"
      ],
      "text/plain": [
       "  Using 763459 / 6107675 points for tuning the step size."
      ]
     },
     "metadata": {},
     "output_type": "display_data"
    },
    {
     "data": {
      "text/html": [
       "<pre>+---------+-------------------+------------------------------------------+</pre>"
      ],
      "text/plain": [
       "+---------+-------------------+------------------------------------------+"
      ]
     },
     "metadata": {},
     "output_type": "display_data"
    },
    {
     "data": {
      "text/html": [
       "<pre>| Attempt | Initial Step Size | Estimated Objective Value                |</pre>"
      ],
      "text/plain": [
       "| Attempt | Initial Step Size | Estimated Objective Value                |"
      ]
     },
     "metadata": {},
     "output_type": "display_data"
    },
    {
     "data": {
      "text/html": [
       "<pre>+---------+-------------------+------------------------------------------+</pre>"
      ],
      "text/plain": [
       "+---------+-------------------+------------------------------------------+"
      ]
     },
     "metadata": {},
     "output_type": "display_data"
    },
    {
     "data": {
      "text/html": [
       "<pre>| 0       | 2.38095           | Not Viable                               |</pre>"
      ],
      "text/plain": [
       "| 0       | 2.38095           | Not Viable                               |"
      ]
     },
     "metadata": {},
     "output_type": "display_data"
    },
    {
     "data": {
      "text/html": [
       "<pre>| 1       | 0.595238          | Not Viable                               |</pre>"
      ],
      "text/plain": [
       "| 1       | 0.595238          | Not Viable                               |"
      ]
     },
     "metadata": {},
     "output_type": "display_data"
    },
    {
     "data": {
      "text/html": [
       "<pre>| 2       | 0.14881           | Not Viable                               |</pre>"
      ],
      "text/plain": [
       "| 2       | 0.14881           | Not Viable                               |"
      ]
     },
     "metadata": {},
     "output_type": "display_data"
    },
    {
     "data": {
      "text/html": [
       "<pre>| 3       | 0.0372024         | No Decrease (11.6771 >= 11.0205)         |</pre>"
      ],
      "text/plain": [
       "| 3       | 0.0372024         | No Decrease (11.6771 >= 11.0205)         |"
      ]
     },
     "metadata": {},
     "output_type": "display_data"
    },
    {
     "data": {
      "text/html": [
       "<pre>| 4       | 0.0093006         | 10.5413                                  |</pre>"
      ],
      "text/plain": [
       "| 4       | 0.0093006         | 10.5413                                  |"
      ]
     },
     "metadata": {},
     "output_type": "display_data"
    },
    {
     "data": {
      "text/html": [
       "<pre>| 5       | 0.0046503         | 10.5049                                  |</pre>"
      ],
      "text/plain": [
       "| 5       | 0.0046503         | 10.5049                                  |"
      ]
     },
     "metadata": {},
     "output_type": "display_data"
    },
    {
     "data": {
      "text/html": [
       "<pre>| 6       | 0.00232515        | 10.3665                                  |</pre>"
      ],
      "text/plain": [
       "| 6       | 0.00232515        | 10.3665                                  |"
      ]
     },
     "metadata": {},
     "output_type": "display_data"
    },
    {
     "data": {
      "text/html": [
       "<pre>| 7       | 0.00116257        | 10.5876                                  |</pre>"
      ],
      "text/plain": [
       "| 7       | 0.00116257        | 10.5876                                  |"
      ]
     },
     "metadata": {},
     "output_type": "display_data"
    },
    {
     "data": {
      "text/html": [
       "<pre>| 8       | 0.000581287       | 10.5681                                  |</pre>"
      ],
      "text/plain": [
       "| 8       | 0.000581287       | 10.5681                                  |"
      ]
     },
     "metadata": {},
     "output_type": "display_data"
    },
    {
     "data": {
      "text/html": [
       "<pre>| 9       | 0.000290644       | 10.7006                                  |</pre>"
      ],
      "text/plain": [
       "| 9       | 0.000290644       | 10.7006                                  |"
      ]
     },
     "metadata": {},
     "output_type": "display_data"
    },
    {
     "data": {
      "text/html": [
       "<pre>+---------+-------------------+------------------------------------------+</pre>"
      ],
      "text/plain": [
       "+---------+-------------------+------------------------------------------+"
      ]
     },
     "metadata": {},
     "output_type": "display_data"
    },
    {
     "data": {
      "text/html": [
       "<pre>| Final   | 0.00232515        | 10.3665                                  |</pre>"
      ],
      "text/plain": [
       "| Final   | 0.00232515        | 10.3665                                  |"
      ]
     },
     "metadata": {},
     "output_type": "display_data"
    },
    {
     "data": {
      "text/html": [
       "<pre>+---------+-------------------+------------------------------------------+</pre>"
      ],
      "text/plain": [
       "+---------+-------------------+------------------------------------------+"
      ]
     },
     "metadata": {},
     "output_type": "display_data"
    },
    {
     "data": {
      "text/html": [
       "<pre>Starting Optimization.</pre>"
      ],
      "text/plain": [
       "Starting Optimization."
      ]
     },
     "metadata": {},
     "output_type": "display_data"
    },
    {
     "data": {
      "text/html": [
       "<pre>+---------+--------------+-------------------+-----------------------+-------------+</pre>"
      ],
      "text/plain": [
       "+---------+--------------+-------------------+-----------------------+-------------+"
      ]
     },
     "metadata": {},
     "output_type": "display_data"
    },
    {
     "data": {
      "text/html": [
       "<pre>| Iter.   | Elapsed Time | Approx. Objective | Approx. Training RMSE | Step Size   |</pre>"
      ],
      "text/plain": [
       "| Iter.   | Elapsed Time | Approx. Objective | Approx. Training RMSE | Step Size   |"
      ]
     },
     "metadata": {},
     "output_type": "display_data"
    },
    {
     "data": {
      "text/html": [
       "<pre>+---------+--------------+-------------------+-----------------------+-------------+</pre>"
      ],
      "text/plain": [
       "+---------+--------------+-------------------+-----------------------+-------------+"
      ]
     },
     "metadata": {},
     "output_type": "display_data"
    },
    {
     "data": {
      "text/html": [
       "<pre>| Initial | 81us         | 10.8606           | 3.29555               |             |</pre>"
      ],
      "text/plain": [
       "| Initial | 81us         | 10.8606           | 3.29555               |             |"
      ]
     },
     "metadata": {},
     "output_type": "display_data"
    },
    {
     "data": {
      "text/html": [
       "<pre>+---------+--------------+-------------------+-----------------------+-------------+</pre>"
      ],
      "text/plain": [
       "+---------+--------------+-------------------+-----------------------+-------------+"
      ]
     },
     "metadata": {},
     "output_type": "display_data"
    },
    {
     "data": {
      "text/html": [
       "<pre>| 1       | 4.17s        | 10.2827           | 3.20667               | 0.00232515  |</pre>"
      ],
      "text/plain": [
       "| 1       | 4.17s        | 10.2827           | 3.20667               | 0.00232515  |"
      ]
     },
     "metadata": {},
     "output_type": "display_data"
    },
    {
     "data": {
      "text/html": [
       "<pre>| 2       | 8.27s        | 10.205            | 3.19453               | 0.00232515  |</pre>"
      ],
      "text/plain": [
       "| 2       | 8.27s        | 10.205            | 3.19453               | 0.00232515  |"
      ]
     },
     "metadata": {},
     "output_type": "display_data"
    },
    {
     "data": {
      "text/html": [
       "<pre>| 3       | 12.37s       | 10.2155           | 3.19617               | 0.00232515  |</pre>"
      ],
      "text/plain": [
       "| 3       | 12.37s       | 10.2155           | 3.19617               | 0.00232515  |"
      ]
     },
     "metadata": {},
     "output_type": "display_data"
    },
    {
     "data": {
      "text/html": [
       "<pre>| 4       | 16.60s       | 10.2483           | 3.20129               | 0.00232515  |</pre>"
      ],
      "text/plain": [
       "| 4       | 16.60s       | 10.2483           | 3.20129               | 0.00232515  |"
      ]
     },
     "metadata": {},
     "output_type": "display_data"
    },
    {
     "data": {
      "text/html": [
       "<pre>| 5       | 20.85s       | 10.2868           | 3.2073                | 0.00232515  |</pre>"
      ],
      "text/plain": [
       "| 5       | 20.85s       | 10.2868           | 3.2073                | 0.00232515  |"
      ]
     },
     "metadata": {},
     "output_type": "display_data"
    },
    {
     "data": {
      "text/html": [
       "<pre>| 6       | 24.95s       | 10.3331           | 3.21451               | 0.00232515  |</pre>"
      ],
      "text/plain": [
       "| 6       | 24.95s       | 10.3331           | 3.21451               | 0.00232515  |"
      ]
     },
     "metadata": {},
     "output_type": "display_data"
    },
    {
     "data": {
      "text/html": [
       "<pre>| 7       | 29.07s       | 10.3786           | 3.22159               | 0.00232515  |</pre>"
      ],
      "text/plain": [
       "| 7       | 29.07s       | 10.3786           | 3.22159               | 0.00232515  |"
      ]
     },
     "metadata": {},
     "output_type": "display_data"
    },
    {
     "data": {
      "text/html": [
       "<pre>| 8       | 33.12s       | 10.4323           | 3.2299                | 0.00232515  |</pre>"
      ],
      "text/plain": [
       "| 8       | 33.12s       | 10.4323           | 3.2299                | 0.00232515  |"
      ]
     },
     "metadata": {},
     "output_type": "display_data"
    },
    {
     "data": {
      "text/html": [
       "<pre>| 9       | 37.25s       | 10.4855           | 3.23813               | 0.00232515  |</pre>"
      ],
      "text/plain": [
       "| 9       | 37.25s       | 10.4855           | 3.23813               | 0.00232515  |"
      ]
     },
     "metadata": {},
     "output_type": "display_data"
    },
    {
     "data": {
      "text/html": [
       "<pre>| 10      | 41.32s       | 10.5296           | 3.24494               | 0.00232515  |</pre>"
      ],
      "text/plain": [
       "| 10      | 41.32s       | 10.5296           | 3.24494               | 0.00232515  |"
      ]
     },
     "metadata": {},
     "output_type": "display_data"
    },
    {
     "data": {
      "text/html": [
       "<pre>| 11      | 45.41s       | 10.5872           | 3.2538                | 0.00232515  |</pre>"
      ],
      "text/plain": [
       "| 11      | 45.41s       | 10.5872           | 3.2538                | 0.00232515  |"
      ]
     },
     "metadata": {},
     "output_type": "display_data"
    },
    {
     "data": {
      "text/html": [
       "<pre>| 12      | 49.47s       | 10.6305           | 3.26045               | 0.00232515  |</pre>"
      ],
      "text/plain": [
       "| 12      | 49.47s       | 10.6305           | 3.26045               | 0.00232515  |"
      ]
     },
     "metadata": {},
     "output_type": "display_data"
    },
    {
     "data": {
      "text/html": [
       "<pre>| 13      | 53.60s       | 10.6829           | 3.26847               | 0.00232515  |</pre>"
      ],
      "text/plain": [
       "| 13      | 53.60s       | 10.6829           | 3.26847               | 0.00232515  |"
      ]
     },
     "metadata": {},
     "output_type": "display_data"
    },
    {
     "data": {
      "text/html": [
       "<pre>| 14      | 57.70s       | 10.7321           | 3.27598               | 0.00232515  |</pre>"
      ],
      "text/plain": [
       "| 14      | 57.70s       | 10.7321           | 3.27598               | 0.00232515  |"
      ]
     },
     "metadata": {},
     "output_type": "display_data"
    },
    {
     "data": {
      "text/html": [
       "<pre>| 15      | 1m 1s        | 10.7839           | 3.28389               | 0.00232515  |</pre>"
      ],
      "text/plain": [
       "| 15      | 1m 1s        | 10.7839           | 3.28389               | 0.00232515  |"
      ]
     },
     "metadata": {},
     "output_type": "display_data"
    },
    {
     "data": {
      "text/html": [
       "<pre>| 16      | 1m 6s        | 10.8367           | 3.29191               | 0.00232515  |</pre>"
      ],
      "text/plain": [
       "| 16      | 1m 6s        | 10.8367           | 3.29191               | 0.00232515  |"
      ]
     },
     "metadata": {},
     "output_type": "display_data"
    },
    {
     "data": {
      "text/html": [
       "<pre>| 17      | 1m 10s       | 10.8991           | 3.30138               | 0.00232515  |</pre>"
      ],
      "text/plain": [
       "| 17      | 1m 10s       | 10.8991           | 3.30138               | 0.00232515  |"
      ]
     },
     "metadata": {},
     "output_type": "display_data"
    },
    {
     "data": {
      "text/html": [
       "<pre>| 18      | 1m 14s       | 10.9656           | 3.31143               | 0.00232515  |</pre>"
      ],
      "text/plain": [
       "| 18      | 1m 14s       | 10.9656           | 3.31143               | 0.00232515  |"
      ]
     },
     "metadata": {},
     "output_type": "display_data"
    },
    {
     "data": {
      "text/html": [
       "<pre>| 19      | 1m 18s       | 11.0217           | 3.3199                | 0.00232515  |</pre>"
      ],
      "text/plain": [
       "| 19      | 1m 18s       | 11.0217           | 3.3199                | 0.00232515  |"
      ]
     },
     "metadata": {},
     "output_type": "display_data"
    },
    {
     "data": {
      "text/html": [
       "<pre>| 20      | 1m 22s       | 11.1027           | 3.33206               | 0.00232515  |</pre>"
      ],
      "text/plain": [
       "| 20      | 1m 22s       | 11.1027           | 3.33206               | 0.00232515  |"
      ]
     },
     "metadata": {},
     "output_type": "display_data"
    },
    {
     "data": {
      "text/html": [
       "<pre>| 21      | 1m 26s       | 11.1678           | 3.34183               | 0.00232515  |</pre>"
      ],
      "text/plain": [
       "| 21      | 1m 26s       | 11.1678           | 3.34183               | 0.00232515  |"
      ]
     },
     "metadata": {},
     "output_type": "display_data"
    },
    {
     "data": {
      "text/html": [
       "<pre>| 22      | 1m 31s       | DIVERGED          | DIVERGED              | 0.00232515  |</pre>"
      ],
      "text/plain": [
       "| 22      | 1m 31s       | DIVERGED          | DIVERGED              | 0.00232515  |"
      ]
     },
     "metadata": {},
     "output_type": "display_data"
    },
    {
     "data": {
      "text/html": [
       "<pre>| RESET   | 1m 32s       | 10.8602           | 3.29548               |             |</pre>"
      ],
      "text/plain": [
       "| RESET   | 1m 32s       | 10.8602           | 3.29548               |             |"
      ]
     },
     "metadata": {},
     "output_type": "display_data"
    },
    {
     "data": {
      "text/html": [
       "<pre>| 1       | 1m 36s       | 10.4507           | 3.23275               | 0.00116257  |</pre>"
      ],
      "text/plain": [
       "| 1       | 1m 36s       | 10.4507           | 3.23275               | 0.00116257  |"
      ]
     },
     "metadata": {},
     "output_type": "display_data"
    },
    {
     "data": {
      "text/html": [
       "<pre>| 2       | 1m 41s       | 10.4065           | 3.22591               | 0.00116257  |</pre>"
      ],
      "text/plain": [
       "| 2       | 1m 41s       | 10.4065           | 3.22591               | 0.00116257  |"
      ]
     },
     "metadata": {},
     "output_type": "display_data"
    },
    {
     "data": {
      "text/html": [
       "<pre>| 3       | 1m 45s       | 10.424            | 3.22863               | 0.00116257  |</pre>"
      ],
      "text/plain": [
       "| 3       | 1m 45s       | 10.424            | 3.22863               | 0.00116257  |"
      ]
     },
     "metadata": {},
     "output_type": "display_data"
    },
    {
     "data": {
      "text/html": [
       "<pre>| 4       | 1m 49s       | 10.4517           | 3.23291               | 0.00116257  |</pre>"
      ],
      "text/plain": [
       "| 4       | 1m 49s       | 10.4517           | 3.23291               | 0.00116257  |"
      ]
     },
     "metadata": {},
     "output_type": "display_data"
    },
    {
     "data": {
      "text/html": [
       "<pre>| 5       | 1m 53s       | 10.4823           | 3.23764               | 0.00116257  |</pre>"
      ],
      "text/plain": [
       "| 5       | 1m 53s       | 10.4823           | 3.23764               | 0.00116257  |"
      ]
     },
     "metadata": {},
     "output_type": "display_data"
    },
    {
     "data": {
      "text/html": [
       "<pre>| 6       | 1m 57s       | 10.5164           | 3.2429                | 0.00116257  |</pre>"
      ],
      "text/plain": [
       "| 6       | 1m 57s       | 10.5164           | 3.2429                | 0.00116257  |"
      ]
     },
     "metadata": {},
     "output_type": "display_data"
    },
    {
     "data": {
      "text/html": [
       "<pre>| 7       | 2m 1s        | 10.5498           | 3.24804               | 0.00116257  |</pre>"
      ],
      "text/plain": [
       "| 7       | 2m 1s        | 10.5498           | 3.24804               | 0.00116257  |"
      ]
     },
     "metadata": {},
     "output_type": "display_data"
    },
    {
     "data": {
      "text/html": [
       "<pre>| 8       | 2m 5s        | 10.5862           | 3.25365               | 0.00116257  |</pre>"
      ],
      "text/plain": [
       "| 8       | 2m 5s        | 10.5862           | 3.25365               | 0.00116257  |"
      ]
     },
     "metadata": {},
     "output_type": "display_data"
    },
    {
     "data": {
      "text/html": [
       "<pre>| 9       | 2m 9s        | 10.6284           | 3.26013               | 0.00116257  |</pre>"
      ],
      "text/plain": [
       "| 9       | 2m 9s        | 10.6284           | 3.26013               | 0.00116257  |"
      ]
     },
     "metadata": {},
     "output_type": "display_data"
    },
    {
     "data": {
      "text/html": [
       "<pre>| 10      | 2m 13s       | 10.6697           | 3.26645               | 0.00116257  |</pre>"
      ],
      "text/plain": [
       "| 10      | 2m 13s       | 10.6697           | 3.26645               | 0.00116257  |"
      ]
     },
     "metadata": {},
     "output_type": "display_data"
    },
    {
     "data": {
      "text/html": [
       "<pre>| 11      | 2m 18s       | 10.7125           | 3.273                 | 0.00116257  |</pre>"
      ],
      "text/plain": [
       "| 11      | 2m 18s       | 10.7125           | 3.273                 | 0.00116257  |"
      ]
     },
     "metadata": {},
     "output_type": "display_data"
    },
    {
     "data": {
      "text/html": [
       "<pre>| 12      | 2m 22s       | 10.7477           | 3.27837               | 0.00116257  |</pre>"
      ],
      "text/plain": [
       "| 12      | 2m 22s       | 10.7477           | 3.27837               | 0.00116257  |"
      ]
     },
     "metadata": {},
     "output_type": "display_data"
    },
    {
     "data": {
      "text/html": [
       "<pre>| 13      | 2m 26s       | 10.7984           | 3.2861                | 0.00116257  |</pre>"
      ],
      "text/plain": [
       "| 13      | 2m 26s       | 10.7984           | 3.2861                | 0.00116257  |"
      ]
     },
     "metadata": {},
     "output_type": "display_data"
    },
    {
     "data": {
      "text/html": [
       "<pre>| 14      | 2m 30s       | 10.8356           | 3.29175               | 0.00116257  |</pre>"
      ],
      "text/plain": [
       "| 14      | 2m 30s       | 10.8356           | 3.29175               | 0.00116257  |"
      ]
     },
     "metadata": {},
     "output_type": "display_data"
    },
    {
     "data": {
      "text/html": [
       "<pre>| 15      | 2m 34s       | 10.8921           | 3.30031               | 0.00116257  |</pre>"
      ],
      "text/plain": [
       "| 15      | 2m 34s       | 10.8921           | 3.30031               | 0.00116257  |"
      ]
     },
     "metadata": {},
     "output_type": "display_data"
    },
    {
     "data": {
      "text/html": [
       "<pre>| 16      | 2m 38s       | 10.9453           | 3.30836               | 0.00116257  |</pre>"
      ],
      "text/plain": [
       "| 16      | 2m 38s       | 10.9453           | 3.30836               | 0.00116257  |"
      ]
     },
     "metadata": {},
     "output_type": "display_data"
    },
    {
     "data": {
      "text/html": [
       "<pre>| 17      | 2m 43s       | 10.9816           | 3.31384               | 0.00116257  |</pre>"
      ],
      "text/plain": [
       "| 17      | 2m 43s       | 10.9816           | 3.31384               | 0.00116257  |"
      ]
     },
     "metadata": {},
     "output_type": "display_data"
    },
    {
     "data": {
      "text/html": [
       "<pre>| 18      | 2m 47s       | 11.0461           | 3.32357               | 0.00116257  |</pre>"
      ],
      "text/plain": [
       "| 18      | 2m 47s       | 11.0461           | 3.32357               | 0.00116257  |"
      ]
     },
     "metadata": {},
     "output_type": "display_data"
    },
    {
     "data": {
      "text/html": [
       "<pre>| 19      | 2m 51s       | 11.076            | 3.32806               | 0.00116257  |</pre>"
      ],
      "text/plain": [
       "| 19      | 2m 51s       | 11.076            | 3.32806               | 0.00116257  |"
      ]
     },
     "metadata": {},
     "output_type": "display_data"
    },
    {
     "data": {
      "text/html": [
       "<pre>| 20      | 2m 56s       | DIVERGED          | DIVERGED              | 0.00116257  |</pre>"
      ],
      "text/plain": [
       "| 20      | 2m 56s       | DIVERGED          | DIVERGED              | 0.00116257  |"
      ]
     },
     "metadata": {},
     "output_type": "display_data"
    },
    {
     "data": {
      "text/html": [
       "<pre>| RESET   | 2m 57s       | 10.8602           | 3.29547               |             |</pre>"
      ],
      "text/plain": [
       "| RESET   | 2m 57s       | 10.8602           | 3.29547               |             |"
      ]
     },
     "metadata": {},
     "output_type": "display_data"
    },
    {
     "data": {
      "text/html": [
       "<pre>| 1       | 3m 1s        | 10.4927           | 3.23925               | 0.000581287 |</pre>"
      ],
      "text/plain": [
       "| 1       | 3m 1s        | 10.4927           | 3.23925               | 0.000581287 |"
      ]
     },
     "metadata": {},
     "output_type": "display_data"
    },
    {
     "data": {
      "text/html": [
       "<pre>| 2       | 3m 6s        | 10.382            | 3.22211               | 0.000581287 |</pre>"
      ],
      "text/plain": [
       "| 2       | 3m 6s        | 10.382            | 3.22211               | 0.000581287 |"
      ]
     },
     "metadata": {},
     "output_type": "display_data"
    },
    {
     "data": {
      "text/html": [
       "<pre>| 3       | 3m 10s       | 10.3522           | 3.21748               | 0.000581287 |</pre>"
      ],
      "text/plain": [
       "| 3       | 3m 10s       | 10.3522           | 3.21748               | 0.000581287 |"
      ]
     },
     "metadata": {},
     "output_type": "display_data"
    },
    {
     "data": {
      "text/html": [
       "<pre>| 4       | 3m 14s       | 10.3325           | 3.21442               | 0.000581287 |</pre>"
      ],
      "text/plain": [
       "| 4       | 3m 14s       | 10.3325           | 3.21442               | 0.000581287 |"
      ]
     },
     "metadata": {},
     "output_type": "display_data"
    },
    {
     "data": {
      "text/html": [
       "<pre>| 5       | 3m 18s       | 10.319            | 3.21233               | 0.000581287 |</pre>"
      ],
      "text/plain": [
       "| 5       | 3m 18s       | 10.319            | 3.21233               | 0.000581287 |"
      ]
     },
     "metadata": {},
     "output_type": "display_data"
    },
    {
     "data": {
      "text/html": [
       "<pre>| 6       | 3m 22s       | 10.3086           | 3.21071               | 0.000581287 |</pre>"
      ],
      "text/plain": [
       "| 6       | 3m 22s       | 10.3086           | 3.21071               | 0.000581287 |"
      ]
     },
     "metadata": {},
     "output_type": "display_data"
    },
    {
     "data": {
      "text/html": [
       "<pre>| 7       | 3m 26s       | 10.2991           | 3.20923               | 0.000581287 |</pre>"
      ],
      "text/plain": [
       "| 7       | 3m 26s       | 10.2991           | 3.20923               | 0.000581287 |"
      ]
     },
     "metadata": {},
     "output_type": "display_data"
    },
    {
     "data": {
      "text/html": [
       "<pre>| 8       | 3m 30s       | 10.2917           | 3.20807               | 0.000581287 |</pre>"
      ],
      "text/plain": [
       "| 8       | 3m 30s       | 10.2917           | 3.20807               | 0.000581287 |"
      ]
     },
     "metadata": {},
     "output_type": "display_data"
    },
    {
     "data": {
      "text/html": [
       "<pre>| 9       | 3m 34s       | 10.2847           | 3.20698               | 0.000581287 |</pre>"
      ],
      "text/plain": [
       "| 9       | 3m 34s       | 10.2847           | 3.20698               | 0.000581287 |"
      ]
     },
     "metadata": {},
     "output_type": "display_data"
    },
    {
     "data": {
      "text/html": [
       "<pre>| 10      | 3m 38s       | 10.2785           | 3.206                 | 0.000581287 |</pre>"
      ],
      "text/plain": [
       "| 10      | 3m 38s       | 10.2785           | 3.206                 | 0.000581287 |"
      ]
     },
     "metadata": {},
     "output_type": "display_data"
    },
    {
     "data": {
      "text/html": [
       "<pre>| 11      | 3m 42s       | 10.273            | 3.20516               | 0.000581287 |</pre>"
      ],
      "text/plain": [
       "| 11      | 3m 42s       | 10.273            | 3.20516               | 0.000581287 |"
      ]
     },
     "metadata": {},
     "output_type": "display_data"
    },
    {
     "data": {
      "text/html": [
       "<pre>| 12      | 3m 47s       | 10.2678           | 3.20435               | 0.000581287 |</pre>"
      ],
      "text/plain": [
       "| 12      | 3m 47s       | 10.2678           | 3.20435               | 0.000581287 |"
      ]
     },
     "metadata": {},
     "output_type": "display_data"
    },
    {
     "data": {
      "text/html": [
       "<pre>| 13      | 3m 51s       | 10.2633           | 3.20363               | 0.000581287 |</pre>"
      ],
      "text/plain": [
       "| 13      | 3m 51s       | 10.2633           | 3.20363               | 0.000581287 |"
      ]
     },
     "metadata": {},
     "output_type": "display_data"
    },
    {
     "data": {
      "text/html": [
       "<pre>+---------+--------------+-------------------+-----------------------+-------------+</pre>"
      ],
      "text/plain": [
       "+---------+--------------+-------------------+-----------------------+-------------+"
      ]
     },
     "metadata": {},
     "output_type": "display_data"
    },
    {
     "data": {
      "text/html": [
       "<pre>Optimization Complete: Maximum number of passes through the data reached (hard limit).</pre>"
      ],
      "text/plain": [
       "Optimization Complete: Maximum number of passes through the data reached (hard limit)."
      ]
     },
     "metadata": {},
     "output_type": "display_data"
    },
    {
     "data": {
      "text/html": [
       "<pre>Computing final objective value and training RMSE.</pre>"
      ],
      "text/plain": [
       "Computing final objective value and training RMSE."
      ]
     },
     "metadata": {},
     "output_type": "display_data"
    },
    {
     "data": {
      "text/html": [
       "<pre>       Final objective value: 10.2611</pre>"
      ],
      "text/plain": [
       "       Final objective value: 10.2611"
      ]
     },
     "metadata": {},
     "output_type": "display_data"
    },
    {
     "data": {
      "text/html": [
       "<pre>       Final training RMSE: 3.20329</pre>"
      ],
      "text/plain": [
       "       Final training RMSE: 3.20329"
      ]
     },
     "metadata": {},
     "output_type": "display_data"
    }
   ],
   "source": [
    "personalized_model_4 = graphlab.recommender.factorization_recommender.create(aisle4.remove_column('days_since_prior_order'),\n",
    "                                                                            user_id = 'user_id',\n",
    "                                                                            item_id = 'product_name',\n",
    "                                                                            target = 'count',\n",
    "                                                                            user_data = user_data4,\n",
    "                                                                            item_data = item_data4\n",
    "                                                                           )"
   ]
  },
  {
   "cell_type": "code",
   "execution_count": 424,
   "metadata": {
    "collapsed": true
   },
   "outputs": [],
   "source": [
    "certain_str4_0 = ['Organic Cilantro', \n",
    "                'Organic Italian Parsley Bunch',\n",
    "                'Bunched Cilantro',\n",
    "                'Organic Basil',\n",
    "                'Organic Thyme']"
   ]
  },
  {
   "cell_type": "code",
   "execution_count": 418,
   "metadata": {
    "collapsed": true
   },
   "outputs": [],
   "source": [
    "certain_str4_1 = ['Organic Unsweetened Almond Milk', \n",
    "                'Unsweetened Almondmilk',\n",
    "                'Organic Coconut Milk',\n",
    "                'Unsweetened Original Almond Breeze Almond Milk',\n",
    "                'Vanilla Almond Breeze Almond Milk']"
   ]
  },
  {
   "cell_type": "code",
   "execution_count": 425,
   "metadata": {},
   "outputs": [
    {
     "data": {
      "text/plain": [
       "[['Organic Cilantro',\n",
       "  'Organic Italian Parsley Bunch',\n",
       "  'Bunched Cilantro',\n",
       "  'Organic Basil',\n",
       "  'Organic Thyme'],\n",
       " ['Organic Unsweetened Almond Milk',\n",
       "  'Unsweetened Almondmilk',\n",
       "  'Organic Coconut Milk',\n",
       "  'Unsweetened Original Almond Breeze Almond Milk',\n",
       "  'Vanilla Almond Breeze Almond Milk']]"
      ]
     },
     "execution_count": 425,
     "metadata": {},
     "output_type": "execute_result"
    }
   ],
   "source": [
    "certain_str4 = [certain_str4_0, certain_str4_1]\n",
    "certain_str4"
   ]
  },
  {
   "cell_type": "code",
   "execution_count": 426,
   "metadata": {
    "collapsed": true
   },
   "outputs": [],
   "source": [
    "personal_recommend4 = {}\n",
    "for s in range(len(certain_str4)): \n",
    "    data = []\n",
    "    for item in certain_str4[s]:\n",
    "        df = personalized_model_4.get_similar_items([item])\n",
    "        data.append(df)\n",
    "    personal_recommend4[s] = data  "
   ]
  },
  {
   "cell_type": "code",
   "execution_count": 428,
   "metadata": {},
   "outputs": [
    {
     "data": {
      "text/plain": [
       "[Columns:\n",
       " \tproduct_name\tstr\n",
       " \tsimilar\tstr\n",
       " \tscore\tfloat\n",
       " \trank\tint\n",
       " \n",
       " Rows: 10\n",
       " \n",
       " Data:\n",
       " +-------------------------------+-------------------------------+----------------+\n",
       " |          product_name         |            similar            |     score      |\n",
       " +-------------------------------+-------------------------------+----------------+\n",
       " | Organic Unsweetened Almond... |  Organic Reduced Fat 2% Milk  | 0.999997019768 |\n",
       " | Organic Unsweetened Almond... | Italian Sparkling Mineral ... | 0.999995946884 |\n",
       " | Organic Unsweetened Almond... |       Organic Eggs Large      | 0.999995529652 |\n",
       " | Organic Unsweetened Almond... |     Natural Artesian Water    | 0.999995112419 |\n",
       " | Organic Unsweetened Almond... |  Organic Original Almond Milk | 0.999994337559 |\n",
       " | Organic Unsweetened Almond... |          Organic Milk         | 0.999992966652 |\n",
       " | Organic Unsweetened Almond... |           Large Eggs          | 0.999992072582 |\n",
       " | Organic Unsweetened Almond... | Cage Free Grade AA Large W... | 0.999991953373 |\n",
       " | Organic Unsweetened Almond... |    Unsweetened Almond Milk    | 0.999990999699 |\n",
       " | Organic Unsweetened Almond... |           Tuna Salad          | 0.99998742342  |\n",
       " +-------------------------------+-------------------------------+----------------+\n",
       " +------+\n",
       " | rank |\n",
       " +------+\n",
       " |  1   |\n",
       " |  2   |\n",
       " |  3   |\n",
       " |  4   |\n",
       " |  5   |\n",
       " |  6   |\n",
       " |  7   |\n",
       " |  8   |\n",
       " |  9   |\n",
       " |  10  |\n",
       " +------+\n",
       " [10 rows x 4 columns], Columns:\n",
       " \tproduct_name\tstr\n",
       " \tsimilar\tstr\n",
       " \tscore\tfloat\n",
       " \trank\tint\n",
       " \n",
       " Rows: 10\n",
       " \n",
       " Data:\n",
       " +------------------------+-------------------------------+----------------+------+\n",
       " |      product_name      |            similar            |     score      | rank |\n",
       " +------------------------+-------------------------------+----------------+------+\n",
       " | Unsweetened Almondmilk | Vanilla Almond Breeze Almo... | 0.999998092651 |  1   |\n",
       " | Unsweetened Almondmilk |      Natural Spring Water     | 0.999997019768 |  2   |\n",
       " | Unsweetened Almondmilk |           Tuna Salad          | 0.999996721745 |  3   |\n",
       " | Unsweetened Almondmilk |   100% Natural Spring Water   | 0.99999588728  |  4   |\n",
       " | Unsweetened Almondmilk |     Heirloom Navel Orange     | 0.999992549419 |  5   |\n",
       " | Unsweetened Almondmilk |             Papaya            | 0.999990522861 |  6   |\n",
       " | Unsweetened Almondmilk | Organic 4% Milk Fat Whole ... | 0.999990522861 |  7   |\n",
       " | Unsweetened Almondmilk |  Organic Reduced Fat 2% Milk  | 0.999989032745 |  8   |\n",
       " | Unsweetened Almondmilk |  Large Grade AA Organic Eggs  | 0.999988794327 |  9   |\n",
       " | Unsweetened Almondmilk |      Organic Fuji Apples      | 0.999987125397 |  10  |\n",
       " +------------------------+-------------------------------+----------------+------+\n",
       " [10 rows x 4 columns], Columns:\n",
       " \tproduct_name\tstr\n",
       " \tsimilar\tstr\n",
       " \tscore\tfloat\n",
       " \trank\tint\n",
       " \n",
       " Rows: 10\n",
       " \n",
       " Data:\n",
       " +----------------------+--------------------------------+----------------+------+\n",
       " |     product_name     |            similar             |     score      | rank |\n",
       " +----------------------+--------------------------------+----------------+------+\n",
       " | Organic Coconut Milk |      Heavy Whipping Cream      | 0.999997615814 |  1   |\n",
       " | Organic Coconut Milk |          Tonic Water           | 0.999997317791 |  2   |\n",
       " | Organic Coconut Milk |     Original Coconut Milk      | 0.999996006489 |  3   |\n",
       " | Organic Coconut Milk | Mediterranee Strawberry Yogurt | 0.999995350838 |  4   |\n",
       " | Organic Coconut Milk | Extra Moisturizing NoDrip ...  | 0.999995231628 |  5   |\n",
       " | Organic Coconut Milk |    ALMONDBREEZE UNSWEETENED    | 0.999995231628 |  6   |\n",
       " | Organic Coconut Milk | Light & Fit Greek Vanilla ...  | 0.999994874001 |  7   |\n",
       " | Organic Coconut Milk |  The Natural Whipped Topping   | 0.999994516373 |  8   |\n",
       " | Organic Coconut Milk | Creme Fraiche French Cultu...  | 0.999994218349 |  9   |\n",
       " | Organic Coconut Milk | Coconut Flavored Sparkling...  | 0.999994218349 |  10  |\n",
       " +----------------------+--------------------------------+----------------+------+\n",
       " [10 rows x 4 columns], Columns:\n",
       " \tproduct_name\tstr\n",
       " \tsimilar\tstr\n",
       " \tscore\tfloat\n",
       " \trank\tint\n",
       " \n",
       " Rows: 10\n",
       " \n",
       " Data:\n",
       " +-------------------------------+-------------------------+----------------+------+\n",
       " |          product_name         |         similar         |     score      | rank |\n",
       " +-------------------------------+-------------------------+----------------+------+\n",
       " | Unsweetened Original Almon... |       Pear Packham      | 0.999982059002 |  1   |\n",
       " | Unsweetened Original Almon... |  Organic Bartlett Pears | 0.999978244305 |  2   |\n",
       " | Unsweetened Original Almon... |      Butter Lettuce     | 0.999975383282 |  3   |\n",
       " | Unsweetened Original Almon... |       Seckel Pear       | 0.999974310398 |  4   |\n",
       " | Unsweetened Original Almon... | Organic Whole Pineapple | 0.999972462654 |  5   |\n",
       " | Unsweetened Original Almon... |       Baby Bananas      | 0.999971270561 |  6   |\n",
       " | Unsweetened Original Almon... |  Organic Red Grapefruit | 0.999970376492 |  7   |\n",
       " | Unsweetened Original Almon... |  Orange Navel Heirloom. | 0.999969780445 |  8   |\n",
       " | Unsweetened Original Almon... |  Seedless Grapes Green  | 0.999969482422 |  9   |\n",
       " | Unsweetened Original Almon... |        Nectarine        | 0.999966442585 |  10  |\n",
       " +-------------------------------+-------------------------+----------------+------+\n",
       " [10 rows x 4 columns], Columns:\n",
       " \tproduct_name\tstr\n",
       " \tsimilar\tstr\n",
       " \tscore\tfloat\n",
       " \trank\tint\n",
       " \n",
       " Rows: 10\n",
       " \n",
       " Data:\n",
       " +-------------------------------+--------------------------------+\n",
       " |          product_name         |            similar             |\n",
       " +-------------------------------+--------------------------------+\n",
       " | Vanilla Almond Breeze Almo... |     Unsweetened Almondmilk     |\n",
       " | Vanilla Almond Breeze Almo... |      Natural Spring Water      |\n",
       " | Vanilla Almond Breeze Almo... |   100% Natural Spring Water    |\n",
       " | Vanilla Almond Breeze Almo... | Organic 4% Milk Fat Whole ...  |\n",
       " | Vanilla Almond Breeze Almo... | Natural Artesian Bottled Water |\n",
       " | Vanilla Almond Breeze Almo... |     Heirloom Navel Orange      |\n",
       " | Vanilla Almond Breeze Almo... |           Tuna Salad           |\n",
       " | Vanilla Almond Breeze Almo... | Vegan Chao Creamy Original...  |\n",
       " | Vanilla Almond Breeze Almo... |   Sparkling Water Grapefruit   |\n",
       " | Vanilla Almond Breeze Almo... |             Papaya             |\n",
       " +-------------------------------+--------------------------------+\n",
       " +----------------+------+\n",
       " |     score      | rank |\n",
       " +----------------+------+\n",
       " | 0.999998092651 |  1   |\n",
       " | 0.999997377396 |  2   |\n",
       " | 0.999996602535 |  3   |\n",
       " | 0.999996244907 |  4   |\n",
       " | 0.999990999699 |  5   |\n",
       " | 0.999990820885 |  6   |\n",
       " | 0.99999076128  |  7   |\n",
       " | 0.999988973141 |  8   |\n",
       " | 0.999988913536 |  9   |\n",
       " | 0.999987959862 |  10  |\n",
       " +----------------+------+\n",
       " [10 rows x 4 columns]]"
      ]
     },
     "execution_count": 428,
     "metadata": {},
     "output_type": "execute_result"
    }
   ],
   "source": [
    "personal_recommend4[1]"
   ]
  },
  {
   "cell_type": "code",
   "execution_count": 359,
   "metadata": {
    "scrolled": true
   },
   "outputs": [
    {
     "name": "stdout",
     "output_type": "stream",
     "text": [
      "+------------------+---------------------------------------------+----------------+------+\n",
      "|   product_name   |                   similar                   |     score      | rank |\n",
      "+------------------+---------------------------------------------+----------------+------+\n",
      "| Organic Cilantro |         Organic Kosher Dill Pickles         | 0.999394476414 |  1   |\n",
      "| Organic Cilantro |           Outrageous B & B Pickles          | 0.999060750008 |  2   |\n",
      "| Organic Cilantro |  Organic Fruit Yogurt Smoothie Peach Banana | 0.999053239822 |  3   |\n",
      "| Organic Cilantro |            Organic Hearts Of Palm           | 0.998860239983 |  4   |\n",
      "| Organic Cilantro |            Classic Round Crackers           | 0.998631834984 |  5   |\n",
      "| Organic Cilantro |       100% Recycled Bath Tissue Rolls       | 0.998419106007 |  6   |\n",
      "| Organic Cilantro |       Sunny Days Strawberry Snack Bars      | 0.998270273209 |  7   |\n",
      "| Organic Cilantro |              Super Greens Salad             | 0.998220205307 |  8   |\n",
      "| Organic Cilantro | Organic Stage 2 Peaches & Bananas Baby Food | 0.997880876064 |  9   |\n",
      "| Organic Cilantro |          Sunflower Seeds, Original          | 0.997809410095 |  10  |\n",
      "+------------------+---------------------------------------------+----------------+------+\n",
      "[10 rows x 4 columns]\n",
      "\n"
     ]
    }
   ],
   "source": [
    "appended_data2[0].print_rows(max_column_width = 300)"
   ]
  },
  {
   "cell_type": "markdown",
   "metadata": {},
   "source": [
    "### group0 - recommend for Soda, Ice Cream, Paper Goods and hot dogs bacon sausage"
   ]
  },
  {
   "cell_type": "code",
   "execution_count": 19,
   "metadata": {
    "collapsed": true
   },
   "outputs": [],
   "source": [
    "recommend = {}\n",
    "for item in certain_str:\n",
    "    print 'recommendation for' + str(item) + ':'\n",
    "    recommend[item] = df[df['antecedants'].apply(lambda x: str(x)).str.contains(item)]\n"
   ]
  },
  {
   "cell_type": "code",
   "execution_count": 57,
   "metadata": {
    "collapsed": true
   },
   "outputs": [
    {
     "data": {
      "text/html": [
       "<div>\n",
       "<style scoped>\n",
       "    .dataframe tbody tr th:only-of-type {\n",
       "        vertical-align: middle;\n",
       "    }\n",
       "\n",
       "    .dataframe tbody tr th {\n",
       "        vertical-align: top;\n",
       "    }\n",
       "\n",
       "    .dataframe thead th {\n",
       "        text-align: right;\n",
       "    }\n",
       "</style>\n",
       "<table border=\"1\" class=\"dataframe\">\n",
       "  <thead>\n",
       "    <tr style=\"text-align: right;\">\n",
       "      <th></th>\n",
       "      <th>Unnamed: 0</th>\n",
       "      <th>order_id</th>\n",
       "      <th>user_id</th>\n",
       "      <th>eval_set</th>\n",
       "      <th>order_number</th>\n",
       "      <th>order_dow</th>\n",
       "      <th>order_hour_of_day</th>\n",
       "      <th>days_since_prior_order</th>\n",
       "      <th>product_id</th>\n",
       "      <th>add_to_cart_order</th>\n",
       "      <th>reordered</th>\n",
       "      <th>product_name</th>\n",
       "      <th>aisle_id</th>\n",
       "      <th>department_id</th>\n",
       "      <th>department</th>\n",
       "      <th>aisle</th>\n",
       "    </tr>\n",
       "  </thead>\n",
       "  <tbody>\n",
       "    <tr>\n",
       "      <th>1086</th>\n",
       "      <td>1086</td>\n",
       "      <td>2363981</td>\n",
       "      <td>13</td>\n",
       "      <td>prior</td>\n",
       "      <td>6</td>\n",
       "      <td>0</td>\n",
       "      <td>18</td>\n",
       "      <td>7.0</td>\n",
       "      <td>31134</td>\n",
       "      <td>5</td>\n",
       "      <td>0</td>\n",
       "      <td>Mediterranean Apricots</td>\n",
       "      <td>117</td>\n",
       "      <td>19</td>\n",
       "      <td>snacks</td>\n",
       "      <td>nuts seeds dried fruit</td>\n",
       "    </tr>\n",
       "    <tr>\n",
       "      <th>2778</th>\n",
       "      <td>2778</td>\n",
       "      <td>3374715</td>\n",
       "      <td>27</td>\n",
       "      <td>prior</td>\n",
       "      <td>40</td>\n",
       "      <td>4</td>\n",
       "      <td>10</td>\n",
       "      <td>3.0</td>\n",
       "      <td>24236</td>\n",
       "      <td>13</td>\n",
       "      <td>0</td>\n",
       "      <td>Organic  Dried &amp; Unsulfured Orchard Select Apr...</td>\n",
       "      <td>117</td>\n",
       "      <td>19</td>\n",
       "      <td>snacks</td>\n",
       "      <td>nuts seeds dried fruit</td>\n",
       "    </tr>\n",
       "    <tr>\n",
       "      <th>2804</th>\n",
       "      <td>2804</td>\n",
       "      <td>3037479</td>\n",
       "      <td>27</td>\n",
       "      <td>prior</td>\n",
       "      <td>45</td>\n",
       "      <td>4</td>\n",
       "      <td>9</td>\n",
       "      <td>2.0</td>\n",
       "      <td>24236</td>\n",
       "      <td>1</td>\n",
       "      <td>1</td>\n",
       "      <td>Organic  Dried &amp; Unsulfured Orchard Select Apr...</td>\n",
       "      <td>117</td>\n",
       "      <td>19</td>\n",
       "      <td>snacks</td>\n",
       "      <td>nuts seeds dried fruit</td>\n",
       "    </tr>\n",
       "    <tr>\n",
       "      <th>3948</th>\n",
       "      <td>3948</td>\n",
       "      <td>813240</td>\n",
       "      <td>31</td>\n",
       "      <td>prior</td>\n",
       "      <td>19</td>\n",
       "      <td>0</td>\n",
       "      <td>17</td>\n",
       "      <td>4.0</td>\n",
       "      <td>12962</td>\n",
       "      <td>25</td>\n",
       "      <td>0</td>\n",
       "      <td>Apricot Preserves</td>\n",
       "      <td>88</td>\n",
       "      <td>13</td>\n",
       "      <td>pantry</td>\n",
       "      <td>spreads</td>\n",
       "    </tr>\n",
       "    <tr>\n",
       "      <th>4441</th>\n",
       "      <td>4441</td>\n",
       "      <td>423623</td>\n",
       "      <td>36</td>\n",
       "      <td>prior</td>\n",
       "      <td>18</td>\n",
       "      <td>4</td>\n",
       "      <td>17</td>\n",
       "      <td>18.0</td>\n",
       "      <td>29298</td>\n",
       "      <td>8</td>\n",
       "      <td>0</td>\n",
       "      <td>Deluxe Thick Apricot Fruit Spread</td>\n",
       "      <td>88</td>\n",
       "      <td>13</td>\n",
       "      <td>pantry</td>\n",
       "      <td>spreads</td>\n",
       "    </tr>\n",
       "    <tr>\n",
       "      <th>7923</th>\n",
       "      <td>7923</td>\n",
       "      <td>2568280</td>\n",
       "      <td>63</td>\n",
       "      <td>prior</td>\n",
       "      <td>2</td>\n",
       "      <td>0</td>\n",
       "      <td>9</td>\n",
       "      <td>11.0</td>\n",
       "      <td>12962</td>\n",
       "      <td>9</td>\n",
       "      <td>0</td>\n",
       "      <td>Apricot Preserves</td>\n",
       "      <td>88</td>\n",
       "      <td>13</td>\n",
       "      <td>pantry</td>\n",
       "      <td>spreads</td>\n",
       "    </tr>\n",
       "    <tr>\n",
       "      <th>9195</th>\n",
       "      <td>9195</td>\n",
       "      <td>21889</td>\n",
       "      <td>71</td>\n",
       "      <td>prior</td>\n",
       "      <td>10</td>\n",
       "      <td>2</td>\n",
       "      <td>15</td>\n",
       "      <td>11.0</td>\n",
       "      <td>37973</td>\n",
       "      <td>14</td>\n",
       "      <td>0</td>\n",
       "      <td>Apricot-Raspberry Preserves</td>\n",
       "      <td>88</td>\n",
       "      <td>13</td>\n",
       "      <td>pantry</td>\n",
       "      <td>spreads</td>\n",
       "    </tr>\n",
       "    <tr>\n",
       "      <th>9937</th>\n",
       "      <td>9937</td>\n",
       "      <td>1574973</td>\n",
       "      <td>77</td>\n",
       "      <td>prior</td>\n",
       "      <td>4</td>\n",
       "      <td>2</td>\n",
       "      <td>9</td>\n",
       "      <td>16.0</td>\n",
       "      <td>6342</td>\n",
       "      <td>3</td>\n",
       "      <td>0</td>\n",
       "      <td>Santa Cruz OG Apricot Fruit Spread</td>\n",
       "      <td>88</td>\n",
       "      <td>13</td>\n",
       "      <td>pantry</td>\n",
       "      <td>spreads</td>\n",
       "    </tr>\n",
       "    <tr>\n",
       "      <th>16723</th>\n",
       "      <td>16723</td>\n",
       "      <td>505689</td>\n",
       "      <td>138</td>\n",
       "      <td>prior</td>\n",
       "      <td>9</td>\n",
       "      <td>6</td>\n",
       "      <td>12</td>\n",
       "      <td>7.0</td>\n",
       "      <td>1000</td>\n",
       "      <td>5</td>\n",
       "      <td>0</td>\n",
       "      <td>Apricots</td>\n",
       "      <td>18</td>\n",
       "      <td>10</td>\n",
       "      <td>bulk</td>\n",
       "      <td>bulk dried fruits vegetables</td>\n",
       "    </tr>\n",
       "    <tr>\n",
       "      <th>17014</th>\n",
       "      <td>17014</td>\n",
       "      <td>551518</td>\n",
       "      <td>140</td>\n",
       "      <td>prior</td>\n",
       "      <td>13</td>\n",
       "      <td>4</td>\n",
       "      <td>19</td>\n",
       "      <td>7.0</td>\n",
       "      <td>1000</td>\n",
       "      <td>27</td>\n",
       "      <td>0</td>\n",
       "      <td>Apricots</td>\n",
       "      <td>18</td>\n",
       "      <td>10</td>\n",
       "      <td>bulk</td>\n",
       "      <td>bulk dried fruits vegetables</td>\n",
       "    </tr>\n",
       "    <tr>\n",
       "      <th>17077</th>\n",
       "      <td>17077</td>\n",
       "      <td>1672315</td>\n",
       "      <td>140</td>\n",
       "      <td>prior</td>\n",
       "      <td>16</td>\n",
       "      <td>4</td>\n",
       "      <td>17</td>\n",
       "      <td>8.0</td>\n",
       "      <td>1000</td>\n",
       "      <td>20</td>\n",
       "      <td>1</td>\n",
       "      <td>Apricots</td>\n",
       "      <td>18</td>\n",
       "      <td>10</td>\n",
       "      <td>bulk</td>\n",
       "      <td>bulk dried fruits vegetables</td>\n",
       "    </tr>\n",
       "    <tr>\n",
       "      <th>17111</th>\n",
       "      <td>17111</td>\n",
       "      <td>1820029</td>\n",
       "      <td>140</td>\n",
       "      <td>prior</td>\n",
       "      <td>18</td>\n",
       "      <td>0</td>\n",
       "      <td>18</td>\n",
       "      <td>5.0</td>\n",
       "      <td>1000</td>\n",
       "      <td>6</td>\n",
       "      <td>1</td>\n",
       "      <td>Apricots</td>\n",
       "      <td>18</td>\n",
       "      <td>10</td>\n",
       "      <td>bulk</td>\n",
       "      <td>bulk dried fruits vegetables</td>\n",
       "    </tr>\n",
       "    <tr>\n",
       "      <th>17176</th>\n",
       "      <td>17176</td>\n",
       "      <td>3245602</td>\n",
       "      <td>140</td>\n",
       "      <td>prior</td>\n",
       "      <td>21</td>\n",
       "      <td>1</td>\n",
       "      <td>16</td>\n",
       "      <td>7.0</td>\n",
       "      <td>1000</td>\n",
       "      <td>15</td>\n",
       "      <td>1</td>\n",
       "      <td>Apricots</td>\n",
       "      <td>18</td>\n",
       "      <td>10</td>\n",
       "      <td>bulk</td>\n",
       "      <td>bulk dried fruits vegetables</td>\n",
       "    </tr>\n",
       "    <tr>\n",
       "      <th>17234</th>\n",
       "      <td>17234</td>\n",
       "      <td>599299</td>\n",
       "      <td>140</td>\n",
       "      <td>prior</td>\n",
       "      <td>25</td>\n",
       "      <td>6</td>\n",
       "      <td>11</td>\n",
       "      <td>5.0</td>\n",
       "      <td>1000</td>\n",
       "      <td>1</td>\n",
       "      <td>1</td>\n",
       "      <td>Apricots</td>\n",
       "      <td>18</td>\n",
       "      <td>10</td>\n",
       "      <td>bulk</td>\n",
       "      <td>bulk dried fruits vegetables</td>\n",
       "    </tr>\n",
       "    <tr>\n",
       "      <th>17534</th>\n",
       "      <td>17534</td>\n",
       "      <td>2783075</td>\n",
       "      <td>140</td>\n",
       "      <td>prior</td>\n",
       "      <td>47</td>\n",
       "      <td>3</td>\n",
       "      <td>15</td>\n",
       "      <td>11.0</td>\n",
       "      <td>5114</td>\n",
       "      <td>4</td>\n",
       "      <td>0</td>\n",
       "      <td>Peach,  Apricot &amp; Banana Stage 2 Baby Food</td>\n",
       "      <td>92</td>\n",
       "      <td>18</td>\n",
       "      <td>babies</td>\n",
       "      <td>baby food formula</td>\n",
       "    </tr>\n",
       "    <tr>\n",
       "      <th>17573</th>\n",
       "      <td>17573</td>\n",
       "      <td>1364045</td>\n",
       "      <td>140</td>\n",
       "      <td>prior</td>\n",
       "      <td>50</td>\n",
       "      <td>5</td>\n",
       "      <td>17</td>\n",
       "      <td>1.0</td>\n",
       "      <td>5114</td>\n",
       "      <td>10</td>\n",
       "      <td>1</td>\n",
       "      <td>Peach,  Apricot &amp; Banana Stage 2 Baby Food</td>\n",
       "      <td>92</td>\n",
       "      <td>18</td>\n",
       "      <td>babies</td>\n",
       "      <td>baby food formula</td>\n",
       "    </tr>\n",
       "    <tr>\n",
       "      <th>17684</th>\n",
       "      <td>17684</td>\n",
       "      <td>888081</td>\n",
       "      <td>140</td>\n",
       "      <td>prior</td>\n",
       "      <td>58</td>\n",
       "      <td>0</td>\n",
       "      <td>17</td>\n",
       "      <td>1.0</td>\n",
       "      <td>30542</td>\n",
       "      <td>17</td>\n",
       "      <td>0</td>\n",
       "      <td>Organic Baby Food Apricot, Peach &amp; Pumpkin</td>\n",
       "      <td>92</td>\n",
       "      <td>18</td>\n",
       "      <td>babies</td>\n",
       "      <td>baby food formula</td>\n",
       "    </tr>\n",
       "    <tr>\n",
       "      <th>17696</th>\n",
       "      <td>17696</td>\n",
       "      <td>888081</td>\n",
       "      <td>140</td>\n",
       "      <td>prior</td>\n",
       "      <td>58</td>\n",
       "      <td>0</td>\n",
       "      <td>17</td>\n",
       "      <td>1.0</td>\n",
       "      <td>12754</td>\n",
       "      <td>29</td>\n",
       "      <td>0</td>\n",
       "      <td>Organic Stage 2 Pear Apricot Barley Baby Food</td>\n",
       "      <td>92</td>\n",
       "      <td>18</td>\n",
       "      <td>babies</td>\n",
       "      <td>baby food formula</td>\n",
       "    </tr>\n",
       "    <tr>\n",
       "      <th>18683</th>\n",
       "      <td>18683</td>\n",
       "      <td>1543077</td>\n",
       "      <td>145</td>\n",
       "      <td>prior</td>\n",
       "      <td>6</td>\n",
       "      <td>0</td>\n",
       "      <td>9</td>\n",
       "      <td>11.0</td>\n",
       "      <td>29298</td>\n",
       "      <td>11</td>\n",
       "      <td>0</td>\n",
       "      <td>Deluxe Thick Apricot Fruit Spread</td>\n",
       "      <td>88</td>\n",
       "      <td>13</td>\n",
       "      <td>pantry</td>\n",
       "      <td>spreads</td>\n",
       "    </tr>\n",
       "    <tr>\n",
       "      <th>23135</th>\n",
       "      <td>23135</td>\n",
       "      <td>114213</td>\n",
       "      <td>169</td>\n",
       "      <td>prior</td>\n",
       "      <td>3</td>\n",
       "      <td>1</td>\n",
       "      <td>15</td>\n",
       "      <td>30.0</td>\n",
       "      <td>5114</td>\n",
       "      <td>9</td>\n",
       "      <td>0</td>\n",
       "      <td>Peach,  Apricot &amp; Banana Stage 2 Baby Food</td>\n",
       "      <td>92</td>\n",
       "      <td>18</td>\n",
       "      <td>babies</td>\n",
       "      <td>baby food formula</td>\n",
       "    </tr>\n",
       "    <tr>\n",
       "      <th>23627</th>\n",
       "      <td>23627</td>\n",
       "      <td>3377958</td>\n",
       "      <td>173</td>\n",
       "      <td>prior</td>\n",
       "      <td>40</td>\n",
       "      <td>2</td>\n",
       "      <td>10</td>\n",
       "      <td>8.0</td>\n",
       "      <td>26036</td>\n",
       "      <td>9</td>\n",
       "      <td>0</td>\n",
       "      <td>Organic Apples &amp; Apricots</td>\n",
       "      <td>92</td>\n",
       "      <td>18</td>\n",
       "      <td>babies</td>\n",
       "      <td>baby food formula</td>\n",
       "    </tr>\n",
       "    <tr>\n",
       "      <th>23628</th>\n",
       "      <td>23628</td>\n",
       "      <td>3377958</td>\n",
       "      <td>173</td>\n",
       "      <td>prior</td>\n",
       "      <td>40</td>\n",
       "      <td>2</td>\n",
       "      <td>10</td>\n",
       "      <td>8.0</td>\n",
       "      <td>30542</td>\n",
       "      <td>10</td>\n",
       "      <td>0</td>\n",
       "      <td>Organic Baby Food Apricot, Peach &amp; Pumpkin</td>\n",
       "      <td>92</td>\n",
       "      <td>18</td>\n",
       "      <td>babies</td>\n",
       "      <td>baby food formula</td>\n",
       "    </tr>\n",
       "    <tr>\n",
       "      <th>23650</th>\n",
       "      <td>23650</td>\n",
       "      <td>306455</td>\n",
       "      <td>173</td>\n",
       "      <td>prior</td>\n",
       "      <td>42</td>\n",
       "      <td>2</td>\n",
       "      <td>10</td>\n",
       "      <td>6.0</td>\n",
       "      <td>5114</td>\n",
       "      <td>9</td>\n",
       "      <td>0</td>\n",
       "      <td>Peach,  Apricot &amp; Banana Stage 2 Baby Food</td>\n",
       "      <td>92</td>\n",
       "      <td>18</td>\n",
       "      <td>babies</td>\n",
       "      <td>baby food formula</td>\n",
       "    </tr>\n",
       "    <tr>\n",
       "      <th>23677</th>\n",
       "      <td>23677</td>\n",
       "      <td>747657</td>\n",
       "      <td>173</td>\n",
       "      <td>prior</td>\n",
       "      <td>44</td>\n",
       "      <td>1</td>\n",
       "      <td>10</td>\n",
       "      <td>15.0</td>\n",
       "      <td>30542</td>\n",
       "      <td>3</td>\n",
       "      <td>1</td>\n",
       "      <td>Organic Baby Food Apricot, Peach &amp; Pumpkin</td>\n",
       "      <td>92</td>\n",
       "      <td>18</td>\n",
       "      <td>babies</td>\n",
       "      <td>baby food formula</td>\n",
       "    </tr>\n",
       "    <tr>\n",
       "      <th>24718</th>\n",
       "      <td>24718</td>\n",
       "      <td>3379815</td>\n",
       "      <td>183</td>\n",
       "      <td>prior</td>\n",
       "      <td>2</td>\n",
       "      <td>5</td>\n",
       "      <td>15</td>\n",
       "      <td>3.0</td>\n",
       "      <td>9324</td>\n",
       "      <td>11</td>\n",
       "      <td>0</td>\n",
       "      <td>Organic Apricots</td>\n",
       "      <td>117</td>\n",
       "      <td>19</td>\n",
       "      <td>snacks</td>\n",
       "      <td>nuts seeds dried fruit</td>\n",
       "    </tr>\n",
       "    <tr>\n",
       "      <th>24746</th>\n",
       "      <td>24746</td>\n",
       "      <td>2661186</td>\n",
       "      <td>183</td>\n",
       "      <td>prior</td>\n",
       "      <td>3</td>\n",
       "      <td>0</td>\n",
       "      <td>19</td>\n",
       "      <td>9.0</td>\n",
       "      <td>31134</td>\n",
       "      <td>17</td>\n",
       "      <td>0</td>\n",
       "      <td>Mediterranean Apricots</td>\n",
       "      <td>117</td>\n",
       "      <td>19</td>\n",
       "      <td>snacks</td>\n",
       "      <td>nuts seeds dried fruit</td>\n",
       "    </tr>\n",
       "    <tr>\n",
       "      <th>26220</th>\n",
       "      <td>26220</td>\n",
       "      <td>1787495</td>\n",
       "      <td>197</td>\n",
       "      <td>prior</td>\n",
       "      <td>14</td>\n",
       "      <td>6</td>\n",
       "      <td>15</td>\n",
       "      <td>7.0</td>\n",
       "      <td>1000</td>\n",
       "      <td>32</td>\n",
       "      <td>0</td>\n",
       "      <td>Apricots</td>\n",
       "      <td>18</td>\n",
       "      <td>10</td>\n",
       "      <td>bulk</td>\n",
       "      <td>bulk dried fruits vegetables</td>\n",
       "    </tr>\n",
       "    <tr>\n",
       "      <th>27317</th>\n",
       "      <td>27317</td>\n",
       "      <td>2267241</td>\n",
       "      <td>204</td>\n",
       "      <td>prior</td>\n",
       "      <td>32</td>\n",
       "      <td>1</td>\n",
       "      <td>23</td>\n",
       "      <td>4.0</td>\n",
       "      <td>37768</td>\n",
       "      <td>11</td>\n",
       "      <td>0</td>\n",
       "      <td>Sugar Free Apricot Preserves</td>\n",
       "      <td>88</td>\n",
       "      <td>13</td>\n",
       "      <td>pantry</td>\n",
       "      <td>spreads</td>\n",
       "    </tr>\n",
       "    <tr>\n",
       "      <th>27353</th>\n",
       "      <td>27353</td>\n",
       "      <td>1933885</td>\n",
       "      <td>204</td>\n",
       "      <td>prior</td>\n",
       "      <td>38</td>\n",
       "      <td>2</td>\n",
       "      <td>8</td>\n",
       "      <td>6.0</td>\n",
       "      <td>37768</td>\n",
       "      <td>3</td>\n",
       "      <td>1</td>\n",
       "      <td>Sugar Free Apricot Preserves</td>\n",
       "      <td>88</td>\n",
       "      <td>13</td>\n",
       "      <td>pantry</td>\n",
       "      <td>spreads</td>\n",
       "    </tr>\n",
       "    <tr>\n",
       "      <th>27468</th>\n",
       "      <td>27468</td>\n",
       "      <td>625302</td>\n",
       "      <td>204</td>\n",
       "      <td>prior</td>\n",
       "      <td>55</td>\n",
       "      <td>3</td>\n",
       "      <td>14</td>\n",
       "      <td>4.0</td>\n",
       "      <td>1000</td>\n",
       "      <td>6</td>\n",
       "      <td>0</td>\n",
       "      <td>Apricots</td>\n",
       "      <td>18</td>\n",
       "      <td>10</td>\n",
       "      <td>bulk</td>\n",
       "      <td>bulk dried fruits vegetables</td>\n",
       "    </tr>\n",
       "    <tr>\n",
       "      <th>...</th>\n",
       "      <td>...</td>\n",
       "      <td>...</td>\n",
       "      <td>...</td>\n",
       "      <td>...</td>\n",
       "      <td>...</td>\n",
       "      <td>...</td>\n",
       "      <td>...</td>\n",
       "      <td>...</td>\n",
       "      <td>...</td>\n",
       "      <td>...</td>\n",
       "      <td>...</td>\n",
       "      <td>...</td>\n",
       "      <td>...</td>\n",
       "      <td>...</td>\n",
       "      <td>...</td>\n",
       "      <td>...</td>\n",
       "    </tr>\n",
       "    <tr>\n",
       "      <th>32400782</th>\n",
       "      <td>32400782</td>\n",
       "      <td>575068</td>\n",
       "      <td>205980</td>\n",
       "      <td>prior</td>\n",
       "      <td>19</td>\n",
       "      <td>6</td>\n",
       "      <td>17</td>\n",
       "      <td>4.0</td>\n",
       "      <td>12962</td>\n",
       "      <td>6</td>\n",
       "      <td>0</td>\n",
       "      <td>Apricot Preserves</td>\n",
       "      <td>88</td>\n",
       "      <td>13</td>\n",
       "      <td>pantry</td>\n",
       "      <td>spreads</td>\n",
       "    </tr>\n",
       "    <tr>\n",
       "      <th>32400805</th>\n",
       "      <td>32400805</td>\n",
       "      <td>3041213</td>\n",
       "      <td>205980</td>\n",
       "      <td>prior</td>\n",
       "      <td>22</td>\n",
       "      <td>0</td>\n",
       "      <td>14</td>\n",
       "      <td>11.0</td>\n",
       "      <td>12962</td>\n",
       "      <td>9</td>\n",
       "      <td>1</td>\n",
       "      <td>Apricot Preserves</td>\n",
       "      <td>88</td>\n",
       "      <td>13</td>\n",
       "      <td>pantry</td>\n",
       "      <td>spreads</td>\n",
       "    </tr>\n",
       "    <tr>\n",
       "      <th>32400814</th>\n",
       "      <td>32400814</td>\n",
       "      <td>1206401</td>\n",
       "      <td>205980</td>\n",
       "      <td>prior</td>\n",
       "      <td>23</td>\n",
       "      <td>0</td>\n",
       "      <td>13</td>\n",
       "      <td>7.0</td>\n",
       "      <td>12962</td>\n",
       "      <td>9</td>\n",
       "      <td>1</td>\n",
       "      <td>Apricot Preserves</td>\n",
       "      <td>88</td>\n",
       "      <td>13</td>\n",
       "      <td>pantry</td>\n",
       "      <td>spreads</td>\n",
       "    </tr>\n",
       "    <tr>\n",
       "      <th>32400871</th>\n",
       "      <td>32400871</td>\n",
       "      <td>2202849</td>\n",
       "      <td>205980</td>\n",
       "      <td>prior</td>\n",
       "      <td>30</td>\n",
       "      <td>6</td>\n",
       "      <td>13</td>\n",
       "      <td>7.0</td>\n",
       "      <td>12962</td>\n",
       "      <td>7</td>\n",
       "      <td>1</td>\n",
       "      <td>Apricot Preserves</td>\n",
       "      <td>88</td>\n",
       "      <td>13</td>\n",
       "      <td>pantry</td>\n",
       "      <td>spreads</td>\n",
       "    </tr>\n",
       "    <tr>\n",
       "      <th>32400925</th>\n",
       "      <td>32400925</td>\n",
       "      <td>2437659</td>\n",
       "      <td>205980</td>\n",
       "      <td>prior</td>\n",
       "      <td>40</td>\n",
       "      <td>6</td>\n",
       "      <td>16</td>\n",
       "      <td>11.0</td>\n",
       "      <td>12962</td>\n",
       "      <td>8</td>\n",
       "      <td>1</td>\n",
       "      <td>Apricot Preserves</td>\n",
       "      <td>88</td>\n",
       "      <td>13</td>\n",
       "      <td>pantry</td>\n",
       "      <td>spreads</td>\n",
       "    </tr>\n",
       "    <tr>\n",
       "      <th>32404304</th>\n",
       "      <td>32404304</td>\n",
       "      <td>3383680</td>\n",
       "      <td>206013</td>\n",
       "      <td>prior</td>\n",
       "      <td>2</td>\n",
       "      <td>0</td>\n",
       "      <td>17</td>\n",
       "      <td>30.0</td>\n",
       "      <td>49555</td>\n",
       "      <td>10</td>\n",
       "      <td>0</td>\n",
       "      <td>Apple Apricot Sauce</td>\n",
       "      <td>99</td>\n",
       "      <td>15</td>\n",
       "      <td>canned goods</td>\n",
       "      <td>canned fruit applesauce</td>\n",
       "    </tr>\n",
       "    <tr>\n",
       "      <th>32404497</th>\n",
       "      <td>32404497</td>\n",
       "      <td>1333714</td>\n",
       "      <td>206016</td>\n",
       "      <td>prior</td>\n",
       "      <td>3</td>\n",
       "      <td>3</td>\n",
       "      <td>17</td>\n",
       "      <td>5.0</td>\n",
       "      <td>25530</td>\n",
       "      <td>2</td>\n",
       "      <td>0</td>\n",
       "      <td>Happy Baby Apricot &amp; Sweet Potato Baby Food</td>\n",
       "      <td>92</td>\n",
       "      <td>18</td>\n",
       "      <td>babies</td>\n",
       "      <td>baby food formula</td>\n",
       "    </tr>\n",
       "    <tr>\n",
       "      <th>32404499</th>\n",
       "      <td>32404499</td>\n",
       "      <td>1333714</td>\n",
       "      <td>206016</td>\n",
       "      <td>prior</td>\n",
       "      <td>3</td>\n",
       "      <td>3</td>\n",
       "      <td>17</td>\n",
       "      <td>5.0</td>\n",
       "      <td>12754</td>\n",
       "      <td>4</td>\n",
       "      <td>0</td>\n",
       "      <td>Organic Stage 2 Pear Apricot Barley Baby Food</td>\n",
       "      <td>92</td>\n",
       "      <td>18</td>\n",
       "      <td>babies</td>\n",
       "      <td>baby food formula</td>\n",
       "    </tr>\n",
       "    <tr>\n",
       "      <th>32404581</th>\n",
       "      <td>32404581</td>\n",
       "      <td>2530632</td>\n",
       "      <td>206016</td>\n",
       "      <td>prior</td>\n",
       "      <td>7</td>\n",
       "      <td>5</td>\n",
       "      <td>17</td>\n",
       "      <td>7.0</td>\n",
       "      <td>25530</td>\n",
       "      <td>18</td>\n",
       "      <td>1</td>\n",
       "      <td>Happy Baby Apricot &amp; Sweet Potato Baby Food</td>\n",
       "      <td>92</td>\n",
       "      <td>18</td>\n",
       "      <td>babies</td>\n",
       "      <td>baby food formula</td>\n",
       "    </tr>\n",
       "    <tr>\n",
       "      <th>32414977</th>\n",
       "      <td>32414977</td>\n",
       "      <td>878881</td>\n",
       "      <td>206081</td>\n",
       "      <td>prior</td>\n",
       "      <td>7</td>\n",
       "      <td>4</td>\n",
       "      <td>10</td>\n",
       "      <td>30.0</td>\n",
       "      <td>34745</td>\n",
       "      <td>3</td>\n",
       "      <td>0</td>\n",
       "      <td>Organic Stage 3 Pear Carrot Apricot Baby Food</td>\n",
       "      <td>92</td>\n",
       "      <td>18</td>\n",
       "      <td>babies</td>\n",
       "      <td>baby food formula</td>\n",
       "    </tr>\n",
       "    <tr>\n",
       "      <th>32414991</th>\n",
       "      <td>32414991</td>\n",
       "      <td>1925104</td>\n",
       "      <td>206081</td>\n",
       "      <td>prior</td>\n",
       "      <td>9</td>\n",
       "      <td>5</td>\n",
       "      <td>7</td>\n",
       "      <td>5.0</td>\n",
       "      <td>34745</td>\n",
       "      <td>4</td>\n",
       "      <td>1</td>\n",
       "      <td>Organic Stage 3 Pear Carrot Apricot Baby Food</td>\n",
       "      <td>92</td>\n",
       "      <td>18</td>\n",
       "      <td>babies</td>\n",
       "      <td>baby food formula</td>\n",
       "    </tr>\n",
       "    <tr>\n",
       "      <th>32415006</th>\n",
       "      <td>32415006</td>\n",
       "      <td>1645577</td>\n",
       "      <td>206081</td>\n",
       "      <td>prior</td>\n",
       "      <td>10</td>\n",
       "      <td>3</td>\n",
       "      <td>10</td>\n",
       "      <td>30.0</td>\n",
       "      <td>5114</td>\n",
       "      <td>14</td>\n",
       "      <td>0</td>\n",
       "      <td>Peach,  Apricot &amp; Banana Stage 2 Baby Food</td>\n",
       "      <td>92</td>\n",
       "      <td>18</td>\n",
       "      <td>babies</td>\n",
       "      <td>baby food formula</td>\n",
       "    </tr>\n",
       "    <tr>\n",
       "      <th>32415021</th>\n",
       "      <td>32415021</td>\n",
       "      <td>2009628</td>\n",
       "      <td>206081</td>\n",
       "      <td>prior</td>\n",
       "      <td>12</td>\n",
       "      <td>6</td>\n",
       "      <td>16</td>\n",
       "      <td>4.0</td>\n",
       "      <td>5114</td>\n",
       "      <td>1</td>\n",
       "      <td>1</td>\n",
       "      <td>Peach,  Apricot &amp; Banana Stage 2 Baby Food</td>\n",
       "      <td>92</td>\n",
       "      <td>18</td>\n",
       "      <td>babies</td>\n",
       "      <td>baby food formula</td>\n",
       "    </tr>\n",
       "    <tr>\n",
       "      <th>32415056</th>\n",
       "      <td>32415056</td>\n",
       "      <td>2801027</td>\n",
       "      <td>206081</td>\n",
       "      <td>prior</td>\n",
       "      <td>14</td>\n",
       "      <td>3</td>\n",
       "      <td>8</td>\n",
       "      <td>5.0</td>\n",
       "      <td>34745</td>\n",
       "      <td>8</td>\n",
       "      <td>1</td>\n",
       "      <td>Organic Stage 3 Pear Carrot Apricot Baby Food</td>\n",
       "      <td>92</td>\n",
       "      <td>18</td>\n",
       "      <td>babies</td>\n",
       "      <td>baby food formula</td>\n",
       "    </tr>\n",
       "    <tr>\n",
       "      <th>32415064</th>\n",
       "      <td>32415064</td>\n",
       "      <td>779792</td>\n",
       "      <td>206081</td>\n",
       "      <td>prior</td>\n",
       "      <td>15</td>\n",
       "      <td>6</td>\n",
       "      <td>14</td>\n",
       "      <td>30.0</td>\n",
       "      <td>34745</td>\n",
       "      <td>7</td>\n",
       "      <td>1</td>\n",
       "      <td>Organic Stage 3 Pear Carrot Apricot Baby Food</td>\n",
       "      <td>92</td>\n",
       "      <td>18</td>\n",
       "      <td>babies</td>\n",
       "      <td>baby food formula</td>\n",
       "    </tr>\n",
       "    <tr>\n",
       "      <th>32415090</th>\n",
       "      <td>32415090</td>\n",
       "      <td>2706269</td>\n",
       "      <td>206081</td>\n",
       "      <td>prior</td>\n",
       "      <td>17</td>\n",
       "      <td>5</td>\n",
       "      <td>19</td>\n",
       "      <td>3.0</td>\n",
       "      <td>34745</td>\n",
       "      <td>14</td>\n",
       "      <td>1</td>\n",
       "      <td>Organic Stage 3 Pear Carrot Apricot Baby Food</td>\n",
       "      <td>92</td>\n",
       "      <td>18</td>\n",
       "      <td>babies</td>\n",
       "      <td>baby food formula</td>\n",
       "    </tr>\n",
       "    <tr>\n",
       "      <th>32415144</th>\n",
       "      <td>32415144</td>\n",
       "      <td>2998770</td>\n",
       "      <td>206082</td>\n",
       "      <td>prior</td>\n",
       "      <td>3</td>\n",
       "      <td>3</td>\n",
       "      <td>11</td>\n",
       "      <td>2.0</td>\n",
       "      <td>24236</td>\n",
       "      <td>11</td>\n",
       "      <td>0</td>\n",
       "      <td>Organic  Dried &amp; Unsulfured Orchard Select Apr...</td>\n",
       "      <td>117</td>\n",
       "      <td>19</td>\n",
       "      <td>snacks</td>\n",
       "      <td>nuts seeds dried fruit</td>\n",
       "    </tr>\n",
       "    <tr>\n",
       "      <th>32415216</th>\n",
       "      <td>32415216</td>\n",
       "      <td>3400062</td>\n",
       "      <td>206082</td>\n",
       "      <td>prior</td>\n",
       "      <td>6</td>\n",
       "      <td>1</td>\n",
       "      <td>8</td>\n",
       "      <td>6.0</td>\n",
       "      <td>24236</td>\n",
       "      <td>14</td>\n",
       "      <td>1</td>\n",
       "      <td>Organic  Dried &amp; Unsulfured Orchard Select Apr...</td>\n",
       "      <td>117</td>\n",
       "      <td>19</td>\n",
       "      <td>snacks</td>\n",
       "      <td>nuts seeds dried fruit</td>\n",
       "    </tr>\n",
       "    <tr>\n",
       "      <th>32419709</th>\n",
       "      <td>32419709</td>\n",
       "      <td>3073056</td>\n",
       "      <td>206105</td>\n",
       "      <td>prior</td>\n",
       "      <td>47</td>\n",
       "      <td>5</td>\n",
       "      <td>16</td>\n",
       "      <td>1.0</td>\n",
       "      <td>1000</td>\n",
       "      <td>2</td>\n",
       "      <td>0</td>\n",
       "      <td>Apricots</td>\n",
       "      <td>18</td>\n",
       "      <td>10</td>\n",
       "      <td>bulk</td>\n",
       "      <td>bulk dried fruits vegetables</td>\n",
       "    </tr>\n",
       "    <tr>\n",
       "      <th>32421177</th>\n",
       "      <td>32421177</td>\n",
       "      <td>2244769</td>\n",
       "      <td>206111</td>\n",
       "      <td>prior</td>\n",
       "      <td>1</td>\n",
       "      <td>3</td>\n",
       "      <td>13</td>\n",
       "      <td>NaN</td>\n",
       "      <td>6342</td>\n",
       "      <td>11</td>\n",
       "      <td>0</td>\n",
       "      <td>Santa Cruz OG Apricot Fruit Spread</td>\n",
       "      <td>88</td>\n",
       "      <td>13</td>\n",
       "      <td>pantry</td>\n",
       "      <td>spreads</td>\n",
       "    </tr>\n",
       "    <tr>\n",
       "      <th>32422106</th>\n",
       "      <td>32422106</td>\n",
       "      <td>1457375</td>\n",
       "      <td>206118</td>\n",
       "      <td>prior</td>\n",
       "      <td>5</td>\n",
       "      <td>6</td>\n",
       "      <td>12</td>\n",
       "      <td>6.0</td>\n",
       "      <td>29298</td>\n",
       "      <td>20</td>\n",
       "      <td>0</td>\n",
       "      <td>Deluxe Thick Apricot Fruit Spread</td>\n",
       "      <td>88</td>\n",
       "      <td>13</td>\n",
       "      <td>pantry</td>\n",
       "      <td>spreads</td>\n",
       "    </tr>\n",
       "    <tr>\n",
       "      <th>32422421</th>\n",
       "      <td>32422421</td>\n",
       "      <td>3414973</td>\n",
       "      <td>206118</td>\n",
       "      <td>prior</td>\n",
       "      <td>22</td>\n",
       "      <td>5</td>\n",
       "      <td>7</td>\n",
       "      <td>13.0</td>\n",
       "      <td>29298</td>\n",
       "      <td>10</td>\n",
       "      <td>1</td>\n",
       "      <td>Deluxe Thick Apricot Fruit Spread</td>\n",
       "      <td>88</td>\n",
       "      <td>13</td>\n",
       "      <td>pantry</td>\n",
       "      <td>spreads</td>\n",
       "    </tr>\n",
       "    <tr>\n",
       "      <th>32425158</th>\n",
       "      <td>32425158</td>\n",
       "      <td>3185446</td>\n",
       "      <td>206146</td>\n",
       "      <td>prior</td>\n",
       "      <td>2</td>\n",
       "      <td>2</td>\n",
       "      <td>9</td>\n",
       "      <td>30.0</td>\n",
       "      <td>5114</td>\n",
       "      <td>27</td>\n",
       "      <td>0</td>\n",
       "      <td>Peach,  Apricot &amp; Banana Stage 2 Baby Food</td>\n",
       "      <td>92</td>\n",
       "      <td>18</td>\n",
       "      <td>babies</td>\n",
       "      <td>baby food formula</td>\n",
       "    </tr>\n",
       "    <tr>\n",
       "      <th>32425293</th>\n",
       "      <td>32425293</td>\n",
       "      <td>1527567</td>\n",
       "      <td>206146</td>\n",
       "      <td>prior</td>\n",
       "      <td>7</td>\n",
       "      <td>0</td>\n",
       "      <td>10</td>\n",
       "      <td>13.0</td>\n",
       "      <td>5114</td>\n",
       "      <td>28</td>\n",
       "      <td>1</td>\n",
       "      <td>Peach,  Apricot &amp; Banana Stage 2 Baby Food</td>\n",
       "      <td>92</td>\n",
       "      <td>18</td>\n",
       "      <td>babies</td>\n",
       "      <td>baby food formula</td>\n",
       "    </tr>\n",
       "    <tr>\n",
       "      <th>32425718</th>\n",
       "      <td>32425718</td>\n",
       "      <td>1650384</td>\n",
       "      <td>206151</td>\n",
       "      <td>prior</td>\n",
       "      <td>1</td>\n",
       "      <td>3</td>\n",
       "      <td>13</td>\n",
       "      <td>NaN</td>\n",
       "      <td>5114</td>\n",
       "      <td>1</td>\n",
       "      <td>0</td>\n",
       "      <td>Peach,  Apricot &amp; Banana Stage 2 Baby Food</td>\n",
       "      <td>92</td>\n",
       "      <td>18</td>\n",
       "      <td>babies</td>\n",
       "      <td>baby food formula</td>\n",
       "    </tr>\n",
       "    <tr>\n",
       "      <th>32425860</th>\n",
       "      <td>32425860</td>\n",
       "      <td>765392</td>\n",
       "      <td>206151</td>\n",
       "      <td>prior</td>\n",
       "      <td>10</td>\n",
       "      <td>5</td>\n",
       "      <td>22</td>\n",
       "      <td>10.0</td>\n",
       "      <td>33462</td>\n",
       "      <td>13</td>\n",
       "      <td>0</td>\n",
       "      <td>Almond &amp; Apricot Bar</td>\n",
       "      <td>3</td>\n",
       "      <td>19</td>\n",
       "      <td>snacks</td>\n",
       "      <td>energy granola bars</td>\n",
       "    </tr>\n",
       "    <tr>\n",
       "      <th>32427502</th>\n",
       "      <td>32427502</td>\n",
       "      <td>3075742</td>\n",
       "      <td>206162</td>\n",
       "      <td>prior</td>\n",
       "      <td>17</td>\n",
       "      <td>2</td>\n",
       "      <td>15</td>\n",
       "      <td>19.0</td>\n",
       "      <td>33462</td>\n",
       "      <td>16</td>\n",
       "      <td>0</td>\n",
       "      <td>Almond &amp; Apricot Bar</td>\n",
       "      <td>3</td>\n",
       "      <td>19</td>\n",
       "      <td>snacks</td>\n",
       "      <td>energy granola bars</td>\n",
       "    </tr>\n",
       "    <tr>\n",
       "      <th>32428453</th>\n",
       "      <td>32428453</td>\n",
       "      <td>610163</td>\n",
       "      <td>206168</td>\n",
       "      <td>prior</td>\n",
       "      <td>12</td>\n",
       "      <td>1</td>\n",
       "      <td>14</td>\n",
       "      <td>4.0</td>\n",
       "      <td>1882</td>\n",
       "      <td>6</td>\n",
       "      <td>0</td>\n",
       "      <td>Apricot Satin Shower Body Wash</td>\n",
       "      <td>25</td>\n",
       "      <td>11</td>\n",
       "      <td>personal care</td>\n",
       "      <td>soap</td>\n",
       "    </tr>\n",
       "    <tr>\n",
       "      <th>32429612</th>\n",
       "      <td>32429612</td>\n",
       "      <td>2058305</td>\n",
       "      <td>206180</td>\n",
       "      <td>prior</td>\n",
       "      <td>11</td>\n",
       "      <td>4</td>\n",
       "      <td>22</td>\n",
       "      <td>11.0</td>\n",
       "      <td>24236</td>\n",
       "      <td>14</td>\n",
       "      <td>0</td>\n",
       "      <td>Organic  Dried &amp; Unsulfured Orchard Select Apr...</td>\n",
       "      <td>117</td>\n",
       "      <td>19</td>\n",
       "      <td>snacks</td>\n",
       "      <td>nuts seeds dried fruit</td>\n",
       "    </tr>\n",
       "    <tr>\n",
       "      <th>32429622</th>\n",
       "      <td>32429622</td>\n",
       "      <td>2110598</td>\n",
       "      <td>206180</td>\n",
       "      <td>prior</td>\n",
       "      <td>12</td>\n",
       "      <td>0</td>\n",
       "      <td>17</td>\n",
       "      <td>10.0</td>\n",
       "      <td>24236</td>\n",
       "      <td>7</td>\n",
       "      <td>1</td>\n",
       "      <td>Organic  Dried &amp; Unsulfured Orchard Select Apr...</td>\n",
       "      <td>117</td>\n",
       "      <td>19</td>\n",
       "      <td>snacks</td>\n",
       "      <td>nuts seeds dried fruit</td>\n",
       "    </tr>\n",
       "  </tbody>\n",
       "</table>\n",
       "<p>43422 rows × 16 columns</p>\n",
       "</div>"
      ],
      "text/plain": [
       "          Unnamed: 0  order_id  user_id eval_set  order_number  order_dow  \\\n",
       "1086            1086   2363981       13    prior             6          0   \n",
       "2778            2778   3374715       27    prior            40          4   \n",
       "2804            2804   3037479       27    prior            45          4   \n",
       "3948            3948    813240       31    prior            19          0   \n",
       "4441            4441    423623       36    prior            18          4   \n",
       "7923            7923   2568280       63    prior             2          0   \n",
       "9195            9195     21889       71    prior            10          2   \n",
       "9937            9937   1574973       77    prior             4          2   \n",
       "16723          16723    505689      138    prior             9          6   \n",
       "17014          17014    551518      140    prior            13          4   \n",
       "17077          17077   1672315      140    prior            16          4   \n",
       "17111          17111   1820029      140    prior            18          0   \n",
       "17176          17176   3245602      140    prior            21          1   \n",
       "17234          17234    599299      140    prior            25          6   \n",
       "17534          17534   2783075      140    prior            47          3   \n",
       "17573          17573   1364045      140    prior            50          5   \n",
       "17684          17684    888081      140    prior            58          0   \n",
       "17696          17696    888081      140    prior            58          0   \n",
       "18683          18683   1543077      145    prior             6          0   \n",
       "23135          23135    114213      169    prior             3          1   \n",
       "23627          23627   3377958      173    prior            40          2   \n",
       "23628          23628   3377958      173    prior            40          2   \n",
       "23650          23650    306455      173    prior            42          2   \n",
       "23677          23677    747657      173    prior            44          1   \n",
       "24718          24718   3379815      183    prior             2          5   \n",
       "24746          24746   2661186      183    prior             3          0   \n",
       "26220          26220   1787495      197    prior            14          6   \n",
       "27317          27317   2267241      204    prior            32          1   \n",
       "27353          27353   1933885      204    prior            38          2   \n",
       "27468          27468    625302      204    prior            55          3   \n",
       "...              ...       ...      ...      ...           ...        ...   \n",
       "32400782    32400782    575068   205980    prior            19          6   \n",
       "32400805    32400805   3041213   205980    prior            22          0   \n",
       "32400814    32400814   1206401   205980    prior            23          0   \n",
       "32400871    32400871   2202849   205980    prior            30          6   \n",
       "32400925    32400925   2437659   205980    prior            40          6   \n",
       "32404304    32404304   3383680   206013    prior             2          0   \n",
       "32404497    32404497   1333714   206016    prior             3          3   \n",
       "32404499    32404499   1333714   206016    prior             3          3   \n",
       "32404581    32404581   2530632   206016    prior             7          5   \n",
       "32414977    32414977    878881   206081    prior             7          4   \n",
       "32414991    32414991   1925104   206081    prior             9          5   \n",
       "32415006    32415006   1645577   206081    prior            10          3   \n",
       "32415021    32415021   2009628   206081    prior            12          6   \n",
       "32415056    32415056   2801027   206081    prior            14          3   \n",
       "32415064    32415064    779792   206081    prior            15          6   \n",
       "32415090    32415090   2706269   206081    prior            17          5   \n",
       "32415144    32415144   2998770   206082    prior             3          3   \n",
       "32415216    32415216   3400062   206082    prior             6          1   \n",
       "32419709    32419709   3073056   206105    prior            47          5   \n",
       "32421177    32421177   2244769   206111    prior             1          3   \n",
       "32422106    32422106   1457375   206118    prior             5          6   \n",
       "32422421    32422421   3414973   206118    prior            22          5   \n",
       "32425158    32425158   3185446   206146    prior             2          2   \n",
       "32425293    32425293   1527567   206146    prior             7          0   \n",
       "32425718    32425718   1650384   206151    prior             1          3   \n",
       "32425860    32425860    765392   206151    prior            10          5   \n",
       "32427502    32427502   3075742   206162    prior            17          2   \n",
       "32428453    32428453    610163   206168    prior            12          1   \n",
       "32429612    32429612   2058305   206180    prior            11          4   \n",
       "32429622    32429622   2110598   206180    prior            12          0   \n",
       "\n",
       "          order_hour_of_day  days_since_prior_order  product_id  \\\n",
       "1086                     18                     7.0       31134   \n",
       "2778                     10                     3.0       24236   \n",
       "2804                      9                     2.0       24236   \n",
       "3948                     17                     4.0       12962   \n",
       "4441                     17                    18.0       29298   \n",
       "7923                      9                    11.0       12962   \n",
       "9195                     15                    11.0       37973   \n",
       "9937                      9                    16.0        6342   \n",
       "16723                    12                     7.0        1000   \n",
       "17014                    19                     7.0        1000   \n",
       "17077                    17                     8.0        1000   \n",
       "17111                    18                     5.0        1000   \n",
       "17176                    16                     7.0        1000   \n",
       "17234                    11                     5.0        1000   \n",
       "17534                    15                    11.0        5114   \n",
       "17573                    17                     1.0        5114   \n",
       "17684                    17                     1.0       30542   \n",
       "17696                    17                     1.0       12754   \n",
       "18683                     9                    11.0       29298   \n",
       "23135                    15                    30.0        5114   \n",
       "23627                    10                     8.0       26036   \n",
       "23628                    10                     8.0       30542   \n",
       "23650                    10                     6.0        5114   \n",
       "23677                    10                    15.0       30542   \n",
       "24718                    15                     3.0        9324   \n",
       "24746                    19                     9.0       31134   \n",
       "26220                    15                     7.0        1000   \n",
       "27317                    23                     4.0       37768   \n",
       "27353                     8                     6.0       37768   \n",
       "27468                    14                     4.0        1000   \n",
       "...                     ...                     ...         ...   \n",
       "32400782                 17                     4.0       12962   \n",
       "32400805                 14                    11.0       12962   \n",
       "32400814                 13                     7.0       12962   \n",
       "32400871                 13                     7.0       12962   \n",
       "32400925                 16                    11.0       12962   \n",
       "32404304                 17                    30.0       49555   \n",
       "32404497                 17                     5.0       25530   \n",
       "32404499                 17                     5.0       12754   \n",
       "32404581                 17                     7.0       25530   \n",
       "32414977                 10                    30.0       34745   \n",
       "32414991                  7                     5.0       34745   \n",
       "32415006                 10                    30.0        5114   \n",
       "32415021                 16                     4.0        5114   \n",
       "32415056                  8                     5.0       34745   \n",
       "32415064                 14                    30.0       34745   \n",
       "32415090                 19                     3.0       34745   \n",
       "32415144                 11                     2.0       24236   \n",
       "32415216                  8                     6.0       24236   \n",
       "32419709                 16                     1.0        1000   \n",
       "32421177                 13                     NaN        6342   \n",
       "32422106                 12                     6.0       29298   \n",
       "32422421                  7                    13.0       29298   \n",
       "32425158                  9                    30.0        5114   \n",
       "32425293                 10                    13.0        5114   \n",
       "32425718                 13                     NaN        5114   \n",
       "32425860                 22                    10.0       33462   \n",
       "32427502                 15                    19.0       33462   \n",
       "32428453                 14                     4.0        1882   \n",
       "32429612                 22                    11.0       24236   \n",
       "32429622                 17                    10.0       24236   \n",
       "\n",
       "          add_to_cart_order  reordered  \\\n",
       "1086                      5          0   \n",
       "2778                     13          0   \n",
       "2804                      1          1   \n",
       "3948                     25          0   \n",
       "4441                      8          0   \n",
       "7923                      9          0   \n",
       "9195                     14          0   \n",
       "9937                      3          0   \n",
       "16723                     5          0   \n",
       "17014                    27          0   \n",
       "17077                    20          1   \n",
       "17111                     6          1   \n",
       "17176                    15          1   \n",
       "17234                     1          1   \n",
       "17534                     4          0   \n",
       "17573                    10          1   \n",
       "17684                    17          0   \n",
       "17696                    29          0   \n",
       "18683                    11          0   \n",
       "23135                     9          0   \n",
       "23627                     9          0   \n",
       "23628                    10          0   \n",
       "23650                     9          0   \n",
       "23677                     3          1   \n",
       "24718                    11          0   \n",
       "24746                    17          0   \n",
       "26220                    32          0   \n",
       "27317                    11          0   \n",
       "27353                     3          1   \n",
       "27468                     6          0   \n",
       "...                     ...        ...   \n",
       "32400782                  6          0   \n",
       "32400805                  9          1   \n",
       "32400814                  9          1   \n",
       "32400871                  7          1   \n",
       "32400925                  8          1   \n",
       "32404304                 10          0   \n",
       "32404497                  2          0   \n",
       "32404499                  4          0   \n",
       "32404581                 18          1   \n",
       "32414977                  3          0   \n",
       "32414991                  4          1   \n",
       "32415006                 14          0   \n",
       "32415021                  1          1   \n",
       "32415056                  8          1   \n",
       "32415064                  7          1   \n",
       "32415090                 14          1   \n",
       "32415144                 11          0   \n",
       "32415216                 14          1   \n",
       "32419709                  2          0   \n",
       "32421177                 11          0   \n",
       "32422106                 20          0   \n",
       "32422421                 10          1   \n",
       "32425158                 27          0   \n",
       "32425293                 28          1   \n",
       "32425718                  1          0   \n",
       "32425860                 13          0   \n",
       "32427502                 16          0   \n",
       "32428453                  6          0   \n",
       "32429612                 14          0   \n",
       "32429622                  7          1   \n",
       "\n",
       "                                               product_name  aisle_id  \\\n",
       "1086                                 Mediterranean Apricots       117   \n",
       "2778      Organic  Dried & Unsulfured Orchard Select Apr...       117   \n",
       "2804      Organic  Dried & Unsulfured Orchard Select Apr...       117   \n",
       "3948                                      Apricot Preserves        88   \n",
       "4441                      Deluxe Thick Apricot Fruit Spread        88   \n",
       "7923                                      Apricot Preserves        88   \n",
       "9195                            Apricot-Raspberry Preserves        88   \n",
       "9937                     Santa Cruz OG Apricot Fruit Spread        88   \n",
       "16723                                              Apricots        18   \n",
       "17014                                              Apricots        18   \n",
       "17077                                              Apricots        18   \n",
       "17111                                              Apricots        18   \n",
       "17176                                              Apricots        18   \n",
       "17234                                              Apricots        18   \n",
       "17534            Peach,  Apricot & Banana Stage 2 Baby Food        92   \n",
       "17573            Peach,  Apricot & Banana Stage 2 Baby Food        92   \n",
       "17684            Organic Baby Food Apricot, Peach & Pumpkin        92   \n",
       "17696         Organic Stage 2 Pear Apricot Barley Baby Food        92   \n",
       "18683                     Deluxe Thick Apricot Fruit Spread        88   \n",
       "23135            Peach,  Apricot & Banana Stage 2 Baby Food        92   \n",
       "23627                             Organic Apples & Apricots        92   \n",
       "23628            Organic Baby Food Apricot, Peach & Pumpkin        92   \n",
       "23650            Peach,  Apricot & Banana Stage 2 Baby Food        92   \n",
       "23677            Organic Baby Food Apricot, Peach & Pumpkin        92   \n",
       "24718                                      Organic Apricots       117   \n",
       "24746                                Mediterranean Apricots       117   \n",
       "26220                                              Apricots        18   \n",
       "27317                          Sugar Free Apricot Preserves        88   \n",
       "27353                          Sugar Free Apricot Preserves        88   \n",
       "27468                                              Apricots        18   \n",
       "...                                                     ...       ...   \n",
       "32400782                                  Apricot Preserves        88   \n",
       "32400805                                  Apricot Preserves        88   \n",
       "32400814                                  Apricot Preserves        88   \n",
       "32400871                                  Apricot Preserves        88   \n",
       "32400925                                  Apricot Preserves        88   \n",
       "32404304                                Apple Apricot Sauce        99   \n",
       "32404497        Happy Baby Apricot & Sweet Potato Baby Food        92   \n",
       "32404499      Organic Stage 2 Pear Apricot Barley Baby Food        92   \n",
       "32404581        Happy Baby Apricot & Sweet Potato Baby Food        92   \n",
       "32414977      Organic Stage 3 Pear Carrot Apricot Baby Food        92   \n",
       "32414991      Organic Stage 3 Pear Carrot Apricot Baby Food        92   \n",
       "32415006         Peach,  Apricot & Banana Stage 2 Baby Food        92   \n",
       "32415021         Peach,  Apricot & Banana Stage 2 Baby Food        92   \n",
       "32415056      Organic Stage 3 Pear Carrot Apricot Baby Food        92   \n",
       "32415064      Organic Stage 3 Pear Carrot Apricot Baby Food        92   \n",
       "32415090      Organic Stage 3 Pear Carrot Apricot Baby Food        92   \n",
       "32415144  Organic  Dried & Unsulfured Orchard Select Apr...       117   \n",
       "32415216  Organic  Dried & Unsulfured Orchard Select Apr...       117   \n",
       "32419709                                           Apricots        18   \n",
       "32421177                 Santa Cruz OG Apricot Fruit Spread        88   \n",
       "32422106                  Deluxe Thick Apricot Fruit Spread        88   \n",
       "32422421                  Deluxe Thick Apricot Fruit Spread        88   \n",
       "32425158         Peach,  Apricot & Banana Stage 2 Baby Food        92   \n",
       "32425293         Peach,  Apricot & Banana Stage 2 Baby Food        92   \n",
       "32425718         Peach,  Apricot & Banana Stage 2 Baby Food        92   \n",
       "32425860                               Almond & Apricot Bar         3   \n",
       "32427502                               Almond & Apricot Bar         3   \n",
       "32428453                     Apricot Satin Shower Body Wash        25   \n",
       "32429612  Organic  Dried & Unsulfured Orchard Select Apr...       117   \n",
       "32429622  Organic  Dried & Unsulfured Orchard Select Apr...       117   \n",
       "\n",
       "          department_id     department                         aisle  \n",
       "1086                 19         snacks        nuts seeds dried fruit  \n",
       "2778                 19         snacks        nuts seeds dried fruit  \n",
       "2804                 19         snacks        nuts seeds dried fruit  \n",
       "3948                 13         pantry                       spreads  \n",
       "4441                 13         pantry                       spreads  \n",
       "7923                 13         pantry                       spreads  \n",
       "9195                 13         pantry                       spreads  \n",
       "9937                 13         pantry                       spreads  \n",
       "16723                10           bulk  bulk dried fruits vegetables  \n",
       "17014                10           bulk  bulk dried fruits vegetables  \n",
       "17077                10           bulk  bulk dried fruits vegetables  \n",
       "17111                10           bulk  bulk dried fruits vegetables  \n",
       "17176                10           bulk  bulk dried fruits vegetables  \n",
       "17234                10           bulk  bulk dried fruits vegetables  \n",
       "17534                18         babies             baby food formula  \n",
       "17573                18         babies             baby food formula  \n",
       "17684                18         babies             baby food formula  \n",
       "17696                18         babies             baby food formula  \n",
       "18683                13         pantry                       spreads  \n",
       "23135                18         babies             baby food formula  \n",
       "23627                18         babies             baby food formula  \n",
       "23628                18         babies             baby food formula  \n",
       "23650                18         babies             baby food formula  \n",
       "23677                18         babies             baby food formula  \n",
       "24718                19         snacks        nuts seeds dried fruit  \n",
       "24746                19         snacks        nuts seeds dried fruit  \n",
       "26220                10           bulk  bulk dried fruits vegetables  \n",
       "27317                13         pantry                       spreads  \n",
       "27353                13         pantry                       spreads  \n",
       "27468                10           bulk  bulk dried fruits vegetables  \n",
       "...                 ...            ...                           ...  \n",
       "32400782             13         pantry                       spreads  \n",
       "32400805             13         pantry                       spreads  \n",
       "32400814             13         pantry                       spreads  \n",
       "32400871             13         pantry                       spreads  \n",
       "32400925             13         pantry                       spreads  \n",
       "32404304             15   canned goods       canned fruit applesauce  \n",
       "32404497             18         babies             baby food formula  \n",
       "32404499             18         babies             baby food formula  \n",
       "32404581             18         babies             baby food formula  \n",
       "32414977             18         babies             baby food formula  \n",
       "32414991             18         babies             baby food formula  \n",
       "32415006             18         babies             baby food formula  \n",
       "32415021             18         babies             baby food formula  \n",
       "32415056             18         babies             baby food formula  \n",
       "32415064             18         babies             baby food formula  \n",
       "32415090             18         babies             baby food formula  \n",
       "32415144             19         snacks        nuts seeds dried fruit  \n",
       "32415216             19         snacks        nuts seeds dried fruit  \n",
       "32419709             10           bulk  bulk dried fruits vegetables  \n",
       "32421177             13         pantry                       spreads  \n",
       "32422106             13         pantry                       spreads  \n",
       "32422421             13         pantry                       spreads  \n",
       "32425158             18         babies             baby food formula  \n",
       "32425293             18         babies             baby food formula  \n",
       "32425718             18         babies             baby food formula  \n",
       "32425860             19         snacks           energy granola bars  \n",
       "32427502             19         snacks           energy granola bars  \n",
       "32428453             11  personal care                          soap  \n",
       "32429612             19         snacks        nuts seeds dried fruit  \n",
       "32429622             19         snacks        nuts seeds dried fruit  \n",
       "\n",
       "[43422 rows x 16 columns]"
      ]
     },
     "execution_count": 57,
     "metadata": {},
     "output_type": "execute_result"
    }
   ],
   "source": [
    "prior_data_da[prior_data_da['product_name'].str.contains('Apricot')]"
   ]
  },
  {
   "cell_type": "code",
   "execution_count": 65,
   "metadata": {
    "collapsed": true,
    "scrolled": true
   },
   "outputs": [],
   "source": [
    "rules0 = pd.read_csv('rules0.csv', index_col = 0)"
   ]
  },
  {
   "cell_type": "code",
   "execution_count": 71,
   "metadata": {
    "collapsed": true
   },
   "outputs": [],
   "source": [
    "certain_str0 = ['Soda', \n",
    "               'Fridge Pack Cola',\n",
    "               'Cola',\n",
    "               'Coke Classic',\n",
    "               'Ginger Ale']\n"
   ]
  },
  {
   "cell_type": "code",
   "execution_count": 79,
   "metadata": {
    "collapsed": true
   },
   "outputs": [],
   "source": [
    "certain_str0_1 = ['Chocolate Ice Cream', \n",
    "               'Vanilla Ice Cream',\n",
    "               'Chocolate Chip Cookie Dough Ice Cream',\n",
    "               'Natural Vanilla Ice Cream',\n",
    "               'Half Baked\\xc2\\xae Ice Cream']"
   ]
  },
  {
   "cell_type": "code",
   "execution_count": 100,
   "metadata": {
    "collapsed": true
   },
   "outputs": [],
   "source": [
    "certain_str0_2 = ['Ultra Soft Facial Tissues', \n",
    "               'Select-A-Size White Paper Towels',\n",
    "               'White Giant Paper Towel Rolls',\n",
    "               'Select-A-Size Paper Towels, White, 2 Huge Rolls = 5 Regular Rolls  Towels/Napkins',\n",
    "               'Sensitive Toilet Paper']"
   ]
  },
  {
   "cell_type": "code",
   "execution_count": 109,
   "metadata": {
    "collapsed": true
   },
   "outputs": [],
   "source": [
    "recommend0 = {}\n",
    "for item in certain_str0:\n",
    "    #print 'recommendation for' + str(item) + ':'\n",
    "    recommend0[item] = rules0[rules0['antecedants'].apply(lambda x: str(x)).str.contains(item)].\\\n",
    "                        sort_values('lift', ascending = False)"
   ]
  },
  {
   "cell_type": "code",
   "execution_count": 110,
   "metadata": {
    "scrolled": true
   },
   "outputs": [
    {
     "data": {
      "text/html": [
       "<div>\n",
       "<style scoped>\n",
       "    .dataframe tbody tr th:only-of-type {\n",
       "        vertical-align: middle;\n",
       "    }\n",
       "\n",
       "    .dataframe tbody tr th {\n",
       "        vertical-align: top;\n",
       "    }\n",
       "\n",
       "    .dataframe thead th {\n",
       "        text-align: right;\n",
       "    }\n",
       "</style>\n",
       "<table border=\"1\" class=\"dataframe\">\n",
       "  <thead>\n",
       "    <tr style=\"text-align: right;\">\n",
       "      <th></th>\n",
       "      <th>antecedants</th>\n",
       "      <th>consequents</th>\n",
       "      <th>support</th>\n",
       "      <th>confidence</th>\n",
       "      <th>lift</th>\n",
       "    </tr>\n",
       "  </thead>\n",
       "  <tbody>\n",
       "    <tr>\n",
       "      <th>18</th>\n",
       "      <td>frozenset(['Pure Baking Soda'])</td>\n",
       "      <td>frozenset(['Banana'])</td>\n",
       "      <td>0.051542</td>\n",
       "      <td>0.409991</td>\n",
       "      <td>1.444816</td>\n",
       "    </tr>\n",
       "  </tbody>\n",
       "</table>\n",
       "</div>"
      ],
      "text/plain": [
       "                        antecedants            consequents   support  \\\n",
       "18  frozenset(['Pure Baking Soda'])  frozenset(['Banana'])  0.051542   \n",
       "\n",
       "    confidence      lift  \n",
       "18    0.409991  1.444816  "
      ]
     },
     "execution_count": 110,
     "metadata": {},
     "output_type": "execute_result"
    }
   ],
   "source": [
    "recommend0[certain_str0[0]]"
   ]
  },
  {
   "cell_type": "markdown",
   "metadata": {},
   "source": [
    "Based on Association Rules, there is almost no recommended products and some rules recommend banana for. The recommendation provides little informaiton since bananas are the most popular products. That means generally most of people will buy bananas for one or more times. So whatever the products customers buy, it will recommend bananas. For other products like in ice cream ice, there is no recommendations based on association rules. So we cannot use association rules to recommend products for group 0."
   ]
  },
  {
   "cell_type": "code",
   "execution_count": 444,
   "metadata": {
    "scrolled": true
   },
   "outputs": [
    {
     "name": "stdout",
     "output_type": "stream",
     "text": [
      "+--------------+----------------------------------+----------------+------+\n",
      "| product_name |             similar              |     score      | rank |\n",
      "+--------------+----------------------------------+----------------+------+\n",
      "|     Soda     |       Mango Protein Shake        | 0.977502763271 |  1   |\n",
      "|     Soda     |   Small Curd Cottage Cheese 4%   | 0.954149603844 |  2   |\n",
      "|     Soda     |         Breakfast Claws          | 0.949481248856 |  3   |\n",
      "|     Soda     | Classic Macaroni and Cheese Cups |  0.9443988204  |  4   |\n",
      "|     Soda     | Flashin' Fruit Punch Fruit Drink | 0.943142235279 |  5   |\n",
      "|     Soda     |          Sesame Chicken          | 0.938020944595 |  6   |\n",
      "|     Soda     |   Sliced Carrots No Salt Added   | 0.934114038944 |  7   |\n",
      "|     Soda     |   Lemon Mint Foaming Hand Wash   | 0.918240308762 |  8   |\n",
      "|     Soda     |    2nd Foods Chicken & Gravy     | 0.910972654819 |  9   |\n",
      "|     Soda     |      Superfood Pesto Sauce       | 0.909017860889 |  10  |\n",
      "+--------------+----------------------------------+----------------+------+\n",
      "[10 rows x 4 columns]\n",
      "\n",
      "+------------------+----------------------------------------------------+----------------+------+\n",
      "|   product_name   |                      similar                       |     score      | rank |\n",
      "+------------------+----------------------------------------------------+----------------+------+\n",
      "| Fridge Pack Cola |             Fancy Sliced Bamboo Shoots             | 0.93947583437  |  1   |\n",
      "| Fridge Pack Cola |                Facial Tissues Boxes                | 0.931430697441 |  2   |\n",
      "| Fridge Pack Cola |         MixUps Backyard Cookout Cat Treats         | 0.925855755806 |  3   |\n",
      "| Fridge Pack Cola |          Gluten Free Vegetable Dumplings           | 0.925521314144 |  4   |\n",
      "| Fridge Pack Cola |            Apple + Blueberry Fruit Bar             |  0.9239782691  |  5   |\n",
      "| Fridge Pack Cola |        Salmon Dinner Classic Pate Cat Food         | 0.921928286552 |  6   |\n",
      "| Fridge Pack Cola |          Brooklyn Blackout Cake Ice Cream          | 0.920555114746 |  7   |\n",
      "| Fridge Pack Cola | Chocolate Almond & Sea Salt with Chia Granola Bars | 0.91515570879  |  8   |\n",
      "| Fridge Pack Cola |    Chocolatier 72% Dark Chocolate with Almonds     | 0.913376510143 |  9   |\n",
      "| Fridge Pack Cola |            Mini Semisoft Gouda Cheeses             | 0.912652671337 |  10  |\n",
      "+------------------+----------------------------------------------------+----------------+------+\n",
      "[10 rows x 4 columns]\n",
      "\n",
      "+--------------+----------------------------------+----------------+------+\n",
      "| product_name |             similar              |     score      | rank |\n",
      "+--------------+----------------------------------+----------------+------+\n",
      "|     Cola     |           Curieux Ale            | 0.960624873638 |  1   |\n",
      "|     Cola     |     Natural Apple Sauce Cups     | 0.937256395817 |  2   |\n",
      "|     Cola     |      Black Cherry Lemonade       | 0.931523680687 |  3   |\n",
      "|     Cola     |          Blanc De Noirs          | 0.926728844643 |  4   |\n",
      "|     Cola     |          667 Pinot Noir          | 0.921900331974 |  5   |\n",
      "|     Cola     |              Banana              | 0.919714212418 |  6   |\n",
      "|     Cola     |        Ten Hills Pale Ale        | 0.919236779213 |  7   |\n",
      "|     Cola     |         Stone Go To IPA          | 0.917847931385 |  8   |\n",
      "|     Cola     | Baked White Cheddar Cheese Puffs | 0.916788697243 |  9   |\n",
      "|     Cola     |       Light Glass Bottles        | 0.914841294289 |  10  |\n",
      "+--------------+----------------------------------+----------------+------+\n",
      "[10 rows x 4 columns]\n",
      "\n",
      "+--------------+----------------------------------------------------------+----------------+------+\n",
      "| product_name |                         similar                          |     score      | rank |\n",
      "+--------------+----------------------------------------------------------+----------------+------+\n",
      "| Coke Classic |                 Butter Rich Maple Syrup                  | 0.96681535244  |  1   |\n",
      "| Coke Classic |                Organic Crushed Red Pepper                | 0.947807967663 |  2   |\n",
      "| Coke Classic |              Valentines Milk White Squares               | 0.943386673927 |  3   |\n",
      "| Coke Classic | Uncrustables Peanut Butter & Raspberry Spread Sandwiches | 0.942985296249 |  4   |\n",
      "| Coke Classic |                Hair Spritz, Maximum Hold                 | 0.936059832573 |  5   |\n",
      "| Coke Classic |             Chicken Parmesan Home Style Meal             | 0.928604841232 |  6   |\n",
      "| Coke Classic |              Homestyle Fruit & Nut Granola               | 0.926178693771 |  7   |\n",
      "| Coke Classic |              Breaded Nuggets Chicken Breast              | 0.923533141613 |  8   |\n",
      "| Coke Classic |  Silver Multivitamin/Multimineral Supplement Women 50+   | 0.922982752323 |  9   |\n",
      "| Coke Classic | Pork & Duck Live Mousse With Port Wine Topped With Aspic | 0.922438621521 |  10  |\n",
      "+--------------+----------------------------------------------------------+----------------+------+\n",
      "[10 rows x 4 columns]\n",
      "\n",
      "+--------------+----------------------------------------------------------+----------------+------+\n",
      "| product_name |                         similar                          |     score      | rank |\n",
      "+--------------+----------------------------------------------------------+----------------+------+\n",
      "|  Ginger Ale  |                    Chicken Enchiladas                    | 0.948836147785 |  1   |\n",
      "|  Ginger Ale  |                         Chayote                          | 0.947607517242 |  2   |\n",
      "|  Ginger Ale  |          Cream Cheese Stuffed Jalapenos Poppers          | 0.937437832355 |  3   |\n",
      "|  Ginger Ale  |                 Vegetable Thins Crackers                 | 0.929098308086 |  4   |\n",
      "|  Ginger Ale  | Adrenaline Series Sport Defense Antiperspirant Deodorant | 0.927207350731 |  5   |\n",
      "|  Ginger Ale  |              Breaded Chicken Breast Tenders              | 0.926122844219 |  6   |\n",
      "|  Ginger Ale  |          Protein Plus Farfalle Multigrain Pasta          | 0.924987792969 |  7   |\n",
      "|  Ginger Ale  |          Italian with Sun Dried Tomato Dressing          | 0.921592652798 |  8   |\n",
      "|  Ginger Ale  |                       Tomato Puree                       | 0.921535313129 |  9   |\n",
      "|  Ginger Ale  |                 Beeswax Cake Candle - 5                  | 0.918175756931 |  10  |\n",
      "+--------------+----------------------------------------------------------+----------------+------+\n",
      "[10 rows x 4 columns]\n",
      "\n"
     ]
    },
    {
     "data": {
      "text/plain": [
       "[None, None, None, None, None]"
      ]
     },
     "execution_count": 444,
     "metadata": {},
     "output_type": "execute_result"
    }
   ],
   "source": [
    "[x.print_rows(max_column_width = 300) for x in personal_recommend0[0]]"
   ]
  },
  {
   "cell_type": "markdown",
   "metadata": {},
   "source": [
    "These are results from personalized model. The target of the model is count of each product for every user. The model includes item features: department and aisle and user features: order day, order hour and add to cart order. Here printed are recommendations for products in soft drinks aisle. We can see the model would recommend mango protein shake, cheese and chicken for soda, recommend ice cream and chocolate for fridge pack cola. Vendors could make bundle salkes based on recommendations or activities such as if customers buy 5 soda, they could get a Mango Protein Shake by free.  "
   ]
  },
  {
   "cell_type": "markdown",
   "metadata": {},
   "source": [
    "According to analysis we got before, the order for soda is different from others. It has high percentage order number at 10am and low percentage at 16pm. It has the highest order number on Monday and second highest order number on Sunday. But the order number would decrease from Monday to Thursday. So the best time for promotion might be Monday or Sudany around 10 am. "
   ]
  },
  {
   "cell_type": "code",
   "execution_count": 92,
   "metadata": {
    "collapsed": true
   },
   "outputs": [],
   "source": [
    "# recommend0_1 = {}\n",
    "# for item in certain_str0_1:\n",
    "#     #print 'recommendation for' + str(item) + ':'\n",
    "#     recommend0_1[item] = rules0[rules0['antecedants'].apply(lambda x: str(x)).str.contains(item)].\\\n",
    "#                         sort_values('lift', ascending = False)"
   ]
  },
  {
   "cell_type": "code",
   "execution_count": 101,
   "metadata": {
    "collapsed": true
   },
   "outputs": [],
   "source": [
    "# recommend0_2 = {}\n",
    "# for item in certain_str0_2:\n",
    "#     #print 'recommendation for' + str(item) + ':'\n",
    "#     recommend0_2[item] = rules0[rules0['antecedants'].apply(lambda x: str(x)).str.contains(item)].\\\n",
    "#                         sort_values('lift', ascending = False)"
   ]
  },
  {
   "cell_type": "markdown",
   "metadata": {},
   "source": [
    "### group1 - recommendation for sparkling water and tea"
   ]
  },
  {
   "cell_type": "code",
   "execution_count": 111,
   "metadata": {
    "collapsed": true
   },
   "outputs": [],
   "source": [
    "rules1 = pd.read_csv('rules1.csv', index_col=0)"
   ]
  },
  {
   "cell_type": "code",
   "execution_count": 133,
   "metadata": {
    "collapsed": true
   },
   "outputs": [],
   "source": [
    "certain_str1 = ['Sparkling Water Grapefruit', \n",
    "               'Spring Water',\n",
    "               'Lime Sparkling Water',\n",
    "               'Sparkling Lemon Water',\n",
    "               'Sparkling Natural Mineral Water']"
   ]
  },
  {
   "cell_type": "code",
   "execution_count": 135,
   "metadata": {
    "collapsed": true
   },
   "outputs": [],
   "source": [
    "certain_str1_1 = ['Milk Chocolate Almonds', \n",
    "               'Organic Dark Chocolate Peanut Butter Cups',\n",
    "               'Almonds & Sea Salt in Dark Chocolate',\n",
    "               'Almonds',\n",
    "               'Milk Chocolate Covered Raisins']"
   ]
  },
  {
   "cell_type": "code",
   "execution_count": 113,
   "metadata": {
    "collapsed": true
   },
   "outputs": [],
   "source": [
    "recommend1 = {}\n",
    "for item in certain_str1:\n",
    "    #print 'recommendation for' + str(item) + ':'\n",
    "    recommend1[item] = rules1[rules1['antecedants'].apply(lambda x: str(x)).str.contains(item)].\\\n",
    "                        sort_values('lift', ascending = False)"
   ]
  },
  {
   "cell_type": "code",
   "execution_count": 130,
   "metadata": {
    "scrolled": true
   },
   "outputs": [
    {
     "data": {
      "text/html": [
       "<div>\n",
       "<style scoped>\n",
       "    .dataframe tbody tr th:only-of-type {\n",
       "        vertical-align: middle;\n",
       "    }\n",
       "\n",
       "    .dataframe tbody tr th {\n",
       "        vertical-align: top;\n",
       "    }\n",
       "\n",
       "    .dataframe thead th {\n",
       "        text-align: right;\n",
       "    }\n",
       "</style>\n",
       "<table border=\"1\" class=\"dataframe\">\n",
       "  <thead>\n",
       "    <tr style=\"text-align: right;\">\n",
       "      <th></th>\n",
       "      <th>consequents</th>\n",
       "    </tr>\n",
       "    <tr>\n",
       "      <th>antecedants</th>\n",
       "      <th></th>\n",
       "    </tr>\n",
       "  </thead>\n",
       "  <tbody>\n",
       "    <tr>\n",
       "      <th>frozenset(['Banana', 'Sparkling Water Grapefruit'])</th>\n",
       "      <td>(frozenset(['Sparkling Water Berry']), frozenset(['Peach Pear Flavored Sparkling Water']), frozenset(['Sparkling Lemon Water']))</td>\n",
       "    </tr>\n",
       "    <tr>\n",
       "      <th>frozenset(['Lime Sparkling Water', 'Sparkling Water Grapefruit', 'Banana'])</th>\n",
       "      <td>(frozenset(['Sparkling Lemon Water']),)</td>\n",
       "    </tr>\n",
       "    <tr>\n",
       "      <th>frozenset(['Lime Sparkling Water', 'Sparkling Water Grapefruit'])</th>\n",
       "      <td>(frozenset(['Peach Pear Flavored Sparkling Water', 'Sparkling Lemon Water']), frozenset(['Sparkling Lemon Water', 'Sparkling Water Berry']), frozenset(['Peach Pear Flavored Sparkling Water', 'Sparkling Water Berry']), frozenset(['Sparkling Water Berry']), frozenset(['Sparkling Lemon Water']), frozenset(['Peach Pear Flavored Sparkling Water']), frozenset(['Pure Sparkling Water']))</td>\n",
       "    </tr>\n",
       "    <tr>\n",
       "      <th>frozenset(['Organic Strawberries', 'Sparkling Water Grapefruit'])</th>\n",
       "      <td>(frozenset(['Lime Sparkling Water']),)</td>\n",
       "    </tr>\n",
       "    <tr>\n",
       "      <th>frozenset(['Peach Pear Flavored Sparkling Water', 'Lime Sparkling Water', 'Sparkling Water Grapefruit'])</th>\n",
       "      <td>(frozenset(['Sparkling Water Berry']), frozenset(['Sparkling Lemon Water']))</td>\n",
       "    </tr>\n",
       "    <tr>\n",
       "      <th>frozenset(['Peach Pear Flavored Sparkling Water', 'Sparkling Lemon Water', 'Sparkling Water Grapefruit'])</th>\n",
       "      <td>(frozenset(['Lime Sparkling Water']),)</td>\n",
       "    </tr>\n",
       "    <tr>\n",
       "      <th>frozenset(['Peach Pear Flavored Sparkling Water', 'Sparkling Water Berry', 'Sparkling Water Grapefruit'])</th>\n",
       "      <td>(frozenset(['Lime Sparkling Water']),)</td>\n",
       "    </tr>\n",
       "    <tr>\n",
       "      <th>frozenset(['Peach Pear Flavored Sparkling Water', 'Sparkling Water Grapefruit'])</th>\n",
       "      <td>(frozenset(['Sparkling Water Berry', 'Lime Sparkling Water']), frozenset(['Sparkling Water Berry']), frozenset(['Sparkling Lemon Water', 'Lime Sparkling Water']), frozenset(['Sparkling Lemon Water']), frozenset(['Lime Sparkling Water']))</td>\n",
       "    </tr>\n",
       "    <tr>\n",
       "      <th>frozenset(['Pure Sparkling Water', 'Sparkling Water Grapefruit'])</th>\n",
       "      <td>(frozenset(['Lime Sparkling Water']),)</td>\n",
       "    </tr>\n",
       "    <tr>\n",
       "      <th>frozenset(['Sparkling Lemon Water', 'Lime Sparkling Water', 'Sparkling Water Grapefruit'])</th>\n",
       "      <td>(frozenset(['Sparkling Water Berry']), frozenset(['Peach Pear Flavored Sparkling Water']))</td>\n",
       "    </tr>\n",
       "    <tr>\n",
       "      <th>frozenset(['Sparkling Lemon Water', 'Sparkling Water Berry', 'Sparkling Water Grapefruit'])</th>\n",
       "      <td>(frozenset(['Lime Sparkling Water']),)</td>\n",
       "    </tr>\n",
       "    <tr>\n",
       "      <th>frozenset(['Sparkling Lemon Water', 'Sparkling Water Grapefruit', 'Banana'])</th>\n",
       "      <td>(frozenset(['Lime Sparkling Water']),)</td>\n",
       "    </tr>\n",
       "    <tr>\n",
       "      <th>frozenset(['Sparkling Lemon Water', 'Sparkling Water Grapefruit'])</th>\n",
       "      <td>(frozenset(['Sparkling Water Berry', 'Lime Sparkling Water']), frozenset(['Peach Pear Flavored Sparkling Water', 'Lime Sparkling Water']), frozenset(['Sparkling Water Berry']), frozenset(['Banana', 'Lime Sparkling Water']), frozenset(['Peach Pear Flavored Sparkling Water']), frozenset(['Lime Sparkling Water']))</td>\n",
       "    </tr>\n",
       "    <tr>\n",
       "      <th>frozenset(['Sparkling Water Berry', 'Lime Sparkling Water', 'Sparkling Water Grapefruit'])</th>\n",
       "      <td>(frozenset(['Peach Pear Flavored Sparkling Water']), frozenset(['Sparkling Lemon Water']))</td>\n",
       "    </tr>\n",
       "    <tr>\n",
       "      <th>frozenset(['Sparkling Water Berry', 'Sparkling Water Grapefruit'])</th>\n",
       "      <td>(frozenset(['Peach Pear Flavored Sparkling Water', 'Lime Sparkling Water']), frozenset(['Sparkling Lemon Water', 'Lime Sparkling Water']), frozenset(['Peach Pear Flavored Sparkling Water']), frozenset(['Sparkling Lemon Water']), frozenset(['Lime Sparkling Water']))</td>\n",
       "    </tr>\n",
       "    <tr>\n",
       "      <th>frozenset(['Sparkling Water Grapefruit', 'Banana'])</th>\n",
       "      <td>(frozenset(['Sparkling Lemon Water', 'Lime Sparkling Water']),)</td>\n",
       "    </tr>\n",
       "    <tr>\n",
       "      <th>frozenset(['Sparkling Water Grapefruit', 'Lime Sparkling Water'])</th>\n",
       "      <td>(frozenset(['Sparkling Lemon Water', 'Banana']),)</td>\n",
       "    </tr>\n",
       "    <tr>\n",
       "      <th>frozenset(['Sparkling Water Grapefruit', 'Organic Fuji Apple'])</th>\n",
       "      <td>(frozenset(['Lime Sparkling Water']),)</td>\n",
       "    </tr>\n",
       "    <tr>\n",
       "      <th>frozenset(['Sparkling Water Grapefruit'])</th>\n",
       "      <td>(frozenset(['Peach Pear Flavored Sparkling Water', 'Sparkling Water Berry', 'Lime Sparkling Water']), frozenset(['Peach Pear Flavored Sparkling Water', 'Sparkling Lemon Water', 'Lime Sparkling Water']), frozenset(['Sparkling Lemon Water', 'Sparkling Water Berry', 'Lime Sparkling Water']), frozenset(['Peach Pear Flavored Sparkling Water', 'Sparkling Lemon Water']), frozenset(['Peach Pear Flavor...</td>\n",
       "    </tr>\n",
       "  </tbody>\n",
       "</table>\n",
       "</div>"
      ],
      "text/plain": [
       "                                                                                                                                                                                                                                                                                                                                                                                                                                                                                                               consequents\n",
       "antecedants                                                                                                                                                                                                                                                                                                                                                                                                                                                                                                               \n",
       "frozenset(['Banana', 'Sparkling Water Grapefruit'])                                                                                                                                                                                                                                                                                                                                       (frozenset(['Sparkling Water Berry']), frozenset(['Peach Pear Flavored Sparkling Water']), frozenset(['Sparkling Lemon Water']))\n",
       "frozenset(['Lime Sparkling Water', 'Sparkling Water Grapefruit', 'Banana'])                                                                                                                                                                                                                                                                                                                                                                                                        (frozenset(['Sparkling Lemon Water']),)\n",
       "frozenset(['Lime Sparkling Water', 'Sparkling Water Grapefruit'])                                                           (frozenset(['Peach Pear Flavored Sparkling Water', 'Sparkling Lemon Water']), frozenset(['Sparkling Lemon Water', 'Sparkling Water Berry']), frozenset(['Peach Pear Flavored Sparkling Water', 'Sparkling Water Berry']), frozenset(['Sparkling Water Berry']), frozenset(['Sparkling Lemon Water']), frozenset(['Peach Pear Flavored Sparkling Water']), frozenset(['Pure Sparkling Water']))\n",
       "frozenset(['Organic Strawberries', 'Sparkling Water Grapefruit'])                                                                                                                                                                                                                                                                                                                                                                                                                   (frozenset(['Lime Sparkling Water']),)\n",
       "frozenset(['Peach Pear Flavored Sparkling Water', 'Lime Sparkling Water', 'Sparkling Water Grapefruit'])                                                                                                                                                                                                                                                                                                                                      (frozenset(['Sparkling Water Berry']), frozenset(['Sparkling Lemon Water']))\n",
       "frozenset(['Peach Pear Flavored Sparkling Water', 'Sparkling Lemon Water', 'Sparkling Water Grapefruit'])                                                                                                                                                                                                                                                                                                                                                                           (frozenset(['Lime Sparkling Water']),)\n",
       "frozenset(['Peach Pear Flavored Sparkling Water', 'Sparkling Water Berry', 'Sparkling Water Grapefruit'])                                                                                                                                                                                                                                                                                                                                                                           (frozenset(['Lime Sparkling Water']),)\n",
       "frozenset(['Peach Pear Flavored Sparkling Water', 'Sparkling Water Grapefruit'])                                                                                                                                                                                             (frozenset(['Sparkling Water Berry', 'Lime Sparkling Water']), frozenset(['Sparkling Water Berry']), frozenset(['Sparkling Lemon Water', 'Lime Sparkling Water']), frozenset(['Sparkling Lemon Water']), frozenset(['Lime Sparkling Water']))\n",
       "frozenset(['Pure Sparkling Water', 'Sparkling Water Grapefruit'])                                                                                                                                                                                                                                                                                                                                                                                                                   (frozenset(['Lime Sparkling Water']),)\n",
       "frozenset(['Sparkling Lemon Water', 'Lime Sparkling Water', 'Sparkling Water Grapefruit'])                                                                                                                                                                                                                                                                                                                                      (frozenset(['Sparkling Water Berry']), frozenset(['Peach Pear Flavored Sparkling Water']))\n",
       "frozenset(['Sparkling Lemon Water', 'Sparkling Water Berry', 'Sparkling Water Grapefruit'])                                                                                                                                                                                                                                                                                                                                                                                         (frozenset(['Lime Sparkling Water']),)\n",
       "frozenset(['Sparkling Lemon Water', 'Sparkling Water Grapefruit', 'Banana'])                                                                                                                                                                                                                                                                                                                                                                                                        (frozenset(['Lime Sparkling Water']),)\n",
       "frozenset(['Sparkling Lemon Water', 'Sparkling Water Grapefruit'])                                                                                                                                (frozenset(['Sparkling Water Berry', 'Lime Sparkling Water']), frozenset(['Peach Pear Flavored Sparkling Water', 'Lime Sparkling Water']), frozenset(['Sparkling Water Berry']), frozenset(['Banana', 'Lime Sparkling Water']), frozenset(['Peach Pear Flavored Sparkling Water']), frozenset(['Lime Sparkling Water']))\n",
       "frozenset(['Sparkling Water Berry', 'Lime Sparkling Water', 'Sparkling Water Grapefruit'])                                                                                                                                                                                                                                                                                                                                      (frozenset(['Peach Pear Flavored Sparkling Water']), frozenset(['Sparkling Lemon Water']))\n",
       "frozenset(['Sparkling Water Berry', 'Sparkling Water Grapefruit'])                                                                                                                                                                               (frozenset(['Peach Pear Flavored Sparkling Water', 'Lime Sparkling Water']), frozenset(['Sparkling Lemon Water', 'Lime Sparkling Water']), frozenset(['Peach Pear Flavored Sparkling Water']), frozenset(['Sparkling Lemon Water']), frozenset(['Lime Sparkling Water']))\n",
       "frozenset(['Sparkling Water Grapefruit', 'Banana'])                                                                                                                                                                                                                                                                                                                                                                                                        (frozenset(['Sparkling Lemon Water', 'Lime Sparkling Water']),)\n",
       "frozenset(['Sparkling Water Grapefruit', 'Lime Sparkling Water'])                                                                                                                                                                                                                                                                                                                                                                                                        (frozenset(['Sparkling Lemon Water', 'Banana']),)\n",
       "frozenset(['Sparkling Water Grapefruit', 'Organic Fuji Apple'])                                                                                                                                                                                                                                                                                                                                                                                                                     (frozenset(['Lime Sparkling Water']),)\n",
       "frozenset(['Sparkling Water Grapefruit'])                                                                  (frozenset(['Peach Pear Flavored Sparkling Water', 'Sparkling Water Berry', 'Lime Sparkling Water']), frozenset(['Peach Pear Flavored Sparkling Water', 'Sparkling Lemon Water', 'Lime Sparkling Water']), frozenset(['Sparkling Lemon Water', 'Sparkling Water Berry', 'Lime Sparkling Water']), frozenset(['Peach Pear Flavored Sparkling Water', 'Sparkling Lemon Water']), frozenset(['Peach Pear Flavor..."
      ]
     },
     "execution_count": 130,
     "metadata": {},
     "output_type": "execute_result"
    }
   ],
   "source": [
    "sparkling = recommend1[certain_str1[0]][recommend1[certain_str1[0]].lift >=5] \n",
    "sparkling.groupby('antecedants').agg({'consequents':lambda x: tuple(x)})"
   ]
  },
  {
   "cell_type": "markdown",
   "metadata": {},
   "source": [
    "Based on clustering result, the most popular aisle is water seltzer sparkling water, so I used association rules to get recommendation based on top 5 products in this aisle. The model provides multiple rules and here is only a part of screenshot. The model provides many recommendations for products in water seltzer sparkling water aisle. So I select rules with lift values greater than 5. Except getting association rules, we also can find Lime or Lemon flavors are very popular. They are associated with many products in sparkling water aisle. So if there is no information about what products should recommend to the specific product in sparkling water aisle, vendors could recommend lemon or lime flavors. It is a safe choice. Also, vendors could develop new products of lime or lemon flavors for this group of customers. Since sparkling water is the most popular aisle in this group, so association rules could provide valued information(association rules are built based on frequent). However there is no recommendation for tea, and products for other aisles. We could get recommendation for these products by other recommendation methods.\n"
   ]
  },
  {
   "cell_type": "code",
   "execution_count": 389,
   "metadata": {
    "scrolled": true
   },
   "outputs": [
    {
     "data": {
      "text/plain": [
       "[Columns:\n",
       " \tproduct_name\tstr\n",
       " \tsimilar\tstr\n",
       " \tscore\tfloat\n",
       " \trank\tint\n",
       " \n",
       " Rows: 10\n",
       " \n",
       " Data:\n",
       " +------------------------------+-------------------------------+----------------+\n",
       " |         product_name         |            similar            |     score      |\n",
       " +------------------------------+-------------------------------+----------------+\n",
       " | Unsweetened Premium Iced Tea |     Premium Glacier Water     | 0.999877810478 |\n",
       " | Unsweetened Premium Iced Tea | Fragrance Free Natural Con... | 0.999869406223 |\n",
       " | Unsweetened Premium Iced Tea |      Organic Roots Juice      | 0.999849438667 |\n",
       " | Unsweetened Premium Iced Tea |      Black Tea With Lemon     | 0.999817311764 |\n",
       " | Unsweetened Premium Iced Tea |  Crystal Fresh Drinking Water | 0.999808847904 |\n",
       " | Unsweetened Premium Iced Tea | Original Sparkling Seltzer... | 0.999805033207 |\n",
       " | Unsweetened Premium Iced Tea | Vitamin Water Zero Squeeze... | 0.999770343304 |\n",
       " | Unsweetened Premium Iced Tea |           Smartwater          | 0.99976837635  |\n",
       " | Unsweetened Premium Iced Tea |     Mint Glide Floss Picks    | 0.999768316746 |\n",
       " | Unsweetened Premium Iced Tea |  Peach Sparkling Energy Water | 0.999762654305 |\n",
       " +------------------------------+-------------------------------+----------------+\n",
       " +------+\n",
       " | rank |\n",
       " +------+\n",
       " |  1   |\n",
       " |  2   |\n",
       " |  3   |\n",
       " |  4   |\n",
       " |  5   |\n",
       " |  6   |\n",
       " |  7   |\n",
       " |  8   |\n",
       " |  9   |\n",
       " |  10  |\n",
       " +------+\n",
       " [10 rows x 4 columns], Columns:\n",
       " \tproduct_name\tstr\n",
       " \tsimilar\tstr\n",
       " \tscore\tfloat\n",
       " \trank\tint\n",
       " \n",
       " Rows: 10\n",
       " \n",
       " Data:\n",
       " +--------------+-------------------------------+----------------+------+\n",
       " | product_name |            similar            |     score      | rank |\n",
       " +--------------+-------------------------------+----------------+------+\n",
       " |   Zen Tea    |      Green Tea With Honey     | 0.999860346317 |  1   |\n",
       " |   Zen Tea    |         Carolina Honey        | 0.999815702438 |  2   |\n",
       " |   Zen Tea    | Organic Chai Tea Latte Con... | 0.999802410603 |  3   |\n",
       " |   Zen Tea    | Tulsi Holy Basil Sweet Ros... | 0.99979031086  |  4   |\n",
       " |   Zen Tea    | Sweet Cinnamon Spice Herba... | 0.999766588211 |  5   |\n",
       " |   Zen Tea    |     Diet Original Lemonade    | 0.999722659588 |  6   |\n",
       " |   Zen Tea    | Breakfast Blend Ground Coffee | 0.999713718891 |  7   |\n",
       " |   Zen Tea    |     Honeycrisp Apple Cider    | 0.99966698885  |  8   |\n",
       " |   Zen Tea    |     Iced Chai, Semi Sweet     | 0.999567866325 |  9   |\n",
       " |   Zen Tea    |     Peach Iced Matcha Tea     | 0.999561607838 |  10  |\n",
       " +--------------+-------------------------------+----------------+------+\n",
       " [10 rows x 4 columns], Columns:\n",
       " \tproduct_name\tstr\n",
       " \tsimilar\tstr\n",
       " \tscore\tfloat\n",
       " \trank\tint\n",
       " \n",
       " Rows: 10\n",
       " \n",
       " Data:\n",
       " +------------------------------+-------------------------------+----------------+\n",
       " |         product_name         |            similar            |     score      |\n",
       " +------------------------------+-------------------------------+----------------+\n",
       " | Premium Unsweetened Iced Tea | Cookie Dough Slow Churned ... | 0.999532580376 |\n",
       " | Premium Unsweetened Iced Tea |  Coffee Chocolate Chip Gelato | 0.999523282051 |\n",
       " | Premium Unsweetened Iced Tea | Lindcove Ranch Tangelo Sor... | 0.999428629875 |\n",
       " | Premium Unsweetened Iced Tea | Fully Cooked Turkey Sausag... | 0.999374508858 |\n",
       " | Premium Unsweetened Iced Tea | Cranberry Pomegranate Spar... | 0.999356865883 |\n",
       " | Premium Unsweetened Iced Tea | Boneless Skinless Chicken ... | 0.999335229397 |\n",
       " | Premium Unsweetened Iced Tea |         Ice Cream Bars        | 0.999213218689 |\n",
       " | Premium Unsweetened Iced Tea |         Grapeseed Oil         | 0.999171078205 |\n",
       " | Premium Unsweetened Iced Tea | Peppered Smoked Wild Mackerel | 0.999147474766 |\n",
       " | Premium Unsweetened Iced Tea | Glide Pro-Health Original ... | 0.999115765095 |\n",
       " +------------------------------+-------------------------------+----------------+\n",
       " +------+\n",
       " | rank |\n",
       " +------+\n",
       " |  1   |\n",
       " |  2   |\n",
       " |  3   |\n",
       " |  4   |\n",
       " |  5   |\n",
       " |  6   |\n",
       " |  7   |\n",
       " |  8   |\n",
       " |  9   |\n",
       " |  10  |\n",
       " +------+\n",
       " [10 rows x 4 columns], Columns:\n",
       " \tproduct_name\tstr\n",
       " \tsimilar\tstr\n",
       " \tscore\tfloat\n",
       " \trank\tint\n",
       " \n",
       " Rows: 10\n",
       " \n",
       " Data:\n",
       " +---------------+-------------------------------+----------------+------+\n",
       " |  product_name |            similar            |     score      | rank |\n",
       " +---------------+-------------------------------+----------------+------+\n",
       " | Earl Grey Tea | Organic Earl Grey Black Te... | 0.999631822109 |  1   |\n",
       " | Earl Grey Tea | Pepperoni Provolone Cheese... | 0.999600529671 |  2   |\n",
       " | Earl Grey Tea |      Raspberry Ginger Tea     | 0.999509513378 |  3   |\n",
       " | Earl Grey Tea | Organic Plain Whole Milk Y... | 0.999496161938 |  4   |\n",
       " | Earl Grey Tea | Shin Bowl Noodle Soup, Gou... | 0.999489843845 |  5   |\n",
       " | Earl Grey Tea | Facial Mask Age Defying Hy... | 0.999464631081 |  6   |\n",
       " | Earl Grey Tea | Organic Pasture Raised Bro... | 0.99943202734  |  7   |\n",
       " | Earl Grey Tea | Ginger & Turmeric Organic ... | 0.999421477318 |  8   |\n",
       " | Earl Grey Tea |       Dandelion Tea Bags      | 0.99939763546  |  9   |\n",
       " | Earl Grey Tea | Very Emollient Fragrance F... | 0.999385535717 |  10  |\n",
       " +---------------+-------------------------------+----------------+------+\n",
       " [10 rows x 4 columns], Columns:\n",
       " \tproduct_name\tstr\n",
       " \tsimilar\tstr\n",
       " \tscore\tfloat\n",
       " \trank\tint\n",
       " \n",
       " Rows: 10\n",
       " \n",
       " Data:\n",
       " +------------------+-------------------------------+----------------+------+\n",
       " |   product_name   |            similar            |     score      | rank |\n",
       " +------------------+-------------------------------+----------------+------+\n",
       " | Variety Diet Tea |  Watermelon Margarita Seltzer | 0.999409079552 |  1   |\n",
       " | Variety Diet Tea | Ginger Root Beer, Naturall... | 0.999018907547 |  2   |\n",
       " | Variety Diet Tea |      Organic Rice Vinegar     | 0.998577773571 |  3   |\n",
       " | Variety Diet Tea | Organic Coconut Sugar Vanilla | 0.998248636723 |  4   |\n",
       " | Variety Diet Tea | Smooth Greens & Kale Veget... | 0.998133540154 |  5   |\n",
       " | Variety Diet Tea |           Diet Peach          | 0.99805444479  |  6   |\n",
       " | Variety Diet Tea | Organic Greens & Greens Juice | 0.997995257378 |  7   |\n",
       " | Variety Diet Tea |    Citrus Terere Yerba Mate   | 0.99766010046  |  8   |\n",
       " | Variety Diet Tea | Nordic Berries Multivitami... | 0.997577190399 |  9   |\n",
       " | Variety Diet Tea |   Cookies N Cream Ice Cream   | 0.997489273548 |  10  |\n",
       " +------------------+-------------------------------+----------------+------+\n",
       " [10 rows x 4 columns]]"
      ]
     },
     "execution_count": 389,
     "metadata": {},
     "output_type": "execute_result"
    }
   ],
   "source": [
    "personal_recommend1[1]"
   ]
  },
  {
   "cell_type": "markdown",
   "metadata": {},
   "source": [
    "To get recommended products for tea aisle, I used personality model. Here is an example of result for recommendation based on product unsweetened premium iced tea, the most popular products in tea aisle. From personality model, we may recommend Premium Glacier Water, Organic Roots Juice, Black Tea with Lemon……We can see most of recommended products are healthy products. Generally customers in group 1 lead healthier life than customers in group 0.\n",
    "\n",
    "Sparkling water products have the same rule with soda, so basically the best time to make promotion for group 2 customers is the same as the group 1 customers."
   ]
  },
  {
   "cell_type": "markdown",
   "metadata": {},
   "source": [
    "### group 2 - recommendation for yogourt"
   ]
  },
  {
   "cell_type": "code",
   "execution_count": 141,
   "metadata": {
    "collapsed": true
   },
   "outputs": [],
   "source": [
    "rules2 = pd.read_csv('rules2.csv', index_col=0)"
   ]
  },
  {
   "cell_type": "code",
   "execution_count": 142,
   "metadata": {
    "collapsed": true
   },
   "outputs": [],
   "source": [
    "certain_str2 = ['Total 2% with Strawberry Lowfat Greek Strained Yogurt', \n",
    "               'Total 2% Lowfat Greek Strained Yogurt with Peach',\n",
    "               'Total 2% Lowfat Greek Strained Yogurt With Blueberry',\n",
    "               'Total 2% All Natural Greek Strained Yogurt with Honey',\n",
    "               'Total 2% Greek Strained Yogurt with Cherry 5.3 oz']"
   ]
  },
  {
   "cell_type": "code",
   "execution_count": 143,
   "metadata": {
    "collapsed": true
   },
   "outputs": [],
   "source": [
    "recommend2 = {}\n",
    "for item in certain_str2:\n",
    "    #print 'recommendation for' + str(item) + ':'\n",
    "    recommend2[item] = rules2[rules2['antecedants'].apply(lambda x: str(x)).str.contains(item)].\\\n",
    "                        sort_values('lift', ascending = False)"
   ]
  },
  {
   "cell_type": "code",
   "execution_count": 151,
   "metadata": {
    "scrolled": false
   },
   "outputs": [
    {
     "data": {
      "text/html": [
       "<div>\n",
       "<style scoped>\n",
       "    .dataframe tbody tr th:only-of-type {\n",
       "        vertical-align: middle;\n",
       "    }\n",
       "\n",
       "    .dataframe tbody tr th {\n",
       "        vertical-align: top;\n",
       "    }\n",
       "\n",
       "    .dataframe thead th {\n",
       "        text-align: right;\n",
       "    }\n",
       "</style>\n",
       "<table border=\"1\" class=\"dataframe\">\n",
       "  <thead>\n",
       "    <tr style=\"text-align: right;\">\n",
       "      <th></th>\n",
       "      <th>antecedants</th>\n",
       "      <th>consequents</th>\n",
       "      <th>support</th>\n",
       "      <th>confidence</th>\n",
       "      <th>lift</th>\n",
       "    </tr>\n",
       "  </thead>\n",
       "  <tbody>\n",
       "  </tbody>\n",
       "</table>\n",
       "</div>"
      ],
      "text/plain": [
       "Empty DataFrame\n",
       "Columns: [antecedants, consequents, support, confidence, lift]\n",
       "Index: []"
      ]
     },
     "execution_count": 151,
     "metadata": {},
     "output_type": "execute_result"
    }
   ],
   "source": [
    "recommend2[certain_str2[3]]"
   ]
  },
  {
   "cell_type": "code",
   "execution_count": 400,
   "metadata": {
    "scrolled": true
   },
   "outputs": [
    {
     "name": "stdout",
     "output_type": "stream",
     "text": [
      "recommendation for yogurt:\n"
     ]
    },
    {
     "data": {
      "text/plain": [
       "[Columns:\n",
       " \tproduct_name\tstr\n",
       " \tsimilar\tstr\n",
       " \tscore\tfloat\n",
       " \trank\tint\n",
       " \n",
       " Rows: 10\n",
       " \n",
       " Data:\n",
       " +-------------------------------+-------------------------------+----------------+\n",
       " |          product_name         |            similar            |     score      |\n",
       " +-------------------------------+-------------------------------+----------------+\n",
       " | Total 2% with Strawberry L... | Superfood Premium Fruit Sm... | 0.99999588728  |\n",
       " | Total 2% with Strawberry L... | Medium Roast Extra Bold K-... | 0.999995291233 |\n",
       " | Total 2% with Strawberry L... | French Roast Single Serve ... | 0.999994337559 |\n",
       " | Total 2% with Strawberry L... |   Shade Grown Ground Coffee   | 0.999990999699 |\n",
       " | Total 2% with Strawberry L... |       Organic Lime Juice      | 0.999990820885 |\n",
       " | Total 2% with Strawberry L... | Medium Roast Extra Bold De... | 0.999990522861 |\n",
       " | Total 2% with Strawberry L... |       Owl's Howl Coffee       | 0.999990224838 |\n",
       " | Total 2% with Strawberry L... | Organic Strawberry Super C... | 0.999989509583 |\n",
       " | Total 2% with Strawberry L... | 100% Orange Strawberry Ban... | 0.999989449978 |\n",
       " | Total 2% with Strawberry L... | 100% Cold Pressed Apricot ... | 0.999988615513 |\n",
       " +-------------------------------+-------------------------------+----------------+\n",
       " +------+\n",
       " | rank |\n",
       " +------+\n",
       " |  1   |\n",
       " |  2   |\n",
       " |  3   |\n",
       " |  4   |\n",
       " |  5   |\n",
       " |  6   |\n",
       " |  7   |\n",
       " |  8   |\n",
       " |  9   |\n",
       " |  10  |\n",
       " +------+\n",
       " [10 rows x 4 columns], Columns:\n",
       " \tproduct_name\tstr\n",
       " \tsimilar\tstr\n",
       " \tscore\tfloat\n",
       " \trank\tint\n",
       " \n",
       " Rows: 10\n",
       " \n",
       " Data:\n",
       " +-------------------------------+-------------------------------+----------------+\n",
       " |          product_name         |            similar            |     score      |\n",
       " +-------------------------------+-------------------------------+----------------+\n",
       " | Total 2% Lowfat Greek Stra... | Cocoa Noir Cold Brew Coffe... | 0.999993622303 |\n",
       " | Total 2% Lowfat Greek Stra... |       Frappuccino Mocha       | 0.999990642071 |\n",
       " | Total 2% Lowfat Greek Stra... | Dandruff Relief Shampoo + ... | 0.999988913536 |\n",
       " | Total 2% Lowfat Greek Stra... | Mahogany Dark Roast Ground... | 0.99998819828  |\n",
       " | Total 2% Lowfat Greek Stra... | Organic & Fair Trade Green... | 0.999987781048 |\n",
       " | Total 2% Lowfat Greek Stra... | G2 Low Calorie Fruit Punch... | 0.99998742342  |\n",
       " | Total 2% Lowfat Greek Stra... |    Cranberry Grape Cocktail   | 0.999986946583 |\n",
       " | Total 2% Lowfat Greek Stra... |        Diet Ginger Ale        | 0.999986171722 |\n",
       " | Total 2% Lowfat Greek Stra... |   White Cherry Sports Drink   | 0.999985814095 |\n",
       " | Total 2% Lowfat Greek Stra... | Pears Apples + Baby Rice, ... | 0.999983727932 |\n",
       " +-------------------------------+-------------------------------+----------------+\n",
       " +------+\n",
       " | rank |\n",
       " +------+\n",
       " |  1   |\n",
       " |  2   |\n",
       " |  3   |\n",
       " |  4   |\n",
       " |  5   |\n",
       " |  6   |\n",
       " |  7   |\n",
       " |  8   |\n",
       " |  9   |\n",
       " |  10  |\n",
       " +------+\n",
       " [10 rows x 4 columns], Columns:\n",
       " \tproduct_name\tstr\n",
       " \tsimilar\tstr\n",
       " \tscore\tfloat\n",
       " \trank\tint\n",
       " \n",
       " Rows: 10\n",
       " \n",
       " Data:\n",
       " +-------------------------------+--------------------------------+\n",
       " |          product_name         |            similar             |\n",
       " +-------------------------------+--------------------------------+\n",
       " | Total 2% Lowfat Greek Stra... | Keurig Medium Roast Lively...  |\n",
       " | Total 2% Lowfat Greek Stra... |     Plain Soymilk Creamer      |\n",
       " | Total 2% Lowfat Greek Stra... |         Arancita Rossa         |\n",
       " | Total 2% Lowfat Greek Stra... | Verona Blend Decaf Ground ...  |\n",
       " | Total 2% Lowfat Greek Stra... | Wild Prickly Pear Cactus Water |\n",
       " | Total 2% Lowfat Greek Stra... |       Caffeine Free Diet       |\n",
       " | Total 2% Lowfat Greek Stra... | Icelandic Style Fat Free P...  |\n",
       " | Total 2% Lowfat Greek Stra... | Kombucha, Organic Raw, Lav...  |\n",
       " | Total 2% Lowfat Greek Stra... | Herbal All Purpose Grind, ...  |\n",
       " | Total 2% Lowfat Greek Stra... | Cafe Solano Medium Roast G...  |\n",
       " +-------------------------------+--------------------------------+\n",
       " +----------------+------+\n",
       " |     score      | rank |\n",
       " +----------------+------+\n",
       " | 0.999997138977 |  1   |\n",
       " | 0.999996721745 |  2   |\n",
       " | 0.999995529652 |  3   |\n",
       " | 0.99999499321  |  4   |\n",
       " | 0.999993741512 |  5   |\n",
       " | 0.999993741512 |  6   |\n",
       " | 0.99999320507  |  7   |\n",
       " | 0.999993026257 |  8   |\n",
       " | 0.999992787838 |  9   |\n",
       " | 0.999992489815 |  10  |\n",
       " +----------------+------+\n",
       " [10 rows x 4 columns], Columns:\n",
       " \tproduct_name\tstr\n",
       " \tsimilar\tstr\n",
       " \tscore\tfloat\n",
       " \trank\tint\n",
       " \n",
       " Rows: 10\n",
       " \n",
       " Data:\n",
       " +-------------------------------+-------------------------------+----------------+\n",
       " |          product_name         |            similar            |     score      |\n",
       " +-------------------------------+-------------------------------+----------------+\n",
       " | Total 2% All Natural Greek... | Original Cold Brew  Coffee... | 0.99999320507  |\n",
       " | Total 2% All Natural Greek... | Ground Espresso Coffee Med... | 0.99999243021  |\n",
       " | Total 2% All Natural Greek... | Organic Spicy Lemonade Jui... | 0.999990284443 |\n",
       " | Total 2% All Natural Greek... |     Kombucha Seasonal Plum    | 0.99998819828  |\n",
       " | Total 2% All Natural Greek... |   Ground Coffee and Chicory   | 0.999987185001 |\n",
       " | Total 2% All Natural Greek... |          Mocha K-Cups         | 0.999987185001 |\n",
       " | Total 2% All Natural Greek... |     Ginger Berry Kombucha     | 0.999987125397 |\n",
       " | Total 2% All Natural Greek... |  Big Bang Medium Roast Coffee | 0.999986350536 |\n",
       " | Total 2% All Natural Greek... |      Mango Premium Nectar     | 0.999985694885 |\n",
       " | Total 2% All Natural Greek... |   Blueberry B Juice Smoothie  | 0.999985694885 |\n",
       " +-------------------------------+-------------------------------+----------------+\n",
       " +------+\n",
       " | rank |\n",
       " +------+\n",
       " |  1   |\n",
       " |  2   |\n",
       " |  3   |\n",
       " |  4   |\n",
       " |  5   |\n",
       " |  6   |\n",
       " |  7   |\n",
       " |  8   |\n",
       " |  9   |\n",
       " |  10  |\n",
       " +------+\n",
       " [10 rows x 4 columns], Columns:\n",
       " \tproduct_name\tstr\n",
       " \tsimilar\tstr\n",
       " \tscore\tfloat\n",
       " \trank\tint\n",
       " \n",
       " Rows: 10\n",
       " \n",
       " Data:\n",
       " +-------------------------------+-------------------------------+----------------+\n",
       " |          product_name         |            similar            |     score      |\n",
       " +-------------------------------+-------------------------------+----------------+\n",
       " | Total 2% Greek Strained Yo... | Pineapple Coconut Water 10... | 0.999911308289 |\n",
       " | Total 2% Greek Strained Yo... |  Green Machine Juice Smoothie | 0.999884605408 |\n",
       " | Total 2% Greek Strained Yo... |    Cranberry Juice Cocktail   | 0.999881625175 |\n",
       " | Total 2% Greek Strained Yo... | Major Dickason's Blend Who... | 0.999877870083 |\n",
       " | Total 2% Greek Strained Yo... |      Glacier Freeze Frost     | 0.999866724014 |\n",
       " | Total 2% Greek Strained Yo... |   Classic Caffeine Free Soda  | 0.999863266945 |\n",
       " | Total 2% Greek Strained Yo... |  Caffe Espresso Ground Coffee | 0.999847590923 |\n",
       " | Total 2% Greek Strained Yo... |         Glacier Freeze        | 0.999816358089 |\n",
       " | Total 2% Greek Strained Yo... | Organic Greek Whole Milk B... | 0.999754726887 |\n",
       " | Total 2% Greek Strained Yo... |  Glow Vegetable & Fruit Juice | 0.999720335007 |\n",
       " +-------------------------------+-------------------------------+----------------+\n",
       " +------+\n",
       " | rank |\n",
       " +------+\n",
       " |  1   |\n",
       " |  2   |\n",
       " |  3   |\n",
       " |  4   |\n",
       " |  5   |\n",
       " |  6   |\n",
       " |  7   |\n",
       " |  8   |\n",
       " |  9   |\n",
       " |  10  |\n",
       " +------+\n",
       " [10 rows x 4 columns]]"
      ]
     },
     "execution_count": 400,
     "metadata": {},
     "output_type": "execute_result"
    }
   ],
   "source": [
    "print 'recommendation for yogurt:'\n",
    "appended_data"
   ]
  },
  {
   "cell_type": "markdown",
   "metadata": {},
   "source": [
    "I want to recommend products for customers like yogurt. However association rules model does not return any rules to us, so I used personality model. I recommended products based on top 5 products in yogurt aisle: Total 2% with Strawberry Lowfat Greek Strained Yogurt , Total 2% Lowfat Greek Strained Yogurt with Peach,  Total 2% Lowfat Greek Strained Yogurt With Blueberry,  Total 2% All Natural Greek Strained Yogurt with Honey and Total 2% Greek Strained Yogurt with Cherry 5.3 oz. Here is an example of recommendation results for Total 2% with Strawberry Lowfat Greek Strained Yogurt. We can see Recommendations for yogurt for this group of customers are tea, coffee, smoothies, cocktail……most of them of drinks, which makes sense. From recommendations, customers in this group like yougurt also like coffee. Customers buying yogurt with low fat also like products with low calorie, such as G2 Low Calorie Fruit Punch Drink. And customers buying strawberry yogurt also like other products with fruits flavor such as Superfood Premium Fruit Smoothie Blend Blueberry. \n"
   ]
  },
  {
   "cell_type": "markdown",
   "metadata": {},
   "source": [
    "### group 3 - recommendation for baby food "
   ]
  },
  {
   "cell_type": "code",
   "execution_count": 2,
   "metadata": {
    "collapsed": true
   },
   "outputs": [],
   "source": [
    "rules3 = pd.read_csv('rules3.csv', index_col=0)"
   ]
  },
  {
   "cell_type": "code",
   "execution_count": 153,
   "metadata": {
    "collapsed": true
   },
   "outputs": [],
   "source": [
    "certain_str3 = ['Baby Food Stage 2 Blueberry Pear & Purple Carrot', \n",
    "                   'Spinach Peas & Pear Stage 2 Baby Food',\n",
    "                   'Broccoli & Apple Stage 2 Baby Food',\n",
    "                   'Stage 1 Apples Sweet Potatoes Pumpkin & Blueberries Organic Pureed Baby Food',\n",
    "                   'Gluten Free SpongeBob Spinach Littles']"
   ]
  },
  {
   "cell_type": "code",
   "execution_count": 154,
   "metadata": {
    "collapsed": true
   },
   "outputs": [],
   "source": [
    "recommend3 = {}\n",
    "for item in certain_str3:\n",
    "    #print 'recommendation for' + str(item) + ':'\n",
    "    recommend3[item] = rules3[rules3['antecedants'].apply(lambda x: str(x)).str.contains(item)].\\\n",
    "                        sort_values('lift', ascending = False)"
   ]
  },
  {
   "cell_type": "code",
   "execution_count": 155,
   "metadata": {
    "scrolled": false
   },
   "outputs": [
    {
     "name": "stdout",
     "output_type": "stream",
     "text": [
      "recommendation for Baby Food Stage 2 Blueberry Pear & Purple Carrot\n"
     ]
    },
    {
     "data": {
      "text/html": [
       "<div>\n",
       "<style scoped>\n",
       "    .dataframe tbody tr th:only-of-type {\n",
       "        vertical-align: middle;\n",
       "    }\n",
       "\n",
       "    .dataframe tbody tr th {\n",
       "        vertical-align: top;\n",
       "    }\n",
       "\n",
       "    .dataframe thead th {\n",
       "        text-align: right;\n",
       "    }\n",
       "</style>\n",
       "<table border=\"1\" class=\"dataframe\">\n",
       "  <thead>\n",
       "    <tr style=\"text-align: right;\">\n",
       "      <th></th>\n",
       "      <th>antecedants</th>\n",
       "      <th>consequents</th>\n",
       "      <th>support</th>\n",
       "      <th>confidence</th>\n",
       "      <th>lift</th>\n",
       "    </tr>\n",
       "  </thead>\n",
       "  <tbody>\n",
       "    <tr>\n",
       "      <th>26975</th>\n",
       "      <td>frozenset(['Baby Food Stage 2 Blueberry Pear &amp; Purple Carrot'])</td>\n",
       "      <td>frozenset(['Baby Food Stage 2 Pumpkin Banana'])</td>\n",
       "      <td>0.093062</td>\n",
       "      <td>0.322665</td>\n",
       "      <td>6.234441</td>\n",
       "    </tr>\n",
       "    <tr>\n",
       "      <th>2343</th>\n",
       "      <td>frozenset(['Baby Food Stage 2 Blueberry Pear &amp; Purple Carrot'])</td>\n",
       "      <td>frozenset(['Peach,  Apricot &amp; Banana Stage 2 Baby Food'])</td>\n",
       "      <td>0.093062</td>\n",
       "      <td>0.362539</td>\n",
       "      <td>5.973587</td>\n",
       "    </tr>\n",
       "    <tr>\n",
       "      <th>6074</th>\n",
       "      <td>frozenset(['Baby Food Stage 2 Blueberry Pear &amp; Purple Carrot'])</td>\n",
       "      <td>frozenset(['Broccoli &amp; Apple Stage 2 Baby Food'])</td>\n",
       "      <td>0.093062</td>\n",
       "      <td>0.435992</td>\n",
       "      <td>5.817293</td>\n",
       "    </tr>\n",
       "    <tr>\n",
       "      <th>23793</th>\n",
       "      <td>frozenset(['Baby Food Stage 2 Blueberry Pear &amp; Purple Carrot'])</td>\n",
       "      <td>frozenset(['Spinach Peas &amp; Pear Stage 2 Baby Food'])</td>\n",
       "      <td>0.093062</td>\n",
       "      <td>0.477440</td>\n",
       "      <td>5.668662</td>\n",
       "    </tr>\n",
       "  </tbody>\n",
       "</table>\n",
       "</div>"
      ],
      "text/plain": [
       "                                                           antecedants  \\\n",
       "26975  frozenset(['Baby Food Stage 2 Blueberry Pear & Purple Carrot'])   \n",
       "2343   frozenset(['Baby Food Stage 2 Blueberry Pear & Purple Carrot'])   \n",
       "6074   frozenset(['Baby Food Stage 2 Blueberry Pear & Purple Carrot'])   \n",
       "23793  frozenset(['Baby Food Stage 2 Blueberry Pear & Purple Carrot'])   \n",
       "\n",
       "                                                     consequents   support  \\\n",
       "26975            frozenset(['Baby Food Stage 2 Pumpkin Banana'])  0.093062   \n",
       "2343   frozenset(['Peach,  Apricot & Banana Stage 2 Baby Food'])  0.093062   \n",
       "6074           frozenset(['Broccoli & Apple Stage 2 Baby Food'])  0.093062   \n",
       "23793       frozenset(['Spinach Peas & Pear Stage 2 Baby Food'])  0.093062   \n",
       "\n",
       "       confidence      lift  \n",
       "26975    0.322665  6.234441  \n",
       "2343     0.362539  5.973587  \n",
       "6074     0.435992  5.817293  \n",
       "23793    0.477440  5.668662  "
      ]
     },
     "execution_count": 155,
     "metadata": {},
     "output_type": "execute_result"
    }
   ],
   "source": [
    "print 'recommendation for ' + str(certain_str3[0])\n",
    "recommend3[certain_str3[0]][recommend3[certain_str3[0]].lift >=5] "
   ]
  },
  {
   "cell_type": "code",
   "execution_count": 156,
   "metadata": {
    "scrolled": false
   },
   "outputs": [
    {
     "name": "stdout",
     "output_type": "stream",
     "text": [
      "recommendation for Spinach Peas & Pear Stage 2 Baby Food\n"
     ]
    },
    {
     "data": {
      "text/html": [
       "<div>\n",
       "<style scoped>\n",
       "    .dataframe tbody tr th:only-of-type {\n",
       "        vertical-align: middle;\n",
       "    }\n",
       "\n",
       "    .dataframe tbody tr th {\n",
       "        vertical-align: top;\n",
       "    }\n",
       "\n",
       "    .dataframe thead th {\n",
       "        text-align: right;\n",
       "    }\n",
       "</style>\n",
       "<table border=\"1\" class=\"dataframe\">\n",
       "  <thead>\n",
       "    <tr style=\"text-align: right;\">\n",
       "      <th></th>\n",
       "      <th>antecedants</th>\n",
       "      <th>consequents</th>\n",
       "      <th>support</th>\n",
       "      <th>confidence</th>\n",
       "      <th>lift</th>\n",
       "    </tr>\n",
       "  </thead>\n",
       "  <tbody>\n",
       "    <tr>\n",
       "      <th>22034</th>\n",
       "      <td>frozenset(['Spinach Peas &amp; Pear Stage 2 Baby Food'])</td>\n",
       "      <td>frozenset(['Broccoli &amp; Apple Stage 2 Baby Food'])</td>\n",
       "      <td>0.084224</td>\n",
       "      <td>0.516522</td>\n",
       "      <td>6.891780</td>\n",
       "    </tr>\n",
       "    <tr>\n",
       "      <th>23792</th>\n",
       "      <td>frozenset(['Spinach Peas &amp; Pear Stage 2 Baby Food'])</td>\n",
       "      <td>frozenset(['Baby Food Stage 2 Blueberry Pear &amp; Purple Carrot'])</td>\n",
       "      <td>0.084224</td>\n",
       "      <td>0.527536</td>\n",
       "      <td>5.668662</td>\n",
       "    </tr>\n",
       "  </tbody>\n",
       "</table>\n",
       "</div>"
      ],
      "text/plain": [
       "                                                antecedants  \\\n",
       "22034  frozenset(['Spinach Peas & Pear Stage 2 Baby Food'])   \n",
       "23792  frozenset(['Spinach Peas & Pear Stage 2 Baby Food'])   \n",
       "\n",
       "                                                           consequents  \\\n",
       "22034                frozenset(['Broccoli & Apple Stage 2 Baby Food'])   \n",
       "23792  frozenset(['Baby Food Stage 2 Blueberry Pear & Purple Carrot'])   \n",
       "\n",
       "        support  confidence      lift  \n",
       "22034  0.084224    0.516522  6.891780  \n",
       "23792  0.084224    0.527536  5.668662  "
      ]
     },
     "execution_count": 156,
     "metadata": {},
     "output_type": "execute_result"
    }
   ],
   "source": [
    "print 'recommendation for ' + str(certain_str3[1])\n",
    "recommend3[certain_str3[1]][recommend3[certain_str3[1]].lift >=5] "
   ]
  },
  {
   "cell_type": "markdown",
   "metadata": {},
   "source": [
    "Customers buying Spinach Peas & Pear Stage 2 Baby Food also likes Broccoli&Apple Stage 2 Baby Food and Baby Food Stage 2 Blueberry Pear&Purple Carrot."
   ]
  },
  {
   "cell_type": "code",
   "execution_count": 157,
   "metadata": {},
   "outputs": [
    {
     "name": "stdout",
     "output_type": "stream",
     "text": [
      "recommendation for Broccoli & Apple Stage 2 Baby Food\n"
     ]
    },
    {
     "data": {
      "text/html": [
       "<div>\n",
       "<style scoped>\n",
       "    .dataframe tbody tr th:only-of-type {\n",
       "        vertical-align: middle;\n",
       "    }\n",
       "\n",
       "    .dataframe tbody tr th {\n",
       "        vertical-align: top;\n",
       "    }\n",
       "\n",
       "    .dataframe thead th {\n",
       "        text-align: right;\n",
       "    }\n",
       "</style>\n",
       "<table border=\"1\" class=\"dataframe\">\n",
       "  <thead>\n",
       "    <tr style=\"text-align: right;\">\n",
       "      <th></th>\n",
       "      <th>antecedants</th>\n",
       "      <th>consequents</th>\n",
       "      <th>support</th>\n",
       "      <th>confidence</th>\n",
       "      <th>lift</th>\n",
       "    </tr>\n",
       "  </thead>\n",
       "  <tbody>\n",
       "    <tr>\n",
       "      <th>22035</th>\n",
       "      <td>frozenset(['Broccoli &amp; Apple Stage 2 Baby Food'])</td>\n",
       "      <td>frozenset(['Spinach Peas &amp; Pear Stage 2 Baby Food'])</td>\n",
       "      <td>0.074948</td>\n",
       "      <td>0.580456</td>\n",
       "      <td>6.891780</td>\n",
       "    </tr>\n",
       "    <tr>\n",
       "      <th>6075</th>\n",
       "      <td>frozenset(['Broccoli &amp; Apple Stage 2 Baby Food'])</td>\n",
       "      <td>frozenset(['Baby Food Stage 2 Blueberry Pear &amp; Purple Carrot'])</td>\n",
       "      <td>0.074948</td>\n",
       "      <td>0.541368</td>\n",
       "      <td>5.817293</td>\n",
       "    </tr>\n",
       "  </tbody>\n",
       "</table>\n",
       "</div>"
      ],
      "text/plain": [
       "                                             antecedants  \\\n",
       "22035  frozenset(['Broccoli & Apple Stage 2 Baby Food'])   \n",
       "6075   frozenset(['Broccoli & Apple Stage 2 Baby Food'])   \n",
       "\n",
       "                                                           consequents  \\\n",
       "22035             frozenset(['Spinach Peas & Pear Stage 2 Baby Food'])   \n",
       "6075   frozenset(['Baby Food Stage 2 Blueberry Pear & Purple Carrot'])   \n",
       "\n",
       "        support  confidence      lift  \n",
       "22035  0.074948    0.580456  6.891780  \n",
       "6075   0.074948    0.541368  5.817293  "
      ]
     },
     "execution_count": 157,
     "metadata": {},
     "output_type": "execute_result"
    }
   ],
   "source": [
    "print 'recommendation for ' + str(certain_str3[2])\n",
    "recommend3[certain_str3[2]][recommend3[certain_str3[2]].lift >=5]"
   ]
  },
  {
   "cell_type": "code",
   "execution_count": 158,
   "metadata": {
    "scrolled": true
   },
   "outputs": [
    {
     "name": "stdout",
     "output_type": "stream",
     "text": [
      "recommendation for Stage 1 Apples Sweet Potatoes Pumpkin & Blueberries Organic Pureed Baby Food\n"
     ]
    },
    {
     "data": {
      "text/html": [
       "<div>\n",
       "<style scoped>\n",
       "    .dataframe tbody tr th:only-of-type {\n",
       "        vertical-align: middle;\n",
       "    }\n",
       "\n",
       "    .dataframe tbody tr th {\n",
       "        vertical-align: top;\n",
       "    }\n",
       "\n",
       "    .dataframe thead th {\n",
       "        text-align: right;\n",
       "    }\n",
       "</style>\n",
       "<table border=\"1\" class=\"dataframe\">\n",
       "  <thead>\n",
       "    <tr style=\"text-align: right;\">\n",
       "      <th></th>\n",
       "      <th>antecedants</th>\n",
       "      <th>consequents</th>\n",
       "      <th>support</th>\n",
       "      <th>confidence</th>\n",
       "      <th>lift</th>\n",
       "    </tr>\n",
       "  </thead>\n",
       "  <tbody>\n",
       "    <tr>\n",
       "      <th>16541</th>\n",
       "      <td>frozenset(['Stage 1 Apples Sweet Potatoes Pumpkin &amp; Blueberries Organic Pureed Baby Food'])</td>\n",
       "      <td>frozenset(['Organic Strawberries'])</td>\n",
       "      <td>0.052244</td>\n",
       "      <td>0.671963</td>\n",
       "      <td>1.593800</td>\n",
       "    </tr>\n",
       "    <tr>\n",
       "      <th>26443</th>\n",
       "      <td>frozenset(['Stage 1 Apples Sweet Potatoes Pumpkin &amp; Blueberries Organic Pureed Baby Food'])</td>\n",
       "      <td>frozenset(['Banana'])</td>\n",
       "      <td>0.052244</td>\n",
       "      <td>0.592523</td>\n",
       "      <td>1.276075</td>\n",
       "    </tr>\n",
       "  </tbody>\n",
       "</table>\n",
       "</div>"
      ],
      "text/plain": [
       "                                                                                       antecedants  \\\n",
       "16541  frozenset(['Stage 1 Apples Sweet Potatoes Pumpkin & Blueberries Organic Pureed Baby Food'])   \n",
       "26443  frozenset(['Stage 1 Apples Sweet Potatoes Pumpkin & Blueberries Organic Pureed Baby Food'])   \n",
       "\n",
       "                               consequents   support  confidence      lift  \n",
       "16541  frozenset(['Organic Strawberries'])  0.052244    0.671963  1.593800  \n",
       "26443                frozenset(['Banana'])  0.052244    0.592523  1.276075  "
      ]
     },
     "execution_count": 158,
     "metadata": {},
     "output_type": "execute_result"
    }
   ],
   "source": [
    "print 'recommendation for ' + str(certain_str3[3])\n",
    "recommend3[certain_str3[3]]"
   ]
  },
  {
   "cell_type": "code",
   "execution_count": 159,
   "metadata": {
    "scrolled": true
   },
   "outputs": [
    {
     "name": "stdout",
     "output_type": "stream",
     "text": [
      "recommendation for Gluten Free SpongeBob Spinach Littles\n"
     ]
    },
    {
     "data": {
      "text/html": [
       "<div>\n",
       "<style scoped>\n",
       "    .dataframe tbody tr th:only-of-type {\n",
       "        vertical-align: middle;\n",
       "    }\n",
       "\n",
       "    .dataframe tbody tr th {\n",
       "        vertical-align: top;\n",
       "    }\n",
       "\n",
       "    .dataframe thead th {\n",
       "        text-align: right;\n",
       "    }\n",
       "</style>\n",
       "<table border=\"1\" class=\"dataframe\">\n",
       "  <thead>\n",
       "    <tr style=\"text-align: right;\">\n",
       "      <th></th>\n",
       "      <th>antecedants</th>\n",
       "      <th>consequents</th>\n",
       "      <th>support</th>\n",
       "      <th>confidence</th>\n",
       "      <th>lift</th>\n",
       "    </tr>\n",
       "  </thead>\n",
       "  <tbody>\n",
       "    <tr>\n",
       "      <th>7691</th>\n",
       "      <td>frozenset(['Gluten Free SpongeBob Spinach Littles'])</td>\n",
       "      <td>frozenset(['Organic Baby Spinach'])</td>\n",
       "      <td>0.060397</td>\n",
       "      <td>0.523848</td>\n",
       "      <td>1.648069</td>\n",
       "    </tr>\n",
       "    <tr>\n",
       "      <th>16255</th>\n",
       "      <td>frozenset(['Gluten Free SpongeBob Spinach Littles'])</td>\n",
       "      <td>frozenset(['Organic Strawberries'])</td>\n",
       "      <td>0.060397</td>\n",
       "      <td>0.689572</td>\n",
       "      <td>1.635566</td>\n",
       "    </tr>\n",
       "    <tr>\n",
       "      <th>10918</th>\n",
       "      <td>frozenset(['Gluten Free SpongeBob Spinach Littles'])</td>\n",
       "      <td>frozenset(['Bag of Organic Bananas'])</td>\n",
       "      <td>0.060397</td>\n",
       "      <td>0.548100</td>\n",
       "      <td>1.480369</td>\n",
       "    </tr>\n",
       "    <tr>\n",
       "      <th>26259</th>\n",
       "      <td>frozenset(['Gluten Free SpongeBob Spinach Littles'])</td>\n",
       "      <td>frozenset(['Banana'])</td>\n",
       "      <td>0.060397</td>\n",
       "      <td>0.561843</td>\n",
       "      <td>1.210001</td>\n",
       "    </tr>\n",
       "  </tbody>\n",
       "</table>\n",
       "</div>"
      ],
      "text/plain": [
       "                                                antecedants  \\\n",
       "7691   frozenset(['Gluten Free SpongeBob Spinach Littles'])   \n",
       "16255  frozenset(['Gluten Free SpongeBob Spinach Littles'])   \n",
       "10918  frozenset(['Gluten Free SpongeBob Spinach Littles'])   \n",
       "26259  frozenset(['Gluten Free SpongeBob Spinach Littles'])   \n",
       "\n",
       "                                 consequents   support  confidence      lift  \n",
       "7691     frozenset(['Organic Baby Spinach'])  0.060397    0.523848  1.648069  \n",
       "16255    frozenset(['Organic Strawberries'])  0.060397    0.689572  1.635566  \n",
       "10918  frozenset(['Bag of Organic Bananas'])  0.060397    0.548100  1.480369  \n",
       "26259                  frozenset(['Banana'])  0.060397    0.561843  1.210001  "
      ]
     },
     "execution_count": 159,
     "metadata": {},
     "output_type": "execute_result"
    }
   ],
   "source": [
    "print 'recommendation for ' + str(certain_str3[4])\n",
    "recommend3[certain_str3[4]]"
   ]
  },
  {
   "cell_type": "code",
   "execution_count": 392,
   "metadata": {
    "collapsed": true
   },
   "outputs": [],
   "source": [
    "from IPython.display import Image"
   ]
  },
  {
   "cell_type": "code",
   "execution_count": 399,
   "metadata": {
    "scrolled": true
   },
   "outputs": [
    {
     "data": {
      "text/html": [
       "<img src=\"Picture1.png\" width=\"700\" height=\"500\"/>"
      ],
      "text/plain": [
       "<IPython.core.display.Image object>"
      ]
     },
     "execution_count": 399,
     "metadata": {},
     "output_type": "execute_result"
    }
   ],
   "source": [
    "img = 'Picture1.png'\n",
    "Image(url=img, width=700, height=500)"
   ]
  },
  {
   "cell_type": "markdown",
   "metadata": {},
   "source": [
    "Based on my the association rule, customers buying Baby Food Stage 2 Bluberry Pear & Purple Carrot also would like to buy Baby Food Stage 2 Pumpkin Banana, Peach, Apricot & Banana Stage 2 Baby Food, Broccoli & Apple Stage 2 Baby Food and Spinach Peas & Pear Stage 2 Baby Food.\n",
    "\n",
    "The model also recommend Baby Food Stage 2 Blueberry pear & Purple Carrot for customers who like Broccoli & Apple stage 2 Baby Food and Spinach Peas & Pear Stage 2 Baby Food. So we can see here are doulbe arrows between these three products.\n",
    "\n",
    "So based on my results, venders could recommend bundle sales. A bundle cound include one of the above flavors of Baby Food 2 especially could include each of these there products so that customers could buy all flavors they like or most of them are flavors they like instead only one flavor. Aslo, venders could launch sales like for people buying 5 Baby Food Stage 2 Bluberry Pear & Purple Carrot, they could get one of any other flavor's Baby Food Stage 2 listed above for free. The activity could encourage more people to buy more products. "
   ]
  },
  {
   "cell_type": "code",
   "execution_count": 398,
   "metadata": {
    "scrolled": true
   },
   "outputs": [
    {
     "data": {
      "text/html": [
       "<img src=\"Picture2.png\" width=\"500\" height=\"300\"/>"
      ],
      "text/plain": [
       "<IPython.core.display.Image object>"
      ]
     },
     "execution_count": 398,
     "metadata": {},
     "output_type": "execute_result"
    }
   ],
   "source": [
    "img = 'Picture2.png'\n",
    "Image(url=img, width=500, height=300)"
   ]
  },
  {
   "cell_type": "markdown",
   "metadata": {},
   "source": [
    "Customers like buying Gluten Free SpongeBob Spinach Littles really like spinach. So vendors could recommend Oranic Baby Spinach to these customers. "
   ]
  },
  {
   "cell_type": "markdown",
   "metadata": {},
   "source": [
    "### group 4"
   ]
  },
  {
   "cell_type": "code",
   "execution_count": 160,
   "metadata": {
    "collapsed": true
   },
   "outputs": [],
   "source": [
    "rules4 = pd.read_csv('rules4.csv', index_col=0)"
   ]
  },
  {
   "cell_type": "code",
   "execution_count": 402,
   "metadata": {
    "collapsed": true
   },
   "outputs": [],
   "source": [
    "certain_str4 = ['Organic Unsweetened Almond Milk', \n",
    "                'Unsweetened Almondmilk',\n",
    "                'Organic Coconut Milk',\n",
    "                'Unsweetened Original Almond Breeze Almond Milk',\n",
    "                'Vanilla Almond Breeze Almond Milk']"
   ]
  },
  {
   "cell_type": "code",
   "execution_count": 162,
   "metadata": {
    "collapsed": true
   },
   "outputs": [],
   "source": [
    "recommend4 = {}\n",
    "for item in certain_str4:\n",
    "    #print 'recommendation for' + str(item) + ':'\n",
    "    recommend4[item] = rules4[rules4['antecedants'].apply(lambda x: str(x)).str.contains(item)].\\\n",
    "                        sort_values('lift', ascending = False)"
   ]
  },
  {
   "cell_type": "code",
   "execution_count": 403,
   "metadata": {
    "scrolled": false
   },
   "outputs": [
    {
     "name": "stdout",
     "output_type": "stream",
     "text": [
      "recommendation for soy lactosefree products\n"
     ]
    },
    {
     "data": {
      "text/html": [
       "<div>\n",
       "<style scoped>\n",
       "    .dataframe tbody tr th:only-of-type {\n",
       "        vertical-align: middle;\n",
       "    }\n",
       "\n",
       "    .dataframe tbody tr th {\n",
       "        vertical-align: top;\n",
       "    }\n",
       "\n",
       "    .dataframe thead th {\n",
       "        text-align: right;\n",
       "    }\n",
       "</style>\n",
       "<table border=\"1\" class=\"dataframe\">\n",
       "  <thead>\n",
       "    <tr style=\"text-align: right;\">\n",
       "      <th></th>\n",
       "      <th>antecedants</th>\n",
       "      <th>consequents</th>\n",
       "      <th>support</th>\n",
       "      <th>confidence</th>\n",
       "      <th>lift</th>\n",
       "    </tr>\n",
       "  </thead>\n",
       "  <tbody>\n",
       "    <tr>\n",
       "      <th>3037</th>\n",
       "      <td>frozenset(['Organic Unsweetened Almond Milk'])</td>\n",
       "      <td>frozenset(['Organic Hass Avocado'])</td>\n",
       "      <td>0.109602</td>\n",
       "      <td>0.514669</td>\n",
       "      <td>1.586621</td>\n",
       "    </tr>\n",
       "    <tr>\n",
       "      <th>10243</th>\n",
       "      <td>frozenset(['Organic Unsweetened Almond Milk'])</td>\n",
       "      <td>frozenset(['Bag of Organic Bananas'])</td>\n",
       "      <td>0.109602</td>\n",
       "      <td>0.554469</td>\n",
       "      <td>1.559682</td>\n",
       "    </tr>\n",
       "    <tr>\n",
       "      <th>2957</th>\n",
       "      <td>frozenset(['Organic Unsweetened Almond Milk'])</td>\n",
       "      <td>frozenset(['Organic Garlic'])</td>\n",
       "      <td>0.109602</td>\n",
       "      <td>0.494087</td>\n",
       "      <td>1.520192</td>\n",
       "    </tr>\n",
       "    <tr>\n",
       "      <th>579</th>\n",
       "      <td>frozenset(['Organic Unsweetened Almond Milk'])</td>\n",
       "      <td>frozenset(['Organic Baby Spinach'])</td>\n",
       "      <td>0.109602</td>\n",
       "      <td>0.644076</td>\n",
       "      <td>1.512823</td>\n",
       "    </tr>\n",
       "    <tr>\n",
       "      <th>11895</th>\n",
       "      <td>frozenset(['Organic Unsweetened Almond Milk'])</td>\n",
       "      <td>frozenset(['Organic Strawberries'])</td>\n",
       "      <td>0.109602</td>\n",
       "      <td>0.523994</td>\n",
       "      <td>1.455737</td>\n",
       "    </tr>\n",
       "    <tr>\n",
       "      <th>14356</th>\n",
       "      <td>frozenset(['Organic Unsweetened Almond Milk'])</td>\n",
       "      <td>frozenset(['Limes'])</td>\n",
       "      <td>0.109602</td>\n",
       "      <td>0.468160</td>\n",
       "      <td>1.290480</td>\n",
       "    </tr>\n",
       "  </tbody>\n",
       "</table>\n",
       "</div>"
      ],
      "text/plain": [
       "                                          antecedants  \\\n",
       "3037   frozenset(['Organic Unsweetened Almond Milk'])   \n",
       "10243  frozenset(['Organic Unsweetened Almond Milk'])   \n",
       "2957   frozenset(['Organic Unsweetened Almond Milk'])   \n",
       "579    frozenset(['Organic Unsweetened Almond Milk'])   \n",
       "11895  frozenset(['Organic Unsweetened Almond Milk'])   \n",
       "14356  frozenset(['Organic Unsweetened Almond Milk'])   \n",
       "\n",
       "                                 consequents   support  confidence      lift  \n",
       "3037     frozenset(['Organic Hass Avocado'])  0.109602    0.514669  1.586621  \n",
       "10243  frozenset(['Bag of Organic Bananas'])  0.109602    0.554469  1.559682  \n",
       "2957           frozenset(['Organic Garlic'])  0.109602    0.494087  1.520192  \n",
       "579      frozenset(['Organic Baby Spinach'])  0.109602    0.644076  1.512823  \n",
       "11895    frozenset(['Organic Strawberries'])  0.109602    0.523994  1.455737  \n",
       "14356                   frozenset(['Limes'])  0.109602    0.468160  1.290480  "
      ]
     },
     "execution_count": 403,
     "metadata": {},
     "output_type": "execute_result"
    }
   ],
   "source": [
    "print \"recommendation for soy lactosefree products\"\n",
    "recommend4[certain_str4[0]]"
   ]
  },
  {
   "cell_type": "code",
   "execution_count": 435,
   "metadata": {},
   "outputs": [
    {
     "name": "stdout",
     "output_type": "stream",
     "text": [
      "recommendation for soy lactosefree products\n",
      "+---------------------------------+-------------------------------------+----------------+------+\n",
      "|           product_name          |               similar               |     score      | rank |\n",
      "+---------------------------------+-------------------------------------+----------------+------+\n",
      "| Organic Unsweetened Almond Milk |     Organic Reduced Fat 2% Milk     | 0.999997019768 |  1   |\n",
      "| Organic Unsweetened Almond Milk |   Italian Sparkling Mineral Water   | 0.999995946884 |  2   |\n",
      "| Organic Unsweetened Almond Milk |          Organic Eggs Large         | 0.999995529652 |  3   |\n",
      "| Organic Unsweetened Almond Milk |        Natural Artesian Water       | 0.999995112419 |  4   |\n",
      "| Organic Unsweetened Almond Milk |     Organic Original Almond Milk    | 0.999994337559 |  5   |\n",
      "| Organic Unsweetened Almond Milk |             Organic Milk            | 0.999992966652 |  6   |\n",
      "| Organic Unsweetened Almond Milk |              Large Eggs             | 0.999992072582 |  7   |\n",
      "| Organic Unsweetened Almond Milk | Cage Free Grade AA Large White Eggs | 0.999991953373 |  8   |\n",
      "| Organic Unsweetened Almond Milk |       Unsweetened Almond Milk       | 0.999990999699 |  9   |\n",
      "| Organic Unsweetened Almond Milk |              Tuna Salad             | 0.99998742342  |  10  |\n",
      "+---------------------------------+-------------------------------------+----------------+------+\n",
      "[10 rows x 4 columns]\n",
      "\n",
      "+------------------------+-----------------------------------------------+----------------+------+\n",
      "|      product_name      |                    similar                    |     score      | rank |\n",
      "+------------------------+-----------------------------------------------+----------------+------+\n",
      "| Unsweetened Almondmilk |       Vanilla Almond Breeze Almond Milk       | 0.999998092651 |  1   |\n",
      "| Unsweetened Almondmilk |              Natural Spring Water             | 0.999997019768 |  2   |\n",
      "| Unsweetened Almondmilk |                   Tuna Salad                  | 0.999996721745 |  3   |\n",
      "| Unsweetened Almondmilk |           100% Natural Spring Water           | 0.99999588728  |  4   |\n",
      "| Unsweetened Almondmilk |             Heirloom Navel Orange             | 0.999992549419 |  5   |\n",
      "| Unsweetened Almondmilk |                     Papaya                    | 0.999990522861 |  6   |\n",
      "| Unsweetened Almondmilk | Organic 4% Milk Fat Whole Milk Cottage Cheese | 0.999990522861 |  7   |\n",
      "| Unsweetened Almondmilk |          Organic Reduced Fat 2% Milk          | 0.999989032745 |  8   |\n",
      "| Unsweetened Almondmilk |          Large Grade AA Organic Eggs          | 0.999988794327 |  9   |\n",
      "| Unsweetened Almondmilk |              Organic Fuji Apples              | 0.999987125397 |  10  |\n",
      "+------------------------+-----------------------------------------------+----------------+------+\n",
      "[10 rows x 4 columns]\n",
      "\n",
      "+----------------------+-------------------------------------+----------------+------+\n",
      "|     product_name     |               similar               |     score      | rank |\n",
      "+----------------------+-------------------------------------+----------------+------+\n",
      "| Organic Coconut Milk |         Heavy Whipping Cream        | 0.999997615814 |  1   |\n",
      "| Organic Coconut Milk |             Tonic Water             | 0.999997317791 |  2   |\n",
      "| Organic Coconut Milk |        Original Coconut Milk        | 0.999996006489 |  3   |\n",
      "| Organic Coconut Milk |    Mediterranee Strawberry Yogurt   | 0.999995350838 |  4   |\n",
      "| Organic Coconut Milk | Extra Moisturizing NoDrip Pump Mist | 0.999995231628 |  5   |\n",
      "| Organic Coconut Milk |       ALMONDBREEZE UNSWEETENED      | 0.999995231628 |  6   |\n",
      "| Organic Coconut Milk |   Light & Fit Greek Vanilla Yogurt  | 0.999994874001 |  7   |\n",
      "| Organic Coconut Milk |     The Natural Whipped Topping     | 0.999994516373 |  8   |\n",
      "| Organic Coconut Milk | Creme Fraiche French Cultured Cream | 0.999994218349 |  9   |\n",
      "| Organic Coconut Milk |   Coconut Flavored Sparkling Water  | 0.999994218349 |  10  |\n",
      "+----------------------+-------------------------------------+----------------+------+\n",
      "[10 rows x 4 columns]\n",
      "\n",
      "+------------------------------------------------+-------------------------+----------------+------+\n",
      "|                  product_name                  |         similar         |     score      | rank |\n",
      "+------------------------------------------------+-------------------------+----------------+------+\n",
      "| Unsweetened Original Almond Breeze Almond Milk |       Pear Packham      | 0.999982059002 |  1   |\n",
      "| Unsweetened Original Almond Breeze Almond Milk |  Organic Bartlett Pears | 0.999978244305 |  2   |\n",
      "| Unsweetened Original Almond Breeze Almond Milk |      Butter Lettuce     | 0.999975383282 |  3   |\n",
      "| Unsweetened Original Almond Breeze Almond Milk |       Seckel Pear       | 0.999974310398 |  4   |\n",
      "| Unsweetened Original Almond Breeze Almond Milk | Organic Whole Pineapple | 0.999972462654 |  5   |\n",
      "| Unsweetened Original Almond Breeze Almond Milk |       Baby Bananas      | 0.999971270561 |  6   |\n",
      "| Unsweetened Original Almond Breeze Almond Milk |  Organic Red Grapefruit | 0.999970376492 |  7   |\n",
      "| Unsweetened Original Almond Breeze Almond Milk |  Orange Navel Heirloom. | 0.999969780445 |  8   |\n",
      "| Unsweetened Original Almond Breeze Almond Milk |  Seedless Grapes Green  | 0.999969482422 |  9   |\n",
      "| Unsweetened Original Almond Breeze Almond Milk |        Nectarine        | 0.999966442585 |  10  |\n",
      "+------------------------------------------------+-------------------------+----------------+------+\n",
      "[10 rows x 4 columns]\n",
      "\n",
      "+-----------------------------------+-----------------------------------------------+----------------+------+\n",
      "|            product_name           |                    similar                    |     score      | rank |\n",
      "+-----------------------------------+-----------------------------------------------+----------------+------+\n",
      "| Vanilla Almond Breeze Almond Milk |             Unsweetened Almondmilk            | 0.999998092651 |  1   |\n",
      "| Vanilla Almond Breeze Almond Milk |              Natural Spring Water             | 0.999997377396 |  2   |\n",
      "| Vanilla Almond Breeze Almond Milk |           100% Natural Spring Water           | 0.999996602535 |  3   |\n",
      "| Vanilla Almond Breeze Almond Milk | Organic 4% Milk Fat Whole Milk Cottage Cheese | 0.999996244907 |  4   |\n",
      "| Vanilla Almond Breeze Almond Milk |         Natural Artesian Bottled Water        | 0.999990999699 |  5   |\n",
      "| Vanilla Almond Breeze Almond Milk |             Heirloom Navel Orange             | 0.999990820885 |  6   |\n",
      "| Vanilla Almond Breeze Almond Milk |                   Tuna Salad                  | 0.99999076128  |  7   |\n",
      "| Vanilla Almond Breeze Almond Milk |    Vegan Chao Creamy Original Cheese Slices   | 0.999988973141 |  8   |\n",
      "| Vanilla Almond Breeze Almond Milk |           Sparkling Water Grapefruit          | 0.999988913536 |  9   |\n",
      "| Vanilla Almond Breeze Almond Milk |                     Papaya                    | 0.999987959862 |  10  |\n",
      "+-----------------------------------+-----------------------------------------------+----------------+------+\n",
      "[10 rows x 4 columns]\n",
      "\n"
     ]
    },
    {
     "data": {
      "text/plain": [
       "[None, None, None, None, None]"
      ]
     },
     "execution_count": 435,
     "metadata": {},
     "output_type": "execute_result"
    }
   ],
   "source": [
    "print 'recommendation for soy lactosefree products'\n",
    "[x.print_rows(max_column_width = 300) for x in personal_recommend4[1]]"
   ]
  },
  {
   "cell_type": "markdown",
   "metadata": {},
   "source": [
    "I want to recommend products for customers in group 4 who like soy lactosefree products. I do both association analysis and personalized model analysis. Although association rules model help us to find some rules for us, but we can see lift values are not very high and recommended products are all vegetables or fruits. These rules might not provides us enough information becasue fruits and vegetables are products with very high frequency. Personalized model provides some information for us. Here prints recommended products for 5 top products in soy lactosefree aisle. We can focus on the first one Organic Unsweetened Almond Milk. Recommendated products include reduced fat, sparkling mineral water, eggs tuna salad …… Most recommended products are very healthy and wiht low fat, which are corresponding to characteristics of group 4 custoemrs. So, the recommendation results make sense. "
   ]
  },
  {
   "cell_type": "code",
   "execution_count": 437,
   "metadata": {
    "collapsed": true
   },
   "outputs": [
    {
     "name": "stdout",
     "output_type": "stream",
     "text": [
      "recommendation for fresh herbs\n",
      "+------------------+---------------------------------------------+----------------+------+\n",
      "|   product_name   |                   similar                   |     score      | rank |\n",
      "+------------------+---------------------------------------------+----------------+------+\n",
      "| Organic Cilantro |         Organic Kosher Dill Pickles         | 0.999394476414 |  1   |\n",
      "| Organic Cilantro |           Outrageous B & B Pickles          | 0.999060750008 |  2   |\n",
      "| Organic Cilantro |  Organic Fruit Yogurt Smoothie Peach Banana | 0.999053239822 |  3   |\n",
      "| Organic Cilantro |            Organic Hearts Of Palm           | 0.998860239983 |  4   |\n",
      "| Organic Cilantro |            Classic Round Crackers           | 0.998631834984 |  5   |\n",
      "| Organic Cilantro |       100% Recycled Bath Tissue Rolls       | 0.998419106007 |  6   |\n",
      "| Organic Cilantro |       Sunny Days Strawberry Snack Bars      | 0.998270273209 |  7   |\n",
      "| Organic Cilantro |              Super Greens Salad             | 0.998220205307 |  8   |\n",
      "| Organic Cilantro | Organic Stage 2 Peaches & Bananas Baby Food | 0.997880876064 |  9   |\n",
      "| Organic Cilantro |          Sunflower Seeds, Original          | 0.997809410095 |  10  |\n",
      "+------------------+---------------------------------------------+----------------+------+\n",
      "[10 rows x 4 columns]\n",
      "\n",
      "+-------------------------------+------------------------------------------------------+----------------+------+\n",
      "|          product_name         |                       similar                        |     score      | rank |\n",
      "+-------------------------------+------------------------------------------------------+----------------+------+\n",
      "| Organic Italian Parsley Bunch |             Persian (Armenian) Cucumber              | 0.999904334545 |  1   |\n",
      "| Organic Italian Parsley Bunch |         Thin And Crispy Corn Tortilla Chips          | 0.999866604805 |  2   |\n",
      "| Organic Italian Parsley Bunch |       2-Ply 100% Recycled White Facial Tissues       | 0.999856829643 |  3   |\n",
      "| Organic Italian Parsley Bunch |  Organic Wheat-Free & Gluten-Free Original Crackers  | 0.999853491783 |  4   |\n",
      "| Organic Italian Parsley Bunch |     FreshCare Flushable Cleansing Cloths Refill      | 0.999842226505 |  5   |\n",
      "| Organic Italian Parsley Bunch |            Authentic French Brioche Rolls            | 0.999832391739 |  6   |\n",
      "| Organic Italian Parsley Bunch | Organic Seasoned Yukon Select Potatoes Hashed Browns | 0.999809265137 |  7   |\n",
      "| Organic Italian Parsley Bunch |             Fresh Whole White Mushrooms              | 0.999785482883 |  8   |\n",
      "| Organic Italian Parsley Bunch |          Snackimals Chocolate Chip Cookies           | 0.999780714512 |  9   |\n",
      "| Organic Italian Parsley Bunch |                  Butterhead Lettuce                  | 0.999735593796 |  10  |\n",
      "+-------------------------------+------------------------------------------------------+----------------+------+\n",
      "[10 rows x 4 columns]\n",
      "\n",
      "+------------------+---------------------------------------+----------------+------+\n",
      "|   product_name   |                similar                |     score      | rank |\n",
      "+------------------+---------------------------------------+----------------+------+\n",
      "| Bunched Cilantro |    Sinfully Sweet Campari Tomatoes    | 0.999920904636 |  1   |\n",
      "| Bunched Cilantro |          Salted Tub of Butter         | 0.99991363287  |  2   |\n",
      "| Bunched Cilantro |        YoBaby Peach Pear Yogurt       | 0.999910652637 |  3   |\n",
      "| Bunched Cilantro |         Beef Tenderloin Steak         | 0.999909639359 |  4   |\n",
      "| Bunched Cilantro |                Pale Ale               | 0.999908149242 |  5   |\n",
      "| Bunched Cilantro |           Green Bell Pepper           | 0.999893546104 |  6   |\n",
      "| Bunched Cilantro |         Crispy Chick'n Sliders        | 0.999861776829 |  7   |\n",
      "| Bunched Cilantro |      Bread Hemp Seed Gluten Free      | 0.99985396862  |  8   |\n",
      "| Bunched Cilantro | Organic Reduced Fat 2% Cottage Cheese | 0.999846994877 |  9   |\n",
      "| Bunched Cilantro |    Unscented Dishwasher Detergents    | 0.999842405319 |  10  |\n",
      "+------------------+---------------------------------------+----------------+------+\n",
      "[10 rows x 4 columns]\n",
      "\n",
      "+---------------+--------------------------------------------+----------------+------+\n",
      "|  product_name |                  similar                   |     score      | rank |\n",
      "+---------------+--------------------------------------------+----------------+------+\n",
      "| Organic Basil | Organic Russian Banana Fingerling Potatoes | 0.996040165424 |  1   |\n",
      "| Organic Basil |                Living Mint                 | 0.995794773102 |  2   |\n",
      "| Organic Basil |          Organic Russet Potatoes           | 0.995104134083 |  3   |\n",
      "| Organic Basil |       Organic Radicchio Castelfranco       | 0.994187235832 |  4   |\n",
      "| Organic Basil |     Asian Chopped Salad with Dressing      | 0.99404925108  |  5   |\n",
      "| Organic Basil |        Organic Green Butter Lettuce        | 0.993688881397 |  6   |\n",
      "| Organic Basil |              Chopped Shallots              | 0.992718696594 |  7   |\n",
      "| Organic Basil |                Baby Arugula                | 0.992515563965 |  8   |\n",
      "| Organic Basil |             Organic Red Chard              | 0.992043554783 |  9   |\n",
      "| Organic Basil |              Clementines, Bag              | 0.992032170296 |  10  |\n",
      "+---------------+--------------------------------------------+----------------+------+\n",
      "[10 rows x 4 columns]\n",
      "\n",
      "+---------------+-------------------------------------------------+----------------+------+\n",
      "|  product_name |                     similar                     |     score      | rank |\n",
      "+---------------+-------------------------------------------------+----------------+------+\n",
      "| Organic Thyme |        Organic Whole Peeled Plum Tomatoes       | 0.999548017979 |  1   |\n",
      "| Organic Thyme |            Garnet Sweet Potato (Yam)            | 0.999512672424 |  2   |\n",
      "| Organic Thyme |             Yukon Gold Potatoes Bag             | 0.999433815479 |  3   |\n",
      "| Organic Thyme | Organic Gotta Have Vanilla Nonfat Frozen Yogurt | 0.999282777309 |  4   |\n",
      "| Organic Thyme |             Egg Pappardelle Noodles             | 0.999035596848 |  5   |\n",
      "| Organic Thyme |            Organic Red Cherry Tomato            | 0.998767971992 |  6   |\n",
      "| Organic Thyme |                 Cubanelle Pepper                | 0.998710155487 |  7   |\n",
      "| Organic Thyme |              Organic Vidalia Onion              | 0.998624563217 |  8   |\n",
      "| Organic Thyme |  Mountain Spring Long Lasting Deodorant for Men | 0.998609721661 |  9   |\n",
      "| Organic Thyme |             Organic Cherry Tomatoes             | 0.998522698879 |  10  |\n",
      "+---------------+-------------------------------------------------+----------------+------+\n",
      "[10 rows x 4 columns]\n",
      "\n"
     ]
    },
    {
     "data": {
      "text/plain": [
       "[None, None, None, None, None]"
      ]
     },
     "execution_count": 437,
     "metadata": {},
     "output_type": "execute_result"
    }
   ],
   "source": [
    "print 'recommendation for fresh herbs'\n",
    "[x.print_rows(max_column_width = 300) for x in personal_recommend4[0]]"
   ]
  },
  {
   "cell_type": "code",
   "execution_count": null,
   "metadata": {
    "collapsed": true
   },
   "outputs": [],
   "source": []
  }
 ],
 "metadata": {
  "kernelspec": {
   "display_name": "Python 3",
   "language": "python",
   "name": "python3"
  },
  "language_info": {
   "codemirror_mode": {
    "name": "ipython",
    "version": 3
   },
   "file_extension": ".py",
   "mimetype": "text/x-python",
   "name": "python",
   "nbconvert_exporter": "python",
   "pygments_lexer": "ipython3",
   "version": "3.6.5"
  }
 },
 "nbformat": 4,
 "nbformat_minor": 2
}
